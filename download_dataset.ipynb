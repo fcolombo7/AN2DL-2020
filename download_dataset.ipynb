{
  "nbformat": 4,
  "nbformat_minor": 0,
  "metadata": {
    "colab": {
      "name": "download-dataset.ipynb",
      "provenance": [],
      "authorship_tag": "ABX9TyN8GyjisN1Y+Kr/egAx+b/O",
      "include_colab_link": true
    },
    "kernelspec": {
      "name": "python3",
      "display_name": "Python 3"
    }
  },
  "cells": [
    {
      "cell_type": "markdown",
      "metadata": {
        "id": "view-in-github",
        "colab_type": "text"
      },
      "source": [
        "<a href=\"https://colab.research.google.com/github/fcolombo7/AN2DL-2020/blob/main/download_dataset.ipynb\" target=\"_parent\"><img src=\"https://colab.research.google.com/assets/colab-badge.svg\" alt=\"Open In Colab\"/></a>"
      ]
    },
    {
      "cell_type": "code",
      "metadata": {
        "colab": {
          "base_uri": "https://localhost:8080/"
        },
        "id": "uEJSfFDGjDjO",
        "outputId": "3a3ccd1e-0b74-4621-8385-7d803f441d18"
      },
      "source": [
        "import os \n",
        "from google.colab import drive\n",
        "drive.mount('/content/drive')"
      ],
      "execution_count": 1,
      "outputs": [
        {
          "output_type": "stream",
          "text": [
            "Drive already mounted at /content/drive; to attempt to forcibly remount, call drive.mount(\"/content/drive\", force_remount=True).\n"
          ],
          "name": "stdout"
        }
      ]
    },
    {
      "cell_type": "code",
      "metadata": {
        "colab": {
          "base_uri": "https://localhost:8080/",
          "height": 36
        },
        "id": "_zYENydYlFf-",
        "outputId": "4a97a7a8-7f54-429e-b01f-98aae12d265a"
      },
      "source": [
        "os.getcwd()"
      ],
      "execution_count": 2,
      "outputs": [
        {
          "output_type": "execute_result",
          "data": {
            "application/vnd.google.colaboratory.intrinsic+json": {
              "type": "string"
            },
            "text/plain": [
              "'/content'"
            ]
          },
          "metadata": {
            "tags": []
          },
          "execution_count": 2
        }
      ]
    },
    {
      "cell_type": "markdown",
      "metadata": {
        "id": "Bp9Fl53Wo2Ge"
      },
      "source": [
        "# Download the dataset from codalab"
      ]
    },
    {
      "cell_type": "code",
      "metadata": {
        "id": "R5qan-4HjWqI"
      },
      "source": [
        "#set the current directory as drive folder\n",
        "if not os.path.exists('./drive/MyDrive/ANN_project2'):\n",
        "  os.mkdir('./drive/MyDrive/ANN_project2')\n",
        "os.chdir('./drive/MyDrive/ANN_project2')"
      ],
      "execution_count": 3,
      "outputs": []
    },
    {
      "cell_type": "code",
      "metadata": {
        "colab": {
          "base_uri": "https://localhost:8080/",
          "height": 36
        },
        "id": "bn90GcGCku6-",
        "outputId": "9b09b744-680f-40da-8077-ec354470010f"
      },
      "source": [
        "os.getcwd()"
      ],
      "execution_count": 4,
      "outputs": [
        {
          "output_type": "execute_result",
          "data": {
            "application/vnd.google.colaboratory.intrinsic+json": {
              "type": "string"
            },
            "text/plain": [
              "'/content/drive/MyDrive/ANN_project2'"
            ]
          },
          "metadata": {
            "tags": []
          },
          "execution_count": 4
        }
      ]
    },
    {
      "cell_type": "code",
      "metadata": {
        "id": "usniX8P9H-bA"
      },
      "source": [
        "import requests\n",
        "def is_downloadable(url):\n",
        "    \"\"\"\n",
        "    Does the url contain a downloadable resource\n",
        "    \"\"\"\n",
        "    h = requests.head(url, allow_redirects=True)\n",
        "    header = h.headers\n",
        "    content_type = header.get('content-type')\n",
        "    if 'text' in content_type.lower():\n",
        "        return False\n",
        "    if 'html' in content_type.lower():\n",
        "        return False\n",
        "    return True"
      ],
      "execution_count": 5,
      "outputs": []
    },
    {
      "cell_type": "code",
      "metadata": {
        "colab": {
          "base_uri": "https://localhost:8080/"
        },
        "id": "3uofSlhBIwQ0",
        "outputId": "79683c11-5823-4786-f3ed-966f8e5f6ab2"
      },
      "source": [
        "url = 'https://competitions.codalab.org/my/datasets/download/29a85805-2d8d-4701-a9ab-295180c89eb3'\n",
        "print(is_downloadable(url))"
      ],
      "execution_count": 6,
      "outputs": [
        {
          "output_type": "stream",
          "text": [
            "True\n"
          ],
          "name": "stdout"
        }
      ]
    },
    {
      "cell_type": "code",
      "metadata": {
        "colab": {
          "base_uri": "https://localhost:8080/"
        },
        "id": "PidSFWudJqvD",
        "outputId": "1ae68117-61fa-45bd-e708-aa240dbecdbb"
      },
      "source": [
        "r = requests.get(url, allow_redirects=True)\n",
        "open('dataset.zip', 'wb').write(r.content)"
      ],
      "execution_count": 7,
      "outputs": [
        {
          "output_type": "execute_result",
          "data": {
            "text/plain": [
              "3501596229"
            ]
          },
          "metadata": {
            "tags": []
          },
          "execution_count": 7
        }
      ]
    },
    {
      "cell_type": "code",
      "metadata": {
        "colab": {
          "base_uri": "https://localhost:8080/",
          "height": 36
        },
        "id": "C8Am6H4sl-aT",
        "outputId": "e216f1b7-401f-49ee-8ad1-97b6129db7cb"
      },
      "source": [
        "#unzip in the root folder directory\n",
        "os.chdir('../../../')\n",
        "os.getcwd() "
      ],
      "execution_count": 8,
      "outputs": [
        {
          "output_type": "execute_result",
          "data": {
            "application/vnd.google.colaboratory.intrinsic+json": {
              "type": "string"
            },
            "text/plain": [
              "'/content'"
            ]
          },
          "metadata": {
            "tags": []
          },
          "execution_count": 8
        }
      ]
    },
    {
      "cell_type": "markdown",
      "metadata": {
        "id": "cafiU5dso9bq"
      },
      "source": [
        "# Unzip the dataset stored in drive and load starting_kit modules"
      ]
    },
    {
      "cell_type": "code",
      "metadata": {
        "id": "6lVNqdheK_hm"
      },
      "source": [
        "from zipfile import ZipFile\n",
        "# Create a ZipFile Object and load sample.zip in it\n",
        "with ZipFile('./drive/MyDrive/ANN_project2/dataset.zip', 'r') as zipObj:\n",
        "   # Extract all the contents of zip file in current directory\n",
        "   zipObj.extractall()"
      ],
      "execution_count": 9,
      "outputs": []
    },
    {
      "cell_type": "code",
      "metadata": {
        "id": "z5imN845mu2F"
      },
      "source": [
        "#try to load script from drive folder\n",
        "import sys\n",
        "sys.path.append('/content/drive/MyDrive/ANN_project2/starting_kit')"
      ],
      "execution_count": 15,
      "outputs": []
    },
    {
      "cell_type": "code",
      "metadata": {
        "id": "R1NW9ZhVoTex"
      },
      "source": [
        "import prepare_submission\n",
        "import read_mask_example\n",
        "import decode_rle_example"
      ],
      "execution_count": 16,
      "outputs": []
    }
  ]
}