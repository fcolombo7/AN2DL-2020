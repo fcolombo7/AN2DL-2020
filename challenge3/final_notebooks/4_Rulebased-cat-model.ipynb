{
  "nbformat": 4,
  "nbformat_minor": 0,
  "metadata": {
    "accelerator": "GPU",
    "colab": {
      "name": "new_multiple_models.ipynb",
      "provenance": [],
      "collapsed_sections": [
        "UwND-dSgDDDu"
      ],
      "include_colab_link": true
    },
    "kernelspec": {
      "display_name": "Python 3",
      "name": "python3"
    }
  },
  "cells": [
    {
      "cell_type": "markdown",
      "metadata": {
        "id": "view-in-github",
        "colab_type": "text"
      },
      "source": [
        "<a href=\"https://colab.research.google.com/github/fcolombo7/AN2DL-2020/blob/main/challenge3/final_notebooks/4_Rulebased-cat-model.ipynb\" target=\"_parent\"><img src=\"https://colab.research.google.com/assets/colab-badge.svg\" alt=\"Open In Colab\"/></a>"
      ]
    },
    {
      "cell_type": "markdown",
      "metadata": {
        "id": "FPoBYhavCQ73"
      },
      "source": [
        "# **AN2DL** - Visual Question Answering challenge\n",
        "\n",
        "* **Colombo** Filippo - 10559531\n",
        "* **Del Vecchio** Giovanni - 10570682\n"
      ]
    },
    {
      "cell_type": "markdown",
      "metadata": {
        "id": "Kv5ltS4h5bUx"
      },
      "source": [
        "# Data import and preprocessing"
      ]
    },
    {
      "cell_type": "code",
      "metadata": {
        "colab": {
          "base_uri": "https://localhost:8080/"
        },
        "id": "cOlVyQ0Q4_9X",
        "outputId": "e53a35b4-36ba-4a2f-f1d9-08ce090600fe"
      },
      "source": [
        "from google.colab import drive\n",
        "import os\n",
        "from zipfile import ZipFile\n",
        "drive.mount('/content/drive')\n",
        "\n",
        "import pathlib\n",
        "import tensorflow as tf\n",
        "import numpy as np\n",
        "import pandas as pd\n",
        "import pickle\n",
        "from datetime import datetime\n",
        "import collections\n",
        "import random\n",
        "import re\n",
        "import json\n",
        "from PIL import Image\n",
        "import matplotlib.pyplot as plt\n",
        "%matplotlib inline"
      ],
      "execution_count": null,
      "outputs": [
        {
          "output_type": "stream",
          "text": [
            "Mounted at /content/drive\n"
          ],
          "name": "stdout"
        }
      ]
    },
    {
      "cell_type": "markdown",
      "metadata": {
        "id": "JSXUCeCrEqeb"
      },
      "source": [
        "**How to organize data and folders to run the notebook** \n",
        "```\n",
        "./drive/MyDrive/\n",
        "└── ANN_project3\n",
        "    ├── dataset.zip\n",
        "    └── VQA_Dataset\n",
        "        ├── test_questions.json\n",
        "        ├── train_questions_annotations.json\n",
        "        └── Images\n",
        "            ├── 0.png\n",
        "            ├── 1.png\n",
        "            └── ....png\n",
        "```"
      ]
    },
    {
      "cell_type": "markdown",
      "metadata": {
        "id": "bUpdaMNh52CT"
      },
      "source": [
        "## Load the dataset"
      ]
    },
    {
      "cell_type": "code",
      "metadata": {
        "id": "6lVNqdheK_hm",
        "colab": {
          "base_uri": "https://localhost:8080/"
        },
        "outputId": "df496035-7c74-4b61-ede7-08d17289f71b"
      },
      "source": [
        "if not os.path.exists('VQA_Dataset'):\n",
        "  with ZipFile('./drive/MyDrive/ANN_project3/dataset.zip', 'r') as zipObj:\n",
        "    # Extract all the contents of zip file in current directory\n",
        "    zipObj.extractall()\n",
        "print('The dataset is loaded.')"
      ],
      "execution_count": null,
      "outputs": [
        {
          "output_type": "stream",
          "text": [
            "The dataset is loaded.\n"
          ],
          "name": "stdout"
        }
      ]
    },
    {
      "cell_type": "markdown",
      "metadata": {
        "id": "QmP2u6HBH_TU"
      },
      "source": [
        "## Set up of the parameters"
      ]
    },
    {
      "cell_type": "code",
      "metadata": {
        "id": "CCA2BTj_6PTe"
      },
      "source": [
        "# Set the seed for random operations. \n",
        "SEED = 1234\n",
        "tf.random.set_seed(SEED)"
      ],
      "execution_count": null,
      "outputs": []
    },
    {
      "cell_type": "code",
      "metadata": {
        "id": "A_9aZFuE6YTK"
      },
      "source": [
        "#Definitions of constants\n",
        "drive_root_folder = '/content/drive/MyDrive/ANN_project3/'\n",
        "apply_data_augmentation = True\n",
        "IMG_W, IMG_H = 300, 300\n",
        "batch_size = 16\n",
        "valid_perc = 0.2"
      ],
      "execution_count": null,
      "outputs": []
    },
    {
      "cell_type": "code",
      "metadata": {
        "colab": {
          "base_uri": "https://localhost:8080/",
          "height": 35
        },
        "id": "c1moqTM9cL-S",
        "outputId": "2898aeb7-be5e-40ae-a4ff-dfec977c6af9"
      },
      "source": [
        "cwd = os.getcwd()\n",
        "cwd"
      ],
      "execution_count": null,
      "outputs": [
        {
          "output_type": "execute_result",
          "data": {
            "application/vnd.google.colaboratory.intrinsic+json": {
              "type": "string"
            },
            "text/plain": [
              "'/content'"
            ]
          },
          "metadata": {
            "tags": []
          },
          "execution_count": 5
        }
      ]
    },
    {
      "cell_type": "code",
      "metadata": {
        "id": "H5GZ4wHkPYhh"
      },
      "source": [
        "dict_path = 'VQA_Dataset/train_questions_annotations.json'\n",
        "with open(dict_path) as json_file:\n",
        "    train_dict = json.load(json_file)"
      ],
      "execution_count": null,
      "outputs": []
    },
    {
      "cell_type": "code",
      "metadata": {
        "id": "aDUrFY1e9WSO"
      },
      "source": [
        "import pandas as pd\n",
        "df = pd.DataFrame(data=train_dict).transpose()"
      ],
      "execution_count": null,
      "outputs": []
    },
    {
      "cell_type": "markdown",
      "metadata": {
        "id": "j7PZAqODHWd8"
      },
      "source": [
        "\r\n",
        "Hand-crafted categorization vocabulary\r\n",
        "\r\n"
      ]
    },
    {
      "cell_type": "code",
      "metadata": {
        "id": "IpRZZnE39eGF"
      },
      "source": [
        "# other\n",
        "# numeric\n",
        "# yes/no\n",
        "# right/left\n",
        "# who\n",
        "# doing\n",
        "types_names = ['other', 'numeric', 'yes/no', 'right/left', 'who', 'doing', 'color']\n",
        "answer_type = {\n",
        "        '0': 'numeric',\n",
        "        '1': 'numeric',\n",
        "        '2': 'numeric',\n",
        "        '3': 'numeric',\n",
        "        '4': 'numeric',\n",
        "        '5': 'numeric',\n",
        "        'apple': 'other',\n",
        "        'baseball': 'other',\n",
        "        'bench': 'other',\n",
        "        'bike': 'other',\n",
        "        'bird': 'other',\n",
        "        'black': 'color',\n",
        "        'blanket': 'other',\n",
        "        'blue': 'color',\n",
        "        'bone': 'other',\n",
        "        'book': 'other',\n",
        "        'boy': 'who',\n",
        "        'brown': 'color',\n",
        "        'cat': 'other',\n",
        "        'chair': 'other',\n",
        "        'couch': 'other',\n",
        "        'dog': 'other',\n",
        "        'floor': 'other',\n",
        "        'food': 'other',\n",
        "        'football': 'other',\n",
        "        'girl': 'who',\n",
        "        'grass': 'other',\n",
        "        'gray': 'color',\n",
        "        'green': 'color',\n",
        "        'left': 'right/left',\n",
        "        'log': 'other',\n",
        "        'man': 'who',\n",
        "        'monkey bars': 'other',\n",
        "        'no': 'yes/no',\n",
        "        'nothing': 'other',\n",
        "        'orange': 'color',\n",
        "        'pie': 'other',\n",
        "        'plant': 'other',\n",
        "        'playing': 'doing',\n",
        "        'red': 'color',\n",
        "        'right': 'right/left',\n",
        "        'rug': 'other',\n",
        "        'sandbox': 'other',\n",
        "        'sitting': 'doing',\n",
        "        'sleeping': 'doing',\n",
        "        'soccer': 'other',\n",
        "        'squirrel': 'other',\n",
        "        'standing': 'doing',\n",
        "        'stool': 'other',\n",
        "        'sunny': 'other',\n",
        "        'table': 'other',\n",
        "        'tree': 'other',\n",
        "        'watermelon': 'other',\n",
        "        'white': 'color',\n",
        "        'wine': 'other',\n",
        "        'woman': 'who',\n",
        "        'yellow': 'color',\n",
        "        'yes': 'yes/no'\n",
        "}"
      ],
      "execution_count": null,
      "outputs": []
    },
    {
      "cell_type": "code",
      "metadata": {
        "id": "Jcd91B5ID9gl"
      },
      "source": [
        "temp_df = pd.DataFrame(data={'answer': list(answer_type.keys()), 'answer_type': list(answer_type.values())})"
      ],
      "execution_count": null,
      "outputs": []
    },
    {
      "cell_type": "code",
      "metadata": {
        "id": "pYN9OpArFH2T"
      },
      "source": [
        "e_df = df.merge(temp_df,on='answer', how='inner')"
      ],
      "execution_count": null,
      "outputs": []
    },
    {
      "cell_type": "code",
      "metadata": {
        "colab": {
          "base_uri": "https://localhost:8080/",
          "height": 677
        },
        "id": "grgwDmFNJJKc",
        "outputId": "8a86961e-fe7b-469a-b1f9-3e02312f0f12"
      },
      "source": [
        "e_df.head(20)"
      ],
      "execution_count": null,
      "outputs": [
        {
          "output_type": "execute_result",
          "data": {
            "text/html": [
              "<div>\n",
              "<style scoped>\n",
              "    .dataframe tbody tr th:only-of-type {\n",
              "        vertical-align: middle;\n",
              "    }\n",
              "\n",
              "    .dataframe tbody tr th {\n",
              "        vertical-align: top;\n",
              "    }\n",
              "\n",
              "    .dataframe thead th {\n",
              "        text-align: right;\n",
              "    }\n",
              "</style>\n",
              "<table border=\"1\" class=\"dataframe\">\n",
              "  <thead>\n",
              "    <tr style=\"text-align: right;\">\n",
              "      <th></th>\n",
              "      <th>question</th>\n",
              "      <th>image_id</th>\n",
              "      <th>answer</th>\n",
              "      <th>answer_type</th>\n",
              "    </tr>\n",
              "  </thead>\n",
              "  <tbody>\n",
              "    <tr>\n",
              "      <th>0</th>\n",
              "      <td>Who looks happier?</td>\n",
              "      <td>11779</td>\n",
              "      <td>man</td>\n",
              "      <td>who</td>\n",
              "    </tr>\n",
              "    <tr>\n",
              "      <th>1</th>\n",
              "      <td>Who is holding the football?</td>\n",
              "      <td>16949</td>\n",
              "      <td>man</td>\n",
              "      <td>who</td>\n",
              "    </tr>\n",
              "    <tr>\n",
              "      <th>2</th>\n",
              "      <td>Who cooked the pie?</td>\n",
              "      <td>15616</td>\n",
              "      <td>man</td>\n",
              "      <td>who</td>\n",
              "    </tr>\n",
              "    <tr>\n",
              "      <th>3</th>\n",
              "      <td>Who is laughing?</td>\n",
              "      <td>9467</td>\n",
              "      <td>man</td>\n",
              "      <td>who</td>\n",
              "    </tr>\n",
              "    <tr>\n",
              "      <th>4</th>\n",
              "      <td>What is the man on the left?</td>\n",
              "      <td>8983</td>\n",
              "      <td>man</td>\n",
              "      <td>who</td>\n",
              "    </tr>\n",
              "    <tr>\n",
              "      <th>5</th>\n",
              "      <td>Who is on the couch?</td>\n",
              "      <td>10223</td>\n",
              "      <td>man</td>\n",
              "      <td>who</td>\n",
              "    </tr>\n",
              "    <tr>\n",
              "      <th>6</th>\n",
              "      <td>Who is holding the woman's hand?</td>\n",
              "      <td>6030</td>\n",
              "      <td>man</td>\n",
              "      <td>who</td>\n",
              "    </tr>\n",
              "    <tr>\n",
              "      <th>7</th>\n",
              "      <td>Who has blonde hair?</td>\n",
              "      <td>7486</td>\n",
              "      <td>man</td>\n",
              "      <td>who</td>\n",
              "    </tr>\n",
              "    <tr>\n",
              "      <th>8</th>\n",
              "      <td>Which person is leading the dance?</td>\n",
              "      <td>13337</td>\n",
              "      <td>man</td>\n",
              "      <td>who</td>\n",
              "    </tr>\n",
              "    <tr>\n",
              "      <th>9</th>\n",
              "      <td>What is the cat reaching towards?</td>\n",
              "      <td>9974</td>\n",
              "      <td>man</td>\n",
              "      <td>who</td>\n",
              "    </tr>\n",
              "    <tr>\n",
              "      <th>10</th>\n",
              "      <td>Who is holding a dog?</td>\n",
              "      <td>6067</td>\n",
              "      <td>man</td>\n",
              "      <td>who</td>\n",
              "    </tr>\n",
              "    <tr>\n",
              "      <th>11</th>\n",
              "      <td>What is on the log?</td>\n",
              "      <td>15434</td>\n",
              "      <td>man</td>\n",
              "      <td>who</td>\n",
              "    </tr>\n",
              "    <tr>\n",
              "      <th>12</th>\n",
              "      <td>Who is holding the tea?</td>\n",
              "      <td>2609</td>\n",
              "      <td>man</td>\n",
              "      <td>who</td>\n",
              "    </tr>\n",
              "    <tr>\n",
              "      <th>13</th>\n",
              "      <td>Who is kicking the ball?</td>\n",
              "      <td>5779</td>\n",
              "      <td>man</td>\n",
              "      <td>who</td>\n",
              "    </tr>\n",
              "    <tr>\n",
              "      <th>14</th>\n",
              "      <td>Who made the grill?</td>\n",
              "      <td>1738</td>\n",
              "      <td>man</td>\n",
              "      <td>who</td>\n",
              "    </tr>\n",
              "    <tr>\n",
              "      <th>15</th>\n",
              "      <td>Who is sitting on the brown chair?</td>\n",
              "      <td>14886</td>\n",
              "      <td>man</td>\n",
              "      <td>who</td>\n",
              "    </tr>\n",
              "    <tr>\n",
              "      <th>16</th>\n",
              "      <td>Who is standing on the sidewalk?</td>\n",
              "      <td>12489</td>\n",
              "      <td>man</td>\n",
              "      <td>who</td>\n",
              "    </tr>\n",
              "    <tr>\n",
              "      <th>17</th>\n",
              "      <td>Who is sitting on the sofa?</td>\n",
              "      <td>15348</td>\n",
              "      <td>man</td>\n",
              "      <td>who</td>\n",
              "    </tr>\n",
              "    <tr>\n",
              "      <th>18</th>\n",
              "      <td>What is on the blanket?</td>\n",
              "      <td>19932</td>\n",
              "      <td>man</td>\n",
              "      <td>who</td>\n",
              "    </tr>\n",
              "    <tr>\n",
              "      <th>19</th>\n",
              "      <td>What is the lady waving at?</td>\n",
              "      <td>295</td>\n",
              "      <td>man</td>\n",
              "      <td>who</td>\n",
              "    </tr>\n",
              "  </tbody>\n",
              "</table>\n",
              "</div>"
            ],
            "text/plain": [
              "                              question image_id answer answer_type\n",
              "0                   Who looks happier?    11779    man         who\n",
              "1         Who is holding the football?    16949    man         who\n",
              "2                  Who cooked the pie?    15616    man         who\n",
              "3                     Who is laughing?     9467    man         who\n",
              "4         What is the man on the left?     8983    man         who\n",
              "5                 Who is on the couch?    10223    man         who\n",
              "6     Who is holding the woman's hand?     6030    man         who\n",
              "7                 Who has blonde hair?     7486    man         who\n",
              "8   Which person is leading the dance?    13337    man         who\n",
              "9    What is the cat reaching towards?     9974    man         who\n",
              "10               Who is holding a dog?     6067    man         who\n",
              "11                 What is on the log?    15434    man         who\n",
              "12             Who is holding the tea?     2609    man         who\n",
              "13            Who is kicking the ball?     5779    man         who\n",
              "14                 Who made the grill?     1738    man         who\n",
              "15  Who is sitting on the brown chair?    14886    man         who\n",
              "16    Who is standing on the sidewalk?    12489    man         who\n",
              "17         Who is sitting on the sofa?    15348    man         who\n",
              "18             What is on the blanket?    19932    man         who\n",
              "19         What is the lady waving at?      295    man         who"
            ]
          },
          "metadata": {
            "tags": []
          },
          "execution_count": 11
        }
      ]
    },
    {
      "cell_type": "markdown",
      "metadata": {
        "id": "09dEgs-5bFp7"
      },
      "source": [
        "Print some statistics."
      ]
    },
    {
      "cell_type": "code",
      "metadata": {
        "colab": {
          "base_uri": "https://localhost:8080/",
          "height": 332
        },
        "id": "EL-928Q8bE_H",
        "outputId": "6ed71e19-38e5-4c7f-848d-0277fac94f1c"
      },
      "source": [
        "e_df[['answer_type', 'question']].groupby('answer_type').describe()"
      ],
      "execution_count": null,
      "outputs": [
        {
          "output_type": "execute_result",
          "data": {
            "text/html": [
              "<div>\n",
              "<style scoped>\n",
              "    .dataframe tbody tr th:only-of-type {\n",
              "        vertical-align: middle;\n",
              "    }\n",
              "\n",
              "    .dataframe tbody tr th {\n",
              "        vertical-align: top;\n",
              "    }\n",
              "\n",
              "    .dataframe thead tr th {\n",
              "        text-align: left;\n",
              "    }\n",
              "\n",
              "    .dataframe thead tr:last-of-type th {\n",
              "        text-align: right;\n",
              "    }\n",
              "</style>\n",
              "<table border=\"1\" class=\"dataframe\">\n",
              "  <thead>\n",
              "    <tr>\n",
              "      <th></th>\n",
              "      <th colspan=\"4\" halign=\"left\">question</th>\n",
              "    </tr>\n",
              "    <tr>\n",
              "      <th></th>\n",
              "      <th>count</th>\n",
              "      <th>unique</th>\n",
              "      <th>top</th>\n",
              "      <th>freq</th>\n",
              "    </tr>\n",
              "    <tr>\n",
              "      <th>answer_type</th>\n",
              "      <th></th>\n",
              "      <th></th>\n",
              "      <th></th>\n",
              "      <th></th>\n",
              "    </tr>\n",
              "  </thead>\n",
              "  <tbody>\n",
              "    <tr>\n",
              "      <th>color</th>\n",
              "      <td>6503</td>\n",
              "      <td>1595</td>\n",
              "      <td>What color is the rug?</td>\n",
              "      <td>387</td>\n",
              "    </tr>\n",
              "    <tr>\n",
              "      <th>doing</th>\n",
              "      <td>1152</td>\n",
              "      <td>556</td>\n",
              "      <td>What is the dog doing?</td>\n",
              "      <td>131</td>\n",
              "    </tr>\n",
              "    <tr>\n",
              "      <th>numeric</th>\n",
              "      <td>10454</td>\n",
              "      <td>3923</td>\n",
              "      <td>How many people are there?</td>\n",
              "      <td>183</td>\n",
              "    </tr>\n",
              "    <tr>\n",
              "      <th>other</th>\n",
              "      <td>7870</td>\n",
              "      <td>3765</td>\n",
              "      <td>What is on the table?</td>\n",
              "      <td>173</td>\n",
              "    </tr>\n",
              "    <tr>\n",
              "      <th>right/left</th>\n",
              "      <td>581</td>\n",
              "      <td>502</td>\n",
              "      <td>Where is the couch?</td>\n",
              "      <td>13</td>\n",
              "    </tr>\n",
              "    <tr>\n",
              "      <th>who</th>\n",
              "      <td>976</td>\n",
              "      <td>725</td>\n",
              "      <td>What is on the couch?</td>\n",
              "      <td>24</td>\n",
              "    </tr>\n",
              "    <tr>\n",
              "      <th>yes/no</th>\n",
              "      <td>31296</td>\n",
              "      <td>23048</td>\n",
              "      <td>Is the TV on?</td>\n",
              "      <td>162</td>\n",
              "    </tr>\n",
              "  </tbody>\n",
              "</table>\n",
              "</div>"
            ],
            "text/plain": [
              "            question                                        \n",
              "               count unique                         top freq\n",
              "answer_type                                                 \n",
              "color           6503   1595      What color is the rug?  387\n",
              "doing           1152    556      What is the dog doing?  131\n",
              "numeric        10454   3923  How many people are there?  183\n",
              "other           7870   3765       What is on the table?  173\n",
              "right/left       581    502         Where is the couch?   13\n",
              "who              976    725       What is on the couch?   24\n",
              "yes/no         31296  23048               Is the TV on?  162"
            ]
          },
          "metadata": {
            "tags": []
          },
          "execution_count": 12
        }
      ]
    },
    {
      "cell_type": "markdown",
      "metadata": {
        "id": "vNofZsx7gyhS"
      },
      "source": [
        "## Step 0: Helper functions  definition and Rulebased model"
      ]
    },
    {
      "cell_type": "code",
      "metadata": {
        "id": "xRDDrPP_Krm6"
      },
      "source": [
        "contractions = { \n",
        "\"ain't\": \"am not\",\"aren't\": \"are not\",\"can't\": \"cannot\",\"can't've\": \"cannot have\",\"'cause\": \"because\",\"could've\": \"could have\",\"couldn't\": \"could not\",\n",
        "\"couldn't've\": \"could not have\",\"didn't\": \"did not\",\"doesn't\": \"does not\",\"don't\": \"do not\",\"hadn't\": \"had not\",\"hadn't've\": \"had not have\",\n",
        "\"hasn't\": \"has not\",\"haven't\": \"have not\",\"he'd\": \"he would\",\"he'd've\": \"he would have\",\"he'll\": \"he will\",\"he's\": \"he is\",\"how'd\": \"how did\",\n",
        "\"how'll\": \"how will\",\"how's\": \"how is\",\"i'd\": \"i would\",\"i'll\": \"i will\",\"i'm\": \"i am\",\"i've\": \"i have\",\"isn't\": \"is not\",\"it'd\": \"it would\",\n",
        "\"it'll\": \"it will\",\"it's\": \"it is\",\"let's\": \"let us\",\"ma'am\": \"madam\",\"mayn't\": \"may not\",\"might've\": \"might have\",\"mightn't\": \"might not\",\n",
        "\"must've\": \"must have\",\"mustn't\": \"must not\",\"needn't\": \"need not\",\"oughtn't\": \"ought not\",\"shan't\": \"shall not\",\"sha'n't\": \"shall not\",\"she'd\": \"she would\",\n",
        "\"she'll\": \"she will\",\"she's\": \"she is\",\"should've\": \"should have\",\"shouldn't\": \"should not\",\"that'd\": \"that would\",\"that's\": \"that is\",\"there'd\": \"there had\",\n",
        "\"there's\": \"there is\",\"they'd\": \"they would\",\"they'll\": \"they will\",\"they're\": \"they are\",\"they've\": \"they have\",\"wasn't\": \"was not\",\"we'd\": \"we would\",\n",
        "\"we'll\": \"we will\",\"we're\": \"we are\",\"we've\": \"we have\",\"weren't\": \"were not\",\"what'll\": \"what will\",\"what're\": \"what are\",\"what's\": \"what is\",\n",
        "\"what've\": \"what have\",\"where'd\": \"where did\",\"where's\": \"where is\",\"who'll\": \"who will\",\"who's\": \"who is\",\"won't\": \"will not\",\"wouldn't\": \"would not\",\n",
        "\"you'd\": \"you would\",\"you'll\": \"you will\",\"you're\": \"you are\"\n",
        "}\n",
        "def preprocess_english(text):\n",
        "    new_text = \"<start>\"\n",
        "    text = text.lower()\n",
        "    for word in text.split():\n",
        "      new_text = new_text + \" \" + contractions.get(word,word)\n",
        "    new_text = new_text + \" <end>\"\n",
        "    return new_text.replace(\"'s\", '')"
      ],
      "execution_count": null,
      "outputs": []
    },
    {
      "cell_type": "markdown",
      "metadata": {
        "id": "l1lmtdjjHlj1"
      },
      "source": [
        "Text processing"
      ]
    },
    {
      "cell_type": "code",
      "metadata": {
        "id": "zEXK5X8um7Es"
      },
      "source": [
        "import operator\n",
        "\n",
        "overall_dict = {}\n",
        "for category in types_names:\n",
        "  word_dict = {}\n",
        "  temp_df = e_df.loc[e_df['answer_type']==category]\n",
        "  questions = temp_df['question'].values\n",
        "  for quest in questions:\n",
        "    quest_ = quest\n",
        "    for c in '!\"#$%&()*+.,-/:;=?@[\\]^_`{|}~':\n",
        "      quest_ = quest_.replace(c, '')\n",
        "    quest_ = preprocess_english(quest_)\n",
        "    for word in quest_.split():\n",
        "      if not word in word_dict:\n",
        "        word_dict[word] = 0\n",
        "      word_dict[word] += 1\n",
        "  sorted_tuples = sorted(word_dict.items(), key=operator.itemgetter(1), reverse=True)\n",
        "  sorted_dict = {k: v for k, v in sorted_tuples}\n",
        "  overall_dict[category] = sorted_dict"
      ],
      "execution_count": null,
      "outputs": []
    },
    {
      "cell_type": "markdown",
      "metadata": {
        "id": "EI2xhD9xHoqK"
      },
      "source": [
        "Recurrent words manual inspection"
      ]
    },
    {
      "cell_type": "code",
      "metadata": {
        "colab": {
          "base_uri": "https://localhost:8080/"
        },
        "id": "TXuuUGfso5lU",
        "outputId": "b786b457-7b9f-4c8e-f6c2-3e54271ae3c5"
      },
      "source": [
        "topk = 10\n",
        "for key, dict_ in overall_dict.items():\n",
        "  print(15*'-'+' '+key+f\" ({len(e_df.loc[e_df['answer_type'] == key])}) \"+'-'*15)\n",
        "  count = 0\n",
        "  for k, v in dict_.items():\n",
        "    count +=1\n",
        "    #if count <= 2:\n",
        "    #  continue\n",
        "    if count > topk+2:\n",
        "      break\n",
        "    print(k, v)"
      ],
      "execution_count": null,
      "outputs": [
        {
          "output_type": "stream",
          "text": [
            "--------------- other (7870) ---------------\n",
            "<start> 7870\n",
            "<end> 7870\n",
            "the 7313\n",
            "is 6764\n",
            "what 5918\n",
            "on 2381\n",
            "where 1493\n",
            "of 1024\n",
            "sitting 963\n",
            "in 884\n",
            "are 626\n",
            "woman 597\n",
            "--------------- numeric (10454) ---------------\n",
            "<start> 10454\n",
            "<end> 10454\n",
            "how 10399\n",
            "many 10361\n",
            "are 6724\n",
            "the 4699\n",
            "in 2366\n",
            "there 2222\n",
            "on 1939\n",
            "people 1010\n",
            "picture 596\n",
            "trees 576\n",
            "--------------- yes/no (31296) ---------------\n",
            "the 34557\n",
            "<start> 31296\n",
            "<end> 31296\n",
            "is 20360\n",
            "a 5887\n",
            "are 5644\n",
            "on 4498\n",
            "there 4024\n",
            "to 3403\n",
            "in 3350\n",
            "man 2940\n",
            "woman 2717\n",
            "--------------- right/left (581) ---------------\n",
            "the 705\n",
            "<start> 581\n",
            "<end> 581\n",
            "is 488\n",
            "which 274\n",
            "what 124\n",
            "on 124\n",
            "of 123\n",
            "where 121\n",
            "side 96\n",
            "direction 73\n",
            "right 69\n",
            "--------------- who (976) ---------------\n",
            "<start> 976\n",
            "<end> 976\n",
            "the 870\n",
            "is 754\n",
            "who 644\n",
            "on 272\n",
            "what 171\n",
            "to 124\n",
            "a 113\n",
            "which 69\n",
            "or 69\n",
            "in 68\n",
            "--------------- doing (1152) ---------------\n",
            "the 1541\n",
            "<start> 1152\n",
            "<end> 1152\n",
            "is 1021\n",
            "what 1001\n",
            "doing 981\n",
            "on 234\n",
            "dog 228\n",
            "woman 143\n",
            "are 124\n",
            "cat 119\n",
            "man 109\n",
            "--------------- color (6503) ---------------\n",
            "the 7007\n",
            "<start> 6503\n",
            "<end> 6503\n",
            "what 6450\n",
            "color 6372\n",
            "is 5509\n",
            "are 983\n",
            "shirt 544\n",
            "rug 444\n",
            "dog 400\n",
            "on 376\n",
            "couch 358\n"
          ],
          "name": "stdout"
        }
      ]
    },
    {
      "cell_type": "code",
      "metadata": {
        "id": "YVhYXeCHlmyR"
      },
      "source": [
        "class QuestionCategorizer(object):\n",
        "  def __init__(self):\n",
        "    \"\"\"\n",
        "    self.categories = ['other', \n",
        "                  'numeric',\n",
        "                  'yes/no',\n",
        "                  #'right/left',\n",
        "                  #'who',\n",
        "                  'doing',\n",
        "                  'color']\n",
        "    \"\"\"\n",
        "    self.contain_rules = {'numeric': [['how', 'many'], ['what', 'number']],\n",
        "             #'right/left': [], come sotto\n",
        "             #'who': [], #problema... va aggiunto a other?\n",
        "             'doing': [['what', 'doing']],\n",
        "             'color': [['what', 'color']], #all combinations of 2 colors? (8 colors in total)\n",
        "             }\n",
        "\n",
        "    self.start_rules = {'yesno': ['is', 'are', 'do', 'does', 'should', 'can']}\n",
        "\n",
        "  def predict(self, question):\n",
        "    question = preprocess_english(question)\n",
        "    for c in '!\"#$%&()*+.,-/:;=?@[\\]^_`{|}~':\n",
        "      question = question.replace(c, '')\n",
        "\n",
        "    category = 'other'\n",
        "    assigned = False\n",
        "    for cat, rules in self.contain_rules.items():\n",
        "      for single_rule in rules:\n",
        "        cond = True\n",
        "        for word in single_rule:\n",
        "          if not word in question:\n",
        "            cond = False\n",
        "            break\n",
        "        if cond:\n",
        "          category = cat\n",
        "          assigned = True\n",
        "          break\n",
        "      if assigned:\n",
        "        break\n",
        "\n",
        "    if not assigned:\n",
        "      for cat, rule in self.start_rules.items():\n",
        "        for start_word in rule:\n",
        "          q_vector = question.split()\n",
        "          q_vector.remove('<start>')\n",
        "          q_vector.remove('<end>') \n",
        "          #print(q_vector)\n",
        "          #print(q_vector[0], start_word)\n",
        "          if q_vector[0] == start_word:\n",
        "            category = cat\n",
        "            assigned = True\n",
        "            break\n",
        "        if assigned:\n",
        "          break\n",
        "    return category"
      ],
      "execution_count": null,
      "outputs": []
    },
    {
      "cell_type": "code",
      "metadata": {
        "id": "KMch-f4r828y"
      },
      "source": [
        "my_obj = QuestionCategorizer()\n",
        "test = 'Is the obj working?'"
      ],
      "execution_count": null,
      "outputs": []
    },
    {
      "cell_type": "code",
      "metadata": {
        "id": "sOMBT6yJ9DP_"
      },
      "source": [
        "my_obj.predict(test)"
      ],
      "execution_count": null,
      "outputs": []
    },
    {
      "cell_type": "markdown",
      "metadata": {
        "id": "hfuX_LcKugmQ"
      },
      "source": [
        "#### Analysis on Numeric:"
      ]
    },
    {
      "cell_type": "code",
      "metadata": {
        "id": "4-j-Ww0ApSJv"
      },
      "source": [
        "temp_df = e_df.loc[e_df['answer_type']=='numeric']\n",
        "questions = temp_df['question']\n",
        "\n",
        "word = ['how','many']\n",
        "other_qs = []\n",
        "for q in questions:\n",
        "  q_ = preprocess_english(q)\n",
        "  cond = True\n",
        "  for w in word:\n",
        "    if not w in q_:\n",
        "      cond = False\n",
        "      break\n",
        "  if not cond:\n",
        "    other_qs.append(q_)\n",
        "df = pd.DataFrame(data={'question_': np.array(other_qs)}) "
      ],
      "execution_count": null,
      "outputs": []
    },
    {
      "cell_type": "code",
      "metadata": {
        "colab": {
          "base_uri": "https://localhost:8080/"
        },
        "id": "2IWOdpOjsirp",
        "outputId": "b602e856-aa73-4997-cd16-9e6700e1e319"
      },
      "source": [
        "len(df)"
      ],
      "execution_count": null,
      "outputs": [
        {
          "output_type": "execute_result",
          "data": {
            "text/plain": [
              "100"
            ]
          },
          "metadata": {
            "tags": []
          },
          "execution_count": 52
        }
      ]
    },
    {
      "cell_type": "markdown",
      "metadata": {
        "id": "ujOq7nUdul_P"
      },
      "source": [
        "Now check how many samples on the other categorys I would catch."
      ]
    },
    {
      "cell_type": "code",
      "metadata": {
        "id": "2u2P1gI7uvB8"
      },
      "source": [
        "temp_df = e_df.loc[e_df['answer_type'] != 'numeric']\n",
        "questions = temp_df['question']\n",
        "\n",
        "word = ['how','many']\n",
        "other_qs = []\n",
        "for q in questions:\n",
        "  q_ = preprocess_english(q)\n",
        "  cond = True\n",
        "  for w in word:\n",
        "    if not w in q_:\n",
        "      cond = False\n",
        "      break\n",
        "  if cond:\n",
        "    other_qs.append(q_)\n",
        "df = pd.DataFrame(data={'question_': np.array(other_qs)}) "
      ],
      "execution_count": null,
      "outputs": []
    },
    {
      "cell_type": "code",
      "metadata": {
        "colab": {
          "base_uri": "https://localhost:8080/",
          "height": 49
        },
        "id": "rJM2CI-5uz7X",
        "outputId": "297a1cbf-912d-4f83-c9ac-32c7266c05e0"
      },
      "source": [
        "df"
      ],
      "execution_count": null,
      "outputs": [
        {
          "output_type": "execute_result",
          "data": {
            "text/html": [
              "<div>\n",
              "<style scoped>\n",
              "    .dataframe tbody tr th:only-of-type {\n",
              "        vertical-align: middle;\n",
              "    }\n",
              "\n",
              "    .dataframe tbody tr th {\n",
              "        vertical-align: top;\n",
              "    }\n",
              "\n",
              "    .dataframe thead th {\n",
              "        text-align: right;\n",
              "    }\n",
              "</style>\n",
              "<table border=\"1\" class=\"dataframe\">\n",
              "  <thead>\n",
              "    <tr style=\"text-align: right;\">\n",
              "      <th></th>\n",
              "      <th>question_</th>\n",
              "    </tr>\n",
              "  </thead>\n",
              "  <tbody>\n",
              "  </tbody>\n",
              "</table>\n",
              "</div>"
            ],
            "text/plain": [
              "Empty DataFrame\n",
              "Columns: [question_]\n",
              "Index: []"
            ]
          },
          "metadata": {
            "tags": []
          },
          "execution_count": 55
        }
      ]
    },
    {
      "cell_type": "markdown",
      "metadata": {
        "id": "MEE9tehVu-_m"
      },
      "source": [
        "#### Analysis on Color:"
      ]
    },
    {
      "cell_type": "code",
      "metadata": {
        "id": "u3jZJM93u-_o"
      },
      "source": [
        "temp_df = e_df.loc[e_df['answer_type'] == 'color']\n",
        "questions = temp_df['question']\n",
        "\n",
        "word = ['what', 'color']\n",
        "other_qs = []\n",
        "for q in questions:\n",
        "  q_ = preprocess_english(q)\n",
        "  cond = True\n",
        "  for w in word:\n",
        "    if not w in q_:\n",
        "      cond = False\n",
        "      break\n",
        "  if not cond:\n",
        "    other_qs.append(q_)\n",
        "df = pd.DataFrame(data={'question_': np.array(other_qs)}) "
      ],
      "execution_count": null,
      "outputs": []
    },
    {
      "cell_type": "code",
      "metadata": {
        "colab": {
          "base_uri": "https://localhost:8080/"
        },
        "id": "CsMkISNpu-_p",
        "outputId": "0915dd6b-f069-4ec7-96d0-a6adf13c9a9c"
      },
      "source": [
        "len(df)"
      ],
      "execution_count": null,
      "outputs": [
        {
          "output_type": "execute_result",
          "data": {
            "text/plain": [
              "129"
            ]
          },
          "metadata": {
            "tags": []
          },
          "execution_count": 65
        }
      ]
    },
    {
      "cell_type": "markdown",
      "metadata": {
        "id": "yOAgMNbUu-_r"
      },
      "source": [
        "Now check how many samples on the other categorys I would catch."
      ]
    },
    {
      "cell_type": "code",
      "metadata": {
        "id": "u_GwpO1xu-_r"
      },
      "source": [
        "temp_df = e_df.loc[e_df['answer_type'] != 'color']\n",
        "questions = temp_df['question']\n",
        "\n",
        "word = ['what', 'color']\n",
        "other_qs = []\n",
        "for q in questions:\n",
        "  q_ = preprocess_english(q)\n",
        "  cond = True\n",
        "  for w in word:\n",
        "    if not w in q_:\n",
        "      cond = False\n",
        "      break\n",
        "  if cond:\n",
        "    other_qs.append(q_)\n",
        "df = pd.DataFrame(data={'question_': np.array(other_qs)}) "
      ],
      "execution_count": null,
      "outputs": []
    },
    {
      "cell_type": "code",
      "metadata": {
        "colab": {
          "base_uri": "https://localhost:8080/",
          "height": 363
        },
        "id": "U3lFqYN_u-_t",
        "outputId": "29477c30-e80f-4592-b834-f1d5bc95780c"
      },
      "source": [
        "df"
      ],
      "execution_count": null,
      "outputs": [
        {
          "output_type": "execute_result",
          "data": {
            "text/html": [
              "<div>\n",
              "<style scoped>\n",
              "    .dataframe tbody tr th:only-of-type {\n",
              "        vertical-align: middle;\n",
              "    }\n",
              "\n",
              "    .dataframe tbody tr th {\n",
              "        vertical-align: top;\n",
              "    }\n",
              "\n",
              "    .dataframe thead th {\n",
              "        text-align: right;\n",
              "    }\n",
              "</style>\n",
              "<table border=\"1\" class=\"dataframe\">\n",
              "  <thead>\n",
              "    <tr style=\"text-align: right;\">\n",
              "      <th></th>\n",
              "      <th>question_</th>\n",
              "    </tr>\n",
              "  </thead>\n",
              "  <tbody>\n",
              "    <tr>\n",
              "      <th>0</th>\n",
              "      <td>&lt;start&gt; what are the similar colors in the wom...</td>\n",
              "    </tr>\n",
              "    <tr>\n",
              "      <th>1</th>\n",
              "      <td>&lt;start&gt; what color is the sofa? &lt;end&gt;</td>\n",
              "    </tr>\n",
              "    <tr>\n",
              "      <th>2</th>\n",
              "      <td>&lt;start&gt; what color are the mushrooms? &lt;end&gt;</td>\n",
              "    </tr>\n",
              "    <tr>\n",
              "      <th>3</th>\n",
              "      <td>&lt;start&gt; what furniture matches the rug in colo...</td>\n",
              "    </tr>\n",
              "    <tr>\n",
              "      <th>4</th>\n",
              "      <td>&lt;start&gt; what object in this room have warm col...</td>\n",
              "    </tr>\n",
              "    <tr>\n",
              "      <th>5</th>\n",
              "      <td>&lt;start&gt; what is the same color as the boy shir...</td>\n",
              "    </tr>\n",
              "    <tr>\n",
              "      <th>6</th>\n",
              "      <td>&lt;start&gt; what piece of furniture matches the st...</td>\n",
              "    </tr>\n",
              "    <tr>\n",
              "      <th>7</th>\n",
              "      <td>&lt;start&gt; what is the light colored creature on ...</td>\n",
              "    </tr>\n",
              "    <tr>\n",
              "      <th>8</th>\n",
              "      <td>&lt;start&gt; what does the color of the girl shirt ...</td>\n",
              "    </tr>\n",
              "    <tr>\n",
              "      <th>9</th>\n",
              "      <td>&lt;start&gt; what object in the room is the same co...</td>\n",
              "    </tr>\n",
              "  </tbody>\n",
              "</table>\n",
              "</div>"
            ],
            "text/plain": [
              "                                           question_\n",
              "0  <start> what are the similar colors in the wom...\n",
              "1              <start> what color is the sofa? <end>\n",
              "2        <start> what color are the mushrooms? <end>\n",
              "3  <start> what furniture matches the rug in colo...\n",
              "4  <start> what object in this room have warm col...\n",
              "5  <start> what is the same color as the boy shir...\n",
              "6  <start> what piece of furniture matches the st...\n",
              "7  <start> what is the light colored creature on ...\n",
              "8  <start> what does the color of the girl shirt ...\n",
              "9  <start> what object in the room is the same co..."
            ]
          },
          "metadata": {
            "tags": []
          },
          "execution_count": 63
        }
      ]
    },
    {
      "cell_type": "markdown",
      "metadata": {
        "id": "n_GBiRDnw9O4"
      },
      "source": [
        "#### Analysis on Doing:"
      ]
    },
    {
      "cell_type": "code",
      "metadata": {
        "id": "9ahSU2ITw9O5"
      },
      "source": [
        "temp_df = e_df.loc[e_df['answer_type'] == 'doing']\n",
        "questions = temp_df['question']\n",
        "\n",
        "word = ['what', 'doing']\n",
        "other_qs = []\n",
        "for q in questions:\n",
        "  q_ = preprocess_english(q)\n",
        "  cond = True\n",
        "  for w in word:\n",
        "    if not w in q_:\n",
        "      cond = False\n",
        "      break\n",
        "  if not cond:\n",
        "    other_qs.append(q_)\n",
        "df = pd.DataFrame(data={'question_': np.array(other_qs)}) "
      ],
      "execution_count": null,
      "outputs": []
    },
    {
      "cell_type": "code",
      "metadata": {
        "colab": {
          "base_uri": "https://localhost:8080/"
        },
        "id": "RTJNIMKEw9O6",
        "outputId": "ad381e7c-c565-478b-fe98-37e73f1738b8"
      },
      "source": [
        "len(df)"
      ],
      "execution_count": null,
      "outputs": [
        {
          "output_type": "execute_result",
          "data": {
            "text/plain": [
              "172"
            ]
          },
          "metadata": {
            "tags": []
          },
          "execution_count": 76
        }
      ]
    },
    {
      "cell_type": "markdown",
      "metadata": {
        "id": "kMnenpQMw9O8"
      },
      "source": [
        "Now check how many samples on the other categorys I would catch."
      ]
    },
    {
      "cell_type": "code",
      "metadata": {
        "id": "0TuBGTOmw9O9"
      },
      "source": [
        "temp_df = e_df.loc[e_df['answer_type'] != 'doing']\n",
        "questions = temp_df['question']\n",
        "\n",
        "word = ['what','doing']\n",
        "other_qs = []\n",
        "for q in questions:\n",
        "  q_ = preprocess_english(q)\n",
        "  cond = True\n",
        "  for w in word:\n",
        "    if not w in q_:\n",
        "      cond = False\n",
        "      break\n",
        "  if cond:\n",
        "    other_qs.append(q_)\n",
        "df = pd.DataFrame(data={'question_': np.array(other_qs)}) "
      ],
      "execution_count": null,
      "outputs": []
    },
    {
      "cell_type": "code",
      "metadata": {
        "colab": {
          "base_uri": "https://localhost:8080/",
          "height": 1000
        },
        "id": "P-dbFmNLw9O_",
        "outputId": "e7ef1123-c384-4e92-d4be-c33aeddfe486"
      },
      "source": [
        "df"
      ],
      "execution_count": null,
      "outputs": [
        {
          "output_type": "execute_result",
          "data": {
            "text/html": [
              "<div>\n",
              "<style scoped>\n",
              "    .dataframe tbody tr th:only-of-type {\n",
              "        vertical-align: middle;\n",
              "    }\n",
              "\n",
              "    .dataframe tbody tr th {\n",
              "        vertical-align: top;\n",
              "    }\n",
              "\n",
              "    .dataframe thead th {\n",
              "        text-align: right;\n",
              "    }\n",
              "</style>\n",
              "<table border=\"1\" class=\"dataframe\">\n",
              "  <thead>\n",
              "    <tr style=\"text-align: right;\">\n",
              "      <th></th>\n",
              "      <th>question_</th>\n",
              "    </tr>\n",
              "  </thead>\n",
              "  <tbody>\n",
              "    <tr>\n",
              "      <th>0</th>\n",
              "      <td>&lt;start&gt; is the little boy trying to imitate wh...</td>\n",
              "    </tr>\n",
              "    <tr>\n",
              "      <th>1</th>\n",
              "      <td>&lt;start&gt; is the boy laughing at what the cat is...</td>\n",
              "    </tr>\n",
              "    <tr>\n",
              "      <th>2</th>\n",
              "      <td>&lt;start&gt; is the old lady worried about what the...</td>\n",
              "    </tr>\n",
              "    <tr>\n",
              "      <th>3</th>\n",
              "      <td>&lt;start&gt; does the man know what he is doing? &lt;end&gt;</td>\n",
              "    </tr>\n",
              "    <tr>\n",
              "      <th>4</th>\n",
              "      <td>&lt;start&gt; are the squirrels interested in what t...</td>\n",
              "    </tr>\n",
              "    <tr>\n",
              "      <th>5</th>\n",
              "      <td>&lt;start&gt; what is the young girl doing chasing t...</td>\n",
              "    </tr>\n",
              "    <tr>\n",
              "      <th>6</th>\n",
              "      <td>&lt;start&gt; is the woman laughing at what the dogs...</td>\n",
              "    </tr>\n",
              "    <tr>\n",
              "      <th>7</th>\n",
              "      <td>&lt;start&gt; is the baby amused at what the woman i...</td>\n",
              "    </tr>\n",
              "    <tr>\n",
              "      <th>8</th>\n",
              "      <td>&lt;start&gt; is the girl amused by what the dog and...</td>\n",
              "    </tr>\n",
              "    <tr>\n",
              "      <th>9</th>\n",
              "      <td>&lt;start&gt; is the girl laughing at what the boy i...</td>\n",
              "    </tr>\n",
              "    <tr>\n",
              "      <th>10</th>\n",
              "      <td>&lt;start&gt; could a monkey do what the girl is doi...</td>\n",
              "    </tr>\n",
              "    <tr>\n",
              "      <th>11</th>\n",
              "      <td>&lt;start&gt; is the girl laughing at what the dog i...</td>\n",
              "    </tr>\n",
              "    <tr>\n",
              "      <th>12</th>\n",
              "      <td>&lt;start&gt; is the woman upset at what the boy is ...</td>\n",
              "    </tr>\n",
              "    <tr>\n",
              "      <th>13</th>\n",
              "      <td>&lt;start&gt; is the woman laughing at what the man ...</td>\n",
              "    </tr>\n",
              "    <tr>\n",
              "      <th>14</th>\n",
              "      <td>&lt;start&gt; is it legal what the woman is doing in...</td>\n",
              "    </tr>\n",
              "    <tr>\n",
              "      <th>15</th>\n",
              "      <td>&lt;start&gt; does the woman approve of what the boy...</td>\n",
              "    </tr>\n",
              "    <tr>\n",
              "      <th>16</th>\n",
              "      <td>&lt;start&gt; is the old woman happy about what the ...</td>\n",
              "    </tr>\n",
              "    <tr>\n",
              "      <th>17</th>\n",
              "      <td>&lt;start&gt; is the boy happy with what the women a...</td>\n",
              "    </tr>\n",
              "    <tr>\n",
              "      <th>18</th>\n",
              "      <td>&lt;start&gt; is the woman angry about what the man ...</td>\n",
              "    </tr>\n",
              "    <tr>\n",
              "      <th>19</th>\n",
              "      <td>&lt;start&gt; does the girl approve of what the cat ...</td>\n",
              "    </tr>\n",
              "    <tr>\n",
              "      <th>20</th>\n",
              "      <td>&lt;start&gt; is what this woman is doing safe? &lt;end&gt;</td>\n",
              "    </tr>\n",
              "    <tr>\n",
              "      <th>21</th>\n",
              "      <td>&lt;start&gt; is the man happy about what the dog is...</td>\n",
              "    </tr>\n",
              "    <tr>\n",
              "      <th>22</th>\n",
              "      <td>&lt;start&gt; is the man unsure of what he doing wit...</td>\n",
              "    </tr>\n",
              "    <tr>\n",
              "      <th>23</th>\n",
              "      <td>&lt;start&gt; is the old lady happy about what the b...</td>\n",
              "    </tr>\n",
              "    <tr>\n",
              "      <th>24</th>\n",
              "      <td>&lt;start&gt; is the baby able to do what the boy is...</td>\n",
              "    </tr>\n",
              "    <tr>\n",
              "      <th>25</th>\n",
              "      <td>&lt;start&gt; is the girl safe doing what she is doi...</td>\n",
              "    </tr>\n",
              "    <tr>\n",
              "      <th>26</th>\n",
              "      <td>&lt;start&gt; what color is the brown chair doing on...</td>\n",
              "    </tr>\n",
              "    <tr>\n",
              "      <th>27</th>\n",
              "      <td>&lt;start&gt; what is the boy doing? &lt;end&gt;</td>\n",
              "    </tr>\n",
              "    <tr>\n",
              "      <th>28</th>\n",
              "      <td>&lt;start&gt; what color is the dog doing on the sid...</td>\n",
              "    </tr>\n",
              "    <tr>\n",
              "      <th>29</th>\n",
              "      <td>&lt;start&gt; what is the baby doing with the yellow...</td>\n",
              "    </tr>\n",
              "    <tr>\n",
              "      <th>30</th>\n",
              "      <td>&lt;start&gt; what is the brown couch doing? &lt;end&gt;</td>\n",
              "    </tr>\n",
              "    <tr>\n",
              "      <th>31</th>\n",
              "      <td>&lt;start&gt; what is the girl on the left doing wit...</td>\n",
              "    </tr>\n",
              "    <tr>\n",
              "      <th>32</th>\n",
              "      <td>&lt;start&gt; what is the dog doing with a bone on t...</td>\n",
              "    </tr>\n",
              "    <tr>\n",
              "      <th>33</th>\n",
              "      <td>&lt;start&gt; what is the man doing on the ground? &lt;...</td>\n",
              "    </tr>\n",
              "    <tr>\n",
              "      <th>34</th>\n",
              "      <td>&lt;start&gt; what is the woman on the right doing w...</td>\n",
              "    </tr>\n",
              "    <tr>\n",
              "      <th>35</th>\n",
              "      <td>&lt;start&gt; what is the girl on the couch doing wi...</td>\n",
              "    </tr>\n",
              "    <tr>\n",
              "      <th>36</th>\n",
              "      <td>&lt;start&gt; what is the woman doing with her arms?...</td>\n",
              "    </tr>\n",
              "    <tr>\n",
              "      <th>37</th>\n",
              "      <td>&lt;start&gt; what is the lady doing with the pillow...</td>\n",
              "    </tr>\n",
              "    <tr>\n",
              "      <th>38</th>\n",
              "      <td>&lt;start&gt; what is the girl on the right doing wi...</td>\n",
              "    </tr>\n",
              "    <tr>\n",
              "      <th>39</th>\n",
              "      <td>&lt;start&gt; what is the young girl doing with her ...</td>\n",
              "    </tr>\n",
              "    <tr>\n",
              "      <th>40</th>\n",
              "      <td>&lt;start&gt; what is the dog doing with the bone? &lt;...</td>\n",
              "    </tr>\n",
              "    <tr>\n",
              "      <th>41</th>\n",
              "      <td>&lt;start&gt; what is the little girl doing with the...</td>\n",
              "    </tr>\n",
              "    <tr>\n",
              "      <th>42</th>\n",
              "      <td>&lt;start&gt; what is the man on the right side doin...</td>\n",
              "    </tr>\n",
              "    <tr>\n",
              "      <th>43</th>\n",
              "      <td>&lt;start&gt; what is the man on the left doing with...</td>\n",
              "    </tr>\n",
              "    <tr>\n",
              "      <th>44</th>\n",
              "      <td>&lt;start&gt; what is the woman on the couch doing w...</td>\n",
              "    </tr>\n",
              "    <tr>\n",
              "      <th>45</th>\n",
              "      <td>&lt;start&gt; what are the people doing in the park?...</td>\n",
              "    </tr>\n",
              "    <tr>\n",
              "      <th>46</th>\n",
              "      <td>&lt;start&gt; what is the animal near the tree on th...</td>\n",
              "    </tr>\n",
              "    <tr>\n",
              "      <th>47</th>\n",
              "      <td>&lt;start&gt; what is the doing walking towards? &lt;end&gt;</td>\n",
              "    </tr>\n",
              "    <tr>\n",
              "      <th>48</th>\n",
              "      <td>&lt;start&gt; what is the boy doing? &lt;end&gt;</td>\n",
              "    </tr>\n",
              "    <tr>\n",
              "      <th>49</th>\n",
              "      <td>&lt;start&gt; what is the girl doing? &lt;end&gt;</td>\n",
              "    </tr>\n",
              "    <tr>\n",
              "      <th>50</th>\n",
              "      <td>&lt;start&gt; what is the girl doing? &lt;end&gt;</td>\n",
              "    </tr>\n",
              "    <tr>\n",
              "      <th>51</th>\n",
              "      <td>&lt;start&gt; what is the boy doing? &lt;end&gt;</td>\n",
              "    </tr>\n",
              "    <tr>\n",
              "      <th>52</th>\n",
              "      <td>&lt;start&gt; what activity are the boys doing? &lt;end&gt;</td>\n",
              "    </tr>\n",
              "    <tr>\n",
              "      <th>53</th>\n",
              "      <td>&lt;start&gt; what type of activity are they doing? ...</td>\n",
              "    </tr>\n",
              "  </tbody>\n",
              "</table>\n",
              "</div>"
            ],
            "text/plain": [
              "                                            question_\n",
              "0   <start> is the little boy trying to imitate wh...\n",
              "1   <start> is the boy laughing at what the cat is...\n",
              "2   <start> is the old lady worried about what the...\n",
              "3   <start> does the man know what he is doing? <end>\n",
              "4   <start> are the squirrels interested in what t...\n",
              "5   <start> what is the young girl doing chasing t...\n",
              "6   <start> is the woman laughing at what the dogs...\n",
              "7   <start> is the baby amused at what the woman i...\n",
              "8   <start> is the girl amused by what the dog and...\n",
              "9   <start> is the girl laughing at what the boy i...\n",
              "10  <start> could a monkey do what the girl is doi...\n",
              "11  <start> is the girl laughing at what the dog i...\n",
              "12  <start> is the woman upset at what the boy is ...\n",
              "13  <start> is the woman laughing at what the man ...\n",
              "14  <start> is it legal what the woman is doing in...\n",
              "15  <start> does the woman approve of what the boy...\n",
              "16  <start> is the old woman happy about what the ...\n",
              "17  <start> is the boy happy with what the women a...\n",
              "18  <start> is the woman angry about what the man ...\n",
              "19  <start> does the girl approve of what the cat ...\n",
              "20    <start> is what this woman is doing safe? <end>\n",
              "21  <start> is the man happy about what the dog is...\n",
              "22  <start> is the man unsure of what he doing wit...\n",
              "23  <start> is the old lady happy about what the b...\n",
              "24  <start> is the baby able to do what the boy is...\n",
              "25  <start> is the girl safe doing what she is doi...\n",
              "26  <start> what color is the brown chair doing on...\n",
              "27               <start> what is the boy doing? <end>\n",
              "28  <start> what color is the dog doing on the sid...\n",
              "29  <start> what is the baby doing with the yellow...\n",
              "30       <start> what is the brown couch doing? <end>\n",
              "31  <start> what is the girl on the left doing wit...\n",
              "32  <start> what is the dog doing with a bone on t...\n",
              "33  <start> what is the man doing on the ground? <...\n",
              "34  <start> what is the woman on the right doing w...\n",
              "35  <start> what is the girl on the couch doing wi...\n",
              "36  <start> what is the woman doing with her arms?...\n",
              "37  <start> what is the lady doing with the pillow...\n",
              "38  <start> what is the girl on the right doing wi...\n",
              "39  <start> what is the young girl doing with her ...\n",
              "40  <start> what is the dog doing with the bone? <...\n",
              "41  <start> what is the little girl doing with the...\n",
              "42  <start> what is the man on the right side doin...\n",
              "43  <start> what is the man on the left doing with...\n",
              "44  <start> what is the woman on the couch doing w...\n",
              "45  <start> what are the people doing in the park?...\n",
              "46  <start> what is the animal near the tree on th...\n",
              "47   <start> what is the doing walking towards? <end>\n",
              "48               <start> what is the boy doing? <end>\n",
              "49              <start> what is the girl doing? <end>\n",
              "50              <start> what is the girl doing? <end>\n",
              "51               <start> what is the boy doing? <end>\n",
              "52    <start> what activity are the boys doing? <end>\n",
              "53  <start> what type of activity are they doing? ..."
            ]
          },
          "metadata": {
            "tags": []
          },
          "execution_count": 78
        }
      ]
    },
    {
      "cell_type": "markdown",
      "metadata": {
        "id": "sUtTSwyNyOtJ"
      },
      "source": [
        "#### Analysis on Who:"
      ]
    },
    {
      "cell_type": "code",
      "metadata": {
        "id": "SG-ZP-JByOtK"
      },
      "source": [
        "temp_df = e_df.loc[e_df['answer_type'] == 'who']\n",
        "questions = temp_df['question']\n",
        "\n",
        "word = ['who']\n",
        "other_qs = []\n",
        "for q in questions:\n",
        "  q_ = preprocess_english(q)\n",
        "  cond = True\n",
        "  for w in word:\n",
        "    if not w in q_:\n",
        "      cond = False\n",
        "      break\n",
        "  if not cond:\n",
        "    other_qs.append(q_)\n",
        "df = pd.DataFrame(data={'question_': np.array(other_qs)}) "
      ],
      "execution_count": null,
      "outputs": []
    },
    {
      "cell_type": "code",
      "metadata": {
        "colab": {
          "base_uri": "https://localhost:8080/",
          "height": 424
        },
        "id": "JvLSIGALyOtL",
        "outputId": "e2003447-0635-47fb-a30b-0dcecd9e4ecd"
      },
      "source": [
        "df"
      ],
      "execution_count": null,
      "outputs": [
        {
          "output_type": "execute_result",
          "data": {
            "text/html": [
              "<div>\n",
              "<style scoped>\n",
              "    .dataframe tbody tr th:only-of-type {\n",
              "        vertical-align: middle;\n",
              "    }\n",
              "\n",
              "    .dataframe tbody tr th {\n",
              "        vertical-align: top;\n",
              "    }\n",
              "\n",
              "    .dataframe thead th {\n",
              "        text-align: right;\n",
              "    }\n",
              "</style>\n",
              "<table border=\"1\" class=\"dataframe\">\n",
              "  <thead>\n",
              "    <tr style=\"text-align: right;\">\n",
              "      <th></th>\n",
              "      <th>question_</th>\n",
              "    </tr>\n",
              "  </thead>\n",
              "  <tbody>\n",
              "    <tr>\n",
              "      <th>0</th>\n",
              "      <td>&lt;start&gt; what is the man on the left? &lt;end&gt;</td>\n",
              "    </tr>\n",
              "    <tr>\n",
              "      <th>1</th>\n",
              "      <td>&lt;start&gt; which person is leading the dance? &lt;end&gt;</td>\n",
              "    </tr>\n",
              "    <tr>\n",
              "      <th>2</th>\n",
              "      <td>&lt;start&gt; what is the cat reaching towards? &lt;end&gt;</td>\n",
              "    </tr>\n",
              "    <tr>\n",
              "      <th>3</th>\n",
              "      <td>&lt;start&gt; what is on the log? &lt;end&gt;</td>\n",
              "    </tr>\n",
              "    <tr>\n",
              "      <th>4</th>\n",
              "      <td>&lt;start&gt; what is on the blanket? &lt;end&gt;</td>\n",
              "    </tr>\n",
              "    <tr>\n",
              "      <th>...</th>\n",
              "      <td>...</td>\n",
              "    </tr>\n",
              "    <tr>\n",
              "      <th>315</th>\n",
              "      <td>&lt;start&gt; what is on the slide? &lt;end&gt;</td>\n",
              "    </tr>\n",
              "    <tr>\n",
              "      <th>316</th>\n",
              "      <td>&lt;start&gt; which person is going down the slide? ...</td>\n",
              "    </tr>\n",
              "    <tr>\n",
              "      <th>317</th>\n",
              "      <td>&lt;start&gt; what do you see in between the two pon...</td>\n",
              "    </tr>\n",
              "    <tr>\n",
              "      <th>318</th>\n",
              "      <td>&lt;start&gt; what is the girl laughing at? &lt;end&gt;</td>\n",
              "    </tr>\n",
              "    <tr>\n",
              "      <th>319</th>\n",
              "      <td>&lt;start&gt; what items grows the most quickly? &lt;end&gt;</td>\n",
              "    </tr>\n",
              "  </tbody>\n",
              "</table>\n",
              "<p>320 rows × 1 columns</p>\n",
              "</div>"
            ],
            "text/plain": [
              "                                             question_\n",
              "0           <start> what is the man on the left? <end>\n",
              "1     <start> which person is leading the dance? <end>\n",
              "2      <start> what is the cat reaching towards? <end>\n",
              "3                    <start> what is on the log? <end>\n",
              "4                <start> what is on the blanket? <end>\n",
              "..                                                 ...\n",
              "315                <start> what is on the slide? <end>\n",
              "316  <start> which person is going down the slide? ...\n",
              "317  <start> what do you see in between the two pon...\n",
              "318        <start> what is the girl laughing at? <end>\n",
              "319   <start> what items grows the most quickly? <end>\n",
              "\n",
              "[320 rows x 1 columns]"
            ]
          },
          "metadata": {
            "tags": []
          },
          "execution_count": 87
        }
      ]
    },
    {
      "cell_type": "markdown",
      "metadata": {
        "id": "nzOzWYLCyOtM"
      },
      "source": [
        "Now check how many samples on the other categorys I would catch."
      ]
    },
    {
      "cell_type": "code",
      "metadata": {
        "id": "SKY7c3rpyOtN"
      },
      "source": [
        "temp_df = e_df.loc[e_df['answer_type'] != 'who']\n",
        "questions = temp_df['question']\n",
        "\n",
        "word = ['who']\n",
        "other_qs = []\n",
        "for q in questions:\n",
        "  q_ = preprocess_english(q)\n",
        "  cond = True\n",
        "  for w in word:\n",
        "    if not w in q_:\n",
        "      cond = False\n",
        "      break\n",
        "  if cond:\n",
        "    other_qs.append(q_)\n",
        "df = pd.DataFrame(data={'question_': np.array(other_qs)}) "
      ],
      "execution_count": null,
      "outputs": []
    },
    {
      "cell_type": "code",
      "metadata": {
        "colab": {
          "base_uri": "https://localhost:8080/",
          "height": 424
        },
        "id": "hwHHF2UmyOtO",
        "outputId": "cdee9b6f-9944-4c35-c430-55b1d8ca5221"
      },
      "source": [
        "df"
      ],
      "execution_count": null,
      "outputs": [
        {
          "output_type": "execute_result",
          "data": {
            "text/html": [
              "<div>\n",
              "<style scoped>\n",
              "    .dataframe tbody tr th:only-of-type {\n",
              "        vertical-align: middle;\n",
              "    }\n",
              "\n",
              "    .dataframe tbody tr th {\n",
              "        vertical-align: top;\n",
              "    }\n",
              "\n",
              "    .dataframe thead th {\n",
              "        text-align: right;\n",
              "    }\n",
              "</style>\n",
              "<table border=\"1\" class=\"dataframe\">\n",
              "  <thead>\n",
              "    <tr style=\"text-align: right;\">\n",
              "      <th></th>\n",
              "      <th>question_</th>\n",
              "    </tr>\n",
              "  </thead>\n",
              "  <tbody>\n",
              "    <tr>\n",
              "      <th>0</th>\n",
              "      <td>&lt;start&gt; will the girl drink the whole bottle o...</td>\n",
              "    </tr>\n",
              "    <tr>\n",
              "      <th>1</th>\n",
              "      <td>&lt;start&gt; are there two people, here, who look a...</td>\n",
              "    </tr>\n",
              "    <tr>\n",
              "      <th>2</th>\n",
              "      <td>&lt;start&gt; is the pie still whole? &lt;end&gt;</td>\n",
              "    </tr>\n",
              "    <tr>\n",
              "      <th>3</th>\n",
              "      <td>&lt;start&gt; is the old man wanting to drink the wh...</td>\n",
              "    </tr>\n",
              "    <tr>\n",
              "      <th>4</th>\n",
              "      <td>&lt;start&gt; is there an item here associated with ...</td>\n",
              "    </tr>\n",
              "    <tr>\n",
              "      <th>...</th>\n",
              "      <td>...</td>\n",
              "    </tr>\n",
              "    <tr>\n",
              "      <th>213</th>\n",
              "      <td>&lt;start&gt; who is the girl waving at? &lt;end&gt;</td>\n",
              "    </tr>\n",
              "    <tr>\n",
              "      <th>214</th>\n",
              "      <td>&lt;start&gt; who does the eggs belong to? &lt;end&gt;</td>\n",
              "    </tr>\n",
              "    <tr>\n",
              "      <th>215</th>\n",
              "      <td>&lt;start&gt; who lives in the tree on the left? &lt;end&gt;</td>\n",
              "    </tr>\n",
              "    <tr>\n",
              "      <th>216</th>\n",
              "      <td>&lt;start&gt; who lives in the tree with the squirre...</td>\n",
              "    </tr>\n",
              "    <tr>\n",
              "      <th>217</th>\n",
              "      <td>&lt;start&gt; who has babies? &lt;end&gt;</td>\n",
              "    </tr>\n",
              "  </tbody>\n",
              "</table>\n",
              "<p>218 rows × 1 columns</p>\n",
              "</div>"
            ],
            "text/plain": [
              "                                             question_\n",
              "0    <start> will the girl drink the whole bottle o...\n",
              "1    <start> are there two people, here, who look a...\n",
              "2                <start> is the pie still whole? <end>\n",
              "3    <start> is the old man wanting to drink the wh...\n",
              "4    <start> is there an item here associated with ...\n",
              "..                                                 ...\n",
              "213           <start> who is the girl waving at? <end>\n",
              "214         <start> who does the eggs belong to? <end>\n",
              "215   <start> who lives in the tree on the left? <end>\n",
              "216  <start> who lives in the tree with the squirre...\n",
              "217                      <start> who has babies? <end>\n",
              "\n",
              "[218 rows x 1 columns]"
            ]
          },
          "metadata": {
            "tags": []
          },
          "execution_count": 82
        }
      ]
    },
    {
      "cell_type": "markdown",
      "metadata": {
        "id": "QTJ2-lRCy_VX"
      },
      "source": [
        "#### Analysis on right/left:"
      ]
    },
    {
      "cell_type": "code",
      "metadata": {
        "id": "bHRz8j8uy_VY"
      },
      "source": [
        "temp_df = e_df.loc[e_df['answer_type'] == 'right/left']\n",
        "questions = temp_df['question']\n",
        "\n",
        "word = [['left', 'right'], ['which', 'way'], ['which', 'direction'], ['which', 'side'], ['what', 'way'], ['what', 'direction'], ['what', 'side']]\n",
        "other_qs = []\n",
        "for q in questions:\n",
        "  q_ = preprocess_english(q)\n",
        "  buona = False\n",
        "  for t in word:\n",
        "    cond = True\n",
        "    for w in t:\n",
        "      if not w in q_:\n",
        "        cond = False\n",
        "        break\n",
        "    if cond:\n",
        "      buona = True\n",
        "      break\n",
        "  if not buona:\n",
        "    other_qs.append(q)  \n",
        "df = pd.DataFrame(data={'question_': np.array(other_qs)}) "
      ],
      "execution_count": null,
      "outputs": []
    },
    {
      "cell_type": "code",
      "metadata": {
        "colab": {
          "base_uri": "https://localhost:8080/",
          "height": 424
        },
        "id": "Cj1rzOCky_VZ",
        "outputId": "05d696d0-a5fd-4686-91d4-53db23573fd5"
      },
      "source": [
        "df"
      ],
      "execution_count": null,
      "outputs": [
        {
          "output_type": "execute_result",
          "data": {
            "text/html": [
              "<div>\n",
              "<style scoped>\n",
              "    .dataframe tbody tr th:only-of-type {\n",
              "        vertical-align: middle;\n",
              "    }\n",
              "\n",
              "    .dataframe tbody tr th {\n",
              "        vertical-align: top;\n",
              "    }\n",
              "\n",
              "    .dataframe thead th {\n",
              "        text-align: right;\n",
              "    }\n",
              "</style>\n",
              "<table border=\"1\" class=\"dataframe\">\n",
              "  <thead>\n",
              "    <tr style=\"text-align: right;\">\n",
              "      <th></th>\n",
              "      <th>question_</th>\n",
              "    </tr>\n",
              "  </thead>\n",
              "  <tbody>\n",
              "    <tr>\n",
              "      <th>0</th>\n",
              "      <td>Which hand is the boy waving with?</td>\n",
              "    </tr>\n",
              "    <tr>\n",
              "      <th>1</th>\n",
              "      <td>Which window is lowest?</td>\n",
              "    </tr>\n",
              "    <tr>\n",
              "      <th>2</th>\n",
              "      <td>Which hand is the girl on the floor raising?</td>\n",
              "    </tr>\n",
              "    <tr>\n",
              "      <th>3</th>\n",
              "      <td>Which of the two people is younger?</td>\n",
              "    </tr>\n",
              "    <tr>\n",
              "      <th>4</th>\n",
              "      <td>Which leg is bent?</td>\n",
              "    </tr>\n",
              "    <tr>\n",
              "      <th>...</th>\n",
              "      <td>...</td>\n",
              "    </tr>\n",
              "    <tr>\n",
              "      <th>333</th>\n",
              "      <td>Which leg is furthest forward on the dog?</td>\n",
              "    </tr>\n",
              "    <tr>\n",
              "      <th>334</th>\n",
              "      <td>Which window is larger?</td>\n",
              "    </tr>\n",
              "    <tr>\n",
              "      <th>335</th>\n",
              "      <td>Which girl is closer to the bushes?</td>\n",
              "    </tr>\n",
              "    <tr>\n",
              "      <th>336</th>\n",
              "      <td>Where is the tree?</td>\n",
              "    </tr>\n",
              "    <tr>\n",
              "      <th>337</th>\n",
              "      <td>Which of the woman's feet are touching the floor?</td>\n",
              "    </tr>\n",
              "  </tbody>\n",
              "</table>\n",
              "<p>338 rows × 1 columns</p>\n",
              "</div>"
            ],
            "text/plain": [
              "                                             question_\n",
              "0                   Which hand is the boy waving with?\n",
              "1                              Which window is lowest?\n",
              "2         Which hand is the girl on the floor raising?\n",
              "3                  Which of the two people is younger?\n",
              "4                                   Which leg is bent?\n",
              "..                                                 ...\n",
              "333          Which leg is furthest forward on the dog?\n",
              "334                            Which window is larger?\n",
              "335                Which girl is closer to the bushes?\n",
              "336                                 Where is the tree?\n",
              "337  Which of the woman's feet are touching the floor?\n",
              "\n",
              "[338 rows x 1 columns]"
            ]
          },
          "metadata": {
            "tags": []
          },
          "execution_count": 99
        }
      ]
    },
    {
      "cell_type": "markdown",
      "metadata": {
        "id": "xAfiCQFiy_Vb"
      },
      "source": [
        "Now check how many samples on the other categorys I would catch."
      ]
    },
    {
      "cell_type": "code",
      "metadata": {
        "id": "i1GjxEiHy_Vb"
      },
      "source": [
        "temp_df = e_df.loc[e_df['answer_type'] != 'who']\n",
        "questions = temp_df['question']\n",
        "\n",
        "word = ['who']\n",
        "other_qs = []\n",
        "for q in questions:\n",
        "  q_ = preprocess_english(q)\n",
        "  cond = True\n",
        "  for w in word:\n",
        "    if not w in q_:\n",
        "      cond = False\n",
        "      break\n",
        "  if cond:\n",
        "    other_qs.append(q_)\n",
        "df = pd.DataFrame(data={'question_': np.array(other_qs)}) "
      ],
      "execution_count": null,
      "outputs": []
    },
    {
      "cell_type": "code",
      "metadata": {
        "colab": {
          "base_uri": "https://localhost:8080/",
          "height": 424
        },
        "id": "glfRx-B5y_Vc",
        "outputId": "cdee9b6f-9944-4c35-c430-55b1d8ca5221"
      },
      "source": [
        "df"
      ],
      "execution_count": null,
      "outputs": [
        {
          "output_type": "execute_result",
          "data": {
            "text/html": [
              "<div>\n",
              "<style scoped>\n",
              "    .dataframe tbody tr th:only-of-type {\n",
              "        vertical-align: middle;\n",
              "    }\n",
              "\n",
              "    .dataframe tbody tr th {\n",
              "        vertical-align: top;\n",
              "    }\n",
              "\n",
              "    .dataframe thead th {\n",
              "        text-align: right;\n",
              "    }\n",
              "</style>\n",
              "<table border=\"1\" class=\"dataframe\">\n",
              "  <thead>\n",
              "    <tr style=\"text-align: right;\">\n",
              "      <th></th>\n",
              "      <th>question_</th>\n",
              "    </tr>\n",
              "  </thead>\n",
              "  <tbody>\n",
              "    <tr>\n",
              "      <th>0</th>\n",
              "      <td>&lt;start&gt; will the girl drink the whole bottle o...</td>\n",
              "    </tr>\n",
              "    <tr>\n",
              "      <th>1</th>\n",
              "      <td>&lt;start&gt; are there two people, here, who look a...</td>\n",
              "    </tr>\n",
              "    <tr>\n",
              "      <th>2</th>\n",
              "      <td>&lt;start&gt; is the pie still whole? &lt;end&gt;</td>\n",
              "    </tr>\n",
              "    <tr>\n",
              "      <th>3</th>\n",
              "      <td>&lt;start&gt; is the old man wanting to drink the wh...</td>\n",
              "    </tr>\n",
              "    <tr>\n",
              "      <th>4</th>\n",
              "      <td>&lt;start&gt; is there an item here associated with ...</td>\n",
              "    </tr>\n",
              "    <tr>\n",
              "      <th>...</th>\n",
              "      <td>...</td>\n",
              "    </tr>\n",
              "    <tr>\n",
              "      <th>213</th>\n",
              "      <td>&lt;start&gt; who is the girl waving at? &lt;end&gt;</td>\n",
              "    </tr>\n",
              "    <tr>\n",
              "      <th>214</th>\n",
              "      <td>&lt;start&gt; who does the eggs belong to? &lt;end&gt;</td>\n",
              "    </tr>\n",
              "    <tr>\n",
              "      <th>215</th>\n",
              "      <td>&lt;start&gt; who lives in the tree on the left? &lt;end&gt;</td>\n",
              "    </tr>\n",
              "    <tr>\n",
              "      <th>216</th>\n",
              "      <td>&lt;start&gt; who lives in the tree with the squirre...</td>\n",
              "    </tr>\n",
              "    <tr>\n",
              "      <th>217</th>\n",
              "      <td>&lt;start&gt; who has babies? &lt;end&gt;</td>\n",
              "    </tr>\n",
              "  </tbody>\n",
              "</table>\n",
              "<p>218 rows × 1 columns</p>\n",
              "</div>"
            ],
            "text/plain": [
              "                                             question_\n",
              "0    <start> will the girl drink the whole bottle o...\n",
              "1    <start> are there two people, here, who look a...\n",
              "2                <start> is the pie still whole? <end>\n",
              "3    <start> is the old man wanting to drink the wh...\n",
              "4    <start> is there an item here associated with ...\n",
              "..                                                 ...\n",
              "213           <start> who is the girl waving at? <end>\n",
              "214         <start> who does the eggs belong to? <end>\n",
              "215   <start> who lives in the tree on the left? <end>\n",
              "216  <start> who lives in the tree with the squirre...\n",
              "217                      <start> who has babies? <end>\n",
              "\n",
              "[218 rows x 1 columns]"
            ]
          },
          "metadata": {
            "tags": []
          },
          "execution_count": 82
        }
      ]
    },
    {
      "cell_type": "markdown",
      "metadata": {
        "id": "_yKBQcpr1dYy"
      },
      "source": [
        "#### Analysis on Yes/No:"
      ]
    },
    {
      "cell_type": "code",
      "metadata": {
        "id": "f1qZj1in1dY0"
      },
      "source": [
        "temp_df = e_df.loc[e_df['answer_type'] == 'yes/no']\n",
        "questions = temp_df['question']\n",
        "\n",
        "word = [['is'], ['are']]\n",
        "other_qs = []\n",
        "for q in questions:\n",
        "  q_ = preprocess_english(q)\n",
        "  buona = False\n",
        "  for t in word:\n",
        "    cond = True\n",
        "    for w in t:\n",
        "      if not w in q_:\n",
        "        cond = False\n",
        "        break\n",
        "    if cond:\n",
        "      buona = True\n",
        "      break\n",
        "  if not buona:\n",
        "    other_qs.append(q)  \n",
        "df = pd.DataFrame(data={'question_': np.array(other_qs)}) "
      ],
      "execution_count": null,
      "outputs": []
    },
    {
      "cell_type": "code",
      "metadata": {
        "colab": {
          "base_uri": "https://localhost:8080/",
          "height": 424
        },
        "id": "zUlcniOq1dY1",
        "outputId": "3f40d12c-be80-4838-b051-876fe7a647e6"
      },
      "source": [
        "df"
      ],
      "execution_count": null,
      "outputs": [
        {
          "output_type": "execute_result",
          "data": {
            "text/html": [
              "<div>\n",
              "<style scoped>\n",
              "    .dataframe tbody tr th:only-of-type {\n",
              "        vertical-align: middle;\n",
              "    }\n",
              "\n",
              "    .dataframe tbody tr th {\n",
              "        vertical-align: top;\n",
              "    }\n",
              "\n",
              "    .dataframe thead th {\n",
              "        text-align: right;\n",
              "    }\n",
              "</style>\n",
              "<table border=\"1\" class=\"dataframe\">\n",
              "  <thead>\n",
              "    <tr style=\"text-align: right;\">\n",
              "      <th></th>\n",
              "      <th>question_</th>\n",
              "    </tr>\n",
              "  </thead>\n",
              "  <tbody>\n",
              "    <tr>\n",
              "      <th>0</th>\n",
              "      <td>Does the dog want the ball?</td>\n",
              "    </tr>\n",
              "    <tr>\n",
              "      <th>1</th>\n",
              "      <td>Does the dog belong to the girl?</td>\n",
              "    </tr>\n",
              "    <tr>\n",
              "      <th>2</th>\n",
              "      <td>Does the cat want to play?</td>\n",
              "    </tr>\n",
              "    <tr>\n",
              "      <th>3</th>\n",
              "      <td>Does each person have a beverage?</td>\n",
              "    </tr>\n",
              "    <tr>\n",
              "      <th>4</th>\n",
              "      <td>Do their clothes match?</td>\n",
              "    </tr>\n",
              "    <tr>\n",
              "      <th>...</th>\n",
              "      <td>...</td>\n",
              "    </tr>\n",
              "    <tr>\n",
              "      <th>4786</th>\n",
              "      <td>Does the boy look excited?</td>\n",
              "    </tr>\n",
              "    <tr>\n",
              "      <th>4787</th>\n",
              "      <td>Should the gaming system be on the ground?</td>\n",
              "    </tr>\n",
              "    <tr>\n",
              "      <th>4788</th>\n",
              "      <td>Do they notice the deer?</td>\n",
              "    </tr>\n",
              "    <tr>\n",
              "      <th>4789</th>\n",
              "      <td>Can the robot think?</td>\n",
              "    </tr>\n",
              "    <tr>\n",
              "      <th>4790</th>\n",
              "      <td>Do all the people in picture have a seat?</td>\n",
              "    </tr>\n",
              "  </tbody>\n",
              "</table>\n",
              "<p>4791 rows × 1 columns</p>\n",
              "</div>"
            ],
            "text/plain": [
              "                                       question_\n",
              "0                    Does the dog want the ball?\n",
              "1               Does the dog belong to the girl?\n",
              "2                     Does the cat want to play?\n",
              "3              Does each person have a beverage?\n",
              "4                        Do their clothes match?\n",
              "...                                          ...\n",
              "4786                  Does the boy look excited?\n",
              "4787  Should the gaming system be on the ground?\n",
              "4788                    Do they notice the deer?\n",
              "4789                        Can the robot think?\n",
              "4790   Do all the people in picture have a seat?\n",
              "\n",
              "[4791 rows x 1 columns]"
            ]
          },
          "metadata": {
            "tags": []
          },
          "execution_count": 101
        }
      ]
    },
    {
      "cell_type": "markdown",
      "metadata": {
        "id": "EypZyDYv1dY2"
      },
      "source": [
        "Now check how many samples on the other categorys I would catch."
      ]
    },
    {
      "cell_type": "code",
      "metadata": {
        "id": "NOX_A_9e1dY2"
      },
      "source": [
        "temp_df = e_df.loc[e_df['answer_type'] != 'yes/no']\n",
        "questions = temp_df['question']\n",
        "\n",
        "word = [['is'], ['are']]\n",
        "other_qs = []\n",
        "for q in questions:\n",
        "  q_ = preprocess_english(q)\n",
        "  buona = False\n",
        "  for t in word:\n",
        "    cond = True\n",
        "    for w in t:\n",
        "      if not w in q_:\n",
        "        cond = False\n",
        "        break\n",
        "    if cond:\n",
        "      buona = True\n",
        "      break\n",
        "  if buona:\n",
        "    other_qs.append(q)  \n",
        "df = pd.DataFrame(data={'question_': np.array(other_qs)}) "
      ],
      "execution_count": null,
      "outputs": []
    },
    {
      "cell_type": "code",
      "metadata": {
        "colab": {
          "base_uri": "https://localhost:8080/",
          "height": 424
        },
        "id": "AJaWDZc71dY3",
        "outputId": "abbe9974-76c0-493e-b4e7-9a201bbac6f8"
      },
      "source": [
        "df"
      ],
      "execution_count": null,
      "outputs": [
        {
          "output_type": "execute_result",
          "data": {
            "text/html": [
              "<div>\n",
              "<style scoped>\n",
              "    .dataframe tbody tr th:only-of-type {\n",
              "        vertical-align: middle;\n",
              "    }\n",
              "\n",
              "    .dataframe tbody tr th {\n",
              "        vertical-align: top;\n",
              "    }\n",
              "\n",
              "    .dataframe thead th {\n",
              "        text-align: right;\n",
              "    }\n",
              "</style>\n",
              "<table border=\"1\" class=\"dataframe\">\n",
              "  <thead>\n",
              "    <tr style=\"text-align: right;\">\n",
              "      <th></th>\n",
              "      <th>question_</th>\n",
              "    </tr>\n",
              "  </thead>\n",
              "  <tbody>\n",
              "    <tr>\n",
              "      <th>0</th>\n",
              "      <td>Who is holding the football?</td>\n",
              "    </tr>\n",
              "    <tr>\n",
              "      <th>1</th>\n",
              "      <td>Who is laughing?</td>\n",
              "    </tr>\n",
              "    <tr>\n",
              "      <th>2</th>\n",
              "      <td>What is the man on the left?</td>\n",
              "    </tr>\n",
              "    <tr>\n",
              "      <th>3</th>\n",
              "      <td>Who is on the couch?</td>\n",
              "    </tr>\n",
              "    <tr>\n",
              "      <th>4</th>\n",
              "      <td>Who is holding the woman's hand?</td>\n",
              "    </tr>\n",
              "    <tr>\n",
              "      <th>...</th>\n",
              "      <td>...</td>\n",
              "    </tr>\n",
              "    <tr>\n",
              "      <th>23317</th>\n",
              "      <td>What's the boy looking at?</td>\n",
              "    </tr>\n",
              "    <tr>\n",
              "      <th>23318</th>\n",
              "      <td>What is sitting in the tree?</td>\n",
              "    </tr>\n",
              "    <tr>\n",
              "      <th>23319</th>\n",
              "      <td>What is the girl on the blanket smiling about?</td>\n",
              "    </tr>\n",
              "    <tr>\n",
              "      <th>23320</th>\n",
              "      <td>What type of animal is flying in the sky?</td>\n",
              "    </tr>\n",
              "    <tr>\n",
              "      <th>23321</th>\n",
              "      <td>What is flying?</td>\n",
              "    </tr>\n",
              "  </tbody>\n",
              "</table>\n",
              "<p>23322 rows × 1 columns</p>\n",
              "</div>"
            ],
            "text/plain": [
              "                                            question_\n",
              "0                        Who is holding the football?\n",
              "1                                    Who is laughing?\n",
              "2                        What is the man on the left?\n",
              "3                                Who is on the couch?\n",
              "4                    Who is holding the woman's hand?\n",
              "...                                               ...\n",
              "23317                      What's the boy looking at?\n",
              "23318                    What is sitting in the tree?\n",
              "23319  What is the girl on the blanket smiling about?\n",
              "23320       What type of animal is flying in the sky?\n",
              "23321                                 What is flying?\n",
              "\n",
              "[23322 rows x 1 columns]"
            ]
          },
          "metadata": {
            "tags": []
          },
          "execution_count": 103
        }
      ]
    },
    {
      "cell_type": "markdown",
      "metadata": {
        "id": "nVFoZ3iTyOtQ"
      },
      "source": [
        "---"
      ]
    },
    {
      "cell_type": "markdown",
      "metadata": {
        "id": "cIifsWpC5mRB"
      },
      "source": [
        "Test our custom classifier"
      ]
    },
    {
      "cell_type": "code",
      "metadata": {
        "id": "K6MRzWsL5h6E"
      },
      "source": [
        "# first change the classes\n",
        "\n",
        "df = pd.DataFrame(data=train_dict).transpose()"
      ],
      "execution_count": null,
      "outputs": []
    },
    {
      "cell_type": "code",
      "metadata": {
        "id": "_pJdRnYJ6Xkq"
      },
      "source": [
        "# other\n",
        "# numeric\n",
        "# yes/no\n",
        "# doing\n",
        "\n",
        "types_names = ['other', 'numeric', 'yesno', 'doing', 'color']\n",
        "answer_type = {\n",
        "        '0': 'numeric',\n",
        "        '1': 'numeric',\n",
        "        '2': 'numeric',\n",
        "        '3': 'numeric',\n",
        "        '4': 'numeric',\n",
        "        '5': 'numeric',\n",
        "        'apple': 'other',\n",
        "        'baseball': 'other',\n",
        "        'bench': 'other',\n",
        "        'bike': 'other',\n",
        "        'bird': 'other',\n",
        "        'black': 'color',\n",
        "        'blanket': 'other',\n",
        "        'blue': 'color',\n",
        "        'bone': 'other',\n",
        "        'book': 'other',\n",
        "        'boy': 'other',\n",
        "        'brown': 'color',\n",
        "        'cat': 'other',\n",
        "        'chair': 'other',\n",
        "        'couch': 'other',\n",
        "        'dog': 'other',\n",
        "        'floor': 'other',\n",
        "        'food': 'other',\n",
        "        'football': 'other',\n",
        "        'girl': 'other',\n",
        "        'grass': 'other',\n",
        "        'gray': 'color',\n",
        "        'green': 'color',\n",
        "        'left': 'other',\n",
        "        'log': 'other',\n",
        "        'man': 'other',\n",
        "        'monkey bars': 'other',\n",
        "        'no': 'yesno',\n",
        "        'nothing': 'other',\n",
        "        'orange': 'color',\n",
        "        'pie': 'other',\n",
        "        'plant': 'other',\n",
        "        'playing': 'doing',\n",
        "        'red': 'color',\n",
        "        'right': 'other',\n",
        "        'rug': 'other',\n",
        "        'sandbox': 'other',\n",
        "        'sitting': 'doing',\n",
        "        'sleeping': 'doing',\n",
        "        'soccer': 'other',\n",
        "        'squirrel': 'other',\n",
        "        'standing': 'doing',\n",
        "        'stool': 'other',\n",
        "        'sunny': 'other',\n",
        "        'table': 'other',\n",
        "        'tree': 'other',\n",
        "        'watermelon': 'other',\n",
        "        'white': 'color',\n",
        "        'wine': 'other',\n",
        "        'woman': 'other',\n",
        "        'yellow': 'color',\n",
        "        'yes': 'yesno'\n",
        "}"
      ],
      "execution_count": null,
      "outputs": []
    },
    {
      "cell_type": "code",
      "metadata": {
        "id": "vRh_sAoA6Xkr"
      },
      "source": [
        "temp_df = pd.DataFrame(data={'answer': list(answer_type.keys()), 'answer_type': list(answer_type.values())})"
      ],
      "execution_count": null,
      "outputs": []
    },
    {
      "cell_type": "code",
      "metadata": {
        "id": "RpwXS8j56Xkt"
      },
      "source": [
        "e_df = df.merge(temp_df,on='answer', how='inner')"
      ],
      "execution_count": null,
      "outputs": []
    },
    {
      "cell_type": "code",
      "metadata": {
        "id": "PLHo_1xj6zgO"
      },
      "source": [
        "my_classifier = QuestionCategorizer()\n",
        "p_values = np.array([])\n",
        "for question in e_df['question'].values:\n",
        "  predicted_class = my_classifier.predict(question)\n",
        "  print(f\"Question: {question}\\nCategory: {predicted_class}\")\n",
        "  p_values = np.append(p_values, predicted_class)"
      ],
      "execution_count": null,
      "outputs": []
    },
    {
      "cell_type": "code",
      "metadata": {
        "colab": {
          "base_uri": "https://localhost:8080/",
          "height": 424
        },
        "id": "8y_7Dt5--tn8",
        "outputId": "990a99c5-3a89-44a5-ab60-01d40729e2b8"
      },
      "source": [
        "e_df['pred_category'] = p_values\n",
        "e_df"
      ],
      "execution_count": null,
      "outputs": [
        {
          "output_type": "execute_result",
          "data": {
            "text/html": [
              "<div>\n",
              "<style scoped>\n",
              "    .dataframe tbody tr th:only-of-type {\n",
              "        vertical-align: middle;\n",
              "    }\n",
              "\n",
              "    .dataframe tbody tr th {\n",
              "        vertical-align: top;\n",
              "    }\n",
              "\n",
              "    .dataframe thead th {\n",
              "        text-align: right;\n",
              "    }\n",
              "</style>\n",
              "<table border=\"1\" class=\"dataframe\">\n",
              "  <thead>\n",
              "    <tr style=\"text-align: right;\">\n",
              "      <th></th>\n",
              "      <th>question</th>\n",
              "      <th>image_id</th>\n",
              "      <th>answer</th>\n",
              "      <th>answer_type</th>\n",
              "      <th>pred_category</th>\n",
              "    </tr>\n",
              "  </thead>\n",
              "  <tbody>\n",
              "    <tr>\n",
              "      <th>0</th>\n",
              "      <td>Who looks happier?</td>\n",
              "      <td>11779</td>\n",
              "      <td>man</td>\n",
              "      <td>other</td>\n",
              "      <td>other</td>\n",
              "    </tr>\n",
              "    <tr>\n",
              "      <th>1</th>\n",
              "      <td>Who is holding the football?</td>\n",
              "      <td>16949</td>\n",
              "      <td>man</td>\n",
              "      <td>other</td>\n",
              "      <td>other</td>\n",
              "    </tr>\n",
              "    <tr>\n",
              "      <th>2</th>\n",
              "      <td>Who cooked the pie?</td>\n",
              "      <td>15616</td>\n",
              "      <td>man</td>\n",
              "      <td>other</td>\n",
              "      <td>other</td>\n",
              "    </tr>\n",
              "    <tr>\n",
              "      <th>3</th>\n",
              "      <td>Who is laughing?</td>\n",
              "      <td>9467</td>\n",
              "      <td>man</td>\n",
              "      <td>other</td>\n",
              "      <td>other</td>\n",
              "    </tr>\n",
              "    <tr>\n",
              "      <th>4</th>\n",
              "      <td>What is the man on the left?</td>\n",
              "      <td>8983</td>\n",
              "      <td>man</td>\n",
              "      <td>other</td>\n",
              "      <td>other</td>\n",
              "    </tr>\n",
              "    <tr>\n",
              "      <th>...</th>\n",
              "      <td>...</td>\n",
              "      <td>...</td>\n",
              "      <td>...</td>\n",
              "      <td>...</td>\n",
              "      <td>...</td>\n",
              "    </tr>\n",
              "    <tr>\n",
              "      <th>58827</th>\n",
              "      <td>What's the boy looking at?</td>\n",
              "      <td>22709</td>\n",
              "      <td>bird</td>\n",
              "      <td>other</td>\n",
              "      <td>other</td>\n",
              "    </tr>\n",
              "    <tr>\n",
              "      <th>58828</th>\n",
              "      <td>What is sitting in the tree?</td>\n",
              "      <td>24396</td>\n",
              "      <td>bird</td>\n",
              "      <td>other</td>\n",
              "      <td>other</td>\n",
              "    </tr>\n",
              "    <tr>\n",
              "      <th>58829</th>\n",
              "      <td>What is the girl on the blanket smiling about?</td>\n",
              "      <td>20262</td>\n",
              "      <td>bird</td>\n",
              "      <td>other</td>\n",
              "      <td>other</td>\n",
              "    </tr>\n",
              "    <tr>\n",
              "      <th>58830</th>\n",
              "      <td>What type of animal is flying in the sky?</td>\n",
              "      <td>28211</td>\n",
              "      <td>bird</td>\n",
              "      <td>other</td>\n",
              "      <td>other</td>\n",
              "    </tr>\n",
              "    <tr>\n",
              "      <th>58831</th>\n",
              "      <td>What is flying?</td>\n",
              "      <td>24363</td>\n",
              "      <td>bird</td>\n",
              "      <td>other</td>\n",
              "      <td>other</td>\n",
              "    </tr>\n",
              "  </tbody>\n",
              "</table>\n",
              "<p>58832 rows × 5 columns</p>\n",
              "</div>"
            ],
            "text/plain": [
              "                                             question  ... pred_category\n",
              "0                                  Who looks happier?  ...         other\n",
              "1                        Who is holding the football?  ...         other\n",
              "2                                 Who cooked the pie?  ...         other\n",
              "3                                    Who is laughing?  ...         other\n",
              "4                        What is the man on the left?  ...         other\n",
              "...                                               ...  ...           ...\n",
              "58827                      What's the boy looking at?  ...         other\n",
              "58828                    What is sitting in the tree?  ...         other\n",
              "58829  What is the girl on the blanket smiling about?  ...         other\n",
              "58830       What type of animal is flying in the sky?  ...         other\n",
              "58831                                 What is flying?  ...         other\n",
              "\n",
              "[58832 rows x 5 columns]"
            ]
          },
          "metadata": {
            "tags": []
          },
          "execution_count": 139
        }
      ]
    },
    {
      "cell_type": "code",
      "metadata": {
        "colab": {
          "base_uri": "https://localhost:8080/"
        },
        "id": "JgxbPFeq-4Mu",
        "outputId": "a853d07f-e811-4c78-bf37-d0e8dce26d31"
      },
      "source": [
        "count = len(e_df.loc[e_df['answer_type'] == e_df['pred_category']])\n",
        "tot = len(e_df)\n",
        "count, tot, count/tot"
      ],
      "execution_count": null,
      "outputs": [
        {
          "output_type": "execute_result",
          "data": {
            "text/plain": [
              "(56187, 58832, 0.95504147402774)"
            ]
          },
          "metadata": {
            "tags": []
          },
          "execution_count": 140
        }
      ]
    },
    {
      "cell_type": "markdown",
      "metadata": {
        "id": "a7N4ZQRq5khY"
      },
      "source": [
        "---"
      ]
    },
    {
      "cell_type": "markdown",
      "metadata": {
        "id": "InOKvM_FiJKw"
      },
      "source": [
        "## Prepocessing for the second level models"
      ]
    },
    {
      "cell_type": "markdown",
      "metadata": {
        "id": "zjSYvFgUJSXG"
      },
      "source": [
        "### Preprocessing of the images using VGG19"
      ]
    },
    {
      "cell_type": "markdown",
      "metadata": {
        "id": "CKIhClUvKBuB"
      },
      "source": [
        "We want to extract a feature vector for each image. This is not done during training because it could become a bottleneck, since it is an expensive task.  \n",
        "\n",
        "So each image is forwarded through the network and the resulting feature vector is stored on the disk."
      ]
    },
    {
      "cell_type": "code",
      "metadata": {
        "id": "dPoQ7HVAJXWh"
      },
      "source": [
        "#preprocess image before the feature extraction\n",
        "def load_image(image_path):\n",
        "    img = tf.io.read_file(image_path)\n",
        "    img = tf.image.decode_jpeg(img, channels=3)\n",
        "    img = tf.image.resize(img, (IMG_W, IMG_H))\n",
        "    img = tf.keras.applications.vgg19.preprocess_input(img)\n",
        "    img = img * (1./255)\n",
        "    return img, image_path\n",
        "\n",
        "#get VGG-19 without dense layers \n",
        "def get_VGG19():\n",
        "    model = tf.keras.applications.VGG19(include_top=False, weights='imagenet', input_shape = (IMG_W, IMG_H, 3))\n",
        "    input_layer = model.input\n",
        "    hidden_layer = model.layers[-1].output \n",
        "    model = tf.keras.Model(input_layer, hidden_layer)\n",
        "    return model\n",
        "\n",
        "def get_Xception():\n",
        "  model = tf.keras.applications.Xception(include_top=False, weights=\"imagenet\", input_shape=(IMG_W, IMG_H, 3))\n",
        "  input_layer = model.input\n",
        "  hidden_layer = model.layers[-1].output \n",
        "  model = tf.keras.Model(input_layer, hidden_layer)\n",
        "  return model\n",
        "\n",
        "def get_InceptionV3():\n",
        "  model = tf.keras.applications.InceptionV3( include_top=False, weights=\"imagenet\", input_shape=(IMG_W, IMG_H, 3))\n",
        "  input_layer = model.input\n",
        "  hidden_layer = model.layers[-1].output \n",
        "  model = tf.keras.Model(input_layer, hidden_layer)\n",
        "  return model\n",
        "\n",
        "def get_MobileNetV2():\n",
        "  model = tf.keras.applications.MobileNetV2( include_top=False, weights=\"imagenet\", input_shape=(IMG_W, IMG_H, 3))\n",
        "  input_layer = model.input\n",
        "  hidden_layer = model.layers[-1].output \n",
        "  model = tf.keras.Model(input_layer, hidden_layer)\n",
        "  return model\n",
        "\n",
        "def extract_features(images, all_image_dict, model_type='VGG'):\n",
        "    model = None\n",
        "    if model_type == 'VGG':#300x300 =>81x512\n",
        "      model = get_VGG19()\n",
        "    elif model_type =='Inception':\n",
        "      model = get_InceptionV3()\n",
        "    elif model_type == 'Xception':\n",
        "      model = get_Xception()\n",
        "    elif model_type == 'MobileNetV2':\n",
        "      model = get_MobileNetV2()\n",
        "\n",
        "    img_ds = tf.data.Dataset.from_tensor_slices(images)\n",
        "    img_ds = img_ds.map(load_image, num_parallel_calls=tf.data.experimental.AUTOTUNE).batch(batch_size)\n",
        "    \n",
        "    ####\n",
        "    for batch_img, batch_path in img_ds:\n",
        "        #Extracting features from the batch of images \n",
        "        batch_img_features = model(batch_img)\n",
        "        print(batch_img_features.shape)\n",
        "        batch_img_features = tf.reshape(batch_img_features, (batch_img_features.shape[0], -1, batch_img_features.shape[3]))\n",
        "        print(batch_img_features.shape)\n",
        "        break\n",
        "\n",
        "    ####\n",
        "\n",
        "    start_name = 'all_image_dict-'\n",
        "    end_name = '.pickle' \n",
        "    counter = 0\n",
        "    c_name = 0\n",
        "    last = False\n",
        "    if not os.path.exists('all_image_dict-0.pickle'):\n",
        "      for batch_img, batch_path in img_ds:\n",
        "        #Extracting features from the batch of images \n",
        "        batch_img_features = model(batch_img)\n",
        "        #print(batch_img_features.shape)\n",
        "        batch_img_features = tf.reshape(batch_img_features, (batch_img_features.shape[0], -1, batch_img_features.shape[3]))\n",
        "        #print(batch_img_features.shape)\n",
        "        #exit(0)\n",
        "        for img_features, path in zip(batch_img_features, batch_path):\n",
        "          image_path = path.numpy().decode(\"utf-8\")\n",
        "\n",
        "          all_image_dict[image_path] = img_features.numpy()\n",
        "          # Here we split in multiple dictionary as a trick to handle the limited size of the RAM, and to store the embeddings in order to run this feature extractor only one time \n",
        "          last = False\n",
        "          counter +=1\n",
        "          if counter == 2000:\n",
        "            name = start_name+str(c_name)+end_name\n",
        "            with open(name, 'wb') as handle:\n",
        "              pickle.dump(all_image_dict, handle, protocol=pickle.HIGHEST_PROTOCOL)\n",
        "              print('serialized feature dict saved. ['+str(c_name)+']')\n",
        "            all_image_dict={}\n",
        "            c_name += 1\n",
        "            counter = 0\n",
        "            last = True\n",
        "\n",
        "      if not last:\n",
        "        name = start_name+str(c_name)+end_name\n",
        "        with open(name, 'wb') as handle:\n",
        "          pickle.dump(all_image_dict, handle, protocol=pickle.HIGHEST_PROTOCOL)\n",
        "          print('serialized feature dict saved. ['+str(c_name)+']')\n",
        "        all_image_dict={}\n",
        "        c_name += 1\n",
        "        counter = 0\n",
        "        last = True\n",
        "\n",
        "    else:\n",
        "      print('serialized feature dict already there.')\n",
        "    return"
      ],
      "execution_count": null,
      "outputs": []
    },
    {
      "cell_type": "code",
      "metadata": {
        "colab": {
          "base_uri": "https://localhost:8080/"
        },
        "id": "f0fgUO59RzWT",
        "outputId": "bf29a03f-1e29-4242-e562-470286c4959d"
      },
      "source": [
        "# Get unique images\n",
        "data_dir = pathlib.Path('VQA_Dataset/Images')\n",
        "list_imgs = map(lambda x: str(x), list(data_dir.glob('*.png')))\n",
        "list_imgs = sorted(set(list_imgs))\n",
        "all_image_dict = {}\n",
        "extract_features(list_imgs, all_image_dict, model_type='VGG')"
      ],
      "execution_count": null,
      "outputs": [
        {
          "output_type": "stream",
          "text": [
            "Downloading data from https://storage.googleapis.com/tensorflow/keras-applications/vgg19/vgg19_weights_tf_dim_ordering_tf_kernels_notop.h5\n",
            "80142336/80134624 [==============================] - 0s 0us/step\n",
            "(16, 9, 9, 512)\n",
            "(16, 81, 512)\n",
            "serialized feature dict saved. [0]\n",
            "serialized feature dict saved. [1]\n",
            "serialized feature dict saved. [2]\n",
            "serialized feature dict saved. [3]\n",
            "serialized feature dict saved. [4]\n",
            "serialized feature dict saved. [5]\n",
            "serialized feature dict saved. [6]\n",
            "serialized feature dict saved. [7]\n",
            "serialized feature dict saved. [8]\n",
            "serialized feature dict saved. [9]\n",
            "serialized feature dict saved. [10]\n",
            "serialized feature dict saved. [11]\n",
            "serialized feature dict saved. [12]\n",
            "serialized feature dict saved. [13]\n",
            "serialized feature dict saved. [14]\n"
          ],
          "name": "stdout"
        }
      ]
    },
    {
      "cell_type": "code",
      "metadata": {
        "colab": {
          "base_uri": "https://localhost:8080/"
        },
        "id": "sBgr-_z77V5d",
        "outputId": "ff1b1924-bf2e-4aef-bc81-9a57b6809641"
      },
      "source": [
        "#Load the embeddings in a dictionary\n",
        "num = 15\n",
        "all_image_dict = {}\n",
        "for k in range(0,num):\n",
        "  fn = 'all_image_dict-'+str(k)+'.pickle'\n",
        "  with open(fn, 'rb') as handle:\n",
        "    temp_dict = pickle.load(handle)\n",
        "    print(f'Searialized feature dict part {k+1}/{num} loaded.')\n",
        "  all_image_dict.update(temp_dict)"
      ],
      "execution_count": null,
      "outputs": [
        {
          "output_type": "stream",
          "text": [
            "Searialized feature dict part 1/15 loaded.\n",
            "Searialized feature dict part 2/15 loaded.\n",
            "Searialized feature dict part 3/15 loaded.\n",
            "Searialized feature dict part 4/15 loaded.\n",
            "Searialized feature dict part 5/15 loaded.\n",
            "Searialized feature dict part 6/15 loaded.\n",
            "Searialized feature dict part 7/15 loaded.\n",
            "Searialized feature dict part 8/15 loaded.\n",
            "Searialized feature dict part 9/15 loaded.\n",
            "Searialized feature dict part 10/15 loaded.\n",
            "Searialized feature dict part 11/15 loaded.\n",
            "Searialized feature dict part 12/15 loaded.\n",
            "Searialized feature dict part 13/15 loaded.\n",
            "Searialized feature dict part 14/15 loaded.\n",
            "Searialized feature dict part 15/15 loaded.\n"
          ],
          "name": "stdout"
        }
      ]
    },
    {
      "cell_type": "code",
      "metadata": {
        "id": "4NDEbIuzCQvx"
      },
      "source": [
        "del temp_dict"
      ],
      "execution_count": null,
      "outputs": []
    },
    {
      "cell_type": "code",
      "metadata": {
        "colab": {
          "base_uri": "https://localhost:8080/"
        },
        "id": "hFL7JKXjCWND",
        "outputId": "c5327dbf-b86d-44c1-9da5-dcaed5d91751"
      },
      "source": [
        "len(all_image_dict)"
      ],
      "execution_count": null,
      "outputs": [
        {
          "output_type": "execute_result",
          "data": {
            "text/plain": [
              "29333"
            ]
          },
          "metadata": {
            "tags": []
          },
          "execution_count": 145
        }
      ]
    },
    {
      "cell_type": "markdown",
      "metadata": {
        "id": "NqyVsWzojvMi"
      },
      "source": [
        "### Splitting according to the `answer_type`"
      ]
    },
    {
      "cell_type": "code",
      "metadata": {
        "id": "u4yMNIVdcunF"
      },
      "source": [
        "class_map = {}\n",
        "for n, (key, item) in enumerate(answer_type.items()):\n",
        "  if not item in class_map:\n",
        "    class_map[item] = ([],[])\n",
        "  class_map[item][0].append(key)\n",
        "  class_map[item][1].append(n)"
      ],
      "execution_count": null,
      "outputs": []
    },
    {
      "cell_type": "code",
      "metadata": {
        "id": "uAA-lEkgiF6z",
        "colab": {
          "base_uri": "https://localhost:8080/"
        },
        "outputId": "ba579faa-f5f0-484e-81d3-fdf72d81ee16"
      },
      "source": [
        "class_map"
      ],
      "execution_count": null,
      "outputs": [
        {
          "output_type": "execute_result",
          "data": {
            "text/plain": [
              "{'color': (['black',\n",
              "   'blue',\n",
              "   'brown',\n",
              "   'gray',\n",
              "   'green',\n",
              "   'orange',\n",
              "   'red',\n",
              "   'white',\n",
              "   'yellow'],\n",
              "  [11, 13, 17, 27, 28, 35, 39, 53, 56]),\n",
              " 'doing': (['playing', 'sitting', 'sleeping', 'standing'], [38, 43, 44, 47]),\n",
              " 'numeric': (['0', '1', '2', '3', '4', '5'], [0, 1, 2, 3, 4, 5]),\n",
              " 'other': (['apple',\n",
              "   'baseball',\n",
              "   'bench',\n",
              "   'bike',\n",
              "   'bird',\n",
              "   'blanket',\n",
              "   'bone',\n",
              "   'book',\n",
              "   'boy',\n",
              "   'cat',\n",
              "   'chair',\n",
              "   'couch',\n",
              "   'dog',\n",
              "   'floor',\n",
              "   'food',\n",
              "   'football',\n",
              "   'girl',\n",
              "   'grass',\n",
              "   'left',\n",
              "   'log',\n",
              "   'man',\n",
              "   'monkey bars',\n",
              "   'nothing',\n",
              "   'pie',\n",
              "   'plant',\n",
              "   'right',\n",
              "   'rug',\n",
              "   'sandbox',\n",
              "   'soccer',\n",
              "   'squirrel',\n",
              "   'stool',\n",
              "   'sunny',\n",
              "   'table',\n",
              "   'tree',\n",
              "   'watermelon',\n",
              "   'wine',\n",
              "   'woman'],\n",
              "  [6,\n",
              "   7,\n",
              "   8,\n",
              "   9,\n",
              "   10,\n",
              "   12,\n",
              "   14,\n",
              "   15,\n",
              "   16,\n",
              "   18,\n",
              "   19,\n",
              "   20,\n",
              "   21,\n",
              "   22,\n",
              "   23,\n",
              "   24,\n",
              "   25,\n",
              "   26,\n",
              "   29,\n",
              "   30,\n",
              "   31,\n",
              "   32,\n",
              "   34,\n",
              "   36,\n",
              "   37,\n",
              "   40,\n",
              "   41,\n",
              "   42,\n",
              "   45,\n",
              "   46,\n",
              "   48,\n",
              "   49,\n",
              "   50,\n",
              "   51,\n",
              "   52,\n",
              "   54,\n",
              "   55]),\n",
              " 'yesno': (['no', 'yes'], [33, 57])}"
            ]
          },
          "metadata": {
            "tags": []
          },
          "execution_count": 154
        }
      ]
    },
    {
      "cell_type": "markdown",
      "metadata": {
        "id": "O_icGqfCxcUs"
      },
      "source": [
        "Shuffle the data set to ensure randomicity."
      ]
    },
    {
      "cell_type": "code",
      "metadata": {
        "id": "aMOHMHNKxbnq"
      },
      "source": [
        "e_df = e_df.sample(frac = 1, random_state=SEED)"
      ],
      "execution_count": null,
      "outputs": []
    },
    {
      "cell_type": "code",
      "metadata": {
        "id": "-I-jPHcfj8Mu"
      },
      "source": [
        "in_images = np.array(list(map(lambda x: 'VQA_Dataset/Images/'+ x +'.png', e_df['image_id'].values)), dtype='object')\n",
        "in_questions = e_df['question'].values\n",
        "out_answer = e_df['answer'].values\n",
        "q_class = e_df['answer_type'].values"
      ],
      "execution_count": null,
      "outputs": []
    },
    {
      "cell_type": "markdown",
      "metadata": {
        "id": "aFqUPfApoBe-"
      },
      "source": [
        "### Preprocessing of the questions through tokenization"
      ]
    },
    {
      "cell_type": "code",
      "metadata": {
        "id": "q8AH16Tik1-_"
      },
      "source": [
        "in_questions = np.array([preprocess_english(el) for el in in_questions])\n",
        "#tokenization\n",
        "tokenizer = tf.keras.preprocessing.text.Tokenizer(oov_token = \"<unk>\", filters = '!\"#$%&()*+.,-/:;=?@[\\]^_`{|}~ ')\n",
        "tokenizer.fit_on_texts(in_questions)\n",
        "in_seqs = tokenizer.texts_to_sequences(np.array(in_questions))\n",
        "\n",
        "#Padding\n",
        "question_vector = tf.keras.preprocessing.sequence.pad_sequences(in_seqs, padding='post')"
      ],
      "execution_count": null,
      "outputs": []
    },
    {
      "cell_type": "markdown",
      "metadata": {
        "id": "rzU5atQqsDxC"
      },
      "source": [
        "Build a data structure that contains the splitted data. "
      ]
    },
    {
      "cell_type": "code",
      "metadata": {
        "id": "Gm56Kc3naasZ"
      },
      "source": [
        "input_data = {} # class : (images, question_vector, out_answer)\n",
        "for q_type in types_names:\n",
        "  idx = np.where(q_class == q_type) \n",
        "  input_data[q_type] = (in_images[idx], question_vector[idx], out_answer[idx])"
      ],
      "execution_count": null,
      "outputs": []
    },
    {
      "cell_type": "code",
      "metadata": {
        "colab": {
          "base_uri": "https://localhost:8080/"
        },
        "id": "tUdQwWHSttzC",
        "outputId": "7bf47117-ced6-457a-dfad-10133f3613a2"
      },
      "source": [
        "input_data['yesno'][0].shape, input_data['yesno'][1].shape, input_data['yesno'][2].shape"
      ],
      "execution_count": null,
      "outputs": [
        {
          "output_type": "execute_result",
          "data": {
            "text/plain": [
              "((31296,), (31296, 23), (31296,))"
            ]
          },
          "metadata": {
            "tags": []
          },
          "execution_count": 161
        }
      ]
    },
    {
      "cell_type": "markdown",
      "metadata": {
        "id": "hsmDjxEzv4_O"
      },
      "source": [
        "## Second level model"
      ]
    },
    {
      "cell_type": "code",
      "metadata": {
        "colab": {
          "base_uri": "https://localhost:8080/"
        },
        "id": "hCYMUB6zj50d",
        "outputId": "a3952018-868e-4192-a60e-f69e37519bbe"
      },
      "source": [
        "types_names"
      ],
      "execution_count": null,
      "outputs": [
        {
          "output_type": "execute_result",
          "data": {
            "text/plain": [
              "['other', 'numeric', 'yesno', 'doing', 'color']"
            ]
          },
          "metadata": {
            "tags": []
          },
          "execution_count": 162
        }
      ]
    },
    {
      "cell_type": "code",
      "metadata": {
        "id": "5m0LSxpCtz75"
      },
      "source": [
        "#here the model you want to build and train \n",
        "selected_category = 'other'"
      ],
      "execution_count": null,
      "outputs": []
    },
    {
      "cell_type": "markdown",
      "metadata": {
        "id": "SPRjuI_iy8sl"
      },
      "source": [
        "### Prprocessing of the answers: OHE  "
      ]
    },
    {
      "cell_type": "code",
      "metadata": {
        "id": "E2TCIxJJzHVG"
      },
      "source": [
        "from sklearn.preprocessing import OneHotEncoder\n",
        "\n",
        "answer_encoder = OneHotEncoder(dtype=np.int32, sparse=False)\n",
        "answer_encoder.fit(np.unique(class_map[selected_category][0]).reshape(-1,1))\n",
        "answer_values = answer_encoder.transform(input_data[selected_category][2].reshape(-1,1))"
      ],
      "execution_count": null,
      "outputs": []
    },
    {
      "cell_type": "code",
      "metadata": {
        "colab": {
          "base_uri": "https://localhost:8080/"
        },
        "id": "3M_oI1kj0jpO",
        "outputId": "48fd7222-c672-498f-8366-5b26a47db1e9"
      },
      "source": [
        "answer_values[0].shape, len(class_map[selected_category][0])"
      ],
      "execution_count": null,
      "outputs": [
        {
          "output_type": "execute_result",
          "data": {
            "text/plain": [
              "((37,), 37)"
            ]
          },
          "metadata": {
            "tags": []
          },
          "execution_count": 165
        }
      ]
    },
    {
      "cell_type": "markdown",
      "metadata": {
        "id": "txQh4LYbwp7-"
      },
      "source": [
        "### Dataset: train and validation sets "
      ]
    },
    {
      "cell_type": "markdown",
      "metadata": {
        "id": "aAkUCXxbwzw3"
      },
      "source": [
        "Limit the size of the training set due to time and memory contraints."
      ]
    },
    {
      "cell_type": "code",
      "metadata": {
        "id": "K3M0qe3ewzai"
      },
      "source": [
        "max_num_samples = 10000"
      ],
      "execution_count": null,
      "outputs": []
    },
    {
      "cell_type": "code",
      "metadata": {
        "id": "y7Vw4nuow_Ds"
      },
      "source": [
        "num_samples = input_data[selected_category][0].shape[0]\n",
        "if  num_samples < max_num_samples:\n",
        "  mask = range(num_samples)\n",
        "else:\n",
        "  mask = range(max_num_samples)"
      ],
      "execution_count": null,
      "outputs": []
    },
    {
      "cell_type": "code",
      "metadata": {
        "colab": {
          "base_uri": "https://localhost:8080/"
        },
        "id": "Tk2NiZ-vyKEO",
        "outputId": "6f687eed-499c-4e79-abdc-3e98dc92a65e"
      },
      "source": [
        "len(mask), num_samples, max_num_samples"
      ],
      "execution_count": null,
      "outputs": [
        {
          "output_type": "execute_result",
          "data": {
            "text/plain": [
              "(9427, 9427, 10000)"
            ]
          },
          "metadata": {
            "tags": []
          },
          "execution_count": 168
        }
      ]
    },
    {
      "cell_type": "markdown",
      "metadata": {
        "id": "TSAXAuutyUuq"
      },
      "source": [
        "Split in train and validation data."
      ]
    },
    {
      "cell_type": "code",
      "metadata": {
        "id": "abqz1zkvydhA"
      },
      "source": [
        "from sklearn.model_selection import train_test_split\n",
        "train_idx, valid_idx = train_test_split(mask, test_size = valid_perc, random_state = SEED) "
      ],
      "execution_count": null,
      "outputs": []
    },
    {
      "cell_type": "markdown",
      "metadata": {
        "id": "B8pWTRVcymFj"
      },
      "source": [
        "Definition of the `tf.data.Dataset` objects."
      ]
    },
    {
      "cell_type": "code",
      "metadata": {
        "id": "7BGpVQEYydhC"
      },
      "source": [
        "def get_image_tensor(img, ques):\n",
        "    img_tensor = all_image_dict[img.decode('utf-8')]\n",
        "    return img_tensor, ques\n",
        "\n",
        "def create_dataset(image_paths, question_vec, answer_vec):\n",
        "    dataset_input = tf.data.Dataset.from_tensor_slices((image_paths, question_vec.astype(np.float32)))\n",
        "    dataset_output = tf.data.Dataset.from_tensor_slices((answer_vec.astype(np.float32)))\n",
        "    \n",
        "    # load the numpy files in parallel\n",
        "    dataset_input = dataset_input.map(lambda img, ques : tf.numpy_function(get_image_tensor, [img, ques], [tf.float32, tf.float32]),\n",
        "                                      num_parallel_calls=tf.data.experimental.AUTOTUNE)\n",
        "\n",
        "    #dataset_input = dataset_input.batch(batch_size)\n",
        "    #dataset_output = dataset_output.batch(batch_size)#.repeat() #occhio!\n",
        "    \n",
        "    dataset = tf.data.Dataset.zip((dataset_input, dataset_output))\n",
        "    dataset = dataset.batch(batch_size).repeat()\n",
        "    dataset = dataset.prefetch(buffer_size = tf.data.experimental.AUTOTUNE) #occhio!\n",
        "    return dataset"
      ],
      "execution_count": null,
      "outputs": []
    },
    {
      "cell_type": "code",
      "metadata": {
        "id": "dbE9O-yyydhC"
      },
      "source": [
        "train_images = input_data[selected_category][0][train_idx]\n",
        "train_questions = input_data[selected_category][1][train_idx]\n",
        "train_answers = answer_values[train_idx]\n",
        "\n",
        "valid_images = input_data[selected_category][0][valid_idx]\n",
        "valid_questions = input_data[selected_category][1][valid_idx]\n",
        "valid_answers = answer_values[valid_idx]"
      ],
      "execution_count": null,
      "outputs": []
    },
    {
      "cell_type": "code",
      "metadata": {
        "id": "ZBqdRyxJydhD"
      },
      "source": [
        "dataset_train = create_dataset(train_images, train_questions, train_answers)\n",
        "dataset_valid = create_dataset(valid_images, valid_questions, valid_answers)"
      ],
      "execution_count": null,
      "outputs": []
    },
    {
      "cell_type": "code",
      "metadata": {
        "colab": {
          "base_uri": "https://localhost:8080/"
        },
        "id": "YSYbpCbpydhD",
        "outputId": "d6d907c4-cb5b-4618-fbaa-72ad4b667027"
      },
      "source": [
        "dataset_train"
      ],
      "execution_count": null,
      "outputs": [
        {
          "output_type": "execute_result",
          "data": {
            "text/plain": [
              "<PrefetchDataset shapes: ((<unknown>, <unknown>), (None, 37)), types: ((tf.float32, tf.float32), tf.float32)>"
            ]
          },
          "metadata": {
            "tags": []
          },
          "execution_count": 173
        }
      ]
    },
    {
      "cell_type": "markdown",
      "metadata": {
        "id": "CFRnGCEe1ugk"
      },
      "source": [
        "### Hierarchical Question-Image Co-Attention\n",
        "[Source paper](https://arxiv.org/pdf/1606.00061v5.pdf)\n",
        "\n"
      ]
    },
    {
      "cell_type": "markdown",
      "metadata": {
        "id": "JZixEH7k1ugk"
      },
      "source": [
        "![coattention.png](data:image/png;base64,iVBORw0KGgoAAAANSUhEUgAAAoAAAAEKCAYAAACCDuQAAAAACXBIWXMAAAsSAAALEgHS3X78AAAgAElEQVR4nOydd5hURdb/P/d2T4fJiRlgIkGSkgQkCBIlKSLJ1cWArmtYV1b0ZZU1+zMhq6jvGlbXwOvu6poWUIISRFEElWggCAwZhsmhc99bvz967uX2ZIaZYXTu93nmme7bFc6pOrfq1KlTpyQhhMCECRMmTJgwYcJEq4F8tgkwYcKECRMmTJgw0bwwFUATJkyYMGHChIlWBlMBNGHChAkTJkyYaGUwFUATJkyYMGHChIlWBlMBNGHChAkTJkyYaGUwFUATJkyYMGHChIlWBlMBNGHChAkTJkyYaGUwFUATJkyYMGHChIlWBlMBNGHChAkTJkyYaGUwFUATJkyYMGHChIlWBlMBNGHChAkTJkyYaGUwFUATJkyYMGHChIlWBlMBNGHChAkTJkyYaGUwFUATJkyYMGHChIlWBlMBNGHChAkTJkyYaGUwFUATJkyYMGHChIlWBlMBNGHChAkTJkyYaGUwFUATJkyYMGHChIlWBlMBNGHChAkTJkyYaGUwFUATJkyYMGHChIlWBlMBNGHChAkTJkyYaGUwFUATJkyYMGHChIlWBlMBNGHChAkTJkyYaGUwFUATJkyYMGHChIlWBlMBNGHChAkTJkyYaGWwNkclQggkSUIIUWdaY7r65JEkSa/jdPIY05xunl8yXQ3JY/Ly65SXhuT5JdPVkDy/Rl40WTNhwkTrRrMogEbUNkjVNDDVlKe2gaw58tR3Um9uuhqS55dGV0PymLz8+nlpqXQ1JE9T8WIqgSZMmACQRH2Wmo2A+g46xnSqqiLLte9SG1fA9a2ncpr65DHS0pS8nC5dxjT1pet0eancxvXhpXKa0+W/Pukr52kIL6fb9/WlzZimIXLcVPJSudzTzdMQupqDl6aU/dPlpSFt3FzvsaIoWCyWRrcGGuU3GAyiqmq1ZVssFmRZRlVVVFXFarXqdNWUx2q1IkkSiqLoZQghCAaD1dIiSZLOYzAYRJZlvU6tjMq0WywWvVxjG2l0VQcjL1oZWv6aptXqeKmJLo0XYxtpdKmqSjAYrNJeQgisViuyLOt5rNaQnScYDNZIl8ZLQ9pYURQkSaq1jQFkWa6xjbUyaqKrOnk5nTZuTHk5U15a0gKsWRRAjeHS0lLeffddioqKiIiI0DswGAwSHx/P7373O2RZZv369cTExNCnTx+OHTvG+++/HybskiTh9/vp2bMnEyZMAOCDDz5gxIgRJCUlsWPHDpYvX47D4dDrkGUZl8vF5ZdfTo8ePThx4gTffvstl1xyCbIs89FHH7Fr1y79ZYHQAOt0OpkyZQrt2rVjy5YtuFwuhg0bhtfr5V//+heFhYU6L5Ik4fP5yMjI4KqrrkKSJFavXk16ejrdunVj3759fPzxx1UEJBgM0q9fP0aNGoXH4+GTTz5h5MiRxMXFsWnTJtasWUNUVJQ+EGn8z5gxgw4dOnDo0CG2b9/OpEmTUBSFxYsXs3///rA2VlWV6OhorrjiChISEvj666+xWq0MGDAAl8vFG2+8gc/n0ycUSZLwer1069aNyy+/HICPPvqIvn37kp6ezk8//cQnn3wS1s+SJBEIBBgyZAgXXnghhYWFfPXVV4wcOZLo6GjWrl3L119/TXR0tM6LEAJZlpk+fTrp6ens2bOHffv2MWHCBDweD0uWLOHw4cNVeImPj2fmzJk4HA4+//xzEhIS6NWrF0VFRbz22mtYLJYwurxeL3369GH8+PEAvPvuu4wdO5b4+Hi2bdvGmjVrwiZtrS/Hjh1L3759OXbsGNu2bWPUqFE4HA6WLl3Kjz/+iNPpDKPL4XAwffp0UlNT2bZtG4WFhYwaNYrS0lIWL15Mbm5uGC+KotCmTRuuu+46ANauXUv79u3p1q0bR44c4d///jc2my1sgvX5fAwcOJARI0YQDAb54IMPmDRpEpGRkWzatInPP/+8Sh6v18u0adM455xzyMnJYc+ePVx88cXIssy7777LgQMH9DzaQBgXF8fUqVNJSkpi48aNqKrKkCFDKCoq4v3336ekpEQfkDW6srKyuPLKK1EUhTVr1nDOOefQoUMHdu/ezdKlS8N412R/6NChDB48GK/Xy5IlS5gyZQo2m40vvviCDRs2hL3HGi/XXXcd7dq1Y8+ePRw6dIgxY8agqir/+te/yM3N1ftfk8k2bdowZcoU4uLi+Oyzz4iPj6dv376cPHmSd999N0z2ZVnG7XZz3nnnMWnSJPx+P6tWraJv3760b9+erVu3snr16rCxQuv/kSNHcv7551NQUMAXX3zBZZddhsVi4ZNPPmHLli1ERkaGyb4kSVx33XUkJibyww8/kJeXx8iRI3G73fznP/+hoKCgCi9paWlMnToVh8PBJ598QnZ2Nl27duXYsWO88847YWOLNu4NGjSIUaNG6c+bahKqj4KsTZinQ4exXGP++uY5XboakqepeDnTRUjlxWVNaAgvxnT14aUy7aebp76GAWO59c1zuv1SOc3p9mVLUASbZQs4GAwSERHB0qVLefjhh7nhhht0zVob1Ixwu91EREToeQsLCwkEAmHas9/vx+Vy6XnKysr0Mr1eL/n5+WGDrSzLlJeX4/P59HLLysr0/OXl5eTn54dNgoqiEBUVpa8cvF4vbrcbCHVecXExBQUFVRTA2NhYvVyXy4Xf7wcgEAhQUFAQpgBW5kUIQVlZmU63x+MhPz8fr9dbRQE0llteXh7WFtXxEggE9DZyu93YbDYgJLhaHZUnwfbt2+vllpaW6u3n8XjIy8vT6dH+fD6fzksgEKC0tFSv0+VykZ+fj8/n09tUUwA1Xnw+n86LoigUFRVx8uTJMIVGW3Fr7VFeXo7D4dD7NS8vT19tafS5XC5KS0v1PMXFxbrcafJifBk1Xjwej16uy+XSeSkpKeHkyZO6Yq6tyqOiovRy3W63LmOaHBv7RQhBIBDQrQCyLFNWVobX6w3jpTplztjfJSUlenu6XC5OnjyJ3W7X+95iseB2u/VyfT6f/r7IsqzLsc1m02UzGAwSDAZ1XlwuV5jSWlBQQFFRUZgC6PV6iYuLC5Njo7xo/WiUGaO8aP1dWV6cTmfYeOHxeMLkRcuvqqouL5pypo0vNpstTF7sdrsuo5rsG/OUlZWRkZGh90Npaalep9fr1RUzozKrKIo+PiiKor/HFouF0tLSMHkxtoHWdx6PJ0z2tX4xtnEgEAhbQBnHl2AwSEFBQRUFUOsHRVFYuXIlI0eOJDIystEtgNq7vHLlSnbs2IHD4dDfDa2u8ePH07VrV44cOcLWrVuZNGkSqqqydOlS9uzZE5ZHVVVsNhs33HADTqeT7777DkVRGDhwIEVFRbz77ru43e6weSEQCNC5c2cmTZqExWLho48+4vzzzyctLY29e/eyePHisEWIxWKhvLyciy++mP79+1NUVMSXX37JmDFjcDqdrF27li1btoSN8Zq179JLL9UXN4cPH2bMmDEoisK7777LkSNHsNvtOi/BYJCEhASuvvpqbDYbX375JVFRUfricvHixfoixMhLjx49mDhxIqqq8vHHHzNo0CBSUlL48ccf+fjjj3E6nWFznNfr5ZJLLuHcc88lLy+PDRs2MHnyZABWrFjBjz/+GMaLqqrY7XbdyLFt2zZcLhcXXnghwWCQRYsWUVxcrMugLMv4fD7S09OZMWMGVquVVatWkZWVRZcuXcjJyWHZsmVV5utAIECfPn0YM2YMbrebtWvXMmTIEBITE/n2229ZvXo10dHRYe95MBhk8uTJdO7cmSNHjrB582YmT55MMBhk2bJl/Pzzz1V4cTqdXHnllcTHx/PNN98gSRIDBgzA6/Xy6quvhhmStPbq0qWLLi+LFy/mggsuoH379uzevZuVK1eG9bvG/4UXXsiQIUMoLCxk48aNDB06lNjYWD777DM2btwYNi9o+S6//HIyMzPrrZA3B5rVBzAYDDJr1iwefvjhGtMIIRg3bhwQGgQzMzN56KGHak0PMGvWLCA0CVxwwQVccMEFNeZRVZX09HR++9vf6mVcddVVXHXVVTXmURSFIUOG6PmdTid33XVXjem1crWXT1EUunXrxiOPPFIrXZGRkVxzzTX69xEjRjBixIha83Tq1IlOnTrpk43WFrXxMnr0aP1zbGxsrW2sKSczZ87Un/Xr149+/frVWk9qampYnkmTJjFp0qRa8/Ts2ZOePXsihCA6Oppbb7211vQAl1xyif65TZs2zJ8/v848N910k/550KBBDBo0qNb0mZmZZGZm6t+vueYavZ9qgiYvAImJidxxxx110mWUl+zsbBYsWFBreqvVGsbLqFGjwiw91aFbt25069ZN/27MXxM0eQkGgyQnJ3PPPffUmFbbdpo2bZr+rE+fPvTp06fWOqKiorjlllv07xMmTNAt/DVBkxcItcXs2bPr5MUog2lpabXKPkBkZGTY2DB48GAGDx5ca56UlBSuvfZa/fuMGTOYMWNGrXkGDBigf46JiWHOnDm1pldVlalTp+qfMzMzeeyxx2pMX1payvHjx2vc1joTaJOcy+XizjvvpF+/fnTo0EFfAMAp5R1CinthYaH+W2FhIUePHg1btGsWdaPirinLwWCQEydO4HK5qhgGEhMT9XmhsLBQp8Hr9XLs2LGwBZWmnFdeqBkXisY8mqIRERERtrgpKSnRecnPz+fYsWNhymwgECAQCOj1Go0PgUCAEydO6AtwIy/t2rXT0xUVFYUt9I4ePRq2oNAW7doiJBAIhLVxTbzY7fawhV5paanep7m5uWFGDk1pMlrli4uLSUlJ0fv1+PHj1RpsOnTooPdrYWGhLodlZWUcOXKEuLi4Kgqgtmj1+/0UFRXpdBUWFnLs2LEwJVubP7UyysvLw1xqTpw4QSAQCFMAPR4PycnJYfJiXOgdP348bJGn5aksL0bDwNGjR4mNjdWfaQsGn8+nGy60xePZVgKbZQs4EAgQERHBq6++ysaNG3nttdf0RjY2gHHvvj4+BZp/BIQ6oiH+Eca9/9bqH1FWVsbPP/9chQdVVcnIyCAlJQWPx8OePXt0XjTfGEVRSExMJD09HYvFws8//4zH4yEiIkKnS5IkHA4HGRkZOBwOTp48yeHDh3V6NbqEEGRkZJCQkIDf72fv3r34/f4q/kWJiYl06NABIQSHDx+msLBQ5wvQB5+uXbtit9s5ceIEx48f1/18AL1NMzIySExMpLS0lJycHP25sc6kpCQyMjIQQpCTk4PL5QrjTRtEs7OziY6OJi8vjyNHjuiWPY23QCCg1+fxeNi7d69ehka/z+cjKSmJ7OxsFEVh//79lJSUVLE2Wa1WevTogdVq5cSJE/q2p1FeFEUhIyOD1NRUSkpKOHLkSJj1VCszKiqKrKwshBDs379fHziN75fFYiE7O5vIyEjy8vI4ePBgGE1aO2RmZtKmTRv8fj87d+6sUV4069qBAwcoKyvTJyXNKmm1WunUqRNWq5W8vDyOHj2qv7cAEREROn9JSUl4PB4OHDiAx+MJszipqkpsbCydOnUC4NChQxQVFel+Ppq8RERE0KFDB6Kjozl+/DhHjx7FarWGvVOyLJOenk5iYiJut5tdu3ZVeWcAkpOTSUtLQwjBoUOH9AlV6xdNgejcuTN2u52ioiKOHj0aZi1wOp20bds2TIkw1nM644tWpnHLurEnH22ReOjQIa699loWL15MfHx8rWlPhw5juqbyDz5T/9im4qVyufWppzLvULfFqTl4aYg/dUO2TVsqLw8//DDXXXcd2dnZ9ZbjpkSzWAC1SXfYsGG65UHb4q1JsdFgHKhrg3Fwk2VZ32qqCcbJrXL+mlDZr0zjob556sNLZbqMSktNMJZbOX9teSAk9Ndeey0ej4ekpKQwxVlRFG6++WbGjBnDyZMn+etf/4rf7w+bqDweDyNHjuT2229HlmX++c9/8sMPP+hbE9r2btu2bbnvvvuIjIxk27ZtPP/88yQkJOhKtFbW3LlzufDCCzl58iQLFizA5XLpioa2Wh81ahR33nknPp+Pd955h6+//pqoqKiwCdbpdPK///u/+tbR//3f/4W1i7Yq/cMf/sDo0aPJz8/n2WefDbMoaKvdiy66iDlz5iBJEosWLeKHH37QV55G/ubNm0d0dDTffvstzz//vN6exvrmzJnDsGHDKC0t5emnnw7b9tH4Gz16NHPmzEFVVd5//33db9LIn81m4+WXXyY6OprNmzfz+uuvh22HaNaY2bNnk5qaSl5eHs888wylpaVYrVZdqfD7/QwePJi5c+cC8M4777B9+3ZdIZNlmUAgQEpKCvPmzSMyMpJvvvmGl156idjYWF2h1JTz2267jZEjR1JSUsKTTz4Ztg2iLTbGjBnDn/70JwDef/99NmzYQExMTJjiGh0dzcKFC3Ufzb///e9hypDFYqGoqIi7776b4cOHc+zYMZ555hndv1jrG6/Xy6BBg7j77rt1H8HNmzeH9V8gECApKYn7779f77/XX389zL9Tex9uueUWRo8ejdvt5sknnwx7j7TtxNGjR3P77bdjsVj497//zcaNG8P407YDn3jiCSIjI9myZQsvvPCCbv2yWq1s3LiRe++9lxtuuIFgMFjjO12f8cWoDHs8HpxOZ6M7o2vlJCQkcNNNN4VNpJXTGRV5TTZqs0NoixEtjZb/dPLUVU9luhqSpyl4qZy+vnRV5h1oEbxUbuPT4V8bj+pDV0N50caXpuLl+uuv162lZ9v6B814CrghTpkmmg7GSfv7778nPT1dnxSNcDqd2O12FEWhvLy82oEoIiKCyMhIJEnSt2mMVhjtxY2KitJN4UbfHWNZkZGRui9adfVpyk9UVBRCCNxut27Wr5w2JiZG99nQtp4q067xp/n41cRfVFQUQIP509Dc/Gn1GfmrXFZ1/FUu53T5U1WVsrKyavmz2+26D9rp8Fd5UtN8LjX+3G53FZ8zY/8JIXC5XPXqv8r1VcefZtmrTl6M74NxO0yDLMtER0dX4U9bvLzwwgskJCTUqQDWBxqf+fn5zJs3jyeeeILk5ORGH4ers1RVh+oUs7rQHHlqUrR+DXRB/cKW/RJ4+aXLC7SMAyDQzKeAc3NzcblcdOzYsYpwmmh+1FcIGzNdc6Zp7Pqgbnk1+Wu5/DVnfY1VVmNMFFoZJ06c4Nprr+Wtt94iNTW1URVA44IyLy+PNm3ahB1eMdHcEAhRWSmRkKRTz000D4zvwNKlSxkyZIjud3i2+6FZtoA1f6Pdu3eTk5NDx44dm6NaE7XAOGBv2LCB/v37hzlga6hsgq8OmhCfztZEY6XReGmO+rS6TP5+mfw1Z33a/4aW1RQ7JJIkYbfbm2TS0caT0tJSFi1axE033URiYmKj12OinhAAUsUHgapCSKS0ZyaaC0ZFb8GCBTz33HOtSwHUBrNBgwbRv3//5qjSRB3QhM/n8/HYY4/x5ptv6ttW1QllTc8bkq4x0xj/N3V9jVmWyV/z8/dLaE/tvVy8eDGSJDF58uR6x72rD2pTSM8EGv1xcXHceOONejggE2cHAglJAqGCJMtYLEBF34dbBU8h1IchC2E1PyIJUaE6VpRd43bpKUtj5fJD6UL5WwuM739CQsIZuXM0NpqFEkk65dtkPIJu4uxDiPDTzM3gEVBvGAcWo7wYB7GWRC+EW3Vqoln73lJQ2ULWGt5NI6+Vrd5nE0KEDpPs2LEDWZaZPHmyvoPSGJBluUn6V5Mfi8VCcnIy0HL8nFojJEmgKgLZIlP4/VJeXFHMTXddS4pFUwJBqALJEGC5QqsDSaZS/IzQWGv4rlkYQ+WoCElGlkK/qaoIKYwIVKSK56Y8ALVG6DgbaBYFUFvBrl27ln379vH73/++VU02LR1aCAloOgtBQ6BNVrXR09IOE2ntV5tc19d61Fww0txS+r45oPHb0mQIQlEJGkvp0yCE0A/KNDY0f8KSkhLee+89ZsyYQVxcnDnpnxWErG+qJCPj4vN1/+XVv+6j02WXcVW3eAQChIQkS6D48Cg2nDZZMxcCKm6XF3tkJBapwmKHQEiSrhiG/AhDyp8khxRGT3k5EdHRWGUQFWXJgN/jQbI5iLC0TgtgS0az+gDu3buXb7/9lt///vfNUa2JekIIQUxMDECjTzpniuomEKOFzev1UlpaetYnGSEEDodDvwWmMt1Gmv1+P8XFxS2CZpvNpsdra02TtbE/fD4fJSUlZ513IUJxSjXfucZWxiMiIujevXu9wlc1FOXl5bz//vtMmDDB3AY+SwiJjcAqSwQOfsvWo514/PHOfPbOaq54aDoWCXZ++R4r1h3GHudi924XQ666iSsv7Ajug7z3+v+xYU8BHUdeyfiMXJZtsnDTbZcSeXwzj7+ykjE33ssFabDhzWfZ3+0Krh5o44OX/s6m/UWI6AymXn8Lg7P8LH3lLQ55SjhyVGHErN8zvkfqKc2xlaKpLPANRbNuRtvtdj3chImWA5vNxj/+8Q9++umnsKuFzgYsFgslJSUMGDCA2267rdrtVM3asH//fu688049iPHZghACu93OTz/9xP3338/gwYNrpDkvL485c+YQHR0ddsvB2aJ5586d3HzzzVx22WWtyipvXEDcfPPNesiZs0mP3W5n//79XH/99cTGxlYJM3OmSExM5Nlnnw2LGdrYkCQJp9PZKmSoZSJkYdO2eXdvXkdB3Ahm3pjEV1Of56ui6VyUIFFy8Cv+/X4uj368iKuPvMbVf/0bYy58hrIlL/D+4a7849l7KTiSS1RpITs3LGHnzZfSI/8b3nz871gv/gMXpJWw5LNdjB4WwfrXnmZdSX8W/HUaRz+4n7lPvMGHL1/H3i/eZlnEdF5beCPJNhkVkCWpVR9BMV4n2hLQrAqgEKJF+duYQD+5t2rVKqZMmcL555+vx3hrbmgx0Pbs2cOSJUu4+uqrq71NQFNUDh48iKqqPPLII/rdrGcDwWCQlJQU7rnnHnbt2lXrNWHHjh2jrKyMJ554IiyIcnNDURSSk5NZuHAhP/30E5dddlmrnLSLi4s5ePAgb7/9Nj6f76y1gaIopKam8sILL7B582batm3baBOFcRGlvSNNKXfmGH8WIQht1yIDJaxdtpk2U2+AQAQdk4+xZPk+LprZCa8rktHX/o7x6TZIH07v2J348iC931Dil33AP97vznUzhpAoWeic8l9+/PIAstfNoJGDKMr5iUJnIWXtutAvxcrfv/iK43ExvPrss/jK8vAcCgIu5KiuzLzpWrLjK4w+InwbuTXi/vvvJzs7G2gZC+1mP47SEpg2caofbDYbM2fOZMeOHYwZM6ZFhOjp3LkzmzdvrnMisVgsdOzYkbi4uBax3dSpUyecTmetaWRZJjMzU78K7WyjS5cuFBQUnG0yzhokSSI1NTXsztWzic6dO/Pzzz9jt9txOBzAmY+ZxhAtb731Ftdccw2xsbFNpgSaY/xZhCQh1CCSbIWcT/h0l5vsrxfx5Pcyhwr97Pv8Y4Iz/4TTKqMG3PgBWzCAJFtRPS4iulzGS8935Z8vLeSG61bx/P89yKheaby3aSX5Pj9XPng9Gz9cwwdlNlI7DCEpxkcZSQy+eDJX9LaQWzaWGb/vBJQgZAcW4QESQgHaZbniJHHr8gE0LsBGjhwJtBx3m2Y182h39Jo4+9CEMiIigltvvZXo6Gjy8/OB0N2o2p2yzfmnyUZxcbF+V3Rd0C4LDwQC+v28zf1nvDy8LqVVCKFfIq/d3Xo2aNYuf/d4PK3eYqO1xdnqC2N/aLeC/OY3v+GKK64AGs8vtzl8AMG0AJ5NCCFQldChjBX/t5y0K+7h6Yfv5dY/zePF5x8ks3ADKw/7sTvA61NCCoCk4vX4ibAHyT24kxylK9feO49Ovl18tQf6jbuAPZ+/xoqf4hk9eALn5H7K80u302XAhUACPTLjOZBzgtSsbvTqnoENBRAEvB78BiO2BKHTwWdf72lWGA/Y7d69G7fb3WIO3DVbGBgI+QBGR0c3R5Um6oBxBZKXl0cgENAnGlmWwyYdUeG4W1McqDpRkRdJc1AOXxVp0CaO01kZGWO7hZ+urRoJ3xhr7XTKPpW++kj69Y0v15Jobkhb/1ph7I8w1wfdWiHC5Db0U/37Q1SUVfFEf3dq6o9gMEhkZCRZWVmNEgNQkyen08moUaN0+pvK+tfUCqaJ2iAQETKIHHYFspgyYTB2i0yEDWg/hGnDVnPo591kpXahoyehQimLIqNjFjZnFL7DP/DiK09R4JfpMPYGLukMyP0YmtmOfef2xQ6cP+oCMtclM+R8C2Bh5p1zKV7wPNff/CFOWSVr+M3cfWVH2nXsSFy0DQidIzYBb7/9Ntdddx0dOnRoEVbAZlEAtQFs3LhxDB06tDmqNFEHNOHzeDz8z//8j24NrDVPxZ9UEe9JCKGHAKh+QqxQPECPMaUrkw2gt+EvTMgx+lQ5IMsV9FRfGQJNKUBPd7p1n1lInbNDM6Dfp/triQ1YXdzIM+JHqAgh1dofer9XxEMTVFXCa0JERATHjh0jLy+P3r17n/GVbcbTzj/88APnnXcedru9UScgrZz4+Hjmzp1LQkJCo5Rr4vQgSTJWBIIOzHn0YaDifZZBUSXG/+mhipQ96QkhWZa7MPv/zQ097j+Dp/vPMJQoUEUqd768VC/r3FnPsGwWQMV7kNiD2594OYwOIeCa+++t+CxCIWdaKYzGjoceegigxYSfahYKJEnSnc61E5stLRZaa4WqquTk5BAIBGrsD6nCgidJErI2oYmKI+2oKCLcmnXqT6449l6xNVFhYZGrsf7VBc06U383AmNAZjnsJZRlCaEoFdsR1fzJcmhyRyCEWvFdrrAEnZ7cyhV5tS2+pqZZagDNxuDUWjtr4WqMCmxL2LKoC0Ylr/JnOM3+kKSw9tOVSCnU1qqi1tgfWj2omuJn7I+aZV87Dfzhhx+yePFigEY7DFJcXMyjjz5KSUlJWJs0BoxWxht5fkQAACAASURBVEGDBuF0OluEhaO1ISTzIblVVRVVVzRkLDL6wTMhVFQ1JMtSxeFM7X1RVe33CgUPgaoqqGqoLKGqKKqKEKfGKK0uIbSDbafKbCnbnWcLlRegLalNmjUO4K5du8jLy2PYsGG/CsvC2YaxDRsqTJIkYbPZ6lAQQkE9pZM7WLzdz/jR/XHIULTvS95+by0l9gyGje7JgTWrOOS3ICt+4ruP5uKU43z0s51rrr6EJCtIFLH0jbcR3S9j8qB0FFVgqWZlqNFiDE4dCARwu93Ex8frFuXafY1ERVxTiV3rllCYOZohHaNBKeXrpW+zYmsBXS8YRufIw6z5MgeL3YIqRzNk/ERKN30E/X/DpD5tAYmynSt4c305l187gwyHiipCinBN7QkhRUMIwfHjx2nTpg12u13npXaaQ1bVPV8s5WS74Qw9Jw5EOd989DbLvsulw/nDOC/hBKu+2Itss6LgZNCES/F+9zG+XtOY0j8NCQnP3tW8tvokE6/+LR2j60+zqqrk5ubStm1bbDZbWDtXt23f0mDcoq2OzmPHjpGSkqLzVmt/CBFqNznIj+vXUZbSk0FdU0P9sfRdPtl6gNTzL6G/Yx+rNh8Ai4Q/EMfwKUMp2fw1wY4TmXJh6LBP2d71/HPFQcbdfDUdbXVvwdpstibZSq2s1DcWjGF1duzYQa9evXA4HC1eXn5tONXWFRZq/XnlZwZfPCl8bNDSnnokIUun3BAkWcbolBBuzDlVTnj9pgwAPP7448ycOZPs7OwW8W40iwVQG3CKi4s5ceJEc1TZKmC0SlRvgav5z2h+rnNCUCssEIe+4sV/r8IFQDmLHnuQA1lTuW58DyKw06FbVw5//m++KU6hT3YbjmxaxJw5T/DJpsMAuL9+m0eeeJS3Vu8HQKlBgRMidKWU5i+qKSZz5sxh1qxZvPPOO5SXl+vbWDVB++2bD1/m4x3FABz79t/89Y2fGHfL9fRKisCZnE1adC7L3v2a6F69iffn8dFzd3DHcx9TFADw8cH8x5n/yqv8mA+gotbSXMYDIS6Xi3nz5jFu3Dief/559u/fX+c9kKKi8C1LXmHJ1tChnLxt7/LUy1sZedPv6J9qx5aYSVZiIcvf+QLneb1IUotZ/r93cMfC/5LrBQiy5JkFzH/xBbbnVdBci64cCAQQQugBqufMmcPEiRN58cUX2blzZ9iNLGd7wKoLxhV2IBDA6/Xi9Xrx+Xx4vV7uueceLrnkEj38TV2BWUPGtyDf/Pdtln9zAIDgd4u4d9FPTLz6Gvq2d2BN7MS5Ucf5z8ebiM/sTlrcCd5+9Akee/4l9gqAYha/8wwPzXudPf5Q/9Z1TOLM3AdqRlMFotVo9Xg8rF+/Ho/H0+h1mGhe1GZJN3H6kCSJzz77jOLi4rNNio5m8wFUFIVBgwYxaNCgX8RE8kuA0QKoKAolJSUUFhbi8/nw+/36f+2ErPFF7tu3LykpKfXsi4rfLTZiIh0V35x06JDK6rXLKbz4LgYmW6BXT/K//g97Lv4dg/paWLejN9NH7uPb9V9z1YVtWbIqh6EXj0ZKtFSUWn29NpuNXbt2MXXqVCIjI/XJe/369fh8PhYtWkTv3r3JyMigU6dOdbaTLTIaZ0RI4Y1t24H4wFLWbcxl3tRByECvtiV8u20rM8cNI/HwN2SNn0bPnB9Ytc/HFdaP2GAdwBWDPLoeXBNUVeXBBx/kjTfeIBgMIkkS27dvp6ysjLVr1/L8889z3nnnkZaWVjfNziictlA7xaR0IIn3WPvlYe6/chARQK8OXjZ+FcNVl4ygbe4OMi6eQt+cn1m9p5yZCev4Inge04eUgBJq6ZqcLmVZ5m9/+xtLlizRt3K2bduG2+1m5cqVpKenM2vWLP7yl7+cwbbeqeC0UPWQS/jnM78oQKPxzTff5IUXXiA+Pl7vjx07dlBaWsqnn35Ku3btmDBhQq3bwRotdmckTnvIImdt25n0wEqWbTzJPVdfiA3olZHP27t/YNY1I4lhG936DseanMcXX5fQOX0bu8piGTPxXCJcLoiOPmsu8U2pWAohSEhI4K677tLrMsf5XyaM25SVrepmvzYcDoejRfj+aWgWBVCz6LhcLgKBAPHx8eYWcCNBa7+VK1fidruJiYnB4XBgt9ux2+3ExMRgt9vDVv6yLIedxj6dbSGhX+5tYfL9rxL990eYc8UUpj38d24Z1o5itw93SQHQBlehhx7jxmLfu50Plqj8LNoxpF8iXxeU11qHoiikpKQwffp0UlNTsVgs+Hw+5s6dS1lZGePGjePaa6/l5MmTfPjhh3XTLE5deh6dPY7nX4rkkXl3M3XtJbz8t9lEFxXj8bopBBJ9Llx0ZfLoOLas+BDZupeuQ4YQ3LOWQB0KoCzLzJs3j2uuuQaPx0MwGGT27Nns2bOHSy+9lGnTphEIBPjHP/5Rj3YO+Y0BONJG8tzfHTx230NMWTOCF1/9M20LS3D7PBQBbX3llKmdmTwmhe2fLsYZdYjsC4Zg2b8Kfx3ukqqq8vvf/57Zs2cTCAQoLy/nj3/8IydOnGDixImMHz+e3r1712ltrZmRUydp9QMTklTNZ6lCT63/YYmaoOWdOXMmU6ZMCbOU33LLLeTk5DB27FgmTZpEu3btdIWldjYEyBXDZcY4Xn4xlscfeITLPxvJ3175Mx1Ly/B5XRS4IEYuwx3fiTEDbPz0+Qe8n5JH3HkT6Fv+DWX+szv4N5XvtVE50E4um8rCLxtGS7oWGcLszzNDUy3AGopmUQAVRcFqtbJq1Sp27tzJvHnzmqPaVoNAIEBxcTHTpk3Tg8fWFxaLhe7du+P1emsRzIrnagCPx43PD8JSxsl8hdE3z8deMoMFn2zhlmGXoPi8BIUMSAhPPqXth/Ln/l/TZ+7zzFvwJr3lt/jogBJebiUoikJiYiLjxo0L4+fll18mIyNDvyt1/fr19eIx6PPg9oRi75UV5qJkDGP+W48x6+L72ZQ/m8k2FY83GPKHkKGssJDud83h4BV9+H+d/sB7DwzgvW/+Q6Ae7218fDyRkZFERkYCIZ+Pdu3a6d9/+OGH06A5FOOwvOgE/tTB/L9Ff+WmUbP58vCf+a1d4PX4Q5YkWaKsoIBz/ucejs88n/vbXMU7Tw5l1VP/xK/tNdZCe2xsrL4giI+P5+mnnyYzM1P3kzsjSNrBlNDl8xKAKqDi9HjYZ3HmNwUYrRXGftDwxBNPkJaWpgfszsvLq73AinYL+n243aFtzfLc4/jbD+bhN57k2tH3s+non+nokPH6AiEdUVbIP+6h/+TL2XHdLTxRdD5vfXE1/128gmA9V//BYLDRY6YKEYpB2ZQ+gAUFBSxcuJA5c+aQnJzc6PWYaB5IUigckdVqZfny5URERDBx4kT9RLqpBDYMLe3wa7NZAAHy8/M5dOhQc1TZ6mC325EkKezklRHVCZ0kSTgcDv7617/ywAMP1LwVJoVimUlJ2aQWfsh1l2+k+9jJZB7dzNcHjxGMyObWh0cCkNrxXIKJoa2ypMzOZMRG0m7QVCa8LzN0TBfivk6iU1ZSjTRpzxVFweVy4XA4UBQFWZbp3bs3EPKv0xzMa0fo97SsdF5/6fdc8X53Rk3owOYVX1Po8ZMx6Q+MSwaPqw3dumfiALDHk9UhkzYpyYy+bDx5kcPp0iGWNmmdSXJCXRGttBOb2kCpbVH7fD7sdnvdQXIrCk/LzuKV1/7A9MXdGX1JZ7Z9spECl4fUsbcwKQOCuYl0PTcbJ4AtluyOmSQnJXDx5ePI8Y+kZ3Ys37U7hzZRWpvWn+bOnTsD6LEh6yNLNcJgASw8so+8QCxdOqRQfGQv+cE4OmW3oeTIz+Sr8XTMbINFNDx8Tai62g9Gabz5/X5sNls9+8NGVrdE/v3y/3DpuguZ1LcNO3d8w4ETXtqPvYYJmcDhOLqfk4VdAizxdO6UhDO+F1NG96bINYUeOFnX6Rza2Ovmy+/3M2rUKD0we2MFgo6MjOSyyy7Tld+mmIh8Ph/ffvutHuzcxC8Txjnk008/5dixY0ycOLFFbV/+EqEoSouyACKaAX6/XwghxBtvvCFmz54thBBCVVWhqmpzVP+rhdZ+fr9f/Oc//xFer1d/Xp+2Naa56667xLfffiuEECIYDFaXWFQtMSAKck8KT8UPinIqhWIoW6nuUzX0KUro95ycHHHbbbeJgoKCMH6CwaBQFEWn7/PPPxe33HJLiJJAoFqeq3sWKC8UuUXuKjQJRTnFo3rq+akiVFFds2ry/fjjj4t//etfOi9GmjXetm/fLm666aYwvupDc9BVJHILXKfoMNBZPc3qqbTV0BwIBIQQQrz++uviueeeC6NHo7k2GusNVRGhqjxi/sQ0Ed3rDuETQiwcnSJiBtwp3EKI50ZGi5jh94hcIYQI+quVjTOBRr+RN+3ZiRMnxNSpU4UQp+SvUm5js+oIugrFycLyim+KQYoMfWN4H4xlVCuTFf3x9ttvi/vuu09/Xj1Np4/KdTb22KvRefToUTFlyhRx9OjRJqnHRPNA67fy8nJx3nnnidjYWFFaWhr2m4n6wTj+TJ8+XXz//fdCiMZ7t88EzXoXsGhh+9+/JpyulUZUrPD8fj/PPvssRUVFNZ5QFeLUTSCqKnQrlSRZSUxpA0JFVSti1akqoiKsgP4ZgaJSsXo8FURXnIY/iSSdusi+fnHRDLdqqCoqGtkS1qgEUtACpMp6gGrtrkpVhOLwoSqoyMgSqKoWm6/+PmpGmut3PVZNNIMlMp6USC1Is4xEBZ3V0hxqfz3tadAM4RanM7cSSYSKs3HNMx8xyp9EBPCbvy1nqNIGO3DFC58xhFQSAGRrox+Q0Hgw9ke9xiHNeimHwvMYc1giE2hj6A+ZU31wqm8kqOhHiyxVyFD4yf3a6PV4PI0ST0/Lr6qqXqZ2aKMprICNFbfQxNmDJhubNm3S3VaWLFnC1VdfbfoBngHmz5+v3zveEtqwWe25LW3/uzVDmwADgQBLlizB7XZXuf4tTGHXtuZk4/VlFcE+jVfDVfhwhX3W40+FToPqaSvVcyaLg6rlGZ5XKKQhutHvX5UqDiAA+udT248CJBlZV3a1wNA1tM8Z0VoXzVI4zRjorJbmUwpPTTQ320JMqgimrMq069qX/j0zkVRBu2796H9uJrKq0rZ7f/p3zyBChBYMzT1G1Ngfoaeh9qsURqnG/gjrG/R+NCrgtcm+qqo4nU7eeOMN/va3vwGNp1CVlpby9NNPU1paGkZHY8Mc4389OHjwIKmpqSQlJXHw4EHADAVzujAu+Dp27IjT6TSMHWcXzWoBVBSlnjcimGguSJJEZGRkmK/X6SjqjSnExlPK9fU10YLlnk7Q3MZ+8Yw01EW3JJ26K/V0/Gmaimabzda0fj0GK5qqhBYLskVGKEq1n6UwhbZ5oFm+T8fXrqn7Q4tfCI034UZHR3PDDTfoB36a6jSwFlfSxC8X2m05119/PcXFxZw8eZJ77733jK8lbI3QlD8hBB9++CEXXXQRbdq0aRGW1GZRADUmExISaN++fXNUaeI0oKpq2OnAs/WCa/WKitOKdUFRFHJzc1FVlfz8/GoPLNQHxhe0IfkDgQCpqank5ubSpk2bWtOqqkpeXh7FxcW6ZaehNGsBshuSPxgMkpyczPHjx+u5Pd1A6Kd6JWTj1nINn0+lbx4IISgqKqK8vByv13vWZD8YDJKSkkJubi5er5eEhIRGo0WTbavVSnp6OtB0MfosFguJiYmNdnDFxNmBUYEXQjTtGNGK4PF4WpSLRLMogFarFSEEU6dOZerUqS1C8zURgqqq2Gw2LBYL8+fPp2vXrni93gYrJU6ns8GhJoQI3YO6f/9+gsFglRAeGjTa2rdvT15eHnfccccZDVCaL2RDr95SVRWHw8HWrVuZOHFirWlTUlLwer3MnTsXp9OJoigNamtZlvF4PPoVcw2h2el0smXLFm655RagdQbujY2NJSYmhj//+c9npHBpp+8bGiJDCIHD4WDnzp3MmjWLkydPNpiW6sqWJAmXy8Wnn37KuHHjiIyMbNT+1spJSUnh5Zdf1k8am/jlo6YT9SbqB6Nx4eqrrwZazljbrFvAJlomgsEgc+fO1a0gDRFMTQlauHAhv/vd73Tn9YbgggsuoEuXLjWGetFeqK5du/Lf//6XoqIiPUjp6UCbdFeuXMnBgwf54x//SElJSYOsF1pZqampOo3V0dyuXTv+9a9/UVhY2GBFwW63880337Bu3Truu+++M6I5IiJCt8q3Jh9drT8iIyNZtGhRg/tDVVWioqLYuHEjX375JbfddluDJ0zNSpeWlsaTTz5Z57WBp4vS0lIWLlzI4MGDm0QB1BTgqKhQ7KGWMsmZOH0Y+83swzODcYfJ5/Ppbh4t4f1otkDQFouFjRs3cvjwYWbMmBE2QIYNmBWnTal4pj03OrwbMuoHDk6drqPi1KMh+Gxj+hVpPk1otGiBbkMO+Kd74vJsQ/NJ69Chgx5guaHw+/3ccccdtGvXjgEDBpwxbTW9IEZn+ri4OOLi4s6ontWrV5Obm8sDDzxwxm0QJq8GGGmOiYkhJibmjOpZv349n3/+Oc8880yj0twSBqXmgHFQboz+OH78OK+//jrz589vFPqaYjtaluVG3Vo2QmvPsrIyli1bxiWXXEJMTEyrkadfM8z+azzccMMN3HvvvZx77rkt4t1oVh/ANm3aVLFUVJl0ROg2AAxKnSFxtf5Bp047CrSDnaHwF8bywHgisppCdEVRL6Ti1CoVgWyF4JSCqZ9mVUOhQuTwE5ehkA/GssIqO+uKolav3W7n4Ycf1k8mNWQrNRgM4nA4WLp0Kdu3b+fNN99kwIABeDye095WNcqDtkqqiXao+YRk5ROXlSFE6HpCr9fLV199RWFhIXv27KFLly761Uf1LcuYpj5pte3CusqqnMa40Fm1ahU//vgj27Zto0+fPvj9/mrfLWPemqBtWxpPp9ZEV12WrcZK0xxlGU/eVve8ujKMabT+sFgsrF27lvz8fFavXs2YMWP0u4dro6e6ujQrYOfOnXUZbMwxoqkD0WoLyrM9sZloPJh92TiQpNBNOS3pIGyzKICyLKMoCp06daJTp05hJ4m0QVRxF7H/UB5tu3UhRqggybhy97L1p4MojiQ6n9OWwp93k+cNEvQLrDaZ6Hbn0rt9kG++20fnwcNo5wzF2pJlieO7NrLX3ZYLz89G1iyK6qk7YatAGK6hEkKPpabRqClrp94FhZLCcmIS45Dxs+u7rUR3H0h6lIpACx8idHrCq9IUy7PnV2F0DNesdZX90YyKQU2KofFU67JlywBYtWoVJ0+eJCUlRZ8I61NW5TTVpTMuCmqbqE9ZhKuvT7uecMmSJeTk5ADw8ccfc+edd4bJZ2VFtK4668OfhpqU25rq0/w1lyxZwo4dOxBCsHz5cvr06VNjWRpNddGt1VVbOUY6auLPyFtdZZ1Jmsr11Saf9a2vvm2lpdHen507d7J48WIA/v73vzNmzBg9fV1lVV4MaM+uuOIKne5fwoEKjdfo6GimTZsGmFvAvyaYPoCNg5a2OGoWBVBVVSwWCydOnKCsrIxzzjmnikCp3jIOHzxEXNcuxEgyeA/xxaYD9Bx5EfHeE5QQRfcBw+hQ9D1rvixl6IhBxNsjcB/eydFdGylM7s7kXm1AlsCdx8/ff8dPzuEMOR+oiDsnyTKKu4g8l0RifAyyDDIq/oCKzWFHVvx4AgK7w46MQmHuCYKORFLiQg7Nwl/OibwyYtq0xebZx+ef7CR7SH/aWBScKVkkOgBk8JVyLN9FTJt2xNhADfpRsKK4CihVo0hJaFz/m4ZAqz8YDLJ582YGDhxY7URjtHLUhpKSEhwOB1FRUSQlJVFUVERKSkqYH1N9ytKUr9rSaLJT11ZWbWVpz6xWK127dkVRFNLS0gCqHKwwWt5qw+nwV1tZNdWnlRsfH0+vXr0oKCjQTx3XdBikPjTVtz2bmr+ayjpTmrR0jVGWMY2Wzm63M2jQIHJycujRo4d+zVxdqI0mLX9jjxNN5eep0RkIBDhy5Ajp6elERESc9XHOxJnD7L/GQ0tTpJvNB1CWZZYtW8Z3333HSy+9VDVRxaCqi5pshaCLkvIg6e0yia54HBnpxGH3E2mPwAIoQUH7Hj0oOvIzuV3bkGoXHDl8GCkmm6x4C34FnHIoQr8vbx+bvj+IPTaG7Z8fIm7gWPo5T7J5fzm9L+hNdGkOm/aoDOnXicM/biE/4ADvfk5m9qRHqmD7d9tx2+NICkikOLy43S6K8/MReDl+vAxLu7Y4in/mi+3HiY5zULZzN1kXjKCj2M9Ha/aRkt6WYHkhRzoN5PysWFQhdCtjc8M4MP/2t78lNTWV9u3b4/f7kaTQqdh77rmH4cOHc/jwYebMmYPX69UPW1gsFkpKSpgwYQJz584lIiKC5ORkJEnC6XRy991361Y8u93OW2+9RWRkJP/973955ZVXsNlsYYqAx+Nh7ty5jBkzht27d/PQQw9RVlam1ydJEj6fjxEjRnDPPfcAcM8997B9+3a9LFmW8fv9tG/fngcffJCMjAw+/PBDnn/+eRITEwkGgwC64jtnzhymT59OeXk5CxYsYMWKFfzzn//UJ/jS0lImTpzIXXfdhaqqPPzww3z11VfExMTo1tJgMEhMTAyvvPIKsbGxLFmyhJdeegm73a6/7Fpb3XvvvYwePZrdu3fzyCOPUFxcrJ+Q1/gbOnQo9913H4qi8MADD7Bly5Yw/jweD3369OG3v/0tTqeTnj17MnLkSOLi4sKsYKqqMnv2bMaOHUteXh6zZs3S69JoKisrY/z48dx1111IksQDDzzAhg0bwvgLBAIkJiby3HPPkZSUxLJly3juueeIjIzU67NarRQUFPDII48wfPhw9u7dy0MPPaTfLqPR7na7GTp0qH7v9KOPPsqmTZtwOBx6OBtFUUhMTOTJJ5+kffv2fPDBB7z66qth7anJ72233cb48eM5duwYf/jDH/QytPpcLhfjxo1jzpw5WCwW/vKXv/DNN99U4S8lJYX58+eTmprK8uXLefrpp4mNjdXdC7T+e/DBBxk+fDg5OTncd999FBcX64ceoqOj8fv9JCQkYLPZ8Hq9zJ8/nw0bNoQFflVVlejoaJ577jlSUlL44IMPeO2118KUJSEEfr+fu+++m5EjR+o+1I3xzns8niYJ6aHRXlBQwH333cfTTz9N27ZtG72e1orKfrrNieoWdM1Fg5HfX4Mi2tAoAU2FZj0FbLFYal0Z6zIlFLC1Z8TQHny5cQX7o7IYPKQvyU4LiqKiitD1SgCoAaTIdDpFFbJrXxGpPWQOHi4lrWsH9h30ISQQyEj42b1rL5bUvgw8N4Xv8w9z0u0Hmx+XyxMqL+DFE5AoPrKfPYdLOXfUQOIOrWfN7p9JtiSTV+Cl25iLyLDLSJYI0tqX0L1fb5Lx4Vm+ioBQ2L11JxEdh9G/YwLHf1zL5q37yOgdxKtGct6Afsi5m/lq6z7I6qs5FDZto9cA4xbwunXryMnJqbLN1717dwCSkpKYM2dO2BaxNnlq19rYbDZmzZrFqlWrmDFjBueff74ey8/Y7wMGDCAxMbGK5UNRFLp16wZAu3btmD17NoFAoApNxjh7V111FRMmTKiyFeh0OklKSgJCJ4ofeOABXYnSIISgS5cuAJSVlXHeeedx++2360pnZf4kSWL69OmMGDFCn6y1cqxWqx72ol+/fsybN6+KD2EgEKBHjx46f3/84x+r5S85ORkIDRS/+c1vGDt2bFhZiqKQnJzM8uXLyc/Pp0uXLtx3333VKkgafzExMdx9991hdVXmD2DGjBmMHDmyCn82m00PHty3b1/+8pe/VLkuzu/36/KSmprKH//4R30xYaRd6z+LxcL06dMZNWpUla1jm81GQkKC3n/JyclV5EUIwTnnnAOE4oveddddYb9rynnbtm31vFdeeSUXX3xxGH/a6fXY2FgA+vTpw3333ReWRmsrjb82bdro/SdE6CTxhg0bcLlcDB8+HAht9UybNo3hw4dXuWHHarXq9dXEnyRJev811qGN+Ph4Hn74YeLj4/U6GhuqqlJaWmrGjWsC1OVi0thQFIWIiAjcbrd+e0xz32BR2T/5l47y8vLWFwfQiLqc30OyJSEAZ8o5XHzZORze+gmfrf+eqWP7IBM6d2uEKllJ65BF7ra9HI6y4I7uSMdEFz/ur7jrTgKEG5diISkxNPi1bd+WcouCIgyWxwgbDlsQt6cMd7mbI7u3cMwtkZnenpS0NPp6C9n6xWryO/Xj/HNUFEUhGABkP0KyYRGlFHmcZLQP1ZHYvj32IyWUE0l8cltiJPA4Y4mRixu7WU8bRr+ojIwMMjIyqk2nqiqRkZFceOGFNZalrf47depEVlYWAwYMoH///tWmS09P14PR1lRfbGwsgwcPrrU+gN69e9eYRiurrvrg1DZwv379aqxPkiR69uxZazmNyZ8kSfTq1avGNOvWraO0tJTExERGjx5da30Oh4OLLrqo1vqEEPXir3379rUGc1dVlZiYGAYNGlRrGlmW66xPVdVaZVNL43Q6GTZsWK10CyFqbU8tXX34i46OrtJ/siyzfft2+vbtC4QU3PPOO6/W+urDX2NsoWoTqMPh0N/jptya/SX4LP7SoPVhfdwdGgtaPQMHDqRDhw4AjR6aqD74tbgRCCEYMGDAGUccaEw0a2/WqsULQTDgJxAEZJWgz4NHgcjoKFLbJmM94UcBLKgEg8qp4xNCwedViUs+l2TrFlastHLxNeeDeztBVQ2d4xWAFEWMJcjJk/l0a5fCwYOHKOvcDYfTitflwhcE9fhhThQm0bt9PLFtAvTs2w+tqwI+F3Ed+jEm6Wc++uQ7Ms8ZjDXoxR1QwS6hBL0oUhxJkW4OHCogs0syJw4dhqSexIqTePwVFhU1QCDYMlbHA5qCXAAAIABJREFU9XmxjLdN1JS28nO3211jurr8urT6aktjdMSvjf76lAXoW271qa8uuurDX11012fbQzsQotFfU7rTac/6pGsM/oyHXM60/84Wf5VpDwQCYaf7Gou/xoDWH36/n71799K5c+cwF4ymqM9E40KTk4KCAubOncuBAweqWP3PuA5F0Q9CGg8pORwOZFnm1VdfbRZFTLO4d+jQgWeffZaoqKhfjRL46KOP6kp0S+CnWRXA2pQIiyMSuyhj2xfr+MniJDszhdLjByjwqKhqBL0HDsAGBC2RJCapaGsgqyOa+JjQXaLZaekcEU7aRwI+J8nxouI0rgpE0L3XeWzYtJVV65OQAjYckhfiOtM95SjfrPmMRKdKUmIc8emd6FqUy5crPiHCKpPYsQ89UgJs+fwLSiUbab16kUws2VkRfLt+I44BPUhKScKiynQdeD55X29h1WEZqz2Z/oPbIpUUk5RYcf+rNZJYPWzb2T0EouGtt95i27ZtYb5YqqoSERHBzJkz6datGwcOHKji+6X5pF188cVMmDABgBMnTvDcc8+xZs0afD6f7peXkZHBrbfeis1mY8WKFXz66afVlvWnP/2JrKwsdu/ezVtvvRUWTkPzIxsxYgSTJ0+mrKyMN954g8OHD4f5UAWDQdq1a8ett96Kw+FgyZIlrF+/PmzS0wbUW2+9lfj4eNasWcNjjz1GaWlp2Algn8/H6NGjmThxIpIk8dRTT5GXl6fXJ8syPp+PrKwsbrzxRpxOJytWrGDlypW6r5lWViAQ4LbbbiM7O5uff/6ZN998M2xbXfM1GzNmDJMnT6a0tJRFixZx8OBB7Ha7fmLU4XDw1Vdf6Za/JUuW8NVXX1XxI5OkUOT5Hj16sHv3bt544w39HTQqBcOHD2fSpElIksT8+fMpKCgI893z+XxkZmZy/fXXExMTw4oVK1ixYkWYn5wmUzfeeCOdO3cmJyeHV155JUzmNL/KsWPHcumll+JyuXjzzTfZv39/mOwFg0ESExO5++67kWWZ5cuXs3bt2rD+0xTyWbNm0a1bN3bt2sVbb70V5geotfmwYcO47LLLUBSFhQsXkpubWy1/s2bNIjY2lo8//phPPvmEuLi4MP4kSWLWrFl06dKFAwcO8OKLLyLLsn57zbZt25g9ezbjx49n4sSJeDweXnvtNXJycsL4CwQCJCcn67ePrFixgtWrV+sHeRRFwW63c/PNN5OWltZoSqLb7eaDDz7g9ttvb1IF0LwrtvGhjdeHDx9m165dLFiwgOjo6EbbThQCIpxROK2CoKLic7sJCAmLLIWN0U0NbWGbm5vLX/7yFwoKCn7xCqBxPGqqw10NRbMqgIFAQL/gXIPutB2ZzNCJ08IzVJidNQghsEZlM2QoelDo6PQuXJAOCJW4cwZzyTkVvyV0YdgAAIFABiGwxKUzbGxoe+7ElnXsCvgRQMd+w+lorAfI7DmUzEo7VEPGtg9LlN53NNpmX/uBF1bkzGDoxcYtHYFI7MawxBD9jphs+gzWTgCePQHQTmYfOHCAhQsXcsUVV5CUlKT7pWkHPTTfNrvdTlZWVtjtHJIk4fV6dZ8iAKfTSWJiIpmZmXowW7/fT9u2bXWBj4+Pr7Ysn8+nT4IOh4OMjIwqfoder1cPfGyxWPRyjT5bmp+cNmAlJCSQlZWF1WoNCy+jvZCBQAC73U5aWhrR0dFhB12CwaDujwah6+ecTmfYKs7v95OamhrGX3Z2dpXbUILBYBX+jD41WqDeyvwJIXT+tC35bdu26Vs0CQkJZGRkhNGkKTda/zkcDjIzM6sMOtXxFxUVpZet8de2bduwU8jZ2dlERUVVOXjicDh0edG2No38uVwuvT5ZlklNTUVRlDAfTUVRdB85o7xU3n7SlGEIyV3l9qzMnyRJtGvXDrvdHsafdpezsT2zs7OJjo7W+dMGbK09tRs7JEnC4XBQXl6O0+kkLS1N3+LRfFa1Sc3InzF4ucaf1sc2m42nnnqKrKwsfve7352xAqjJQ3x8PPfff7/OT1MFhPZ6vaYVsAmRlZVVq0tOQ+HL+YInFv4f5R2n8NQdl3A21XiPx0NmZuavQo6Mi9YFCxZw5ZVXkpmZ2SzW//oQ1+QIBoNCCCE2btwo3nvvPSGEEKqq6n+nvithzyv/heWrKNv4XVVVoWi/6flCn7W0iqIIIYQoPrRX7DteGHqu1F5vtX+iuuei1mdGerXPZwItv9/vF++++67wer31Llfrk927d4srrrii1rRam9WGQCAghBDixhtvFGvWrKmT5jOtrz5p6ptu0aJF4vHHH681jbHf6krXGDRp/VMTnnrqKbFgwYI6y6lPWULUn7/G6pv69t/pyPKZllPfsqrD0aNHxc0333za+Wqia//+/eLw4cO1pjndOrTxr7HGHyO0/iwoKBCPPvqoKCgoaPQ6WjM0udy6dauYNm2acLvdQohQu1f7p6pCqSzLqiqUYEAEK716Pr8QQgTFU7/pK8bc9pLYf+K42Lp8kXhzxU8VlQeq0KMG/FXoUyp3tWJ4pgZFwFBxTXRrfJ48eVJceuml4sCBA3r6XyqM79uGDRtEcXFx2POziWaxAGoWlYEDBzJw4MBqzZ+h73VbxKrPp385VYKk3SaiXephvC5OEJfRiTgqTOuy3LDN2GozVXtXSbX0tgQTsCzLBAIBCgoKdAugERaLRfd70sKoaDDe8qFZZ6xWK8XF1R9y0fpdUZQaT7JZrVbdN6qm7Q0ttp8QosabDTRnaS0IuWbxzM3NZdOmTTqfMTExrFu37v+z995xUlX3///zluk72zu7lKW3pRcpAlEURWNQrDGR4E8UY4lGY7DG3r6K8ZNEjPIxmhgxEjVYon4UVAQFFOm9Lbts77O7U++9vz9m793ZwrLA7LAs83o85rF375w55Z5zz/t93pWioiJGjRpl5NUVBIGRI0fSp08fQxoIQYlSe+11xvjaMryur6838g63ROgc6vHqOtJeR8YX+jzbgl4mXPN3rOd5POPrSHuSJLXbnslkwu128+2331JeXg4EpY+bN29m3bp1LFu2DIvFYpgZ9OrVi9zc3FaejO2NT9M0w+g+nFKCmpoaXnzxRW677Tbi4+PDqobS60lISODee+8NS51RHB2hWpG25lBTVQRJwl28ky/XbkdKH8qk8YOIkWXQatn01TfsqxIZMv5shmTaKd/5Gd/sbmDgjFwyTFW8/fqf+VfgfAb0XcDQnpkIVUUEbHGUbf6aPb4MZk0fQeDIZj77vojBk6bRP8UGiofDu35k064jSMn9OfvsETgDVezNc5Gd0xOrBHUleZSTSO80p6HFaxkJob1xnY4IVQHrzmNdQvpHhFTA+uBb2hKEcwNqC6EPvrFBVC0YE1DfjIVGDlFP7XamQVEUI74fBBmUtuakpZpVEARefPFFPvzwQ8MYWZZl1q9fz9q1a3njjTeaxd1btGgRkyZNMhixY3myiaJ4zBdEEIQOeaXphFYURV5//XVefPFFLr30UlwuF4IgGOrtZcuWAUGC/uWXXzJx4kRee+21ZoxFR9sLx/j0Z/raa6+xbNkyzGazoU788ccfsdlsfPrpp4adpKIo3H777Zx//vmtNpiOtBfp8R3P/HWF9vR1sH79eq688kouvPBCg/mUZZmzzjqLTz/91PBM3rNnD9XV1axevbpdO6bQ9vQy+/fvx+l0kpqaGrZ90uPxsHr1am688caTrqslWu21dB07pzMLGpqqgihBwSruvPVZ6jJysPk3YxvwCFOTC3nh5hv5sCyDkWkunn7mZe559X/I/v5rdh0uoeD9Jdy308a2vRVU+r7i9b+lcc9jv2bnn2/lie/MTBiSxt6N63j171MYmern8P6tPPTn//CP/7xETsGnPLLof4nJHU7Z+md5/cv7WXbfaP56yxz88//NC1e4ufOXtzL0vn9we5qzkRZ3//WhvweapvHdd98xZMgQ4uLiusT7EbFA0LIs88knn7Bnzx5+85vfNJ2GQ04BzU7mhuguFHr+Xa3FveY5fvWHqml6CjgFRWuUTgjBFGxNzesMTVNfmrXYxsbWHaATy549e/L8888bcd6OB59//jmzZs1i5syZ1NXVIQgCDocDv9+Pz+cLSlrj4njkkUdYu3YtkyZNOuU2HV6vl7vuuos777yz3XIffPAB7733XoR61Tb0Z/XFF19w1llnMXfuXINp1e0LPR4PqqqSkJDA888/z1dffcX5559/Svvd3VFbW8tPf/pTli5d2m65goICbrnlFtxuNw6Ho0N163vNkiVLGDt2LFdeeaVxaDpZ6PaKnbGX6QeOyspKXnrpJRYuXEhiYmK33Du7PDQVAYnKLSv5dLeJf73zJ8Y2UvoD/36Rv25w8PaavzLcAstvmcIjj7/PD2/ewYxXPyb++sd4am4Wb995MUuVK3nu8V/iQOXLokJctgt5/Ln78f3f7+n/i1Vc8c06/tBvD9eMu4x/r87nwfNm89zfzycuzsrBFQLnPfw6Bx68mNsW/IQ5z97FfWvhYPZPefrsdNACIEhn3Np46qmnePTRR8nNze0S70bEVMAA06dPb2W82pL5MyRyoepbQUCgMf+mrk5tVPdqms7MNTGHocylIAj4i7ezriKFKYNj2Huoil69e2KWm/L7NvuN0CLKoHbqgjV3JvRx22w2IwDz8S7IhIQEJk+efMx4brm5uUdNVRZpyLJsSHL8fn8rwqpLcwKBwCmPZ6bPhR5X71hx5UaPHk1FRUUkunZGIzSaf1uqYn0N6ZL1E9nk3W63EZoonIemZntdGKGPMSYmhrlz557QgTKKcEAAUUIFEmfM4+YpN/PLsTO4ZOGDPHnjDHZu30ZK7qUMbdyOJ547AfGP+zgSsGIzC0gmMyBiliVEZIJGPhqqbCcndyxWoMGRzJBBwxnQB1BkMlPiqPf6ATef/uV+3t9Rj6l6O25TP+oroN+lDzH3rzks+mMS7x9aTgIaPkXCLHdP4crRoDucnWohSCgiooTWmQ273d5M9Gno+RuZLEEQQFWNa01rLAONKlrBYOoENFSNkHpAUTTjGkFAEIMBpcVAA1UudwtGrjHOkV4HhNSrARqq2tgvrbmEsTtAn4P6+no2btzYzPu3o1AUBZfLBQSZKd3DVv/otmj19fVdZtG37EfoOgy1O+ksQnkiONZz1hmF+vr6aAaGCKGlrVJbawhOnHnTbSnDjc6yrdL3DrPZzMCBAzs1zEwU7UMQRARVAVtf7vrrp6xaOo/1z93AI1+WkZocR1VFqSHkqC+tRLHFESuraIKEoAXXdUBRkCx2GoOWIIgiWiCY2UnTQFMD+H3B7xRNIM5pZt/bv+eBf1fw6z++ysM3/ZRkyY3sBAq+ZLN3AONHmvnk0w2AgAnFEMCcSehq442IBFBXD2zZsoWSkhJmzpzZWo2LSvmhnezKK0OwJzEodzhJQiXbN+8nYBGoqQnQc8goeidZ8NYUsnPnQVyqmawBufSJbWD71l1U1PuxJ/dm+OCeWAQPh7Zt4XCNSIy/BM2aCYKKokmYtAYO7tpHTYOCu96FI2sww/qkQF0p23bspbS6FnfATu6USfSKNbVSC3cH6GqloqIinnjiCZYuXdosNEVHERrioyXBCiWSXRGnk6Fxe885NG5hFJFBu85o7dzrKDrj8NGeE0w46haEYE7v77//nrFjxxpmCtF1GUloqIqKKEnkr3mXj/PszJrYi6xkEzXVMuPOuwTniw9x35tTmTegmPuXbmTqjb8lkVpKyioRvEHtSGKKlQMf/ZfPNo3mnJHZ+GvLqRAaJdL+OsrLq/ELgKBQW1GBxRNAVf2osgWtupB1X37G9tJUrHWFPPz/3Yn7gv/lk1k7mDDzV7wydi03jI5tpA+nzx7cHRERCaCuclu3bh3Lly9v9b0gQEPJbjburiV32nRyrDX8sGEHHjzs3rIDJWUgQzJktn+/GQ9+tq5dhy9zGCP7pyN6y9i6bj1lUiaTJo9GPbie7w/XU7fvR7aUiIwcOwTJW0uDT4BANbv35aOqfgr2bCPfk8jYkT3I27oVj9fL7i0/Umvvx5QR2YCGzW4CPetwN12jbXn3RhFFFKcWnZE0XhRFYmNjOy3+H0BlZSWPPvoolZWVYW8jio5BXzZxKXEUrv0nd//+FdIuf4LfX5wA/a7g1RfupPKTP/HwHz9k2A3P8NT8YaDGcM0d93BxbjD+5qRf/p5rBlfxxqvL2OcXmHrlLSy4OJhK0d53Jnfc8Qv6mAAhmbm/voNz+iYy4MoHuXu6ynP3P0J+9hUsefYmzLXFZF54N0/eOIWE3F/y5yevw1Rb2ayfZxK6mtAhooGgTSaTEbi1JVylhymqVNi5bi2uilqklCQ8HkjOHsCgDCf2mkzi8vdSUVtGnZLC6J5xOInDqRbx6TYbo8f0QpZg+NAsvirJ43DAT1affsRa7IwYNogjBRpoIiaTjKAqSHFZjBjcC5PTTYotH8HjRpNkTLKEIEiYTDLNLMA0ui0T2BXc0aOIIoomNDQ04PV6w1pnYmIiTz/9dLPA2OGG7gjWlYjcmQUBQZTQVJXYAefw8J9C84RrKAoMnnUDS2bdEHJbQRUTufi6mwBQFBVb5jge+Ou/mspcMJ8hBNPF2bMnc/0NAAoKiVxw3Q2Ntcey4KnXWNCiRzfcNhpQCShWZs6/O1hWVRHOQLrjdrvDlr0lHIh4LuCjqR8E2UJ8agoTJgw17vmrDxJQVfyApiioCEiiGS1QhxuIBWjwISgeGhpDn9VXu5DtPbC6iijzBB90TXU1Xn8qjcaEjSpdFb9PARRUTQBFRRR8HNz0DRVJiQwbP5kkGVQ1aEvYnbezrmLrFkUUZzp0xmnSpEn07du32b2TqVMPKdSrVy+gc0O0RO1QOxehttpHo6mCIKAqARRNQBYhoKiIkowoagT8ATRRQha0pvuo+P0BBEkOpn9TAqiaYGSrUpUAqiBhkkRUJUBA0ZDkxt8Fgr8TBS14XxJQAwqqICKJwfBUomxCElX8vgCIErIktrlOQselj6O7QNM0LrvsMlJTU4GuMbaI5wI+GlJ6DyGt4HtWfduAQ4DE3oPoGSOi6rlUASXgR7Yn0y8L1n/6FYkOidjsgeT2i2fjtyspSbRSVWVm6NnZZDY0sOfbH1jtykArKyEQPxg0FUVVCTp4KIZHsaY2JsEWTMSmJNIn3cyRXduxDRtKikMyvI+7wHx1Ck61t2sUUUQRhE7c582bBxCWEDChDl8ff/wxF1544WmfX/VMhaqqBAIBI6dse9obQZINGy+TqK8hAdnU9JvQ+6bGOlv+NthO8+/MxpJs/ju9O2JTgZD126KNdtae2WwmEAh0i8NEKMN+8803A2dYIGgdevT75vcaNyhbKuOmTqWiuh5NkLA5LZhsPZg0PQULQFw6EyYlYREhefRPcJRX4kPGGZ+Ew5zI5KQK3H6NgcOTiLMBtoFMPzuZqgYV57CBiLIVTCo/mZKKaDExZsJZSGYBsDF62lRsaiXlNQGyBg5nUFodX3+0lgOpWaT0SYzkI4o4FEWhpqYmKgWMIoouAJ0p00PI6MHXw8Go6U4gnY3ogTL8CM20UlxczOTJk7HZbBFhkERRNILNR+LAIIoibrcbQRCMnOCn80El9P0tLy8nLi4urO/1ySCiDKDb7aampqbZvWCol+BDkqxOUtOdzb63O+RgXEDJhN1hCl6LZhJT040yqiYRl5RKnFFnkJmxxiaR0ZRTHg0JhyMY2chmtzeWFbHZJCCWtKQYCg7vYGtZADGzL/3TE8L7ALoQ9IWXmJjIFVdc0WXi9EURRRTw8ssvM3jwYM4777yTlgLqEoiYmBiuuuoqoPNUwKqqUl1d3S0kN10JejrOPn368OGHH1JdXd3pEiQ9BWZNTQ1/+ctfuPnmm0lISDBChnV224mJiUbKwu4ATdN4+eWX+fnPf07v3r3PHAZQ37wuuOACIxdeE7RmTGCb0GPxNV63zNjRmMSjdfmWMd+gjUwfoGkqCDb6jZpCVm0FroCJYYmxiHTfdEb6hpKamsoNNzQa8XbTsUYRxekC/R3ctWsX8fHxxr1w1KmqKg0NDdjtduP9D9f7rtcTHx/PHXfcYfQ9ivAgNJ1YUlISSUlJEWt7zZo1LFu2jN///vdkZ2dHrF3ofjRp3rx5JCcnA11DqhkRJbSeQL5Xr16MGDECVVVbBE4FPR5Qmx8wgkMbAZvb+4SWDw3O2sa9YKYREUELBoC2xiaRkhiLqKnNXrpucggxoI8tEAhQVVVlzEl3OW1FEcXpDIvF0qG8xceD8vJyrr/+eiNbTDjf9VAp48UXX0xMTEy3I96nGqH0qGUw+M746IH8v/rqK2pqanj//fcBCAQCEelD6Po8nelSKF3t0aMHFovFoLenGhFhAHUVRmFhIbt27TJOn11hUgVdfCiEppbTjMwjej7hLjBX7aLlszzWs9W/Lyws5NFHH6WhoaHT+hZFFFEcHzpDhaqqKrW1tZ1St86c+P1+CgoKDJuxrrDHdweE2t8JgmAEhO+sjyAImEwmXC4X7777LgD//Oc/gSbHk0j0IXTMpytCD0J///vfKS4uNnigU42IMID6QPfv38+GDRsi0eRxoPkia5nOyZAodnG0PBm2vG7rA+DxeNi9e3c0GHQUUXQhdFaMvs5y0ND3E5fLxd/+9jdqa2s7pZ0oIouGhgbS09NJTk5m8ODBXYp5OV0QGtLmpZde4siRI83un0pExAZQPzFMnjyZyZMnR6LJMw6Kohw1yHZbCGVwrVbraX3CiiKK7gZFUU4rR4pQL9W7774bk8l0insUxclAtxlNS0vj5ZdfZuHChSxevJjExMSoav84EfqsUlJSutS7EREGUJdO6YxgdAGFF7IsI4oi//nPf0hNTcVisWC1WrFYLFgsFsxmsyFS1//abDbD8/d0IjRRRNGdEeqd73A4mt0LBzojxRw07fGCIBj7SnSf7x4I1SbpiM7riUG3n+wqiAgDGAgEkGWZTz75hL1793Lrrbd2y0jfpwL6JnvRRRdRXFxMVVUVPp+Puro6/H4/Pp8Pv9/fSvU7ceJEMjIyopt0FFF0Qdx5550dCvZ7PFBVlbq6uk6zLxRFkerqav7xj39w7bXXGiE8ovvL6Ye2mJSWThnReT39EREGUF84BQUF7NixIxJNnhHQX0BN07Db7eTk5HT4t6FEIGr/F0UUXQO6JE0PoxLOjAFWq5WJEyd2aszP+vp6PvroI+bMmRMNBXMaI9SBpy1GL8r8dQ9ENBeJLMvGqTaKk4cu0WsKVXPsT0uYzWays7O7RFqaKLon2spb2t71mQz9ff7444/ZvHkzoth2ztQTQXx8PI888ojBmHWWKthisUQZhG6EqDd3+BCJTDzHg4hS/a4S+qW7oJW3cgc23VCmEaBnz578v//3/4iJienUvkZxhiIYaBPQ0FQVVQ0GcT/atR6K6UyFPvYPPviATZs2ASdvoxtqnyfLcrP/OwNn8vx1Z0Tn9eSgaRp/+MMf6N27N9A1pKgRZQAjlUvwTMYxg2Q3C4IddMyx2WydThSiOEMhCAiChqoKiJKEJIkIitZ0rapN15qKFt0jgKBkPlyBoPX3urq6mqeeeorq6mrDy7MzEJ2/7oWoBPDkEEpbJ06cSFxcXJehtRFlABVFMaKLRxEZHE0VrEciLy0t5ZVXXjGSb0df9CjCCk1DCQiIoo9/3j2Hmde9iF8S+NdvLua8G/4Hjyiy/PbzOP/WJVQJIoIaQI2uwU55D202G+eddx42mw3oPEYtGlWgc9DSZKKzPzraWieR6kN3MA0JNdP68ccfcblcXYbWRoQB1BdQTExMRHMYdne0ZUd1LJu/0N8CVFdX8/777+P1eiPS5yjOQDSmenSmZJKdkYgIxKRmkpWWELxO6UGP1HikpsJnPMLJnOnExmKxMHr0aCwWS6dJIKI2gJ2DUCYCjk/Tc6IfHW1p7iLZfnfCihUrKC8vB7oGUxsRL2A9+vzMmTOZMmVKJJo8Y3Asb62jQXf6iG7YUXQqBAFJ0lBVExf/7s9cDKCoXHjvy1zYeD3r/teYBaCpaKIUWbVEF0U47aV15sHj8fD9998zduxYrFZrWJnA0PiF999/P4mJiWGpN4ogWproRMKZQPdAVxQFj8djRItQFKXZutG0plSq4YTON3QVdemJInTuHnroISC83v0ng4gFglYUxdgUusrgT3e0tSm43W4CgQCBQAC/34/b7cbr9baSDPbs2dOwRegKJ5Eouim0YF5tUdRQAgoqArIsoQX8KIitrgWt0RnkNN7wuypqamp45plnePXVVzuFAdSljCNGjABOf8LdlaDTzJqaGi6//HIqKipwOBydrm4XBAj4A5SUlnLpZZdhkuVm9EK3I9c0lXBJ7wUhmFNakiRWrFhBUlLSab2WQqW3Xq8Xk8mEJEldYkwRYQBVVUWSJLZs2UJxcTHnnXfeCUmtomiO0Bdx48aNFBUVARhR2wUhmNDbZDI1S64tiiIZGRnGb6NzEEWnwZAMCEiyjJ6JVpBNhqQv9LozJAmnE/R38dprryU5ORkIXyBoCB4SO+PApxOzhoYG1q5dy6RJk7Db7V2CyHUnlJeXU1dXx9tvv01CQkIEYrgKmMwWYhxW6mpq8Cka+nRqCFgsMvW1LmRbDJLqRz3Jt1fTNCRJoq6ujquuuorKysrTngEMxRNPPMG8efPIycnpEmOKaCBov9+Px+OJRJNnDARBIBAIsGXLFs4++2xSUlIwm80G09eR30eNtqOIomtAlxSMHz8eCL+2pDNDv+iSmwMHDjBu3LhOaSeKYD7ZrKys48r9fuLwU7R3M6u/qGDUxefTs1kMcY0NH77JETkJsyWT6TNGYA9Tq/Hx8aSmpoaptq4BQRBYs2YNc+bMOdVdMRAxG0BVVRkzZgxjxozpEpxvd4KmaTidzlaZQI7lDKLbWIQr3EQUUURxctD3xoJBqgThAAAgAElEQVSCAux2O4mJiafFfhlUA2rExcWxYMECIKoC7izo0TSsVquh6Qk3gnZ9Ilr1Hl57fAFPrh7G+tnnAyqKCmggSSIH1r7HR5a5PH3HdEQvaOaTUwXrKmXdjKm7wW63G3S3KyAihnj6pNbV1VFZWWmccqO2Z+GDbqgLQalBqIpdFEXjI0kSkiQZUoWMjAzuvvtu7PZwnd2iiCKKE4X+3j7zzDN8/PHHQHgN/jvLwzLUzklXM3eVUBfdEfocdqYXrqKBlDCATDPkTJ1BfxuAiCQKSJKIy61wxc03Imz6gO/LrVgtoKhCY+zPqOdvWwilzV0BEWEA9Q3s448/5oUXXohEk52HlmFXgv8F/57COEahL1BHXfs1TSMmJoYJEyZgMpmiJ/Yoougi6AyCqGkabre702wAAcrKyrj99tspKysLextRRAoaoCGLQN1O/vtlMdPnTEMmwJH8Iup9wVI7Pn2bDzY1MOPC6SSKwfi+QjCVz6nqeBTHiYjaALpcLiMGTuh3giA0egsGEerd2rRZBTMKBD3OTx2Toqer0iGE9Ltl/0OvT6bLhpu90VbwWZwMQo229+zZw7Bhw5AbPbyiTGAUUXQ/OBwOrr76akPa3xnvud/vZ9++fdGA/6cxNC34EQWo3vlfNqq5PJ9tYsOKP/Lwoy/hmvAgX/zpl0y4aC5eNZi1Rk/hKIlR2tEeupq9fURjsUiShMlkanbPYP4MKVVzdUKT9EpD0069mLhlv7SQ/hmndq2tE/yJ97vlL4PM38k9B30hFhQU8OCDD1JfX39S9UURRRThQzildPqe5XQ6uf7663E6nZ0aCFpPLRnF6Y8tn6zF0jONwrx9JIy+jLlnJbJvdzEqgGzCYjYHBRMhNDsq/2sb+jt4xtkA6mjL7k/TmT9Nwd3QgF9twQQqftwNblRNQEBrDHGiNZ5SWmfC0K+Ne40hUbTGY02wHEDr1Giq/l3Le0adGpqqoAkCatUhtuwtRlADVFVW4VcFcJfxw9df8O32fOqq81m98gt2HChHj4MY7HdIP0La1LSQftKiXzRJGgUwxh+OLVYQhKgTSBRRdDGE0/NX30sVRaG4uNgI5NtZZildTcoRxXHAWBMiUMsXq7fiFuMZN30G/dL9rPpiH5PnnocZ0Brpla6VIuQqirbxl7/8hYEDBwJdI/xaRBlAPRZdSwgA3kpW/usNvtpTBjRtTsVbP+UfK9ZRGwAMh4bmEjet0ROqlepYEBAanR9aSuu0ECmd4Sihf9fynlEnCI2ZCkRPOQeLakBpIO9QIYhQvGcXrph+nDWsB/s278bZZxRDcoLBr4OOF43MLY3t6vWjIQgh/Qzpm94HTRAQvKVs31cIohjsZ6QmrptBX1uqqqIoSrOPTry6kqFuFF0PoWuo5TrS19DJGHy73e6wq1FdLhf/+7//i8vlAjpvjUeD/J++0BBAU4OcQflqPt1Sy8TZ1zI6Aao2/x/flWYx5yeDAYJCmRDNHZx6DV1XRChfkpycjMlk6jTv7eNFREU/Xq8Xt9vd5nc+n4bToXHgUB41vVOIs4oonioKDpUhxyah+EFTytm5Yx8uMYHBQwdi9xRxqFyiX59U3OWHKfbF0SczDkVRECUJQann4K7dlDSIZA0YTpa9lv1FXrKz0jGLGuWHD0BaH+I9RWzdeQg1Lothg3ti8bgoqqygurIOISaNgb1TQNUQRAFX0V52FflIEuuQ5Vg0yUpGj3TU+kK27syjOibAZrmA3fnF2P17yEibSJpcxY5tu6klgUHDBhJvdlNcVIW7uoI6MY5BA3tSd3gHuwpqSew1hIE9YqksKsSjeqkoqcCU1p9BPeIo3LGBrza6qHSNZviQgcRbw5cq6kR/p7vq+/3+Vt6KiqIgy3KXkgiIomjYQJnN5lbf6+L5mJiYLiWq78hzjkR6qCiC0GOwtbVG9HtOpxOz2Xxc75dOFKZNm0afPn2A8DFUTqeT+fPn43Q6m7UVTnSmo0kUnQ9B0FAVFVGUKPx6DWWxw/jDdcGYjrtWf4E68gJGx/qoqtFIiAtvNpnuilCh1LJly/jJT35CWlpal3h2EUsFB5CZmWmIP1vB78WUMYg+vlp2H6lgfN8kyvN2400eTI4gEPD7qKiuJKbXEGIKt7J+g8aMs9Io+HItftNIqrZvI3HchYC+AbvZ9OWX1KYMZUhGA+u//AJtxmgKt2xCi5tFv9gSNm07wkCTyJ69BWTljoH937J2i8TZOSIbVn6Bdei5jEuwoTYat/qKtrF6UxkDRwyifON6KqxZCGolP/64l0kzxpCRkYxkz6L/AAfl+dXEZvUhzVLFhjWbcfQdzUD/btZ+u50Lp2aze90XVDiGMW1SCpW7N7CjysGYEQPZvXYNO+3TkPesZ11FHNMn92bXd2uQYmbRNzOTtKJ6+vTKIqY173LCOF4Co8+nLMtGRpH2gpImJCSceOfCjPr6evLz8yksLKS8vLwVAVdVldjYWDZs2EBNTc0p6mVziKJIeno60P5zTkpK4siRI5Hq1hkHnakJBALs37+f3bt3txmrTFVV7HY7W7du5ciRIyfEwF199dXG9ckSCZ34SJJkrKPOIj4mk4m+ffu2svWOIrzotOgSmoqimRDx8M47/8adfR3TEwG8fPPRWhq0JL7b8CPTpk4kgSZzqig6BpPJdMqZvlBEhAHUpUAXXXQRF110UbPNp8lbVsPnt9B3SDxbNh1G7WthzyEv/Uf3YdfWPBSTmbSePTi09xDFpS7qA+ARBjF5TE+Wr1hB2sxr6G8pZcv6vXjsPRiYWM+RQArTh/fGIcCw4jz2FsiMzIaNRbVkVx6GzEzE6hKKSquwFBcguVxUCrX4PHbsmQMYnduLBElDUQAJ8vPKicvuR9/MDPpqwyg5qIEmIIoCstmGI8ZBjDMJu9VJjM1GUmoaVG3jcEkF6TGFqIKL+goP+FLQHJmMGjOKJIfKD/sO47Knc/iQSoO3HndZLZlSLIPGjCIrLR5/4g4Kazz0T4zF7hBISnAgi7oa++TmRlVV3G63IT1qmegbmlT3ukpL0zRkWaasrIzf//73jBgxAp/PZwSDDVWj2mw2VqxYwQ033GDUd6wA1S3ba69MaHstoavQ9TKiKDJy5EgWL17MnXfeid/vN8ro7amqislk4uDBg1x22WXGMzqe9vTneDR0dHz6d7W1tTz88MN8+umneDyeZuF+RFFEVVVsNhv//e9/ueiii4z29d93pL2Wz+poZYwYYWEY3/HM38mul3CMT6+7f//+aJrGvffe22yeQstZLBZKSkoYMGAADocDPT5ey1BMbY1Pf7/065MlGHodLpeL5cuXc/nllxMTExNWJlCvJzk5mWeffTZCWSrOTMiyjM1mAzpB3S5ImBqrHHPZnbyYNYfgTFq45N5nkHfbmHHO2fQMNk/Ym29cR1artdscIkJVwHPnzgW6TpD0iIWB0QkV0OamiSCAGsCROoAe1v9j9ep6SOlJutPMdkHG5K1h0/drUbInkpPlpirfF3SI0IKqWcUfQLLFkprRg4A1CaviIqCB3PiMRQQ0FRL7DUD89kc22GV69UvFVFGMHJNMdlYGcnIi/eOTsNTsR5ZNqCogqdCYwVRVFDQheK2patBeAhAEETTVcOwABU1rdNZQFQSzkx7ZWcSLyWQPTABTJYJsQlJVIICiCjiTe5CdFUdaRi9SEi3sKBKQxUYi1Gh3SCCAgoQ5DC+dvvgSExOZO3cuiYlBW8WjOYS0lZLq+eef55tvvgHA4/Hg9/sRRRGHw2GU0TSNRYsWcckllwSHEpKTuD3oa6Y96H1qT1Wrv2j6uC6//HIuvfRSAoGAwTToDLDFYsFisRgEWK9X34j0uo7VHrStGjze8enP6PHHH2fVqlXNGBdBCKbdcrvdiKKIxWLh9ttv58ILL2zWZx0dSSnWkeep9z0c4+vI8wxlvk+2vZMdn35vyJAhvPvuu6iqitVqbbWXCYJgrKn4+HijX229W6ERBULxpz/9ib59+3LBBRegKEpYzBHq6upYunQps2bN6hQGUJ8D3cSiqxC57oBQm9PKykr2799PfHx8J2XL0FCRyb3wV4z2V5Ofn48kyySPvZxbJ6tUVx6hoKJz5lZ/9+rr6yktLQ17/acCoSrg2tpaHA5Hlwm5FhEGUFVVJEni22+/JS8vj2uuuaatQng9blRRpl9PM399bx8XXD8FhDw8Xj9KIIC7oQHN66Gmqpz6QBw+VzEbNhYy6fIrOLLmK35wXsCY7N6NFfamh7SadT/uItvh40C5mX5T4sHhJLnhU1bX5PLLSU6cpnScRw5RWlpDnODBb03Eqql4vd6QuH4qINKjVzJ7tmxnu03Bs3cPVYwHoams4vfhV4JE2u/34fP6EHr0JD2mlPKyMmQnBBQbcWYVn9eLqimAmZz+6fxQWk51gozq03AmphPwefEFGlVOPi8+fwBinIjVP7J5TyKD+mRhN5246F1nwlNSUpg/fz47duzA5XI1I6K6ZGnAgAFYrVYKCwvJy8szjFitVitTp04FoG/fvgaB2717t1GHzmTt3LmTpKQkIwn27t27qa6ubkbYVFXFbDYzfPhwZFmmqKiIvLy8VsQvEAgwcOBAEhMTcblc7N2712DodCiKQnJyMv369UNVVXbv3k1tbS2iKCLLsvFCWiwWBg0ahCiKlJaWsmfPHiRJMuwb9Y23b9++JCUl4fF42Lx5cytmIxAIkJ6ebtht7dy5k5qamlbjs1gsDB06FJPJdNTx+f1+Bg8eTEJCAi6Xi4aGBiZNmmTMmSAE8z8nJycb+TKLioqoqqqioKCAAwcOGOMzm80MHjwYi8XCkSNHKCgoaNV3TdPo06cPKSkpNDQ0sG3btlYbk6IopKam0qdPHwRBYPv27bhcrlbjs1qtDBo0CIvFQnFxMQcPHmzF+ITOX319vaFKDW1TH1///v1RFIV9+/ZRVVXVrD1N0zCZTAwdOhSz2UxhYSH5+fntjq++vp6dO3e2MsJWFIWUlBRycnKOOb6BAwcSExNDRUUFu3fvxmw2G8y5vt779+9PXFwcbrebHTt2tJL+BQIBUlNT6du3b7PxiaKI1Wpl+fLlXHvttUb/wwFRFElOTu4U21adua6pqeGdd97h8ssvJy4urksQue4A/RkmJSWRmprKjTfeiM1m6zT7agFQAgEUQcRmMVNTU4PZJCOIwYNxZ06pKIo0NDRgsVhITk4O9qebrKFf/OIXPPbYY+Tm5naJdyOiNoDZ2dnExsa2WUaKSSZ3VC4OwJo5lrlXDiIpDlCTGJVrJSEpibjxE9hfUIY/vi9n9U9B1vwMHD2BngkJpEwaR6nXB1gbNyMno6dMYN+BQup8JgZNmEyPGACJnImzifHFEAOQ0JfxuTKHSiqoESTi4jyIsZmMGB6HUwIQg567GtizhjNR209BVR2pQ6dxri0ZBBg9eigWQSS9/3ASTLGAiUEjR2JxikAC48fnsjevlOoaAXO8D6R4ckcMJyY2uBEnDxrPCPNeSquqkWQLHp9I79yR+GOCxtrpQ8cSZ7OAHMvE0XUUNPhQTvK9DyUqmqbx1ltvsWfPHiMjiCiK+Hw+MjMzueeee0hPT2f9+vW89tprxMXFGSpG/XPrrbcyefJkDh06xH333dfMwUJPA3jhhReyYMECVFXl3//+Nz/88AMxMTEGcQwEAsTHx/Pcc88hyzLff/89r7/+erONTpIkamtrWbRoERMmTKCwsJCXXnqJuro6g3ETRRGPx8PUqVO57bbbUBSFd955h23bthnEWm8vLS2Ne++9l/T0dNasWcMbb7yBw+FoxSAsXLiQKVOmUF1dzXPPPdfMuF+SJOrq6pg1a5aRB/Wdd95h06ZNzery+/2kpqby2GOPERcXx8aNG1m6dKlRRq+rpqaGBx54gLFjx1JcXMzixYubMSN6XZMmTeI3v/kNbrebV199lc2bNxsSKV2NmZSUxEMPPURKSgrfffcdb7/9drO50cewYMECpk2bRnl5OX/84x+bmWjoG/K5557LjTfeiCAILFu2jB07dmC32w3i7/P5SEtL48EHH8RisfDjjz/y8ssvExsba6hURVGkvr6ee+65hwkTJlBaWtpq/vQ5njZtGnfccQc+n493332XH374wVgLOqMVGxvLk08+idlsZv369bz11lutstooisKNN97I9OnTKS0t5U9/+pOh/tfH53a7+clPfsLChQsBeOutt9i1a5fRnj6+jIwMFi1ahNVq5bvvvmPJkiXEx8cbUmO/34/H4+Guu+7irLPOorS0lD//+c+43e5m46upqWHmzJnccsst+P1+3nvvPTZs2IDD4SAQCOBwOBg3bpzxzMKF0ENNOBFqF5ydnR0NLRVm6Ie/xMRE3nrrLRoaGjqdedDXal1dHYsWLeLBBx8kIyMDn8/Xqe3qcDgcxjtzqhmlcECnOV3JQUrQItSbUDVGS3VUswnWVDRBbFSuqqiIjbFqjh78WFNVhMb6QsWtLRdNk72h3lZjbL2jLi49+HTL69ASrXulqSCIrfvW1m+CfWpdb1NdQRV3y2toCmXj9/t5//33+elPf2qoMDuiMoMm1Y3H42nzNCkIAlar1SCAXq+3zbplWcZqtXLVVVcZBLuqqqqZ+tRkMhn983q9bdobCkJTIFm/399me5qmYbVaDc9XPQdyyzJ6n/TxtWwvVGU1f/58xo4dy80330x1dXUrFarZbDYkn21tvqHjAwwVYLjGFyr5i4uLY86cOVx33XX87Gc/Q1EUfD7fUccXOn8+n6/N+QsdX1ue+vr4zGZzMxVnW+PT2wvn/Hm93lZSwpbt+Xy+o4ZO0cfXXnvHGl/L56mr4M1mM0VFRcybN4+3336b+Ph4I+h9y/nryPh0yXS40jPqdZSUlHD99dezdOlS0tLSOmQWcCLtHO3/KE4c7dG1zm5z7dq1zJgxg5UrVzJ58uSItN2yD6fzWgrt++zZs3niiScYMWJE2N+/E0FEVcCHDh2iqqqKUaNGNeOC9QnWtKaUZ6oWjI0noKIa6d9Umn6mB4wGQRTRNBWt0SGjadGElNcNvGmy3xPEYAy+4P8h5dAnTSSU0QoGog7llwVEodEOUdADYQoIYtD+TxCCbTSrv8VvhMZBhNYrGAML+b0gIIoYdQWfzYnz7qESHsAwKj4adHViW6FTQrFv3z7DM/ho3r86E3Ss9kwmU7uGwPoJNdTmsK0yHWlv+fLljBw5EoD4+PijlhNFkZiYmHbbg449z2ONDzjq+Gprazl48KBRJhzzpzM47T1PvVyk5+9YTgUdHd+x2tPLHWt8QLPxVVdXc/DgQZKTk5tJv05mfKcT8dP76PV62bt3L/379+/wYTSKjiF0PURCbqMoCiaTia+//hqfz8fy5cuZPHkyfr8/YiGyomuncxERBlBRFERRZOXKlfzwww/8+c9/brOcIOqSv0b3cgEEGoMeawBNDJ7OqBnrQxCNa33RCCH32m4nWGeQEWxRxuDBdOlbkGkMtcPSITZ1oumeKDRKGEMYzZD6xNCOCULz//UOtNHf0L5qJ5kNJHQcx9pQdKnIgQMH2pTEqKpKUlISxcXF+Hw+8vPzKSsra1MVJIoiffr0aVPVGtpeR/rUkTLAUaU+kiQRCARQVdUI++JyudpkXGRZNox3j9XeifRdZ8B0iVDoff2vfmgoKioy0vfV19e3afemMyihhON4+3Si5SJZpjPr0udEVdVm0ky9jKIoOBwOampqqK2tZc+ePQwaNAiv19vK2U2X7On16XMZSZVQZ7Wlr7HKykoee+wxFi9ebBwEozh5hO6RhuCgE6HvHy6Xi/feew+ADz/8kEcffZSYmJiIS6+6CyPYEYe2SCKihhpteeA1O+EqbspKq7GlZBAjC6ApeL0+RLPNcE1vdgpqUUfLeg1GsvkXhoQv5GYjw9fynobP60UTzVhMouF1LDZrr63fhrSlBXB7Algs1qAEr41yzfqvc57HGFs4NvKWm0pb0DTNkODefffdfP755+Tk5DRjUELr0I32582b12Z9ZrOZ/Px8zjrrLF5++eU2Gepj9akjZfRTsiAI/Pa3v2XHjh3GxtXy97ot4Mcff8ymTZvarE+SJCoqKvj1r3/NpZde2oyAH0+/jlYm1Bbtd7/7Hbt3725mO6dDt8cTRZEPPviATZs2tRmyRBRFKioquOeee7jgggsIBAKNxtvt96ujm9PJzE1nlAl3XdA0JwUFBdx0002YzeY2mTpZlikvLyc9PZ1bb72VxMTEVutMV1GbTCaeeuop+vXrZxyMwzUnx0J8fDwPP/ywIeHuDEKkaRr19fURZWqj6DwoisL48eMpLCxk9uzZVFZWtqsBiaJ91NXVdamA/afcUlfTGlOv4WXf5vUU+FIYICgU1Crk5KSxe+N3OHNn0Mfuxq1YsZmCql10O8EQQt/Ktk7Q076F2vE15S7U9z9N08DgvxqtDzUQ8LF/+0bk1BH0MB3hsDuZQb0Tm51+mn7bwo5PU1EREPxlfP9DAbmjxxJnb2IYmqSYTeJ8XW3d5thCYv51VKITDuhSstraWg4fPswHH3xA//79T6rOI0eOsHDhQsrKykhLSwtTT5sjlHh/++23PPPMM63CJhhzraqkpaXh8/morKw0DI91qKqK0+nkP//5D++99x6XXnpp2ImnPqcHDx5k8+bNPP/889jt9mbS1tD+ZmVlUVVVZUj/WvY3KSmJV155hXfffZcLLrggrH0907Bq1SoEQeCPf/wjpaWlzQ6x+nsoiiI9evSguLi4mYNJKKxWKw899BCrVq0yvNMjoUoLtSscO3Ys0Ln2eV0pg04UJwZBCDpZxcfHs3jxYg4cOMCjjz6K0+nsErZrpyM0TWP69OntmhhFGhFlAI/GsIiAUlnEgcJacqZOI0k5gs8Rg6z5cTe4cShQsv1btvn7M31kJqIoIRCgocGP1W5DREPVQBTA7/WAbMEkNapghSBj5vW4ka02JKHJCcPbUI9gcWCWmhgsxefGq5qwW2VAxeNxI/tUbAlxOIWgfZEoiqh+D37BgkVu+q3X3YAmygiAbDY1MnEBGho8KGpwsw3WL2O3mkBVUPUYfwKoqoIgSgianwa3gs1uNRhEQRDweTwIZgsmMXzMX0eZycrKSmRZNmysjkbkQpnZUOhlZVkmJiYGr9eLy+UyUuIcDS1toDraX32T2rNnD+np6UyZMqXd8jp69+591O9mz57N+++/3+xee9LZtgzij9XvgwcP4nA4DELdHvTYjUfDOeecw7PPPouqqobq+mjtny62ZuHC8Ryidu3axcSJE8nOziY7O7vdsklJSe1+P2LECHbs2NGsH20hnPMRap+3ZcsWcnNzO9U+Lyr9O/0ROoc1NTX4fD5qampwOp1n3F4RTtx7773NojmcakSUAWxPZVZeeJiyykrUbRsoaqhGSh9IdoYVUTKhNVRyMC+PAy4vGcl2+qWI7Nm6nUqPhjk2nREj+6MUbmH9rhrsdguZg0fRM94EgkLhns0cKFGxSfXUiUmMGD2cBFMD+7ZsoajWj4qZ3kNG0CvJSkXednYdrkRRNZxZgxnVNwFJAEkU8DRUU9tgp4drP6s2FBMbI+Jya+SMnEDPOI3D237kYGUd1cXlOPuOYdKYHIL+oEH7PkkGb1U+O/cWUF3vIyVnKBliMftqkxk/NB13RR678j30H5zGwR+3Ue1XMTkzGT2yH56DP7KxsA5RiKHf8CFkxlrCMh8tiWB7CzIhIYFf/epXzQJGH+8C1tViDoeDBQsWGMSypS3U8Ug3j9YH/YSalJTE1KlTCQQCiKJ4XCfX0GwasizjdDqZNm1asz521Oavo/1OTU3l3HPPBcDn8yFJ0nHbjfj9fkwmE4mJicyYMaPZif14GekzAcd6BkOHDjWcQvQ5aUkAQ+03W9atmxnoMSDLysrabbuzCIPb7eazzz7rdAeNrkDYojg5hO4N+l4fundG57jjCH1WLZMKnGpElAEMBAJHjSGU1nsgvUr89J08jtTCnazaXYiHdATVjxSbyMCcXtQFRjCkZxJ7vvsvxZZRnDveybefr2T/vjR6aaUcrrZx2bRx2AXVkAhWF+dR4h3E3Jmj2PLFp+w8mMwAyxF2FUuce/5EPDtX89XmHcSNymTz1oNkn30R/eWDfPh/G0lNnIwsi4iCRn1lEcX1SQx2VJJX6OKiy8/Hf+BLtm/Jp+f4AN/vqeeCS2dQvPp99tsSsAKBxgesIQRjw8h2eg2bwLDaHXy6dTeOgenU5u2ifmg6tQX7qNH6U7p5PRXO4UwfGs8P//2QjSk5DKo9Qn51CpecP4oYUTEkmCdLujtyktO/i4uL4+KLL252Py8vj/z8fKxWazAYdqO6WJIkY55NJhOyLDN48GAjQ4Asy0aaNWhbatiSUTmePkMTAzhixAhGjBhh3N+xYwe1tbWGKthisRAIBAwbObPZjNvtJi4ujmHDhhmnNU3TyMrK4vHHH2+WnaKlLWB79oyh37Xl/KKqKuPGjWPcuHFGUGwIevyuW7fOuKc/az0WoZ6BRZIkevbsyYABAwAYNmwYw4YNaxakONTurC3J6pmC0PEfa9yhgetPNJenvo70jDh6XUdDOOdDH2t8fDz33XefUX9nqPF0B6bowaJ7ITqfJ47Qd/mhhx5i3rx59OnTp0uo0iPCAOqDHDVq1FFtvnT1lKYGGSZJkps8XLWm78FHRUkJldb9fLvaQ0XAQS+HhrfeTq8+OThlAVXVfxlAtSYzsGcvQKZHZio7a0soooGUnJFYAWufHGJLD1Jw5AhSbG96xwJk0yv+ENU11WiSjAgIkoQsgYpMau8BJFsEXMmpxBbVg+TEJASorK6m1i8TY2sU8Tb2QkBDQ8Qs+tm+eS31teXU+JNJSMogOWYfB/OroEql1/h4ij+uoCZ+F6vLBdxSHNkmDUW0kt1vILEm0DQRoVG13drD5fgQ+lLffvvtrC1S0akAACAASURBVFmzhvT09HbTCxUXF3PPPfdw9dVXM2fOHERRJBAIkJ2djc1mo6SkhPr6evr164fb7Tayh7z88suUlJRw1113cd5551FXV0dJSQkmk4ns7GwqKyspLy8nKyuLmpoaevbsyZtvvtkqFpp+3dDQwJw5cwgEAs2CMreF0tJSli1bht1u52c/+xkpKSmkpaVRV1eHx+MxwnRomobL5SI5OZkNGzbw9ddf88477/D666/Tv39/8vPzsdlsOBwOw74wIyMDm81Gfn4+Cxcu5Kabbmpl3K+vXVEU+fzzz1mwYAE5OTltxuTTx1dfX09aWhofffQRb775Ji+++CITJkwgLy+P5ORkHA4HlZWVNDQ0kJmZiSzLfPvtt8THx/Pll19y7rnnsmPHDkaPHo2qqhQWFiKKItnZ2bjdbvbv30/fvn0pLy9n2bJlDB8+/JiOLd0J+nM+cuQI77777lHjI+plvV4vgwcPZs6cOXz++ec88MADSJJESkqKcRhKTEwkKSmJsrIyampqiI+PZ/z48TzwwAOsWLGCQ4cOIUmSYdvp9Xoxm81YLBbcbjc+n4/k5GQuueQSkpOTw0Yg9LGqqorH4zHiGHYG02+32znnnHOMw14Upz9ONZPSnXDFFVcY2Zu6wj4bEQZQkiRUVWXMmDGMGTPmqKqzpmsNVVOb7jXax2lIgBlrTBxZOeM4q09TzK8j2/2ojd41TQ4TEqK3hsIKF8N7O6itqUV05uDUaimuqIT+sVBdiVezkhgfS+HhI9QD8bio9ATobY+hvjyY1zfokBFk5gL+oAesogRQBTP4PHg81Wz8+hvie49gap9Y0BQQJEBDQcJGLeu++Q5h0EVMHV/Mx5/sxmez0zMtke+3fYHfOYrZdgcVVhs9hk9mbFrT2ArzFTSpiSkLB/OnQycM27dv57bbbmPGjBmtUsLp8+B0OnniiSfYtGkTV199NbGxsSxdupS//e1vLFq0CLvdzoYNG1i1ahW/+93vAHj11VdZtmwZmhbMg2i325k4cSKXXnopBQUFPP/881x++eXMmjWL//mf/6GiooJ+/frx2Wef4fF4jiolKS0tpbS0lH/9619H9arSjZivuOIK9u3bx7BhwwgEAlx55ZXcdtttADz55JPMnj2b3NxcysvLeeKJJ3j++eeZM2cOR44cYePGjcyZM4eHH36Yhx9+mPLycm688UacTieLFi1i0qRJzJ8/nxdeeIH169dz0003tftib9u2jYkTJ/LGG2+Qn5/f5vhMJhOlpaXMmzcPVVWpq6vjqquu4qGHHmLdunVMmDABCNoLCoJg2C2+//77PP300xQXF1NfX8+ECRO46qqrmDt3Lu+//z4ffvght9xyC6NGjeKOO+4wctrm5eUxfPjw9hdKN4OiKMiyzHvvvcfSpUuZO3dum0ygLnXVDzFz5sxhw4YN+Hw+HnjgAYYNG8b+/fv57rvvmDFjBpmZmXz22WdYLBYkSWL58uVs3LiRhQsXcv311+PxeFi5ciVTp06lZ8+efPXVV5SWljJ79mw8Hg+LFi1CFEV+9atfGQeJcKGmpoZnn32Wu+++m4SEhLAygDpDmZCQwF133QWceVLl7gpdghyVAp4YQrUNQ4cOBTqWmz0SiAgDqEs/9Gj3DoejTeN52SQjCoAgIcsSCCBLMhoQn56Je+UXbHBOZ8jwEXy34TNW5jlBdjBy9GgsZhnJq3tLhgzQJFC6byPf1Jmo8dkZO6IPadg4snoj//dlHngDZA8bT2YPG3VFh1n76Srskh8xbSC9Up1sOwhmSUBQJGRJAEHEJDdK+EQJSRJAMGN3xNFzYC+UmjzWbPQzfnRO8OEKIiZJQBHtZGUmsWnHV6zZV4eLJDQfJOZk4F67idgBaYDE4LEDWPP956yMcSCJNoZMHI9ZloNxBVs8r3C9kHrKsDFjxhzTyH3EiBEUFBQAQZuiiooK7rrrLhoaGti7dy99+/alX79+HDx4EL/fz3XXXceuXbtoaGjAbDazcOFCHA4H69at4+c//zkxMTGsWLGC3NxcHnroIf7+97+zadOmowaR1qGrtDrikTxw4EBkWcbn85GTk8Mvf/lL9u/fjyiKLFiwAFmW2bx5Mz169OCee+7B6/VSUlKCxWIhLi6OgoICSkpKePzxx1myZAlr1qzh1ltvZcmSJbzwwgscPHiQMWPGUFRUdMy+mM1mI1VW7969j0ogbTabEW7BbDbzzjvvsGDBAiZMmMAHH3zAhg0beOSRRwBYtGgRM2fOZNasWSxZsgSPx8OQIUO47777eOedd/jmm2+45pprcDgcfPHFF/Tr148lS5awZMkSysrKjhlkuTtD0zSuueYa48ByNHi9XubMmQMEmZ358+fzs5/9jL/85S/MmzeP888/n7y8PFauXMnNN98MwBtvvGHsd6IoMm/ePIYOHWqkVLz33nsBeO6550hISGD+/PkUFhZ2GqH1er2sX7++U1J5hUoZfT5fs5A5USYwijMZofbWX3/9Nbm5uWE/gJ0oIsKC6hKaVatWsXTp0rYLOVKZMPVsUgWQ0voxZeJIbJjIPfscettBThnGhZdcyNAe8ThSc5h+3rlMGDeWiWOGEWcVSOo7kakj0oFQ0aqCV7PSb/g4Jk+ZyjnTzyLNBtjSmXTOuUweO4YpM6YxtIcTkBkwbgY/mTqOcZOnMWVkL0Bk8Nip9OvhIKHPRCYMTYSk4cyc1A8AZ9Igxp09iMqD+wnEZZLTpw8ZiRbK8/KpBwRNRTNlMP3scdgsMlnDJ3PutImMmjSLS88/i2Qr4PNjTh/AkPQgsXekD+GcmTOYMHYc48bmkiBD0vDpTBnY5PEZ7iWj24bpKcD8fj+qqjb76Gpht9ttEKjq6moKCwuJi4ujsrKSZcuWERMTQ0JCAitXruSbb74xnBFUVaWqqoq0tDRuvvlmduzYwQsvvMDYsWO54IILWLx4MVu3buUXv/gFcXFxrFmz5qhpvXTo60pRlFb9VVXV+L1uk6QH7Y2Pj+ezzz7ju+++IykpCYfDwT//+U9qa2tJS0tj+/bt7N27F4vFgiAEYxsuXryYvXv3ctNNN6FpGr/97W9JTk7mhhtu4L///S8vvvjiUfNch0K32YOgQ0Fb/Q6dA3185557LhkZGWzbto2ZM2fyu9/9jvz8fAoKCnjggQeYMmUKX331lcFoHzhwgMGDBzNv3jxWrFjBRx99xCWXXMLQoUO57777qK+v56abbsJqtXZaQvnTAYIgUF1dDQTXid/vb/bR105hYaERTFzTNCNoeHx8vPHeBAKBZmtAdzry+/1cdNFF3HPPPSxfvpzx48fzq1/9iksuuYRDhw7x29/+lsOHD/Pwww8TGxuL0+k0+hbusdrt9k71/K2urmbx4sXGM43i9EfUWSw8EASBp59+msOHDwNdw64yIgygbgA9Y8YMrr/++mbfGeJlQQh6PKIhNBq0C0LQFlBszARistqxW4LhLCSTFYfDgd1mRRKFRmlc44mzqWViE5JJSohBkKxY5SZRtiCZscfEYDM3hcfQELHaY3DYLIiNuX+DXpiN9YsCgiAhN7YjisFxxWUPJstczbZNmzhYrjJowijiaXT+EEQkWQra7SFitTuw2yyYpGCO47pKL+m9e5HkADQ1ODazDYfDjt1mRRY0o+3OPjHodeuEq+VH/05HVlYWQ4cOZfny5WRlZfHkk0+Sl5fHihUruP7665k/fz6rV69m69at2O12TCYTr7zyCqqq8vjjj3PkyBGWLFnCWWedxW233cbTTz/NgQMHuPbaa4mNjW3XFjG0v7rdWsv+toyfZ7FYKCgo4JNPPmHhwoVcffXV/Oc//yE/P5+nn36apKQk3njjDUaPHs3ZZ5+Ny+XC6/Uye/ZsFi5cyCOPPMKePXu47bbb6NWrF4sWLaJXr17ceeedBsNwPM+5I32G4EaRlJSEy+XilVdewWq1EhMTw6pVq1i1ahV2ux2z2cy//vUvampqsFqtuFwu7r//fnr27MmDDz7Ie++9xyeffMKll17KT3/6U2699VYARo4cSUNDQ4f63R2hOy5BU2q3lh9BEJo5f1gsFt599102bNjANddcg9vtZtGiRSQnJ3PZZZfx5ptv8o9//IOpU6eSmZlJfX09gUCAF154gc2bN/Puu+8yfvx4br31Vl566SX279/PH/7wB+Lj41m9erVBGDqDQKiq2in16s/G6XRy5ZVXGkxsFKc/TjTSQRStcaolfi0REQZQZ/IsFouh/g0N/SEIwfy/QUasiUnTQu7p8fD+f/bOOz6qYu3j37O72U1vhCQkQUIggnSkVwFpCggolyIoCgHpHUOTDgm9BFEkAtK8oIKIWAEpSm9SLiT0lgTSyCa7ydZ5/9icQ0ITJMmF+/r7fA5Zzs7OPDNnzswzT827OD7okqS8AaE1vPBiFcICnIE8AaDv+b1MI/nqAkcQ6Ue0k0u/2iOIGvXqUrnCS1SvVYdyQZ7394t76nf0AtegF6lWPvSut/B9fZPyt/kMvYSyVC0hIUFh1mTnDhmyUwigSDeio6NJTU1lzpw5xMfHExsbS9WqVRk2bBgff/wxv/32G3Xr1i1Q1aRshpCTk8Pt27eV+0lJSQoDZDKZSEhIAPJ76W7evJnw8HD69evHwoULOXXqFEOGDMHHx4epU6fi7OzMqFGj0Ov1BUZvXqhUKk6fPo1Op2PWrFlcvnyZgwcP0qlTJ7p06cL+/fu5efMmI0aMwM/PD6PRyIsvvojdbmfu3Ln4+/sTHR3Nt99+y7Zt22jXrh2tWrUiKiqKixcvotMVTFih/y+wWq3Url2b8uXLk5mZiaenJ2+//bbinNSwYUOaNm1KcnKykhLu4MGDhISEMHLkSPbt28dXX31F8+bNadasGQsXLiQxMZGhQ4eiVqsV6WJhoLCcfOS1ycnJibCwsPuct54X3Lu/yAzzg6685e698jLaDytzr13d45QrCJqepK57abv3d09Cd0GUK+j+Pc3zyztfnlcUmQpYkiSOHTvG1q1b8xmVKgtE7sIkSXcXKSnPPe679+DLUdXdDCAOyYocrPnhdd39Xd57j2pHgMKU2RFCjau7Ozq1wG7P9UIRDsbvwf3CQZ9aznUsHkIH99H4rODWrVtcuXKFIUOGkJqaypIlSyhfvjx9+vRhy5YtfPvtt3Tq1IkaNWpgNBoxmUx06NCBGjVqMHfuXAwGA9OmTeP27dvExsZSs2ZN3n77bfbv38+1a9cK1EhWkiRycnIIDQ3l3Xff5euvv+ann37igw8+oGzZsixevJicnBzGjBnD+fPnOXbsGK6uruh0OuLj49m0aRMNGjSgW7durFmzhnPnzvHhhx/i5+fH559/TlJSUqHZ0slepgaDAWdnZ65evcqhQ4cUyZ/MAJYuXRqNRqPELxw3bhxeXl5ER0fj5+dHZGQk+/bt48cff6RLly7UrFmTGzduKOFm/sHjwWq1Ur58eTw8PJgwYQJGo5HKlStz/vx5pk+fTqlSpQgODmb79u1cvnwZX19fbDYbs2bNwtvbm4kTJ/LDDz/w448/0qpVK9q0acOECRNIS0ujQYMGhcaQywe2wti05PXLYDDw448/YjAYnrkD6+Pg3vBAslT+QVfecvde94ZaetSVdy/8q3IFQRPwWHXJkB2a5HUir7biSeguiHKP07+CHKtHlcnHvzynKBInEDnl0eHDhzl8+HC+eHKFAceiIzOBjnvKYiRJBWRD52ACHZNAlfsS536jknJDv+R3SMlDoPKduEtgrmfv8zOhtFqtEu7B2dmZkiVLKi9E8eLFFdsy+fnfuXMHZ2dnWrduzZ07d+jXrx9r1qxh6NChjBkzhuXLl9OnTx9atmzJwIEDMRgMuLu7F8qLFhAQoDBskiRRsmRJZeP18vLCw8MDm82GzWajS5cuHDp0CKPRSI8ePdBoNIwdO5YvvviCAQMGsHbtWkaPHv3Q/MdPC5vNRps2bfD09GTJkiUMGjSIJk2asH37dgBGjBgBwPTp00lLS8PFxYXz588D0KdPH2bNmsX48eOZMWMGH3zwAZGRkXh4eNCiRQvKli2r2Lb9g8eDWq3m8uXL5OTkMHz4cFxcXLhy5QqhoaEMGDBASRfXoEEDTpw4gV6vp23btmRnZzN9+nQ+/PBDVq5cyXvvvYfRaOStt95Co9EwceJEUlJSFOefgp7zarUaHx+fQov/J0kS6enpzJ49m8qVKyvhlZ4nyP2w2+2KdiDveMnflypVSpHWpqSk3Pes7HY7/v7+eHp6YjKZSExMVAQheetyc3MjMNBhu56QkEB2dvZ9ZTQaDYGBgeh0OjIyMu5LRyiXK168OJ6enlgsFq5fv35f3+SUlnIotqSkJLKysu7rnxwuSqPRoNfruXHjBikpKZw/f14JX2Sz2QgICPjL/rm6ulKiRAmEEMp4Pqh/JUqUQKvVkpGRQXJy8gOjUMj9s1qtXL169YFj7uHhgb+/P5IkkZiYqKTKzFuPWq0mODgYJycn9Ho9t2/fvq89m81GYGAgHh4emEwmkpKSFC2Xs7MzQUFBf4sJfJx87EWJIg0ELdsuFTbuDrCUjwEr6IHPW9/9dUsPZv4che/GCMxP4HPE/oGfnx+BgYFMmDCBDz/8kPbt27N//3527drF2LFjAfjss8/Yt28f1apVw9fXl+joaNq2bUvXrl3x9PTk3Xff5ZNPPiEmJoYhQ4bwxRdfULt2berXr6+cOAviuQkhcHFxIT4+noULFzJs2DAAZs6cSevWrenYsSO3bt1i+PDhLFiwgAoVKpCTk4PFYsHV1ZXo6Gj69euH2WymV69ezJs3j549exIdHU2PHj04f/48SUlJT03nw2A2m5XQJTLuHZe8dpqenp506dKFTz/9lMjISObNm8eYMWOIjo5mzZo1dOvWDWdnZwICAv7S1vIf5IeTkxM7d+7k+PHj1KtXj+vXr7Nw4UKmTp1KsWLFWLlyJXa7ndatW+Pl5UV2djaXL19mw4YNbNy4kTlz5jB+/Hiio6NZunQpQgg6deqEEILBgwfTtm1boODVS76+vixZskRxVCmMjUitVuPr6/tMhLj4u5CZoGXLlrF161Y8PT3zHWa1Wi2bN2/Gy8uLX3/9lXnz5uUL56RSqcjKyuKjjz7K5+iTnp6upGSUJIdGolmzZkRFRQEwa9YsDhw4gLOzs1LGbDYTGBjIvHnzCAsL45dffmHGjBn4+PjkC39lsVgYN24c7dq1Iy0tjd69eysB4gHlAN62bVumTZsGwIIFC/j111/x8vLK51AnO8X5+fmxfft2oqOjEUIQGRmpBPpPTU1lxowZtGvXjqtXrzJq1ChSUlLyqf5zcnJo1KgRc+fOBRze7nv37s3XP4vFQvHixVmwYAFhYWH8/PPPzJkzBzc3t3zOaTabjdGjR9OhQwfu3LmjHLblOaxSqcjMzOT1119n8uTJqNVq5s+fz/bt2/H29lb6Z7Va8fHxITY2lhIlSrBr1y6mTZuGq6ur8r6p1WpSUlKYPXs2r732GtevX2fkyJEkJyej1WpJSkpi8uTJdO3a9b41+WHzSWYWMzIynq31VhQBzGazEEKIFStWiMGDBwshhLDb7cJutxdF8/+zkMfPbDaLjRs3ipycnHz3H/f3FotFvPXWW+LIkSNCCCGsVut9ZW02mxBCiEWLFonx48cLIYRo2LChOHXqlDh06JDIyMgQRqNRXL9+XRw5ckRYLBaRlZUl4uPjRUREhFi/fr1YuHCh6Nevn5g4caL47bffhBBCrFu3TkyYMEGkpaUJq9Uqpk+fLsaNGyfef/99odfr7+uP/PnSpUuicePGCm0P6rPFYhFCCNGjRw/x008/iYsXL4p69eqJEydOCIvFIoxGozh06JBITEwUOTk5Ii0tTezatUsIIUSrVq3E3r17Rc+ePUWvXr2ExWIROTk5YuzYsWL9+vVCCCH2798vhgwZIm7duiW2bNkievfu/UB67Ha7Mn5LliwRI0aMEEIIYTKZHvpMUlNTRcOGDYXNZhMLFiwQTZs2FampqUIIIX777TcRExOj/GbBggXiwIEDIi0tTbRo0ULExcWJrl27iu+//15ERkaKuLg4IYQQ8+bNE/PnzxdCCHHjxg0xbdo0UaVKFfHLL788chz/FyHPjcWLF4sJEyYIIe7O8byQ712/fl00a9ZMCCFEVFSUmDVrlhBCiG3btinz9MaNG2L79u3Kb7/++mvxxhtviEOHDgkPDw9x9epVIYQQH3/8sRg0aJAQQoibN2+Kfv36iU2bNgkhhGjRooVYvny5EOLuulkQuPe5FvRzlsfp5s2b4o033hA3b94slHYKGzK9GRkZyvN6WLnH6duD5tR/u66CKlOQND1uXY/b3l+VexqaJk6cKObNmyeEuLuO/FVb8t/Vq1eLxMTEfPf/m3h+j2n/4L+OpKQk4uLiqFWrFjdv3lQ8IWvUqMFnn33G6tWrCQ8Pp3Tp0pjNZjIzM6lcuTJ9+vRh8+bN7Nmzh7fffpsKFSowc+ZMzGYzY8aMISsri5MnTxa4BMRiseDn50fVqlVZsmQJGzZsoFatWhQrVkw5wb7yyiscPHiQAwcO4O7ujlarxcnJiTlz5qBWqxk3bhynT59m9erVSkDr2NhYdu/eXWgqLyEEpUqVUiQ3oaGh1KpVC6vVihCCOnXqULJkSVJTU5UAo6mpqbRp04a2bdvy8ccfc+3aNUaMGIEkScycOZPg4GD69OnzyAwY/+DhkFVwR44cUcLApKWlcfz4caXMzZs30ev1ODk5Ub9+fUaMGMG5c+cYMGAAVapUYejQoQQFBTF//nx+/vlnNm3aRLVq1ZR5VFDPReRKILKysli7di1ZWVl3TWL+QT7IUqfjx48zZcoU5V7ecFiyHaXItamUU0nee+WVqj2s3OPUJYe5kut6VHtyXY9T5nHaE7kOEQ8KtSX3T/5cFP2T2/ur/j2qrr/7/OT/S5L0RHbTeVXF77zzDoGBgQ9MBfrfQJEygPcal/6D5xuBgYGUL1+e+Ph4SpYsyYwZM9Dr9cTHxxMREUGPHj1ISkri5s2bODs7Yzab2blzJyEhIQwfPpylS5cqWUUqVqzIyJEjUavVvP/++9y6dUvxzi2ojUqj0XDnzh0uXbpE//796dy5M3Fxcej1embNmkVAQAAnTpygTp061K1bF4PBgMlkolevXoSFhTFy5Ejc3d2ZPHkye/bs4euvv+aVV16hQ4cOfPXVV4XmBGKz2ahatSo5OTkMHjyY0NBQ6tSpw7p161izZg316tUjKCiImTNnkpycjJubG9evX+e7776jYcOGvPnmm4wfP57k5GSGDRuG2WxmxowZBAQEUKNGDcVL+x88HmQV8IULF5g4cSJCCFauXEmpUqUYNWoUO3fu5LfffqNly5aEhoai1+t54YUXiIiIIDY2luPHj9OnTx/Cw8OZNm0aOp2O2bNnc+TIEfbv319oTiAqlQoPD49CV88+z+pfGWazWfHqz6tm1Gg0uaHBVEr+bY1G88BLLierTR9V5lF1PWl7Mp1P015eW7W8Th95/xYU7f+N/v2d5yePR+/evZVc9vfaYj4IIo8K+OrVq+Tk5ChB0v/bKFIbQIvF8o/B+f8QZO+wzz//nLFjx+Lt7c2JEyf47bffmDBhAlqtVvGYbd68OX5+fhw7dozY2FgiIiJYtmwZH3zwAR988AHvvfceKpWKsWPH8sorr9CqVStcXFyAgrMB1Gq1JCQksGnTJiVd1YYNG3j99depWbMmCQkJfP7558TExODu7q6cTA8ePMjgwYPJyMhg5MiRTJw4kdjYWHr37o3BYKBnz57MnTuXn3766anpfBBUKhU3b97E1dWVDz74QMlh3LRpU1QqFWlpaeh0OiXlnclkonTp0qxZswaz2UynTp3Q6XSMHDmScePGMXnyZMaPH8/y5cvR6/V/acPyD+5H3sOsvCnKm4G8QcqbiNVq5eTJkyxdupTAwEBWrVqFs7MzgwYNIjY2lmnTpjFp0iSGDx/Oli1bSE9PBwru4CNvPq6urrRv316puzAO40IIjEbjM7G5PQ0kSVLeC5FrE5iRkcHo0aNJSEhQbPkKr30VGictThoVFpMRs+0e90ABTi4uqG1mLEKNVgM5OSYllNjfhRwqq1KlSkyaNAl3d/d8acvkeWOxWIiOjub333/H1dX1yYLJSyBsArXOBRcngdGQjV1yxMW1Czm+rp2/O7xC2FE5ueLh7ow9x0Cm0YSUl36VGpWUG63jUWTmOgPJkRSCg4Ox2WxKtqy/k87tyy+/pFu3bpQqVeqZ8CIuslzAAO3ataNp06ZF0eT/O8gi7bz/L2ykp6eTlpbGrFmzuHXrFrt27aJGjRrUqVOHkydPYrPZGDBgANeuXSMrKwur1UqvXr2w2+0sXryYIUOGMHnyZFavXo0QQgnPsnnzZvR6/WOdrh4XslFymTJlGD58OMePH0er1RIZGYnVamXXrl1UqFCBOXPmoNfruXTpEjqdDp1Ox549e6hfvz59+/bliy++ICYmhmHDhhETE0NUVBS//PILwEPzFj8tVCoVe/bsITk5mUqVKrFt2zYOHz7M5MmTARg/fjwtWrSgadOmLFiwAJPJhKenJ9HR0axdu1ZZdAwGA2vWrOGdd95hxowZrFixgnPnzv0TB/AJYTabadWqFWXKlGHSpEkMHjyY9957j9OnT7Nt2zYiIyMBWLRoERcuXKB48eKcPXuW7777jjfffJN33nmHcePGKQehuXPnMnbsWKKioqhZs2aBS9DkjcZms3Hnzh28vb1Rq9UFugHJ9fj4+BAZGfmXqRyfB9y7hiYkJHD06FGioqJwc3PDarUWygYuqVTYslP4c88v/LT/PDW6jKVjZScyTSI3KYITrroUlo0czenAV6hgPskpWwOmj3kHd8sdbE+h2HNyclIcPBITEwkPD79vX5EkR/ac7du307dvX1588UXFDOIv+yZJ2CKFagAAIABJREFU2G12tG7uZF0+zMErEg2b1ESbk4kFDTqtihxDNjhpUUt34+c+ft02tB4+GE99Rb/BswiJWMb896qSmZ4JKhUanTM2gx6TpMVFK2GzibsBOO6BSqXCbrczevRo4uPjCQ4ORq1Wc/78eZycnAgNDX0iJlCSJCIiIgrVCetJUSQMoDyQsrv7s8D5/q9BpVIpG/njju3TMolGo5G0tDTAEQD6jz/+oH79+mg0Gk6fPg1A9erVlawA6enp+Pv707dvX6Kiopg0aRJTpkyhR48ezJs3D61WS6dOnbh27RoLFiwgJyenQL3G7Xa7IrU8efIknp6eVKxYEbVazd69ewkNDcXf358LFy6QlJSkMHT169dn7dq1CCHo2bMnX3zxBSNGjOCzzz5j+PDhrFy5kg0bNhTa4cZms/H6668TEBDA7t27ef3112nTpg3nzp0DYMaMGQgh2LhxIwaDAZ1Ox6VLlwgNDWXgwIFMnToVq9XKO++8o5SfN28evXr1Yvny5c+WV9pzAJVKpUjp6tWrp0iKvL29qV27tlKuZMmSeHp6YjQa6dq1Kxs2bCAzM5OePXuyYMECIiIimDZtGqNGjWLJkiWMGzcOV1fXQksFl5KSQu/evVmxYgX+/v4FzgDKUsZmzZoBz/c6/yBzJSEEZcuWpWXLlkVDxIlNzL9sZ2zPZtS4z+RMz75azXlt2Me0SlhMv680vFqvWoFs6EIIVq9e/chnJ4QgICCA1q1bU6xYsb/RylXmxv7IT3ESxeu154PGDt4g48IZzrk64+5eiophf6degMtMWXSS2l3eI/P8r8Q7vUOXJrmH8/R4Dl10wslqIaR8bUK8/7q2ChUq5GPyVq9eTbFixRg2bNhjMYB5bQD9/PyAvyc9LAwUCQVyZ69du8apU6eUAXne1QTPClQqFUajkePHj5OYmEhqaipGo7HQgr7KCA4Oply5cixfvpwSJUowfvx44uPjWbNmDW+//TZvv/0233//PUePHsXV1RVXV1diYmLQ6/WMHTsWnU7H9OnTqVChAlOmTGHZsmUcOXKEjh07EhISUuC0Ozs7c+XKFTZu3EjPnj3p2LEjX3zxBRcvXuSjjz7C09OThQsXUqlSJRo0aEBWVhYmk4n69evz0UcfsWDBAg4ePEjPnj1p2rQp/fv3x8PDg5EjRxIcHPzYp+C/Azc3NwwGAz/88IOyMB8/fpwTJ04AjkVm9+7dZGVlodPpMJvNDBgwAB8fH6Kiojh48CBr167l1VdfZeDAgQwdOpTMzEwqVqz4j1nGE0Kr1fLNN9+wf/9+WrdujV6vZ/jw4Xh4eNC0aVNWrlzJihUrqFWrFgEBARiNRjIyMliwYAE3btxg9erVhIaGMnbsWNasWcPx48cZNGgQYWFh/P7774qxeWG9u4VRb17V4KVLl7BYLM+1o4nVar3vvZC1CFlZWUqZvA4CBXNZMZsczz/9zm20pepTLQ/zZ7OYsQHi3B7i1UG87JPND7vOU7N5SzSA1WJ5qvbBcVA3m82PHB/5Wcs5nx93LKw2AeSwd903uLabzd5vp2E5spn/JDjau7Lva1Z8/yfO7jpAYLM+Pu1Wqx0wseOzVUjNPmRd7HJWjG/D0X9/Sny6Q0V9+dcVTF76PZqA4tj0RkBgfUgbsnPLveu6bBv4uMhrAxgTE8ONGzeeGRvAImEA5Y5evXqVP//8syia/H8DkRvYsnHjxuj1eo4ePcquXbvYtm0bmzZt4ttvv+X7779XMg/8+OOP/Pzzzw8MXvqkkD2otFqtIkW610PKyclJkQC7ubkRHh7O/PnzuXr1KuPGjcNqtbJo0SJCQkKYNGkSGzduZOvWrVSpUqVQVJOSJOVT1Wq1WmUcZAkhoGxgKpWKjRs34uvry/jx41mzZg379u2jW7du1KhRg4kTJwIo9oCFAZVKxeHDh5EkRzLx//znP/z888907tyZrl278sMPP3DhwgVGjRqFn58fBoNB8b6eNm0aarWaOXPmcPToUTZs2EDdunXp1asXCxcu5OzZs4XmvPK/CovFQsuWLalZsybXr1/Hx8eH0aNHI4QgMTGR9u3b06lTJyV7i5OTE3/88Qeenp58+OGHxMXFsWzZMmrXrk379u1ZtmwZ586dIyIiAldX10JLKViYkNd4vV7P6tWrn8s+wF2pa2BgIPXr18/3nbyRy6YpeR0ECuJSqdSoJAmVTg3Wi+zYeYLyb3TCEwNH9+8n7kY6aLSogfhLF7GZBRfPHsOrfl8GtSkLwo5a44Ra/ffoujff++MwKHl/88j6ZecNtYTdIlG3+wgGtA0nQypF737vUtIthzvpd/CtWRuf88e4onIHJLjn93mdNxx/c++pHZ+FDWp1jWTiew3BZsOvXg9mTehFSVc7dqB055E0se/j378bKfWCK1arQK158Fjcm/Ek7zz4u/j666+VVKT/bxhA2d6kUaNG9OjRI196lX/w95E3JU1oaChNmjShbdu2vPXWW7z11lu0adOGJk2aUKtWLapXr07VqlWpUqUKFStWLJCQJUlJSVy4cIGePXty+/Ztpk+fTlhYGF26dGHdunWsW7eOVq1aUbVqVYxGI9nZ2bRs2ZLmzZuzePFibt26xaRJk7DZbCxcuJCyZcvSp08fTp06xcWLFwtcRG4ymXjhhRfo2LEjq1atYtOmTXTr1o3Q0FCmTp1KZmYm/fv35/Tp0xw8eBA3Nzd0Oh0JCQmsXr2aChUq0KdPHzZt2sShQ4eIiIigfPnyLFmyhCtXrhRqKji9Xq8w2RkZGSQkJCgb0c2bN8nKyqJYsWKo1Wrsdjtms5mhQ4cSFhbG9OnTcXFxYdy4cZw5c4aNGzfSokULmjdvzu3btwvNdvF/FTabjZCQEJycnJSUhkFBQVy8eJElS5bg6+uLp6cnf/zxB9euXcPLywsvLy8++ugjhBBMnTqVM2fO8MUXX1C/fn169epFdHQ0Fy9epEGDBgXq/FRUkCUaxYoVY/LkyRQrVuy5VAHL/ahatarC1BcdHNmkNEB2/GEO3ShOm1qC37dtIfajnjRqM5CjJgADR07EEdKoK83rNqBVk8pohB2BnFa0CEl+TDgyXzns/1ROOqxX9rNi+TrOXL7Iv2cM5MPY38kxGbie4kKHD96noptDGqnKzbbl6JIjwxbS3axeyClec5NoSWodnp6uWMw2hEoNNgsmocNFpyH1P3/wzeaDVGten5ybVwFQ56Z0LYohkyQJT0/PZ8rprsgkgLJHjZwu5h8V8NNDHr+84ylfKpUKV1dXfHx8CAgIoESJEgQFBREcHExISAguLi5PPf7u7u4UL14ccNg/NWnSRKmzWrVqVK5cGYDs7Gwl7U5iYiINGzakefPmDB48GEmSGDFiBImJicydO5fw8HA6duzIiRMnFFVLQXpDWiwWAF5++WUqVKigxLRq1qwZnp6e2Gw2QkNDCQ4OxmKxYLFYePfdd7l8+TJLliyhatWq9OrVi5kzZ3L16lV69uxJSEgIkydPxsvLq0DovBc2m42WLVvi4uLCzJkzqVevHu+//z7fffcd3333HX369KFatWrMnDmTlJQUXF1duXDhAikpKXTv3h1/f3+GDh1K8eLFGT58OFu3buX777+nXr16vPTSS4Wquv5fhEaj4T//+Q8ZGRlMmjQJnU7H8ePHKVOmDJGRkVy6dIlr167RtGlTSpUqhV6vp2nTpgQGBioHjcWLF3P48GFWrVpF7dq1GTRoEAsXLuTSpUuFmkItbz7YgkReNZd8PY8q4AftVUXafu6WHHfoF275hmGJu0rxV7rQs21tXO1WXJyBzEQyhS9lSjnso202W27OeTmb6LPGdOcybXY7KrUKU/x39Bs6H3v1jjSoFs7VQwdI0vgQGBhM/cZNqFv3ZQJd7jopCZsjZl7igRWMGPsJN6wgYcnta64DpCQhWQwc2zKHFg0bMnHDaSQJbKmnGdqiGqO/OY9f2UpUKFuKsq/0YtqQ1g7S1Cok6ckSsD6pCjgv7Hb7M/VOFAkDKNsW/PjjjyxatKgomvx/gQelopP/3ssQ3hvEsyAmobe3t6L+cnJyomHDhhw7dowpU6ZQsWJFqlSpwpIlSzhw4ACurq74+fkRGxvLrl27eO211xg5ciSdO3cmMTGRWbNmkZaWxuLFiwkKCuLVV1/Nl6v3aSGEwNnZmfPnzzN79myqVKlC+fLlmTJlCqdOnaJhw4aYzWYGDx6Mu7s7YWFhmEwmrFYr2dnZTJo0iUuXLilp4latWsXQoUM5dOgQHTp0YNy4cSQnJz81nQ+DHLw3LCxMuVe8eHH8/f0Bx8IiS6XAkaavV69enD59moEDB1KlShUGDRqEm5sba9as4csvv2Tnzp14eHg8WQiHf4BGo+Ho0aPEx8fj6+uL0Whkw4YNqNVqPD092bdvH3v27CEoKAh3d3dycnI4f/48w4cPp1q1asybN4+cnByioqK4efMmK1eupGbNmnTv3p1z586RmZkJFLyKyG63k5WVVSjPW6b1zp07zJs3T7ENe94g9+PEiRPMnDmzKFt2/FFJgIWjv/6BXu1JhZbtKeeexjff/45/g85UBmwupYgYM4UutYpjF6BW393GJelZTCcqIQk7dkkFXGf8kHFk1hlERE13uPEHR4wl+VfTagCYLXcDNcsHCJXGoenQmpM4G5+AkwaQtLke0XLKVYFd5cbL7btTxX6ZH3/ZgxFQ+5fl5QrBJF24iqT14qXKlQkrGYyPqypPG082YpmZmYq5z7PEzP0dFKkNoKwyLHIIWSx+lyHKS1dRtFMU8yQvE3jvpbrHhqIgmCqj0UhOTg59+/YF4Pbt24SHh/P222+j1+tJSUnhX//6Fy+99JKSBPzdd9/l999/Z+vWrdSpU4eePXuyePFirl27xsyZM7FaraxduxZnZ+cCDwNjNpsJDg6mU6dOZGRkkJ6eTvfu3SldujTJyck4OzvTr18/AFJTU5Ugod9++y3p6enMnz+fzMxMYmNj8fb2JioqivXr13Px4sV8jFlBQ61W88svv5Cenk7Xrl359ddfmT17NvXq1aNu3brMmDGDffv28f777ytep0FBQYwfP561a9dy5MgRevfuTZUqVZg3bx7Z2dksXbqUw4cP8+effyoqx3/weDCZTLz99tvUqlWLdevW4e7uTnR0NKmpqXzzzTf06NGDHj16sGvXLsVG8Pfff+fChQt06tSJcuXKKQ5EgwcP5vjx46xcuZK6detStmzZvzTA/7twcXGhefPmhWrzaTQa2b59uxLE/XmDvGanpKTky+pS+A07/lFLgPk0W3Yn0ujNbrwaAlw6xJF4I03/9aqjrEqDRrEZlJmgZ4/tuwuB3W5DLUHGjnV8f9aNnv1fAeC7T+bzH1V5alVyASyKvZ8E2HMlsLePbyXyg+70jd7K+f/8xIBuvRg9ey0JNglJsmEX5KqA7UAQnVpVIf36Oa4DCD2e1TvQr0sjAKzW3IwmeSXUTzh0rVu3plEjR31Pukc9a4ftIvVDVqvV99kbKVIquEdSdQ8z9TQNS1KubcRdhiivfYpSvyIxc3x2SMru0vk07TzT7+ffxO3bt7lw4QLh4eEkJCQwc+ZMvL29CQ8PZ+3atXz11VcEBAQQHByM1WpFr9cTHh7O4MGD+e2339i0aRNt2rShQYMGzJkzh9u3bzNixAhUKhVHjx7Nl+y8ICAnAg8LC2PlypV89913vPjii3h7ezN16lRSUlKoUqUKBw8e5NixY7i5ueHk5ISfnx8LFiwgPT2diRMnkpSUxPz583nppZfo2bMnX375JVu2bFHCdxQ07HY71apVw8/Pj/T0dKpVq8abb76JXq/HYDDQpUsXKlasyPnz57FarajVapKSkmjUqBHdunVj5cqV/Pnnn/Tt2xc/Pz9FXS2r4Asd+Q5Cf/35eYA8N5OTkxWzgpycHFJTU5UyRqNR+a5169aMHTuW/fv306NHDzp06MB7772HVqtl8eLFnDp1iuXLl1O+fPlCCwPj5eVFZGSkYqpQKDHsJAkXF5dnnCH5a6jV6qKNjylJIBzMQc7hbfyprkjXjq8DcOboHhI8X6FV6WxuJaSgVkm5+2OuDpTnwJwqlzyTxY5Jf5sL565w9chP/HQokZcaNSNcBcIioZIkJZi1HLzZvWQ13hk0indff5mQUtXoMXAUPdvVxTGLHcyikO42EhwWgCH5FlYzxG/7lqzgxjQI1SFsNof6VnK0A08uMbVarbz66qvUr1//b4Vy0el0z0T4FxlFSsnD7P4k2Xghn6Qqj02D48e5v82v2nQwb3kYt7zSt3zlJCTJjiFDT47VftdehTz1K44pduySnPbm0ZvW3Uum0cEEZmfqMZqsD7TPu78OHvHdX0sSH07To6+nRXBwMBUrVmT//v2UKlWKhQsXkpyczKFDhxgwYAB9+/YlLi6OS5cu4ezsjN1uZ/PmzXh5eTFhwgS2bt3KL7/8Qtu2bWnZsiVjxowhJyeHXr16kZOTo4RhKKjFzcnJieTkZI4dO8awYcN49913OXDgACkpKcTExBAQEMCOHTuoU6cODRs2VDJudO/encaNGxMZGUlmZiYTJkwgISGBTz75hOrVq/Pee+9x4MCBQnux7XY7YWFhZGVlMWHCBIoXL07ZsmXZtGkTX331FWXLlsXHx4eFCxcqNoC3bt0iNjaWqlWr0rdvX+bOncu5c+fo06cPwcHBjB49GldXV2rUqFG40hqRG8yVPO+jfP8BnyWefSZQq9Xyww8/cObMGYYNG4bFYmH+/PkEBQXRt29ftm7dytatW2nWrBklS5YkKysLT09Pxo4dq+TAbt++Pc2bN1fSJ86dO5fExET27t1b4EbieQ+ickqrwnTQeNakHH8HRW6jLgTC7lg/vl21CUPxqtSrCGDn8qkDXErJ4NyhE6RJdw+Z92p8nl1ISGo1dsC/eS9mfdSJ899sJlGnw4o7tevWA8CqUjtEeRK5wpTc2JJ+JalUuTqNqpRA61ycBg0rUOmlsrip7HeFLY5WAHAuEYwPmfy2cTMHM8vStW1FsDucQiQ5uPTfhEqlQq/Xk5WV9cShXIQQTJw4kdDQUMeoPAPP7L+eCziflMyaxYWTh9iz53eOnb2G0SrPBfkh55euKZI1RQQucvlIx327uPtbx+HKRNzho9wwWO7SI+56JEvCTGZWNpKkQiXSOHH4DBlWR7t525PFxxJSnj4J7gYtt3P15AnO39bn67fk+E8e0bN83373c97681wPkiTmNbaWJaf52vuL62khe3f/9NNPiqTj+vXr7N69W/n+999/59q1a2g0Gnx9fUlISGDx4sV4e3uzfPly1q9fz5YtW2jXrh0dOnRgwoQJnDlzhmbNmuHq6qr052khhMDJyYmUlBT++OMPpd7du3eTmJgIgMFgUNK5abVaZXx37NhB8+bNadGiBePGjSMhIYG5c+cSFxdHTEwMISEhREVFKUGxCxoqlYrLly/j6urKmDFjSElJ4fLly7Rp04Z27dpx5coV0tPT6dOnD76+vuTk5FC2bFn++OMPVqxYQdWqVRk3bhzR0dEcOnSIIUOGEBAQoHhiF6oXcF6puGx+YBcP/pzvEPbswm63ExAQoGS70Ol0vPjii8oBoESJEoSEhCjvhM1m49ixY9SsWZMPPviATZs2KZLAChUqKKYPo0ePxmg0FngqOHmNSE9P56OPPiI9PV1ZMwoDz/rzexw8ao3M+1ye9ND90AtApQKsVH53Bl8uHU1pByXU7TmPfy8ewCvNmvNSCR02u5y9ooDaLiBm99F1O/ZauyaQziPm8Onc4dQVZzl1J5hmzQIBm6P7iiDlLk3yPHUu14kp43rgagPsNux5pJ9CgCzOcQ70x3z2AHsuS7Tv1gqPXPtDifuFRE86HiqVijVr1rBlyxaAx9JS5XWGevnllxW762fhPSlSBtBmsymLogyZEcKeydE9u0igBLVqVcbLeodbdwwgSVgM6aSkZyIkFZJkx2qzg7BjyEjHaHHYAZhypW0OV3MLZouESiVhuJNKWmYOKjWAwGq24HhkNsxWG0KSEDYLFjuYE8+wY88hriSlk5aSjXcJf1xUgKRCmLJISb2DBYf42G61IiTI0d8hM0f2bM7TV4sFa26uQbMhg9T0TOyShGQ1YbYJhfm0mE3YJBWSLZvUlDRM4m79dmHDkJGB0ZxHYpmnjbzMoRwbSV7YzWYzRqMRvV5PWloaqamppKSkkJyczO3btzGZTE89AVNTU7l16xZTpkwhKyuLTZs2UaVKFUaPHs3vv//Onj176N27N7Vr1yYrKwuLxUKPHj0oVqwYs2bNQqPRMH36dI4cOcK3337LG2+8QYsWLfjpp59ITk4uUImaJN1NBTd48GB2797NwYMHiYyMpHz58nz99dcAzJkzh6SkJM6ePaukgjt06BC7d+/mX//6F02bNuWTTz7h9u3bLFiwgMzMTDZt2oTRaMwX/7AgIccBTE1NpWTJkhw+fJh169ZRvHhxihUrxsqVKzl58iS1atVSgkA7OzsTHR1NWloan332GS+99BIDBgxg8+bNHDlyhFGjRilZTwpV1SXuSsVTr8Vz9mISQiWRdi2ec5duYVdJpF2LI+7Kbay578SzLgG0WCw0aNCAoKAgRo8ejdVqpW3btly4cIEpU6ZQs2ZNqlevzrZt25RUcDdv3mTVqlWUKVOGQYMGMW/ePOLi4ujWrRtly5Zl1KhRuLi4ULdu3UILE+Hu7k7Pnj2V7Dr/SAAfDrvdfl+GHHm8ZCe6ex3rnvYSwobVqqJio9doUbsMNqsVq9WOX5mavNW5AxX9NVisVhAF227eS+7f4wgJ8h4iHruPNivmbCNmUwqff/Y1KV6lCdOB3QY8dFwENqsV18Dy1KtTCXesWAWI+8rmMoxuZeg5ajrRYzrgiQ2Lzf6Ask82JnnHIiEhgVu3bj32XMorbd+3bx8ZGRnPTCDoIglII3fey8uLgICA+78HMm7Ek2QOoEWVkmiBMpWrAJBy+U/OXM9Cq7Jy1jmAOjXLo7+0j/3nrQQVU3HH5EyVl8ty4+gZAuo1IEhrJv7YQVShNfG4/Sfx6QKNPRu1XyXqVvACBGqtDuPVE5w0+FGnQgiWpP9wJK0YL2rukJKcwvUrl3HhDreyvPAPKY49KY4j8bfROEkYLa683OhldAmn2X0uGS9vL7IzTYS9XIdQHy131z4JjUbClJnI2XM3yM4xovIJJdzXwOkbOhrXLoM54zrHz6ZTrloIV46fw6RRYY5zpnL96mhvnGJP/G10bgGEV3gRV63rfeMmTyBJkkhISODy5ctkZmbmUwnn/SuXtdls1KpVS0nN93dhtVoxmUzK54SEBEWalNcWSqfTKRIIX19funfvzuLFixk2bBgLFy6kb9++TJkyBY1GQ9u2bbl8+TKTJ0/GaDTi7u5eYOoqu92ubK7JycmKrZWTkxMJCQnKaS4rKwuj0agY+LZq1Ypvv/0Wq9XKm2++iSRJDB8+nHXr1jFixAhiY2NZsmQJHTp0eGoaHwSbzcYbb7yBv78/mzdvpmPHjrz22mscOXIESZKYMmUKAJ999hl6vR5nZ2cuXLhAQEAAgwcPZtKkScTExCg2f3PnzmXGjBl07dqVpUuXFprTgQMCm01CozHxef9mTLv+L1JPLmB1r4ZM1L/DrUPzWPteTSbYB3FhVxT+ditCpXkGPRnvQqVSKcFc33rrLXQ6HQaDgcDAQNq1a0dOTg5qtZqKFSuyb98+MjMz6dKlC/v27SMnJ4dBgwaxfPly+vTpw7Bhw4iIiGDNmjWMGDECu91e4DaA8iHRycmJsmXLAoWXpk2SJJydnZ8J6cbTwNnZWUnbJUMODePm5oYkSYUez019X/0qnDSFL7OR8xw/ipEXQmCxWBQHsicZC7WLBtOtqwS1GMT8diUgy4LK+/G1EJJa80jGxbt0W6bOVlpzeA0/BeTnLkOr1f5trcnevXsJDg7Gy8urUM0wHhdFwgDKG2nLli1p0qTJA8sYMu6g8g5HC9hsjnhBGJM4eeoawU3aUc7zDnt//J2460EUy8kkRx1CjToVOLXvF25dDaaYWwbxlw0ElU7harKaSoEXOHrNRoOWDfAxXefHHw5zI/xVnCSBkMBmzCAjyxFvS2TfIdlQjPpVwih5y4PqdV7GXbrOj99dw27L4M8TF3B7qRHVS3kSt2sTR+LKUl+j547JhQa1a2P582f2xScSWqeU0h8JsNsFTm4+lH7JF7eca/x6+DzpvpWQko+RZC+D7uYFMp3DuXP6GLe1pWlWoxTntm/myPly1BfppJk9ade8Gh6SwxklV9GcD/LivnfvXkqUKEG5cuVwcnJSLq1Wi0ajUaRpeb2CnxaBgYGEhYUxd+5c+vfvz6BBgzh27BgHDhxgwIABAPz73//m4MGDVKxYEQ8PDxYsWECXLl0YMmQIn376KSNHjmTevHksXryYgQMHotPpaNmyJRs3blTmTUGpgF1cXLh48SIrVqygV69eACxZsoQmTZowZMgQUlJSmDp1KhMnTqR27doYDAZMJhPly5enT58+vPPOO1gsFjp27Iinpyc9evQgJiaGQYMGceLECSV8R2FArVZjNBo5deoUHTt2BODatWtIkkSNGjUAiIuLw2QyKdlXunfvzueff050dDSRkZEsWrSIoUOHMnPmTD788EMWLlxIeHi4wsQXDiQcj1HLuwu30dziixPQbekvNLYVQwd0+WQ3DfHHB+AZZ/7AcaBZu3YtrVu3pkGDBly7do05c+Ywffp0Xn75ZWJjYxFC8Nprr+Hn50d2djaJiYksX76cVatWsXTpUgYMGMDUqVNZvXo1drudd955B41Gw7Rp02jevDlQ8Crg7Oxs9u3bR/369ZU4oAXJZAIUK1aM6Ojo+5in5wXyuvjyyy9TpkyZfN95enpy/vx5XnnlFXQ6XZFIOoUQiqlNUUiM1Gq1ksXlUc5Crq6umEyd4aE3AAAgAElEQVQm2rZti7+//32avb9sR+uCu6sO7FY+WZCNyVKQDn8Ce65pydPMblnCKWetkvGkYdTyqoAjIyMdFOZq7f7bKDIJoM1mw9PTE8ifCFkeGJVajT13EknCYaZpNqdj0QRSyhPAmxB/b1Iy0jDrvAgJLgFIuHl4YhOCwLBQ4k9eJkGViTa0HM76MzgHlcZHDbiW5AWfY6RlWNGoHdHDhaRGk8tgaLQ6nNQS5J56rBZAsiFpdaj0qeg1PpQPdNBeqnQg8YkZ2Io74V8yBA/A4uuN6vr9L4AkqbBnZxD/ZzxWcxZ6sxNunn4EFddw9eIt3FPshNXyIW1nBganaxzcl4TFKYCSPjqsqRoCS5XGQ0WujaPDePVBE9pms6HRaKhbt+4TqSGfdgOwWq1YLBbCw8OVxdDDw4PSpUsrdL3wwgt4eXkpp8X69euzbNkyOnfuTL9+/ViwYAFRUVGMHTuWWbNmsXDhQo4dO0aZMmUK1DZNfpldXV154YUXAEf/S5cunU8l9uKLLwKO4NUyo7xhwwYaNWpEdHQ0s2fPRqVS0bJlSzIyMpg+fTqzZs2iQ4cObN68ucDozQuVSsWePXvo378/EydO5OjRo1y4cIEuXboAsH79eqpWrcrIkSM5efIkBoOBMmXK0LRpU2bMmMGIESOYNWsW48ePV5jfMWPGsGLFCk6dOkXnzp0LhW7AYQOIQAgVgeFVCQSwCwJerEYAgN1OQLmXHZ+F3WHmUXjUFAhMJhMdO3akQYMGnDx5krCwMGbPno3BYODs2bMKM7dz507u3LmDi4sLe/fuRZIcQc+nT5/OzJkzGTduHN27dycmJgatVku3bt34+OOPlQDoBY2MjAzmzZtHpUqVCoUBFEKg1WqVkEjPgoTjSSGvE25ubri5ueXrQ8mSJdm1a1eBpNH8K8hjmZSUxJo1axg4cCBarbZIbMeEEPj5+REQEHDfM5Sfs7u7O//+978V++knb8OO3WZHSJIj7MszOk+EEHh7exMUFJTHDv/J7JTl3wkhyMrKwsXFRWHq/9v9LhIG0Jbrfn348GFu3rxJhw4d7uOg/UqEIJ2L44qxDKGuasyGLLJMWiRrKrdMUEqXya2MLDxf9EWjv0KO2WGfYbNaMCHQ+r6Ah/iVnUfcadKxGB63nck6dwsjJXE1JZKQ5UJlHw0JFhtaATotZN3KRgJuJSaRZQ4CjYTVYnE4WqjAZjaDuzcu5nMkpufgE+hMwvVUPAKroLJfUVRnNqsFmz1/f2wCdJKR08eOk+nbmGYVzWR9f5BslYaQ4BAuHfmFmz51edPVnTg3F4q/UJ0GZXyU36ckWbDmMsRKGhwhlIjv90KSJEwmk7JIyPcKE4mJicTHx9OhQwfi4uJYtWoVkyZNIjw8nM8//xxJkujVqxc7d+4kJycHg8FAw4YNady4MbGxsQwcOJDhw4fzySefMGPGDMaPH8+QIUOYNGkScXFxBU6/yWSiRIkSNG/enE8//RQvLy+6deuG2WwmMjKSvn370rVrV44dO8b+/ftxd3dHp9ORkZHBJ598Qv/+/Rk2bBhLly5FkiTefPNNABYtWpRPHVIYkHNUyp/zMvqylFej0ShjZjAYiIiIYMuWLURHRzN58mQmTJjA3LlziY2NJSIiAmdnZ9auXVug8RbvgzJn5bBKEiq1CpGbveDez1KuQfx/e2F8FOx2u+IAsnr1akaNGkVgYCBnz55ly5Ytikr+xIkTJCYm4ubmRunSpRk1ahRz5sxhwoQJTJw4kblz5zJq1CgiIyOZPn06KpWKevXqFajzU14UlOT/QZA3M4PBwM6dO2natGmBmm8UFWThxJUrV/jzzz9p3769In2TJInAwMCnNp15Unz33XeMGjWKcuXKFWm7D3p28v+FEPj6+uLr61ukNP03ITPfVqv1PvvQx8WUKVP44IMPKFu27DPxbhSJDFLupKur6wPTZQkBGp+y1KlegrhdP/Pbrp3sOXgak1tJqlcoxn92/Mz2Xw9g8XmRl0I8AS1uLg7eVevsitYJwJ0SXjo0nj4UdwbtC5V5yTuTPb9sZ/vuU/hUqEmgWoXazR2NzYoutBJBtmv8tGMPF/Xg5eoErkGU1KaxZ+8RUgw6fDw0WDS+1Kz6AjdO7GLHjl+5RClqlXVHSDrcXRybsMrJRfksP06dizOSxo1SpUthvrKPXdsPkOXkidYGumCH3YO7n+PlKVuzCuLCPn7evoMdO/dyIxt0zm646jR36xSy1/Bfj3NReQH7+PhQsmRJjEYj/v7+9OzZE7PZTGZmJq1ataJZs2YIIcjIyECr1WIwGIiLi6Nq1ap06dKFMWPGoNfr6d+/PwATJ04kMDCQt99+m3PnzhV4Kji1Wq0woq+//jqNGjUiIyMDs9nM+++/j6+vL6mpqVSrVo3y5cuTk5OD2Wymd+/eZGdnM2PGDEqXLs2wYcNYtmwZx44d480336R69erMnTu3UOMANm7cGJVKxbhx46hWrRodO3Zk48aNbNy4UQkuPG3aNJKTk3F1deXixYucOXOG9u3bU7lyZYYMGYKLiwtjx47l8OHDrF69mkqVKlGlSpXCTQWnzFkJlUqNWu2Q8KnUD/7Mc+AF7OTkxLFjx7h9+zZRUVFotVp27NhBmTJlmDRpEidPnuTMmTO0aNGC0NBQ9Ho9NWvWpG7dusyaNYsbN24wdepU0tLSiImJoUyZMowfP57169dz+vRphQF8HmGz2cjIyHhuHUHktSYuLo7PP/8ccDj9yNkpZNs3s9n8wEtxWrDZHlpGrstutz+0Ltks47vvvuP27dvs3LkTcGgmnqa9h5WxWq339U/W8OS98tqVP017cl1CCKxWa4GN5+O097Axt1gsD23PYrEoTJ+fn9/fYnwlSeLo0aOFair0pCgSCaBKpcJut1OxYkUqVqx4P+eb6ylYrHR1WoXaHW7uKrUjK07ZWrwWZsOGCrXKYQUXUqE+ITgmYamXauZWIXjh5dd5Qa5PcqFc7aaE220I1KhzXcyrNmns+IA3tZq9hs1mV1LpCKBa03ZUsduRJBX1m5Zw3AyuRMugCtjsedLulK1Nw9x2tSE1aBqSq9dXgxBqXqxbP7dz3rQKqoA9l34BkJ2FVLw0LwX7AgK1R0katQrBZpO9rwRSeF2lfoca7clQFJuou7s7bm5uikSjfPny7N27lx07djB58mQAFi9ezJEjR2jQoAF+fn4sX76cli1b8sYbbxAVFcX777+vSP+ioqKYOXMmzZo1o1WrVgUeBsbZ2ZmLFy8SExPDmDFjAPjoo49o164dtWvXJiEhgalTp/Lpp59SokQJZeG/ceMGI0aMYPLkyYqN4Ndff02nTp3o27cvLVu2JCoqigMHDjw1nQ9Deno6Wq2Wxo0bKwbJ5cqVU8bGarVSs2ZNJYB2UFAQo0aNYsKECfTo0QMXFxciIiKYPXs2y5YtIyIiAk9Pz8KV/v2PQq1Wc/nyZRITE/H398dkMnHgwAHq1KmDSqUiPj4eSZKoVasWLi4umEwmzp49y6JFi9ixYweLFy8mMjKSqVOnsnDhQsVBp0+fPrz11ltkZGQAz348xLyQVVyybSw8nypgGWq1Wslznlfabrfb/9I0xW6355PYP6yMHPP2UVi3bh0AW7ZsoX///g/UMjxOe7IW7q9MhB63fyqV6pF1PU4ZeX78lQNJQfZPdoZ6FOS6HtbesGHDlLqe1BHIzc3tmVpzi4QBlA0e9Xo9OTk5+Pv73+eZKskhTiQV8vgoXq4qNWryLoh3vV+VMvm+l3JVT6ByxH+5+51QSgMOhi5fHciGwDI9uTdz6bp3Uc5HQ24oGEfcszyFZPrtAkklkZ1lJ6hUafy9HNHf5dbzToy8dd5Voz3WcBcZsrKyMBgMjB07FrvdTnx8PBUrVqRcuXIkJCRgsViIiIjg8uXLGAwGhBBEREQQFxfH2rVr6dGjB8OHD2fVqlV0796dsWPH8tlnn7F+/XrlpS8oyGFgQkNDiYiI4MaNG0iSxMCBA3FxcSE+Ph4/Pz/Gjx+P3W4nMTFRcaTZtm0bjRo1YvLkycyfP19xpli8eDHz5s1TwrEU1outVqv5+eefGTBgAK1bt+aHH37gyJEjTJw4EXAwsa+++iqdO3dm/fr1ZGdn4+/vT2RkJF999RU5OTm89dZbWCwWYmJiGDBgAMuWLSMmJoaTJ0/+kwruCWEymejcuTNVq1YlJiaGHj16MH78eM6fP8/u3buJiIgAYPny5Vy5cgU/Pz8OHjzI4cOHadWqFVarlQEDBrBhwwZGjBjBuHHjmD9/PiNGjKBSpUoFngEnL+RQUQWNvHZOVqtVMUd4XplAFxcXvvnmG7RaLWazmVq1atG7d2+cnJxYtGgRx44dw93dPZ9a0MvLi5EjRxIYGMgff/zBZ599ppQBx76SlZVF3759adCggZJR6M6dO2g0GmWfzMzMpHbt2vTo0YPQ0FD+/PNP/vjjD95//31cXV0VKZVOp2P8+PH4+/uza9cuvvzyy3wMpSRJWCwWunbtyquvvsqtW7eYNWsWBoMhnw2ayWSiZs2a9OnTB41Gw6JFizhx4kQ+O1Gr1Yq3tzdDhw4lODiY/fv3s3TpUrz+j73zjq+iSv//e26/6ZU0SEgIkARC770I6ILoKqi4LiuKKCuogFhYQWURBNYGwrqKBV3lq/sDVxRlRUCKIlVKKCGFkARISK+3z/z+uJnJvSGEAEkIms/rlReXe8+cNmfOeeYpn8fXV1mvcqDRww8/zKBBg8jLy2Pp0qWUlpa6ja+8vJxevXoxc+ZMHA4H77//Pnv27FHG5tr/V155BX9/f3bs2MFnn312yfjktIwjR47k/PnzvPHGG5SWlrqNz2q10r17d6ZPn45KpWLlypUcPnwYvV5/yfhmzpxJmzZt+Omnn1i9ejX+/v5u47NYLEyePJmhQ52p7K52fV9tAEljo8l8ADUaDRs3buTIkSMsX75c+c1tk5AkRXCr+Xt9Pzu/kAXCmhQoMlGzRHVzbsR6Cgll9T11yWJQFYQhVVdUC2pN1eGsW3ByF+mDIkkIriKxlNPeyELjZepujntoYWEhmZmZ9OzZk+TkZN577z0WL16MTqfj3XffBWDatGkEBwcrpqHWrVszdepU5s+fr1BhOBwO3n77bebOncu0adNYsGABmzdvbnB6EofDgbe3N0FBQaxcuRJ/f38eeOAB7HY777zzDn/961+JjY3lwIEDnDx5EoPBgEajITY2ltWrVzNjxgxmz57N66+/zvz58/n73//O9OnT+eKLL9i3b59CsdHQkE3AISEhpKenM2TIEPr06UNubi6CIPDUU09hNBrZt2+fEgWcnZ1Nt27dlMhrlUrFfffdx7p163jppZd48803eeqpp1i7du1Na667kZDN5rKfGzgPeDmgCKrTPtlsNu666y5effVVpk+fztixY/Hz8+Pee+/l7bff5tVXX1V8Atu0adNoqeBEUaS0tLRR7re8h+fm5jJ37lyWL1/e5L5yDQHXKOC1a9dSXFyMKIpER0crvyUkJCj+wfK9F0URo9GovEy1atWKIUOGuJWRBYhWrVoBTiGzd+/eVFZWurE0WCwW2rRpg5+fHytWrCAvL4+HH35Y0SbLHHIajUbJ6xwaGsqAAQMu0SiKokhYWJjSXt++fd04YGUhsW3btsp3CQkJeHt7K2T4cj0eHh6KVSY4OJihQ4diNBrdfM6tVqtC9WYwGOjTpw8mk+mS8bVt21b5f8eOHdFoNG7tyb/JGr3Q0FAGDhx4SUCKzWYjPDwccLqY9e7dG7PZ7DY+u91OZGSk8l18fDxeXl5otVpl3TocDjw8PPD0dDKDhISEMHToUDw9Pd3GZ7PZbsp1fTk0mQYQwGq11upv5HqzartW+d5lcbh+X7sUfrlgido/11an3KZr+5Jsjq2lbdfPl63bzZxb3Ue3hQ/V7dRWWTNB69at6dSpE5s2bWL48OH84x//ID09ndTUVKZNmwbAvn37OHnyJB06dECtVrN27VqmT5/OwoULmTNnjqIJ1Gq1LFy4kGXLljF58mTWr19/1dQCV4JOp+P8+fNs376dmTNnArB582YSEhJ4/fXXKSkp4T//+Q8TJ05kyJAhSiq4O++8E7VazQsvvMCiRYuYPXs2ixcv5u9//zvz58/n8ccf56uvvlKiHxsakiQRGhpKWVkZb7zxBitXrsTLy4u1a9cC8Je//AWAjz76iKKiIoxGI0VFRUp09dy5c3nxxRfRaDRMmjQJgJkzZ/LOO+/QvXv3xk0F9xuEXq/n888/Z9SoUUyZMoVz587x0ksvMWvWLO677z4+//xzAIYMGcLOnTupqKhAEAQWL17Mp59+isPhYOzYsRQVFfH6668zY8YMFi5cyPLly9m5cycDBjjdRxpaU+Dj48P06dMbTcAE50tWYWFho2oxGxOyMsFoNHLHHXdc8rskSYwaNarOOiRJon379rRv377OMr6+vkycOLHOurRaLa1atWL8+PEEBgbWWkYUReLi4oiLi7tsPaIo4uPjozAH1NWvK41PFEViY2PrfOGVJAlvb+86GQZkjeDQoUMVjdrlynXs2LHOIBhRFPHz87sio4EkSQrNUl111Wd81/L8yP6KzQVNSkRTm8+DrJGTJFk1Kn9WfkSyW6k0Waqst9Wp2YqyTpNZaEUQUKJwJdmUrKR7qWYTr/7s+ntVm1Wq/NJzKWTkm6p88Zz1OewWKivNiC4aQpklXBAEyi+kkX6xvGrzqGIQlzWZUnUEmaUoi727d3EquxiLxQqSjZysdHILq9/IJFFUNIwyu7mkjKu67uYCh8PBiRMnFGGtsLCQlJQU5ffU1FQKCwsRBEEhv1y6dClWq5WVK1eyZ88ePvnkEwYMGMAjjzzC8uXL+fnnnxk8eHCDmiYlycmnVV5eTlpamvJ9SkqK4nNlNps5ceIE4H44fvPNN3Tr1o0///nPLFmyhNOnTzNv3jxEUWTJkiVKbuPi4uIG668rBEHg1KlTGAwGFi1aRHZ2NkeOHOGPf/wjEydO5MiRI+Tm5vLEE08QGBiIyWSiffv25ObmsmLFCqKionjllVf4+OOP2bp1K5MmTaJPnz4sW7aMs2fPNm3S+98A7HY7nTt3Jjo6GrvdjpeXF7feeqvi69ytWzd69epFcXGx8lzs37+f9u3b8+STT7J161a+/fZbxo0bR//+/Vm+fDmFhYXMnTsXURQbfB3JQo2npyf33HPPJfQmDd2WVqu9Kc2+4G7Kri0jhUwTc9lMF3VcfzVlZAFaDkiQX9JkgmbXumSNYF3tXanM1YyvPu1daXzy2VnfPjXX8V2NMCdJEv7+/o2bevMq0aQCYG2TpeQJFVRVApf8uZoOQijP5sjxswiCQMX5M5yvcNZTePYUmSVORz21yjVfrmvO4Ko8owIun91zCst5SgGKs5M5UySBWERqZqEzxZpQwsmkdExyfwShSph1bnLlF1I5k1ulRalqQ6X47lGVs9DKqRMp6CK6EtfKwYmTKVjsDnKz0sgvl8BeQGZ2cVV+VGduYLmN6nzF1XW7m6lvDPLy8sjOzmbu3LmUlJSwZs0aEhISePzxx/nuu+/49ttvuf/+++nVq5dCqjxx4kTi4+NZtmwZVquVRYsWkZGRwSeffMLgwYOZMGECO3fuJDs7u1FSwcXExDB16lS+/vprtm7dysyZM+nQoQPvvfceNpuNF198UaGAMBqN6PV6kpKS+Oabb7jlllu46667eP/990lPT+fFF1/EaDTy8ccfU1BQ0GiClEql4tSpU5SWluLr68upU6f44Ycf8PHxwcPDg++++460tDTi4uLQarXY7XbUajUvvfQSarWaN954g4iICGbPns3WrVvZvn07Dz30EAkJCZw9e7bRUtj9VmG32+nSpQv+/v48/fTTmM1m+vXrR0pKCgsWLKBjx460a9eO//3vf6SlpREYGEh5eTlvvvkmISEhPP/883z66afs2rWL8ePHM2TIEJ577jlMJhMDBgxo8HUk74s2m4309HRsNtulbjMN3N7NCldrlKywkP/k32p+X1uZ2q6/mjI1ifsv13ZDtnejxtdU7TXG+K72Refjjz8mPj7eba3dSDQDDaBTYCvNO0+hCQRBpPjieUqsAgJ2ivIvUqIOpmO7cBzmIg79tJXtP+4hK68USW8AUz5nTyVx5mKli1QuIAg2ivPyKcjL5PjxFErtAhUXz3D0eBrlDgFBsJKfc5FKh4QgiBTlXMAEqNUatJKFi0m/8MOPuzhw+CiHjp7HOzwMT0RK8gsoLjzPiWNJZBdVZVCoEl4BbCUXSPr1EKfPFTsXCBJqAWw5ySRn5pJ/Pp3jp86iDwhDrxUQ0aCWSknZ/zPbt+/gSEauMym4uYjko4dISs9FFATspnIKL14gPfUUmfnyWJvy7l0KlUqlBD6oVCqMRqOyqHU6neKfImvfSkpKsNlsjB8/ntjYWJ588kn8/f157LHHOHjwIJ9++in9+/dn2LBhHDhwgIqKCuX6hoJcl8FgUDSMoiji5eWlrE051Y/89n3PPfewe/duvvjiC2655RbGjh3L3Llzqays5KmnnkIURebPn4+fn1+D9dMVcio4X19f3n//fW655RbmzJnDjz/+yM6dO3nuuecYMGAAb7/9tkI8nJKSgoeHB48//jhlZWUsWrSI+Ph4Jk+ezL/+9S8OHz7MuHHjiIyMbORMIL89qNVqMjMzlWAOrVZLTk4OUVFRTJkyhYKCAsWRPywsjNLSUu666y7Onz/Pq6++SmBgIB9//DH//Oc/+fbbb7nrrrsYP348zz77LKWlpYofUkMfEJWVlfznP/9RtEmNJag1pyjH3wpuZqH69w7XOAc5S1NzCY5qUgHQbDbXwnLv1OCVnDvOr6cLgRJ2fLuJo1kmcBRx7NfTlFWc5+Cvaaj03vj4+OIXGICfjycqaxmpp5KxaDSc2b+D00VOrZjTGmzh2I7N7Dqeh56LfPef/8eBjApU5rPs+ikFsHBq/1HybAB20o4e5JwZNEiIggZvbx98ff0ICg4jyKuSpIOnsSGSsucHtu7PwOApkLRzO5kW0AoSqHVQmskvhzPwDm+N5cxB9qcVgKBCArQeXvh4euDp14pQo5WUk6cot6rRqiRQ6fDy88PP15/AQH+oyGH//mNIAW3QF5xi78lzVJZl88M3W8mxaTFobvzCAadjbrt27Xjrrbdo1aoVf/rTnzh9+jRr1qxh5MiRjBgxgvXr15OUlITRaMTb25vVq1eTl5fH5MmTSUxMZN68eQQHB/PCCy/w888/8+OPP9K7d28SEhIUTUhDPSh6vZ6srCy++uorRo0axYABA/j000+5ePEikyZNwsPDg3feeYfw8HCFH8/hcCAIAq+++iq7d+9m/fr1DBkyhIULF/Loo4+Snp7Ogw8+yKRJkygqKmqQftYGk8mERqPBZDK5BR3IQjI4yZ8dDocijE+aNIm8vDwWLFiAJEm8/PLLxMXFsXr1ahYsWEBKSgodOnRo5FzAvz3o9Xq2b9/O3r176dChAyqViiVLliBJkqL5++yzz2jXrh1BQUGYzWZOnz7NK6+8QnBwMCtWrECSJF577TV2797N5s2bGTduHGPGjGHv3r2K2bihD30vLy8eeeQRt8w3DQ1JkpSI/xZcP6qtVC3zebPC1WS8du1aLly40GzuaZMIgLJmJTY2lj59+tRaJiAkHCkvk7LKAiwqP8T8LAoLc7AYWxPuKWK2ORAEDQF+vgSGtcZbr0ZCS9vOvekQG0dsiMC5CyWArBlzoNIF0Kl3T2I7xRGoNdC2Z2c6d26PuiiHEgTULjb8aioYEYdKjzEgAB+/QNpEBBMZFYpRBRIOJJU3HXv1ICamEwmhNlIyylFp1Gh1DrJS0ykoN2Gx2lA5SsnMynP67wF4BxDg50uriHACoyPw0gk4g4skUBkJCPLD168Vrb11FGadIftiGXbRDo5KLlzIpazMTkBkB3rEt6OVn75ZLJ68vDzOnDnDk08+SV5eHjt37qRz58489NBDbN26lby8PO6++26ioqIoKytDEARatWpFZWWl4tci59s8dOgQwcHBDBgwgPz8fLKysho8WtFmsxEWFkZwcDAXL14EIDEx0Y2Ys21VdJqsJfH09GTTpk3861//YtmyZfTp00fJc/zJJ5+wadMmvvjiC/r169co98TVb+W///0v9913H4IgsHv3bhwOB7fddhv5+fl89tlnPPDAAwQHB1NRUUF4eDhz585l1apVHD16lPnz56PX6/nss88ICAhg9uzZrFu3jnPnzjV6UvvfGoqKihg8eDADBw6krKyMXbt28eabbxIUFMTu3bvp1asXjz76KGlpaaSlpeHp6cnRo0fZs2cPDz/8MGFhYbzyyiuEhYVx3333sWfPHo4fP87YsWPx8fFRcrE2FOTDRq1WExAQ0KhpqPR6Pd26dWvxK21gNIf9vgXXB0EQfp8+gPKGM3LkSKZNm+biq1cV+AB4+gXjYyzl8P4C4np0QC8WcPJYPsHtI1A5RIQqs4Ld7lD89QSVBr22KluGRoe6xkOi1urRqgFRwOjhiVYF2AV0OlVVYIWIWqcC1FXmWpw+fEhgtznJm52NOs2ygKDSYjA4fab0Oi2iQ0QQ1KgEEZvVjlrviUEDnm17MbRH2+pIXtGBKImIDsDmUGhhnPMgYrfZEatuh81uA40Row60IfEM7dsJDw3ojEZnCQdAw2/essAlOyG7/rn+JsNkMpGXlwc4gz9OnTqlmPmPHDmiCFGywGc0GklMTGTVqlWcOnWKp59+miNHjvDhhx8yevRo+vTpw5NPPomHh4dCGF4XXCkK6uqzKw2DHLQiC31nzpzhzJkzgFNDffjwYQCFx6yiooJZs2YRGRnJs88+S0REBEuXLuXll1/m4MGDzJw5E4vFwjPPPKOkB2uIeXblnpLLGo1GZU5dHe3l38rLyxUS0/z8fNq3bwOPQ2sAACAASURBVM/kyZNZtWoV6enpzJ07l3PnzrF27VqGDRvG4MGD2bVrV6NlMPmtwm63K5pXURRJTU1Vfrtw4YKiCTabzZSVlaHRaOjfvz+ff/45O3bs4N577yUiIoJnnnmGLl26cPfdd/Puu+9y+vRpRowY0eACubzflpSUKDxp8ktFQ0FeiwEBAbz44ou/qxRhjYkWDeDND9eAkfHjxxMUFKQEwdxoNIkA6Mq1Y7fbL4mgkUTAGESgsYxDh8/RJqEjnrYsfk0x0TZEi2SzYLU6zSIGA+SeyaDcasdmt2KxVx2YVrPyuapVLCYzdglAxGwyOeWmqs8iXvgZTaSdyuJi2hFOZxXhEEC0mbHYHGD0wFF8jvTcCsx2EavFgoQa0XKR44dOkHfxLCeybERF+mA3lVNh1hLWOgS9BrQGX/y8jIpwWjVKZ3odEZDsWCzO1DR2qwWrHQw6PaaiTM5WigS1CsPXU4Wg9sLfxxODXovksGEyWRCVGhvWL06j0Si+R1qtVmFCl//kQ8nDw0PR6EZGRjJq1Ci+/vprEhMTmTZtGseOHePEiRPMnj2bkJAQfv75Z2JjY5Wcur169WL+/PmsXr2apKQkVqxYQXZ2Nh988AF/+MMfmDlzJk8//TQBAQFXPAhlXyONRnNJf11Z4fV6vbL+vLy8mDp1Kq1bt+brr7/mjjvu4Pbbb2fbtm0YjUaee+45CgsLSUpKwsvLC5vNxtatW7ntttu48847mTVrFl5eXnzxxRd8+OGH7Nixgz//+c888MAD9YreFARB8T00GAy19hvA29tbcTi22WxYLBbGjBlDQEAAH374IX379mXYsGF8+OGH6HQ6/vjHP1JaWkplZaVCXvvJJ58QExPDwoULWbp0Kfn5+cydO5eCggLWrFnD8OHDGTNmTINrnG4muApC8v7k+icL4q60Jn5+fsTHx/PNN9+Qk5PDrFmz2L9/P19//TUTJ06kb9++vPfee0RERNC9e3dKS0sxGAzMnz+fjRs38sUXXzB16lSio6OZM2cOXbp0YdasWSxZsoSTJ08qGSgawwdw48aNjUL7I+/pKpVK2SOai59TC1pwI+H6HJw9exaz2aw8HzcaTWL7EUVnVoddu3Zx5swZpkyZ4va7IEiAitaRCQwcZsdLZSA6pjO2IG98ADzD6VxFcRSW0JPWv6aRfbGEoJgueBid6lT/NnG0VztJKp3BuQZiOsfhpQUED2IT4/AD0PrRsXM7DEDHfn0wnzxLtiOAXgP6EKwBXWRn2uvU4BFNz9gizuWcJzA2hM6J3uiwo9b542esJONMBa26DqSDF5RHxBOr0mEMSaSr6Qhnko+jVmkIjvHA26hx6upUHkS374iHJ6ANJK6DAYNGTVh0RyQvLWq/aOKiS8hJzSaqS3t6xokkpyaRp1ITEKUjIqgNHdQ25w1TqXDNZnK9UKvVXLx4kZ9++gmdTkdZWZmitZXV1SaTCV9fX/bt26e83ScnJ/PMM8+QnZ3NwYMH8ff358CBA6jVanr16kVWVhZpaWmkp6fz1FNPYbFYWLNmDUOHDuX2229n/vz5PPLII9x55528//77vPTSSzzyyCMMGTKEFStW8Oabb162z4IgUFRURFJS0iXaMhkOhwM/Pz9Onz6t+MYdO3aM5cuXk5+fz5EjR0hNTVVSeUVFRREbG0tKSgppaWkIgjM7y7vvvktAQAB9+/YlMTGRBx98kKeeeop7772Xf//735hMJgwGg+JLJ693uNR043A4OHbsGKdPnyYnJ+cSIVe+Vg4kkDePbdu28fbbb5Obm8u5c+c4c+YMWq2W1NRUkpKS8Pf35+DBgxQVFSGKIna7nUOHDjFjxgz++te/0rt3b6ZMmcJjjz2mZDWxWCyKBvf3ClEUlWClukwzfn5+yvqyWCycOXOGTp06UVhYSFpamkJ2m5ycjN1uJygoiJMnT3Lu3DkEQWDnzp2o1Wpee+01li9fzpdffsn06dP58ssvlSwgH374IZGRkYoGsaEPCJVKpbxYNDRE0Zn6q6ioiDVr1jB16lT8/f1bhMAGQnMQFlpwfRAEgRkzZvDKK6/QpUuXZvFsNFkuYHAycLdp06bGr9V8e/qgGHoFAZKItnUCPXB+xiOUDjFVkrSxFT0GtKq61kmMKUoSvmEx+CKTS4IkGWjToR3ObBseRHWIcX7W+RDdwcdZr084PfqGu/RFgvD2ROMMJGnTqTdyb33b+wMVOAQdkZ37EG2oukIU8QprhxcgihKh7bsS6sL/KUkSKkASjLRpGw1IiPgTE+00F7ZqHVM1Bg2xXfsTW3WNX+uO9G3tPlPRPriRUTfEniC/tffo0YNPPvmE77//Xkl6rVarOX/+PDqdjqioKMrLyzl//rySC3HhwoUkJSURFxdHaWkpeXl5JCQkAE5TmKenJ3369CE+Pp7Ro0cTEBDAp59+ytSpU2nTpg1ms5knnniCuLg49Ho927Zt44cffsDb25tBgwbVeVAFBwcTExPD888/f9mD2/UBi4mJISYmhqeffprMzEz0ej1Dhw6lsNBJ9dOvXz80Gg1ms5nQ0FCWLFlCXFwcXbp04cCBAzz55JOEhYVRWVmJ3W7n8OHDaDQaCgoK2LBhA35+frzwwguAUyMpU23IqbfkDbx3795s2rSJhQsXKpxe8lyD0+fQy8uLixcvKnNw99138/XXXzN79mwlq0RYWBgpKSn069dPMbF369aNqVOn0qpVK9q1a4coivz6669MnDiRQYMGodFoeOaZZ2jfvj1RUVGsWLECg8FAp06drncZ3bTw9PRk5cqVpKamKuteEASFSsfLy4vKykrOnz9PdnY24Ly/X375JSUlJZSVlZGVlUV0dDQajYasrCwMBgNRUVEcO3aMkJAQIiIiEEWRMWPG0K1bN8xmM//617/46KOP8PPz49ixY2zYsIGYmBgqKysb1SdT5jFraMjPmdFoZMiQIS3pBRsIiptUDV/1FtycaKzn71ohSE3UG9k3CarfFgGFK6+aRBlUahWIIiJVwmMVMbRTbeokRxYEFQJOYUglCAqBskqozsfrWk6UanyuqtdZRub1qWpLEFAJVTeL6jpVKgdFuYVo/APw0qicqeGcBV2ukU3bzt9UguAcn1RLH6q4AqkS6ETJ2Z5aJSCJkkL4LKhUSq5jQaVy5k2u0gDKh9XGjRsZPXq0kpqqvm8WrmVdTV6yX9lHH33E8uXLWbZsGWPHjlXyfF7r24skSdhsNkXTJZs4VSqVIjipVNVJxGtrxzWqqmYEa83yoigqKbmuhDNnzvD5559z4cIF7HY7y5cvV3j2Tp06xYkTJ9ixYwfLli3jzjvvZOPGjWzcuJFjx44xdepUHnnkESwWC3a7XTGny32QIav+7Xa7m+Bqt9sVDeW+ffs4cOAAPXv2ZNq0adjtdtavX09AQAA9e/YkICCAbdu28dVXX/HWW29ddjwWiwW9Xq/Mt9yeLOjodDrluWwOb6NNCXm8FRUV/PLLL4oGT3aHKCgoYOHChYwZM4Z7772XgoICoqKi6NKlC6IoYrPZsFqtCl+YvLHLc+lwONBqtUoqsBMnTpCVlaW8cOn1eiornXROBoMBu92OxWLB39+f3r17YzAYGuyeyPXk5uYydepU3n//fVq1auW+DzcAavb397amGhLy3OXl5fHYY4+xfPlyYmJi3M7RFtwccH0Oxo4dy+LFi+natWuDP3/XgiY1AScnJ5Ofn8/AgQPdHPPlLUIQVDjXtlOwUyu+grikQxNwEjBXpVGTqgWjapWYU/iTC8jClixvKZOutOcCQaX0R6Wq/tFJHq3BP8SpfZQkyUn27Czocs2lG56cOk4uXy3MVgl/Mk+QSo1KGa8KtUqqkg9rpMprIA2gqyAlCAIajeYS7cODDz5IbGwszzzzDFqtltGjRyt+nJf06wrtyGVrEg+7tllzc6t5oMjfyXXK0Yb1eZjkMmfPnmXNmjWkpKRQUVHBm2++Sbt27cjOzsZmszFgwABiYmIUQfe2224jISGBffv28eWXXyoas/HjxzN+/HgqKyuVoJKSkhKmTp1KQEAAo0eP5tZbb73EIV42refk5LB3716Kiop48MEHAdixYwdHjhyhW7du9OzZE3CulZopnHJzcxXfPZvN5jZv8r2R56amhtR1/msKf7+XQ1teQ56enowcObLWMq1bt+bll18mJCSEefPmASgvQHq9/qoiXRMTE0lMTKx3+ca4D7Jg2pjR6mazmePHj9OpU6cGFWJ/72hOWqMW/HbQJAKg7H/1008/cejQIQYOHFhneUXoqdKkyUKV+2YiEz5X/a9KWweSm7AFXP/hVqVxcwqBLl+Doo2rrVpFwENSNI2CIICLAKOUk9tRBGL38TUWXIXAmpADJwYNGsTGjRsVwmBZYJPv65VQmxB3LZD7IwtyrsKL3A8517TRaKS4uJgPPviA1NRU0tPTefbZZxk+fDhWq1XJw9m+fXtat3ba2gcPHszgwYPd2pS1PIGBgXz00Ufo9XpFCJD7IidJdzgc+Pj4sHTpUn7++Wd27dpFly5dCAgIIDk5mby8PBITE/H19eWjjz7in//8JzExMfTv31+Zm8cff9xNmJPH6hqEIAe4yIJlbYz01zLPv6fD2nXd1zZXkiQxZMgQ1q1bx6ZNm9xekiRJUl5q6zvPV3M/XCM/G/J+qFQqDAZDo9xjua9yDuqVK1cSFhbW4O383nDJGdGCmxqumUSaA5qUAKy2TCDuJmDJ5esq4UmykXM2A5M+hOhQH7cygiBhrixHlHR4eOqriVEcJrLTz6JqFUOowURGxkV8I2MINLps2IqAiUt97l+5/79a+HN9KKv98dy1U9XXOwVEVyFWLmetKMEkeOLroVF+E0QH5WVlqD39MKqrNYDuG4BQFThz7XDtx+XoIGRzlezUDk5t0yuvvELnzp2ZMGGCcq2s0axro3I92C536MoPiGv/oJrqxTVS1mq1otVqsdlsrFy5kuPHj1NaWsoDDzzAHXfcgdlsVjR6U6ZMIT4+HklyJmp/+umnL2lbpmIBZ+Twpk2b+H//7//xj3/8Q0nELpuoZYJojUaj+IvJf/Hx8cTHx/Pwww9z8OBBHnzwQTIzM8nMzCQ2NpahQ4cyefJk7rnnHjw8PNz6Ic+3q4nclTJAnpcRI0YogmNdEWVXmnPXOb4SNUh962qIMk3RXs3yNSk3rFYrrVq1UoLWUlJS2Lx5MzNnzkStVitm+4Yen/z/htbK+vn58dJLLykZaxpLELRardf8AgK17XeXoinL3Ij26rrmauapIfvVnOazMV6QmgIyWX9zwQ1ngHUV/pz+ds7vRYeISi2Ql36ME1k2ohNCqnKGOMM6EJwb74X0JKyqaDpGOzhwvIKevTpw4fg+ksuD6B5cyclDByk2ROEn2pGq+P7A6atX01zr7psoIknVKd5ceovDWonJrsXLQ+uiHaw27166cdtJO3IAoU0fYgIERJxCY1HaQU5pejI0wYeSokp8/T3BUUny4X14dxtNB1+nBFpTGJLbvN4oYPnAv5IWz1UjpdVqGTlyJAsWLCAtLY1nn30WqPbxrK85uK5ytfVJ/v+6devYsWMHycnJ3H333cyYMQOtVovRaGTMmDFER0crgSihoaFK/+qC3J6rCfy9997j448/ZvHixQQGBmKz2dBoNLUGnMgZOj799FP27t1Lamoqb7/9Np06dSI0NJT777+fhIQEWrVqxaFDhzh79iz+/v54eHiwbt06cnJymDBhghIgJfehrnvj7++Pv7//VZm+65pzeY1dqa763L+GKlPfcvUd39W2V9NVITQ0lJ9++oktW7bw1ltvER0d3aDt1fX79UDeX3U6HV26dGmwei+HhvBrqstU7fp8yC9iNeG6F8k+r66QXzZdrRmX42a7UnuSJCm8ofKLZEO0J/ddkiQlO4z80lHf8cl7d0ON70rtXe18Xu6F83Ljq9mXm0kIlCSJW2+9VVEmNAfccAHQVZIXkCgtyMOh98XfSw+2Ak6nnYXA3rRt5eOiLVRhN5djkUQcKhWi1Q7GICKjvLBVXCQ57TyePXqircjizLlS2o2IIsBTCzgozi9A5RWIj0GN6HCAAFZTGWbJAz8vHbaKYorNKgIDfVAhYnOAVnBQUlKGzjsAo8ZG+tG9pBZ703tgF4L0WgSVhN1mRRR06DRVmxdqNGoBu92GgEBw62hED6fvomQqocSuQxKcMcFiaTI7tmQQP3Iw7Y125/c2B5UlpWh8/NFVrW9TST6VeBLga6wyPV/fvMsHZ0VFhZKepmaZkJAQPD09MZvNZGVloVKpSEhIYMmSJSxevJgtW7bQv39/vLy8sNvtnD9/XjGbypAkCb1eT2hoqEJxUlRUpAR76HQ6TCYTZrOZyMhIPDw8+Oabb9iyZQspKSm0bduWOXPmoNPpOHHiBDExMTz22GO0bt2ac+fOYTKZuPfee9FoNFitVvLz8ykoKCAiIgJBcDpSl5SU1OpfKI+vvLyc3Nxc1Go1FouFgwcP8sILLxAfH09lZSUeHh6IokhmZiZFRUXk5eWxe/duEhISGDFiBCkpKWRlZTFo0CAeeOABBEEgPT0dnU5H7969MZlMnD9/nn79+tGvXz9MJhMZGRlYrVa2bNnC8uXL+fOf/8yjjz6Kp6enEg1cXFxMQUGBm6ZIrVaTm5uL0Wika9euyvjqun+VlZVcuHCh1jXg5+enaHjPnj2rRDC7ljEYDISGhioBEgUFBYo51BXh4eEYjUZlvDXbs9vtBAQEEBQUhMPh4MKFC5fwYkmS00cyMjISQRCU9VLbRh8aGoqnpycVFRXk5uZe0h9JkpTxSZJEVlaW2/qsbXz5+fkUFha6jU9ew+vWrePNN9/k1Vdf5W9/+5tyQMsaW4fDQUBAAIGBgVc9Plcture3N8HBwQ3Cpydfbzab2bt3L3379m1U/7xrNVe6HupXioSWXzjrCoiQ97e66H1cTft1oab1oa4+1SUAu75s1gXZzURe36GhoQBufqf1GR/Ubz6vZnx1tVff8dXn/tXV3s0k+Lni6aefdtt7bjRuuAAom3pxVJL860Eu2nRgrsQrqivdQ0wUl5RjsmeTUxJMmK9z8ZsLMzh4+AxaHz2ZZ84TnxiDVJ5PVlYlqjYqysorqMhO5TRFVFSWcS77AtFGf7JOJZFvUyNa0wiL60mMdwE//m8/jsAgWrdNQCg7y4kz+agFkVTPcPp2acv5pB85ekFLuJ+DYoc/ffrEUFZYSEFBBedzIglq6wwKKc4+weniYAZ0b82pn/5HXlA/hiV4c/rIQXQRXTHkpVHZJgQ/cyq7D2Zj9NKRl5WDd6JEaUERRcX5ZGdfILJdMIKpgBNHD1GiLcNsbE3/Xh0oS/+VpHNmjEYvHJ060croGvRy9ZAfVJPJxJQpUygvL8fX11d5AxRFEZ1Ox5w5c+jRowcZGRk8/fTTCjmywWAgKCiIFStWkJGRQZ8+fejatStvvPEGaWlpimlTFEUqKiro3LkzS5cuBWDLli188sknBAQEkJaWxvHjx5XI2e3bt9O5c2fOnDnDtm3bCA0N5cKFCzz//POK6XXChAl069aN8vJyli5dSmpqquKTJ5eJjo5m0aJFeHh48PXXX/PNN98o/nvy+LRaLbNnz6Zv377k5uYqwpdOp8NoNLJ+/XpWrVpFVFQUEydOZMiQISxatIivv/4agMDAQKKiovi///s/OnbsyJIlSxAEgfXr17Ns2TJ8fHwUc65KpcJqtbJ48WI6derE6dOnWbx4MVqtlvDwcPz9/UlLS2PGjBmMGjWKvLw8xaSt0+kU/jY5mXhSUhLDhw/n9ddfZ8OGDcr4oDqwQ6VSMWfOHHr37k1ycjKLFy92MzsKgoDFYuHOO+9UglCWLl1KTk4OWq1WqcNkMtGxY0fmzZuHn58f3333Hf/+97/x9/d303aIosiLL75IYmIiZ86c4aWXXnJbc2q1mqKiIu677z4efPBBKioqWLVqFSdOnMBoNCoaA5vNRkhICKtWrUIQBDZt2sSGDRuUiFpXYfi5556jZ8+eJCcns3z5ckVD4jq+22+/nYcffhi73c5rr71GVlaW2/jMZjMdOnTgueeeIyAggE2bNvHZZ58RGBioaB/k+l544QVmzZrFiRMnmDlzJg6HA71ej5eXFxaLhcLCQiZNmsSUKVOUAKPTp08rLxCCIGC1WgkLC2PVqlUAbN68mS+++EIRygCSkpJYvXo1w4YNc+OVvB5YLBYOHDhAt27dGlUAvFYNoKul44033iA5ORmdTqf002azERwczPTp0wkLC2PLli2sW7cOHx8ft3XocDj4y1/+Qt++fcnLy2PhwoVuY1WpVJSXlzN48GAefPBBJEli9erV/Prrr3h6eroRg3t6erJgwQK8vb358ccfWbdunbIOwbmmS0tLeeyxx+jTpw8ZGRm88847lJaWurElWCwWevTowaOPPoooiqxatYrjx4+7jU9+OZoxYwahoaFs27aNDz/8kG3btjFjxgxCQkKw2ZwJBB544AH69+9PYWEhL7zwgtv6kF/qBw8ezOTJkxEEgbfffpvDhw8r45Pb8/X15dlnn8XPz48dO3bw6aefuq1DtVpNSUkJjz/+OL169SIzM5PVq1dfMj6z2UyPHj147LHHsNlsvPvuuxw9etTtmZV9pGfPnk1wcDDff/89GzZsUOZAhiiK3H///QwcOJDc3FwWL17sRpc1c+ZMheaqPlr2Gw1XU7b8bDQXAbZJBUCZab8mBKA48xin8w2MurU3+ryTfLP3V6IiRhIfE0FxYDfCfPU4RFCr7KQfP4o1dCgDE3TYC/IQJRBtleTnl9ClR2/ahidj7NGN9qo8KisgsUskjjN7OH5e4JaxvSk6uIOjx08Q3CuQ0lI7nUcPIEadz66tJ9C1H0mf1kV8/e0xiiMCMVWUI3h3pWe/EPZs2UZhfjvad2pHRbYPXaJbITkcCGo1Xh5GKlIzKJLCKUw7Q466LaZKFYUF5cR28aDwxEXs4Q5Sjh5H1XYofdoZOFiSTZFdh1/HtrSOkOjVNRa9owyLXUVQ+0T6RJbx4w8HyCpqh5idhsV/OEM6+2ITG4YaAiAjI4PMzEw++OADgoODL9GOyOnNYmJieOedd9wWsKenpyLoPfzww/To0YMFCxagUqmwWCzYbDZ8fX0xGAzs27ePJ554goyMDBwOBy+//DIdO3Zk79695OTk0KFDBzw8PGjf3kmiOHPmTP70pz8p/kRyf+VsHuAM9HjmmWdq1ThqtVqF4HfixIncdtttCq+b66Yrm/mOHj1Kbm4ur732GqNHj8ZkMjFnzhxFuMzMzATg5ZdfZt68eXh4eCj+hzabzY1S5ZZbbqFv376XHISSJCmatri4ON544w1FeyQIgqJB8vDwoLCwkH379rF9+3YmT57M4MGDycjI4OzZs3Tt2pU1a9Yo9T766KP85S9/AZxBMDK9CKAEisTHx9dKGSNJkjKfAC+++KIiJLuWkYVQcEY/Dxs2rNaDXjZvtGvXrlYib1EUlXo8PT2ZPXt2rffP1cxzxx13MHLkyFo3THl8CQkJvPbaa7WOT6bk0Wg0/O1vf3PTcLqOz9fXF4A777yTkSNH1jo+1/a++uortm/fzksvvcR9993HuHHjkCRJeSZ8fHxYsmQJ+fn5l/hwuWpIbr/9doYNG6YcFHq9nhdffFEhhL5eyPX6+voyZ84cpQ+NQUEhSRKVlZXXpAV0PShjY2PR6XRuQoYsQMjPdXBwMF27dlVeHmTIWm1wRrx37tzZrT+y0C8HfwFERUXhcDgwGAzK8yhTSMn3KjAwkMTEROXlQa6rsrJSWTtGo5G4uDg3WiFZeI2MjFTaa9u2raIpcx2ft7e38iLn7+9Pv379GDduHGVlZW4vI/K+rNVq6dy5s9u9lMcXERHhNj5Z0y2PTxZwa47PVSCrOT6DwUBcXByVlZVuQXhWq5WoqCjlPkZFRSn7sFxGDpiT99zg4GASExMvsSS4jk+v15OQkKC8FC5atIj4+HjatWvXbISoK8H1pXXevHk8/PDDigB7o2lgmoQHUB6ofMiOGjXK7YYLgsC5X7/npLont3QJBLGY3TsO0aZTH2xZ+yjy7U3vWG9ECVRiJfu3/YBn7/Ek+EHm6f2YrW2IaV3OjkOlDB7RleNbvsXQ93bi1Rf4cddxEm+9BcfhTXx3WkOnaB8qym34t+1ItJ+ZQwcu0GtUPzxLstj8/XbEkAQC1RVU4s+QntGcOnYIe1AfukYbSdqzk6DWCeikLI5lezFkQHsEhwNRrUYlFrD35yR0/kHYC/Kx6Az4emooqvBjSL8YjmzbjLZrfyr2HiBo+HCijWqKT+3gV0d3hseX8P2ms/S+fRD+1mL2/7wX315j6OBVysHd+/GIHU68fy4/7TyM2as1Pbp3xt9QrcW5Fh5A+Z4UFBSwdetWJkyYcNnFeLn6tm7dytGjRxEEJ8fYq6++Svfu3RkwYABHjhzhwoUL3HHHHfTs2ZPQ0FBOnDhBYmIinTp1UgShy7Unr4u6ytTn4XctJ4oiGzZs4OzZs2g0GkWzsnXrVjZu3IharcbX15cFCxYQGBjIgAEDCA4OVgSW+rTZUGVccfToUfbu3csvv/zCBx98QGRkJDqdjpCQEO655x6sVquSDm/YsGGX0I3Ut09wdZQ+jV2mubZnMpn473//q5Ck//jjj2zYsIHJkyfTt29fKisrFf+miIgI7r///stq8K7UXkMccq4HcFlZmaJNbsgDVN5PiouLWbduHZMmTcLPz++q2pDrSEpKUnx8r1S2PvXVhYZcFw3ZXkONr75tNtT46tuna61r1qxZREVF8dRTT900GkBXATAjI4PQ0FCMRmOzEGCbLBOIw+Go1QFZPniMPt6Y0jKxdwlElZ9LhVWDr78Huek2RJkYRQLUWoxaibyccvDTkJlyFs+2UagkEYfdgYSA6HAo/nGiQ0QC77kDXAAAIABJREFUDN7+BAf50Kt3Z6Vf5oIUrDY7NgCDHg/fYEI69aKj4qNpxma1YrPZAWd6LYckoJIkbHYbIqAWBGfaEFUgYV5a9u3fR9tx9xCRupf9R84TM2oSYMMh2lALXnjryjmXW0l0Wx2n089ha9MdVCpEm9XZD8Bht+H0+RWx2x04HDbQBjNw1G0kb/2cvSmtuTXRH9l6fq33RJIkAgMDueeeexRNVE24mgxrvkVPnz6dAQMG0KZNGzQaDcuXL8dkMmGxWBg9erRyjxcvXsxDDz3E7Nmzletd26pZr9ze5RyEL9eny5WTNXOHDx9m9uzZTJo0yW1j6dGjB0OGDFEIfouLi/n73//ODz/8QExMjJtw1FRRspJUTSa8bNkyzp8/zy233MLSpUsVvzNJkrhw4QKSJGEwGNizZw/bt29nw4YNiin0avoENNn4rub+NZf2RFFEo9GQnJzMvHnzmDhxIhqNhq5du9KvXz/KysrIzMxU6vDw8GDWrFl07NiRPn36XOJgX1d7jaEZKCoqYtGiRcyfP5+AgIAGPYDk/cTPz4/p06cDVy+8ynOQnp7OZ599xt13361E3UN1QIS8rl0z6dTWnyuVEYRq+qi6MjTUZ09ybe9y66e+7cl+b3WVkftxveOT12BDjk8OALlSe/W5f65uPTqdjm7durlpbm8GyHMrCIISONYchD9oIgFQkpyO68XFxUqqLTeVLxAQ3YXYvF/Y8v0PaAQ1rTv3wk8rkWfwxlMvb4YioKV9YiJ5v/zI9jwfLPpA2nipEVV6vLw9UAEePr7o1YBKg5ePFxLgE92FqIt72LT5Ajq1loiE7sT6eeDt7YEaQN+KbglR7N27iUydDpV3a4b2aoenlxcWnRoQMHp6Iqi0+AWFoz72MzsOGhnRMxpBdAZ9tInwZ99Jf4L9PAkP8+KXrFZEBasBEU9vbyRBQ1zPBLb8vJNtGT6ojYH4e6iAEKKCf2XXDwe5tU8Mvj6+aNUAajw8vfHUw4UTP/Nrtgm9IYou0U6N1PWsH1ftYVlZGb6+vnVqBVw3Cfnf6Oho3nrrLcU8cDl4eXkpGTtkyhRXp3jXumu2Vxeu9u3ParUyYMAAxRexLiQlJSnkzq5zUvPfa+3X5cq4ml5keHp6Mm/ePG655ZY669y9ezcffPCBcr1rHfWdq/ryOjbEvalvn5pLe/K9sVgs9OvXj2XLll2xrqSkJGXtux7Il2tPXmuff/45bdu2pW/fvg1mKrLZbBw7dkyJKG1IuJoxi4uL8fPzu+oMM3I5rVaruCXI61gQhN9dBgx5vbjuk/J8/t7mQl7/kydPVr5rDgJUfeB6Zn7//ff07t27wV/ArhVNmgnk4MGDpKWlMW3aNOU35eBXeRLfbyTxLmotSZJo322A8lld9TDoA2MYPjbGTQMmEciA/oAE8QOG4ySLCabP4GBn9LDKi079R9FJquLukyQQfOk3OEKhVfFpncCo1gkuNwzad5VJeqFjj75VvfZh+Li7qqOSVVUbXXA8EybFOzsR1YdJUc6eSZKWjn2dfYIOjBrbwb3vEsQPHkd8Vd/i+wyuus6bxN7O9gkaQminGtxg13FP5DFmZWWxZMkSXnvtNcXUWR/IwmNOTg6+vr6X+HFBdRq20tJSxS/K9bCrWb6xHwbZN1GmO6gNsh9QRUXFJQJUU/TxcvUXFhYCTuGjJleiPM8FBQV1arha0DAQBKdTv0xVUtucu66jq9WCCYLAjz/+SL9+/RpUABQEAQ8Pj0ZZw3K/S0pKeP/995VsOFdbh/yvq2ZIEJw+Zp9//jnnz5+vNfq8ceCSTtR1ygQnY4Xz3qP8fr19kvfUmJgYJkyY4CbwgbsgsXHjRk6dOnUdc+GS1ECozsYln2lVP1yXkuF6IM9FaGgoEydOVIKomlsQxdVAEAT+8Y9/sHz58t+XACjftEGDBinktTJcFzVA1ZOkfHZ/+8HtQXMtClWseEL1B4GqxVxVUP4s1KibKoGw+r9V+XsF1+8uDboV5OuU/rkWUJ4ul3qUzrkPk6rPLvW5X+fSr5pvg5fMdv0g12Oz2cjJyanT9FcXZAdiV6d9GTVJom805LVWF2dcUwl6VwPZ7AXOea4pDLjOcwuaDrIW5nKmLtd/rxZyAERDoy6z4vVAHqe3tzeTJk26qpfJuiD3NSMjg1mzZvHQQw81mQCoUmvRG3RINgsWiw1JEcREENQIKhU6jYDVbHUqFVQC18rNJUmSQkH0+uuvM2bMGHx8fGotW1FRwezZsxk8eDCRkZG1vnxfoTVEVBj0BtQqCZvZhFUSUCGh0hjQa1WAk9rMahOvWgiUHHbsooRao8WValcSHTjEqrOPKq6/y9Qha5Nff/11EhMT6dGjByqVipUrVxIZGckdd9xx0/gAuqK+eembCk0iAApCdUQV1C69K8KNqxkQ9+fJeUm1YOcmHClla15Vfa1UdZFU87sa/3ETRl0EuZrCmzwOoWYJV0FOqL13Us2BVY39Ml5MgKumoeEWvCBcmQPrauq62eDa55om6OaKKwmvLWh81KW9bgjhpLEEnMY6MOX9W6vVKoTm16rhqK2PJpOJQYMG1cvs3nAQObP3Bw4X+HDbH/phkL+uSOOz/zvEmIcncv6nX2nXw4/duy8wcNQAPBug1dTUVMVtoDZYrVbi4uJ4++233SL4rxYnv3mbj5MCeXHBpOqxicWcO1eBQ4KgyAg86qqgCZCVlYXZbFb+f+zYsWaVSeNqcSU/5KZGk+UCVqvV/Pzzz2RlZXHvvfe6abJkXM73rJYvaxWBBJff5W9caq/1Tcb1uyu17/65tg4Ibn1wtxrU1qe623bvc+Md7s1pQbagBS1oHGFekiSFR64x6hYEgbKyMjZt2sTYsWPx9va+JiHQ4XBcIgDJJkH5AG3UPUsCQa3CUZbO60/8if9FzOWWP/RDYzIh6o3o1N6YMrey9gsD59ZvZvTiR9AIYLaAp86O4xpoumQNYFFR0WUzaMiQFSrFxcUKAX9951iSQKNRk77tX6z89gz+uuMsWOHF83+9HX8NHPzgdT4vCSCoIovK0Ht4aVpf7FYbgtrdHcZ9/p3WKtEhodFquPjLx7z61UUmz36absFgtdnRadWc3b+ZXafL8dRXUkIsEyYMxNNhV4I8a45REIRLKJs8PDwUGqAWXD+a1Afw6NGj7N+/n3vvvbcpmm1BPdGcVNItaEELGkdToFarCQ4ObpQAAlcfwHfeeYdBgwZdtRnY1VUoPj4eqF3TeqkA0rAQkLCLAlofI4aANowc90e8AYxGZwGDF762Ag5WhDA0ppItP2bzzP3jCNSDKKq5lu3UNfirvmOT5+tKaRDdIAggWSCkPwtXP0oQkJFyGskOaMpItQYzsu9gpLPbKY11crIKajUqVdWcVyk2arYnSU7hz5SyiWdeWElSKZzIV/He6tm0UasAgXNHN7N+TwwLZgSzcNbbtL9tIAM9JSRRjVqo2c3ax1NX+ribAbW5St1INOnJbzQaL+vX0IIbA0mSMJvNLVrAFrSgGeFKKcWuBUFBQaxdu1Yh626Mg0itVhMYGHhNfZc1W35+fm6ZHuoq37B/AAKS6ECtBo7+j12Z3oy8pS2ZP6/nX2v/S2qRCGhI/MM0/npXH7oPH8PYoUNoZXTmlxdU1QLS1fxdL+pTvyAIIIog6Inp1J6CX/dzPPkkF85mkHyhAqy5FJQXU1BhI7zbXUzsGwCiiEolAE7faZXcV7d+S0gqNZDPxo2/0O+Z9RzYt58ZnQvZsPkETonYRE6xwPjHn6S7phS/zkOI8wREFSqBes/FzebzB+4Wtry8vEaJwr9WNGkmkLqiL1vQtJAfIqPRqLCxt6AFLbixkJ/LadOmKfRK16uxc40mrRlR2tCQJKnWbE/1vValUnHhwgWysrIU7sSmhYQoCqjVsH/PPuxhnfHJ2MWhzCO8MeufnDb04LV7I+kwaBQCEoy+jw6AKElOQamKUaJ5iShSVdCj6BTGLBmsXvgm5l6T+VOHZP46/RluX7ufLoX7OXnRg7+N6U0oToEWlYAoglpVycZ3XqMg7i9MGRaJ1e5Ap3HSowFOKjW7L3fN+TtaQBJh3JOLcFiqTPmmTI4cyadd/6N8eUDFtOemEAg4UDm5dOsJu91+08kQrs/cvHnz3DKm3Gg0qQawOQz4tww3bkUXX5na/uR7ER4ezvz585V0WS1oQQtuHGRhLT4+nvDw8CtqweoDV/+8Dz74gLKyskY3o14LZNPe4cOHlTzJTdpHyRlsJ6o0QAl7fzmIzWBEGz6UO4d1I6xNOxI6OQNc7HYHouRMOiBKEqqq+awic2hmcAYliqIKASsfP/84m8z9mP3HHoRoK/BtP5BhXX3xjB/J83MfJgg5PaXzWrVKADxI3beVYznOGnUaNaIkOYVgQQBzHjvXr+CvM/7O/uwKBBUcXbeYv85/hxzAlLyDs35DGNc7lpF/mkr/CC2iJKFWXd069PPzu67AlxsB1xewcePGERQU1CDPdUOgSQXA5hYB81uCazRvfdXpMkG3p6en2yJtQQtacGMgP4NHjx4lKyurQSmU1Go14eHhzV7bX1dGikZtV3AyMajVQFEqu/ak0WbIHxgeq+bQhi/J9ujGmM4CiM6gRpUAKrVaMYs2X/OkpJi1HcfW8c/vivjL0/cBVt5//X2KI/qT6AkYWxEe4odGqhJaBAFBKmfnZ8uYM+tJ/ncsh18+e5l581/i/+3NRSUIiBLOTFiGYBJigzn071V8eTIfgLBoL45v2U6GHVJ/TcMrth0BWg98PAQcYrXQfDUS89y5c5kwYQJw8yiUXKnuTp8+TWVlZbOhRmtyDeDNctNuJgiCgNlspqCgQDGz18yycbm/nJwc3njjDSorK5ulVqAFLfg9QX7+3nvvPXbs2AFw3SYv+bn28PDg1ltvbfQ8pA0hvN2Ic8Ip/wmogPzTOzhu78kTfxoBlLH9QCrxI8bTGgkLalS4c7Q2d8jr6mJWJhfLJLw0ZnIPf8tX+7LpOXwEesDmEBElSeE7dF6oISiqE/36dCcswJNWUQn0692dCH+d83cBEERsQFDP0dzWx4Ojh84B4OUfxYQnnqKXBsJvncG8e7tjFQGJKqG5mhqtPrDb7YoGsKZLw82C9evXk5eXBzQP9o0meRWU3zjHjRvHiBEjmqLJ3w1kLV5MTAw//fQTer1eIZHVaDRotVol8sj1gWnXrh2BgYEUFxezefNmpkyZomTraEELWnBjcVWRnVeAfFjabDbOnj1LVFQUWq22QYVAuR5/f3+ee+45/P39r6u+G3E4SoAkOHUiP679hPL4ifSMAIoOs/uXVKytL7L7YCq9erZ3ar1uIuFDUKsRgbAh9/H4Xcf4v398QuCtKlTecQwYEAs4fRgVjZBQZTZWGUgYOJaEgZC95UMyB93H+PERgNNH0BkdLIAd0HgRFu7N1rMFwEW++F8OI/40Dg0QGNamqmIJSaoOuLmaKdRoNOzcuRN/f38SExNrpZJr7njyyScVPuTm0O8mJYIOCgoCbs40Ls0R8pu9JEn07duXvn37UlJSgtlsxmKxYLVaMZvNWK1WJQOAbF5xpR3w8vJquR8taMFvHIWFhcyaNYs1a9YQEhLS4AKgJEkYjUYGDhwIXB8R9I2ipnI2ayNsyGMsbT2CQAB9Ox56/m9c8O1I957tMUgiUs30cM0aVS//koTk1Z7ZK74AIOs/z5Dj34XhbYGqABxJqko7UGWaVUkSDlFCLVgZeM8MukRoAQmbXUKrkc2YAoIE4EmriHBMR/aw/t/FhI34I10C1YgOUUmI4IySdhUCrw7//ve/6dSpkyIA3gznlqt7laxkaS59bzIeQJVKRXp6OoWFhfTq1eumlN6bG1wXkexU6uvrq0QP1geycN6CFrSg+aCxNGCNWa8gOHMkp6amEhsbi16vv6aDzm63K9kfaga2yWTQjQlJEhh436MAWM0W0Idz+5SnAHBYLVgFFQING4kqW3LqS9Qtk3qDM51nvQVmScRmF/DQ5vLR59/hEfMy/lV18P/ZO+/4qMqsj39vmZrJpAeI9A6ColhBRFhFXWy72FbcXX1VQGAVXAF1RVfUFUFFQCzYe8O+a8GGHRRBQYRQQi/pdfrce98/7tybmSSEECZhgPl9PkOS4Wnnqec55zznCHsvQ9FkTjrnEkAlEAghigKhkNEHGuEQyBYrdovExh8+peb2iYzql0so4EcTo0K+7Ue3NWSS5HQ6TQnaoYJoG8D777+fv/zlL3Tq1CluMb4PBK3CABqDuHv3brZu3coJJ5zQGtUe9oheIIZRaUMPbfa2oRjuJZJMeBJJJBYOtTVpHHI1NTW8/fbbjB8/fr8PaoPm7t27c9FFFwGxTuptNlurP2Cx2mNpkKw24u9GuxbZ2dnY7fZGmUBN07DZbOTl5QHsdz9brBAu8TNs4jzOyuyEAlitTS1DxGaz1i/Tov888YIbeffCfpx5XDv9e9uBRe2o2xeHsiNoQRD47LPPOPvss01XMAcbrbKaJElCVVUGDx7M4MGDE0b8eTgguh9jHH7uA9GG5YeaX6UkkjjcEQwGm+1P72DAuIBmZWUxffp0YP/VXEYZffr0oU+fPjGuMmRZ5rfffmPKlCktEslkb5BluV44spaAEQquqKiIlStXNsrUWa1WVq9ezTXXXEPHjh0JBoP7JUnSNJAsNuw2GU35kg9eDRJWD/xM1lQNq9OFVfiGz171H7CaXFVVli9fjtVan+E8VGG321t1/u4LrSYBFEURv99POBw2X/HAoXfTPdwgCAIOhyM5DkkkkQAw1uHZZ59Nx44dgfiGaozn45JoRKu5QqEQFotlv11LRauRfT4f6enp5jnRs2dP7r33Xnbu3Iksy63ySEQQBD7//HPOOOMMJElq8ToFQSArK4tzzz23UV93LpeL+fPnk5+fj9VqbV67NA01Yr+nR/o4cAgCqIqKhkB6pojxyrd5Zemxn++44w6OOeYYc061RISc1kSiucJrFQZQURRkWWbx4sWsW7eOqVOntka1RwyiN9+mwlhEeXl53H777ckXwEkkkQAw1rGhAjUuz/GApml4vd4WUaEZe1B5eTmPPfYY119/PZmZmc0q44cffuCDDz7gwQcfJBwOI0kSsixzySWXxL3djaGgoICXX36ZsWPHYrcfmCpzf9GQVsaYB5qmMXLkSEaOHNmqbTpYMMKVWiwWKisr8Xq9B7tJzUaiua5pFVbaYEyKi4vZsmVLa1R5RCA6qodhGxHtH2lfH1VVcTqd9OvXz7xVJ9LkTCKJIw3GGjRCXsXTN6fD4eD8889v0cuez+fj66+/xufz7Xdeg06v10tZWRkAFosFURSbbPvVFHOWppq8vPvuuyxdupSPPvqoxetTFCWGPkmS6n2aKlFtSn2t3Z9NqU/TtAbLMrRUAJMnT+b88883vz/U0BqPmPYHrWpRK0kSFsNaNIkDRnSMwbpSglAoRDgcJhQKmS/LjImnqippaWnY7XY8Hg/5+fn0798/7r7BkkgCLRIbVYhynCvoMVMb+l0ww2kd2XNwxowZDBgwgD//+c+oqnpAdkMG45CWlsaNN94IxFeyWLcup9N5QOOnKApbt25l3bp1VFRUkJWVRY8ePVBVlU2bNlFWVhbTH8YL2j59+mCz2SgsLGTHjh312qBpGh07diQnJwefz0d+fr7JZEfXnZWVRefOnfn6668BePnllzn22GMpKSlBlmVUVcVms9GjRw/sdjvFxcVs3ry53gMVRVHo2rUrWVlZ+P1+8vPzCYfDMfWFw2GysrLo1q1bo/SJoki/fv2wWCwUFRWxffv2evSpqkqnTp3IycnB6/WyYcOGevWpqkpGRgbdunUDYP369VRVVcXMBYO+bt264XQ6KS4upqCgoJ66WVVVOnfuTHZ2NoFAgN9//71eiLNo+jRN2yt9giCYZ1BxcTFbt26NaZMgCASDQY4++mhcLldCvKDdX2iaRmpq6pFnA2gg0fTfhzqi7Sh37drF5s2bqaysjFmEDYmcVVXluOOOIy8vj23btjFt2jTefPNN0tPTW52GJA5zCA34/YoO/1Tnd00QmhwZ4HCEcRiWlpbi8XjM7w4lNFfFbOxTvXr1wuVycdddd1FTU8OgQYO49dZbCYVCvPXWW3z//fc4nU6zHlVVSUlJYdasWeTk5PDTTz/x3HPPNciQXXvttZx99tmUlJQwZ84c/H5/zF7p9Xo555xzOOuss1i1ahUAn3zyCT6fj7S0NFRVJRwOk5OTw+23385RRx3Fr7/+ykMPPURGRoYpwRIEAZ/Px+TJkxk6dChlZWXMnTuX6upqkwEQRZGqqiqGDh3KlClTCIfDvP3223z77bekpKSY9GmahsVi4ZFHHiE9PZ3ly5fzzDPPxNBn2E6OGzeOESNGUFRUxLx588z6ou0rTz31VKZMmQLAa6+9xi+//BLjsicUCpGTk8Mtt9xCp06dWLlyJQ899BBZWVkx9AUCASZOnMjw4cOpqKgw+9NgzERRpLq6mqFDh3LzzTejaRpvv/0233zzjcnEGeNnsVhYsGAB6enprFixgoULF8YIi0RRxOPxMGHCBEaMGFHvjDtUcOedd9K5c2cgMdrdqgxgoum/DwcYt/tvv/2Wdu3a0bdvXzMSiBEFpKFIIMYilWWZtLS05Lgk0TKIkgAGairxKFYy0pwEayrwqTbS3A79d82GO9WBmJQAAvq6jKftnyAIlJWVMWvWLKZNm0ZGRkaLSVGaO3bGK+CePXvy5ptvEgwGgdpIUlarlX/84x9cf/31MXXUdbI7YsQIhg4d2qAE0Hhdm5eXx4IFC+ppPAxmS5ZlnnvuOW699VaeeOIJOnToEPMQRBRFUy05dOhQTj755AbrM2wH27Zty7x58xqsz6DPYrEwceJExo0b12AfGvSdeeaZDBkypNH6OnTowNy5cxutD+Dmm2+uJwU1JI5GWWeccQannHJKvbkSXV9OTg6PPvpoo/UJgtAgfXXHb9iwYQwaNKhR+g4lF2bRqvt+/foBJIwEs1UZQEVRTOeVScQPiqIHJz/ppJOa7BMq+paedAOTRMtBQ1EEZDnII1cez392jGL38tksvLQ/d1X+he3fzeKZUd35t3o9v396NzlqGE2Uj2gpILSM1M/tdjNhwgRSU1OBljs8mysBjH7MZrPZYvYy4/8MpquxMqxWa6OuQwyVcWMvbQF69+6Ny+UyD+29lWWxWBo1bTIYqsbqa236jPm1L3vQptbX2vQdCoyfgeh5/cknn3DiiSeSlZWVEHS0Wig4gMzMTNN5ZRLxhWEjYbPZ6tlhNIRDTa2UxKEKIRJeS+a8m+fTzd8BGTjn1kfpEOqEFRhx21McRXfcANFRA45gxNNdi3H4yLJMhw56TNaWOnwEQcButx+4T7kocyFDc2H8vbe9KzrdgaQxGCiv14uiKHi93hiVs1GO8fNA62tt+qI1QXtLdyjQd7CZp+Zg06ZNjV4oWhut5gga4Nxzz+Wss85qjSqPSNS1iWjqAkkko9QkDjMIAqKgoaoSvU4bSS8ARaXHkPPpYfw+9CL9dyPG6sFsb4LA7/fHTVtiHJZer5clS5Zwxhln4HQ643qIGuXk5uby6KOPkpGR0ewy9rZ/NXVfa4qpUWNpDEbPYMINVd3e8hxofdFpon8eaFlNGdt4tr216TtUEM2wTpgwAUgcKWarKKEFQXc5YrfbTSfQSXvAlkVT+1ZVVaqrq5MSwSRaBpr+AEQUNVQlTDisoEkiariB3wVRfwV8BM9FY912796d3NzcmO8OFFVVVcyZM4fq6mogvloA45CTJIns7OyYhwdJJHEkI3odVFdXmy+zE2GfaxUGUFEURFFk6dKlLFq0aJ9i3iRaHsaEzM7O5pprrml1R6dJHCEQjNe/AqIkI8u6ileUG/6d5MUQgLFjxzJs2DAgfpFA4qWebQjGIVddXc1bb71FTU1NwhxySSSRKJg2bRqbNm0CEsMMq1VtALOyslqjuiSagOjYnZdeeimQOGLpJJI4UmEwTcZDjXi/FmyNi7eiKAlxuCWRRKJh/fr1CRXJpFUkgIYn9x49enDKKackVcAJAGMMFEWhpqYm5qVSEkkkcXBgrMNFixbx008/mXtnoiOacb300ktJTU1NXiiTSKIOHA5HQtnct1ooOFEUKS8vZ9euXUkVcALA6Pvt27dz8803U1NTc5BblEQSSRjr8sMPPzQdEceTATR8gsYb0RfKioqKuIexSyKJwwFGuNZEQaswgOFwGIB33nmH//znP61RZRL7gDEJg8EgO3bsSPoCTCKJBEJaWto+fabtL1RVpaSkpEXWurGfFBUVMWbMGIqKiuJeRxJJHOpINM1nq7qiFkWx5b1fa0bMUS1GyrhfXHedfFokOkFt2XvLFp0uuh0H2J4WhCAI2Gy2hJqUSSRxpKMl7OjS09O58847zZCPLSUJ9Pv9CbO/JZFEIsHv9yeUSUerRgJpCLW2ZyoQ4Y41DTXKTtBgpvS/68QVrQuhfuzR/bZFEfR4pDH5tH3HKTXaXpvOaEed9qgqmuETSTNCZTW9efFGIk3IJJJIIr4w9lCHw2H6YW1J+7xECHGVRBKJiC5duiSUx41WXal78ziub0ZiLbMXcb5p2pAIAqJoMFJgSNOMMqM/aBqqKiAQoKK0AlWNftxQJ20D+aM/giAQqKmiotqrM2xqrQQwNm3tdyoCguKnoryCQFhvs6qCICjUVFbg94UQRBFRECLMH1Htii3bsBeoS3O8kdywk0gi8RCv9W7sZcFgkLVr1xIMBlvUPi8p/UsiiVpEr7Unn3yS3r17m+8iDjYOugrYkOwVF/zGhkK/LuULVvL7qtUU1kSCVAeKWfNbAT5VMKWCOj+mRf1tfIceekooZ9WPv6EoUSFtVG2f+XVJnYAhwyvdspY1G/cgAIIImsGsUZsvmoETBSBUyq+r1lDmB9AQRD1NwZqq30VUAAAgAElEQVRfKSvz4i3awIrVW1EiksK65RiSUIMJrpUgxv/GrqoqXq83uWknkUQCoSVshXw+H++//z4+nw9oOUYtkV45JpFEEntHqzKAfr+/gdem+iakBErIX7tN/91Tws9ffMn6kioAfDvWsb7Yj0OEsKec3btLCGgCoiAQDoVRwwEqykqoDgiIokpZURk1/rCpkoXILVgU0QLV7NldhE+J5A+G0dQQVWUlVPn1iAXlRcVUByPtCmtIkkaVt4ry6iCiIETCW6lUFO+mpCpgbtaiqFJeVkGgJoQkaigqgIivspwaXxWaJKGGVJxZeXRqnwmahqIo+GvKKSn3RDGiKpXFeygsKqa0rIKAYjCB8fXcD/qz9L59+yLLB90aIIkkjngY63LixImceeaZQPwYKrfbzY033ojb7Y6pK57QNA2Px5O8UCaRRATRLtYWLlwY4wnlYKNVTn1D6tevXz/TwWldZLXtjH3LZiroSbiqhjZt2xEoL4XOGWzf4aVjj35U71nPirWFpKQIrFlv54TTTkAs/J1vfywgpWNXenW3UrJ2FVuqZexCKdsr7AySdSZQEARC5dtZuW4Hsk0if9NOjj31ONj9G9+t3El2+yy81auQranYRQ9lARenDj0Bh11l+6+rEbQOeAoradfvFPrkSWz8dSUlQStaYBN7OvSjX6dUNq74jm0eB+7wDjZXpNPXAZ6dv7FsbSlpGQJrNxQzvMtxeAp3sKXcztEpHr774HusnTqiVVXi6ngcx3dPo2Dld2yrsRAo2oQvZyDnnpYe9zExNv8OHTowa9ashBBHJ5HEkQ7jYOjRowcQH1u96Fikhv1RS9kA2u12Bg0alFB2TkkkkSjo3LlzQq2NVjn1jbiQgwcP5oorrqjnCFoFLGmZpDpCFO6soaa0grYnH49cUkqNr5Ai1c1RtjBr16zH3eMUTjjpNNoqe/itoJCAz4tfzuaEE46hbWAzq/doHHvqKZzUrxMpkoamEnlwESJ/zRqqhByOOb4/zootrNlWRNDvJ2TL5oQTTuEooYoiv5MTTx1Ktr+YLUXVIArY0tpyzLEDObmjzMaCzZTu2MqG7VUc1e94+mYrrN+wkeJd29myJ0j/ISdyQp/OOC0igt9Dfn4B7l6nMXBgP9qmWlA1CPtrqPYEUEJ+PCEL3U84gZN7tqF463oq/ZVs3lJN/yGnMviY9lgEOzYRVEW3hYwXog8FSZJi/m4u6tljHgI41NoLh2Y/H+6I13gYa3DDhg0UFhbGRVJglFlRUcG9995LRUUFRnz2eMHYNzIyMpg2bRoZGRlxKzuJJA5lRJ+tI0aMIDMzE1VVE8LzRqs5ghYEgXA4TCgUinEELYDOAYpu2qS5KNm9nl1VNtp36UJbWzVr1u1GTnNjkwX8qo28thYA2rdNJ+SrIaim0LZ9G1KA6vIaHBnZpMogpbclx+1AMzc5PzWeGqor9vDrT78SSMujU64bJSyR0y4XCbCn5ND+qExAwOWwIxAipNpo274dDiAlOwsLfsorK/DVeNm+9md+Lxbp1rU9qr8S0ZlLOkB6O9plOfB5fISxkZ0lAW7a5WUhh8MgyciSgKqKpGW3IQOw2Fw4LAphzYZd8rNh7UbW7wmRmxfZSKPU2fGAMQGLiopYuHAhPp9vvw+b/ZnAiTDZE80HU1NxqLY7if2f98b6e/jhh1m8eDFA3Pz2+f1+lixZQiAQiEt50TD2DlEUsdvtZqjJA5230Y/1VFVttQ/UOu2N/rulP4qixDgLTl7wDn1Eq4B/+eUXqqurzfVxsNEqDKCxgX3xxRc8+eSTMf+nCSCgL7COeRkUb17BDtqQichR7SVWrNiINSWXjAwbYtjHrt0BIMiWPR7SMtKRCRAIBFGA1PRUvKXFVAYhsGcr20uqQBIjZoYOUlPTaNepFwNPPIXThpxM+xQ7SjhIMBDS2xkKEgjqv4dDIRRNRMLDlk3b8ABlu4vAlkZOZgau7Fz6Hz+QU4cM4diubUl3OQjUFFGmQbh4K5t3VuJwOZE1P0VFQaCMzZt2EpRlUMKEFRXQCAWChAFNCRMOqyj48Xv9FG3bhMfRmf7d0oH4h84zJl95eTlvvfVWsw6FcDhs2ifVPlip/UTbLiWCo+nozb1uW42PYQuZSNI1I6oCYEprG+pnURQTop8Pd9T15t/YPIqec/sDWZbjbpZhqIBb6jGZIAiUlZVxzz33UFZWFhfpZbT0xHhE2NIfY+zcbjc2mw2n0wnoa6+l6zbqiKY/icMH06dPZ/PmzUBiMPetYgNoHFAnn3wyAwYMiP1PDRAE/fVumzxy7OnQPguAlNxOtE+rJi0nB4Bjju3Fz799yWfrJCwZnRnUIYvqgl243S69rLZ9ODZvGT9+tpjULCe5eW2RiEgZkel7bH+WLl3OJzssiGIqxwwZiCM1Dbes6+RtqWmkOW0AONLSscgCltRccqybWLbkMwJhB/1O6ExaukDPoj1889EnWGWR9M7HckKPnvTtUMhPH31OtlugTV4uks1J3369+Gb5Z3y1OxVL9lG4bQJC2IXb5UCSrKRlpCIBgtVOWloacljFkZlLbs8+2Mu38fUXpQw8/RSyZLVFXgKLokhqampMufuamMaGXFlZyfXXX0+PHj1iXEsYZWmaht1u57///S+TJk1qsPymHBJNPUj2lc7lcrFu3TrGjBnToGG9kVeWZfLz802HuXXbHO+27y2N8Z0kSdx111188803eL3eeoyBqqo4nU6+/vpr+vXrZ+bdW73x6s94p4F9z73WnC97S+NyuVi7di3XXXcdFoul3v9Hj9u6deti1KFN3fRb0kVLS5RtjF9KSgoXXnghKSkpcSk3WnpSUFBAeXl5i0tPNE1DtlgoKizEYrGwdOlSbDZbq/hL1TSNtm3b0r59e5PGJBN4eEAQhBZx8H4gELRWao2qqubBFasaiLhUacB5M0Jdh8p1S9VdpkQy7MVRs14+WuPqiLqMS+Np65vjRbVkn982VKDRdu/O5Xz0k4+hI06E3Wv5Kb+UY/9wJnk2FTXy8rlum8PhMO+//z4jRozA5XI1SfWiKAqSJLFhwwZuvfVWXnjhBZxOZ8w47b25evm//fYbmzZtitmQDdsiI/yfKIo4HA4GDx7c4AOgprS1qaqkfaVTVZUlS5ZQVlaGzWartxCNBRoKhUhLS2PEiBEH3K54pNmxYwc//vgjqqo2KhlSFIVjjjmGbt26HXCb4tX2/UkD+z7sWnO+NJbm22+/paSkBNAl4YbUz0hrrAO3282wYcOaXJ+x/m666SYGDhzI6NGjCYfDB/RK36i3sLCQa6+9lqeffprc3NwmrfXm1LO3v5sDo40FBQUMGzaMY445pkGmu4ktRN+PjTMnynl/5IwRxdozQBRFbDZbkyKbaBpIkoCqqOa5pWoqIOrWOxA549DdgjVQnCzLFBYWUllZybJly7Db7S32WCeJ1kP0GJ533nnce++9HHvssXFff81Bq0gADULXrFlDUVERw4YNi9rwiWKAYv3gaZqGGmG2ap1A10XkSyHasXI09AW/r9t+9P/vMy31zfEEGlrTDX/bQOWRTUjA2fZoTuq9nk2//Yog2jn6pEHk2Wr9E8YbmqZRWVnJnj176NKlC6IoEggEqKysbJCxc7lcJqPYpUsXevToUW/Tt1gsMRPb5/Ph9/spLi6OqTsjIwNZlgkEAlRVVdXpEr2+lJQUUlJSUBSFqqoq87CNHh9ZlklPT0cQBKqrq/H7/fXoFASBtLQ0hg8fDkAgEKjXn5qmYbPZzL9LS0tjbv1Gm6xWK263G1EUqampMaVydedMeno6FouFYDBIZWXlftNnpElPT+fPf/6zmbdu2420VqsV0G29qqur6/UBgNPpJCUlBU3TKCsr2yd91dXV+Hy+evQZ/Xkg9BmQJInMzEyAJvVnQ/OlLn2qqlJRURGjEjfqtVgsTaLP7XZjtVoJBoNUVFTE2LUNHDjQZBAMKIpi0mcgHA5TXl5uzs+G6DPaZdAHUFZWZl6i4gVN0wiHwy0igTD6xefzsXLlSo477jgcDscBMzBGW0tKSujduzfvvfdesyRxukBBwiLr+5IaDqFoAmgKgiQjCBKSqBIIKkhRTKDBCDZSMqoqYLXK5jkXDgbRRAmLLAEKoTBIooAgighAOBiKOIythbHuduzYweWXX47X602o16JJxAeJJP2DVmIAFUVBFEWWLVvGzz//bN6IdURJ9oRaB8z6n7FSv33uIw1KAPU6jPIazy40+PveS9z3d02SAOoV6pNDctCh97G0VxUQJT23IQ1tSPTYTBj0ZWdnk5qayv/93//x8MMPM2DAAH766SfTX5hh7ySKIl6vl/Hjx3PVVVcRDAa54oor2L17N1arFU3TkCSJmpoaBg4cyNy5c3E6ncyaNYuXXnqJrKwssyxBEAiFQjz33HP07NmTZcuWcfvtt8e0S5IkSktLGT9+PGPHjqWoqIgpU6awadMmUx1jlNO7d28WLlyILMvMnz+f999/H7vdbqZRVRW73c59993HCSecwBdffMG0adPMG7bRJr/fz5gxYxgzZgyhUIirrrqKsrIyZFmOoe+kk05i1qxZpKSksHDhQl544QUyMzPrMW+PP/44ffr04eeff2bKlCmm2tlgQoqKipg0aRLXXHMNJSUlTJ06lfz8/Ji2B4NBunfvzvPPP48oisycOZNFixbFSAdUVcVisfDAAw9w4okn8sMPP3DHHXfUk7gHg0GuvvpqxowZg9/v59prr6WoqCiGPo/Hw4knnsh9992H2+3mscce4+WXXyYrK8ukzzis5s6dS79+/Vi5ciU33nhjjFRVlmVKS0uZNGkSV199NeXl5dx0003k5+fjcDjMw9Lv99OlSxdeffVVABYuXMhrr71mXjKM+aCqKvPnz2fAgAF89913zJgxI+b/jfH729/+xvjx46mpqWHcuHHs3LnTpE8URXw+H8cddxwzZ84kPT2dRx55hDfeeIOMjIwY+mw2G7Nnz+a4445j1apVjBs3jtTUVJOhFASB8vJyJk6cyJgxYygrK2PixImsX78+hj6v10u/fv14/vnnAXj66ad56aWXcLlcpm2n0fann36ao48+mi+//JKCggKuu+66mDVxoBBFkbS0tBaROhhzrLy8nPvvv5/HHnsMh8NxwOUatIuiiMvlanY8eV2sUM0r/7qWd0Ln8/SsK3EDNVt+4YOlZYwYdTzrV5bRy1nJ8ioHZ5zcD2sTNDiqCrIMBe/cxWV3L+by+9/kn2flgRZiz8b1+LO60jlNxhvwEfKVU1LloFvnrL2W53A4SElJSUr9DlMY6z1R0Coq4FAohMVi4bnnnmPFihXMmzcvad9QB9G2LmD0S0TqGSXdbEjy0xwVcHR+VVXx+XzY7XYkSSIcDptSprpSCovFYjJ8Pp8vpt3GT0mSsNlsCIJAIBBoUOoD1KsvGnXrU1WVQCBgHvrR9RkvDxuqL/qnzWZrFn1127S/9CmKUk8qub/0GYdpotC3v/U1l769zZdgMNhg2+M1P6PpM8ZvX/1pBHpvbH4Gg8EYTwjRZRn0hUIhkwmNhwow+gKwadMmunfvbqpR47X/Ggzvrl27uP7663nsscfIy8s74DqMcpcvX84999zDu+++a17amgpNE5CkMJ8vuI2X1sm00fYQ6H4J9036I/aSfObOeRzLCf35/Ysqxlx9Arv9WQwf1AdZUREkEV3KpxmKmtpyVQ1Jlij66QUm/edj+g/uzYpvN3LpjHlcckw6Sx4Yx8d51/BXy4+8UdWZywc7+XKJn+vHnYumiwWj2qjPy6KiIq644grefPNNMjIykirgwwDRY3jmmWfywAMPMGDAgCNHBZzEvqGrlWsPjdoNLqIapyEbyOaj7sFoGG1rmoYsy43aHBl5jNdxjaWz2WwxarKG0jSlvmgmoTXqiyd9kiQ1ahTfFPqM+ZCI9MVj/BKZvqaMnyAITZqfVqvVVNXvLY2hBq67RpsLowyr1UqfPn1iyj6UEC3tjf65V2i6bZ8gCuDZidrtQh6dcBoO/Pz83UqqAHuGG4unmHJrVzr6X+WHyuFcPawPFk0FSWXXxnVoOT05Kk1G1TREMeqiIItAgB2VqYyd9RRDezip/OOXLNm9iTADGTKkP8+8+z0/phRSransKD2Dcy/pru/1soQQtafX9U6QxOEHTdO44IILyM7OBhJD+JVkABMFUerr+hMjvsyfgegDxpBc1GdA6zazNo1RRkNpjJ9NLStZX+P1GXUm6Ts06dvf+uIJY517vV6++OILhg8fjtPpPCSZwKbD0JiIaJqKmtKZs87pzK41P5EvZpKT62Lz6m3kHN2GYZePJ2XAQHZTSdYJx2BFQxVERMp5atoYuO5j7jjHBdSR7AJhj5e2x5xO/ywnoOHoeCwnZUcOVosdNRhkyGXDWfPkW5S5rqVLlkOXJop7M1dK4nBD9Jq+4YYbgMS5gLU6A5gIRCdR396xsb8by9+UdPFKk6wvWd+RUl9jfzcXiqKwc+fOFvcVGa/YxQcCTYv0m6aiRZi5N2bPoqDNmVw5VGTmX0ezZeh/+O/df6bPKYMA6DjywkheleriYkLaLqqCChRvoaI4By01mwy7HtUKQQDVw29fPsPEOz7g8tkvMfEP7Vn731mMnVfEk189Q/+ef+Q/03PoaK9izD/70KWrA1ARBDFi0tMyF/skEgvRlwbjPUQ8JPvxQKsqoA0XG0kkNqKlGTEf/cumvGtOIonDGntdI41IAg8WjMMmNTWVsWPHkpqa2mKHj/H6ujV85jUGnWYVRRMRCfHGrX/nsQ1Hcf3f/kD7TmnUKE4Gnz4UgGAwjKppqEoYFf2xyHsPT+Gq627lo1838dHjU7nqun/y/uoyIGIHqGmoYgoDhv+J48RNfLZyHQDHnjqY/v2OQvACrnZ0TJdR7Zn07HoUFk1F06LcwiSZvyMOd9xxx5HrCHrw4MH07NmzNapMopnQJ2XEfY0Wcc8T/ZPad3GxRuxEbBUjl2NFBUE0bWYO9k2nUZi3ca1euxEOfVVNzDipqu50XRIbfFiURCyM9SCgoWoqqqr/rd/iwXiolSg3+oZgtMtwxeN2u8347PFqr1GO2+3mmmuuwe12x6Xc5kLTNP2RhgQl3z3CnS8WMuPrcaQBuz58gdWBblw7KAtQkCySLgmR5MhekMbf/vMif6OCey45H8a8ze1n2c1yjb1B1UB0duX0U9vzn7U7Adi4toIzR/+NfmmAqqAiIgqgapou+RNq50sSRxYEQWDixImmy6tEmAOtIgE0QlT17t2bIUOGxNibJZF4EITIoSGKiIJg/sSQbkT+rZV6YN5qAd1htSTtk/kzpYrot29FjZaqtCyNMRCEyMZc22410u5DdYbWSmxVVEVBM+yXRBFJEhE0VWfqk2uwUQjG3EBAFKXIAxQJUQRF1Q91Q6WTSKqdhlBeXs60adOoqKgA4iuBMOh2u92MHj0at9t90PtBFXTBw9IPXqOkx3lc1FWG0CbmzXuVcK9hDEoBFBARzPVh+KNVwgBB7Knp2AQfACGljj/ZiJAz46gMhMoKCjau5LuSdEYM7QGouh2hCAjRF4bkmjvSEG37265du7i97o8HWoUBNF7SFRYWxkSOSAQRaBLR0Dk5TdPtVMo2fMfipVvxlf7CB5+uhsgBh2Z4zTcOv1pfeoIgIAp+Nv36MxsKvQiCUC+4uaZFxUfVtAjDKCOJUZ70hQOdH7HqOE3VpTcNtUPTjEgzIQpWL2f9Hi+iIETSR6chQrv+qU/XfrbQzFNbXv02xtZlquEbqcyUXGq6Mbsky4iCfunyFK5nxaoC/IKIoCqoUSr92n5qel2JiujLRV3VrPF/DfVvJFGd9AKCoFC4fjnvvf4Kiz78ht1eAUkUUEp/483XPmJH4Vb+++oi1lapsUxCAiEcDrNly5a4O5iGWJdUO3bs2Ksrn9aEEKk7p2MXAvmf8sz737Ps2yWsL7Fz2lnDEQFFiLB/ArUXPkFAlABymPTE20weroeEjPiQrrX3jJSfeVQeJcve4qXPdjJ81PlkoKGoetSmBJwGSbQyos/Gd999l+Li4oO+Ngy0CgNoHPbr1q3j22+/bY0qk2gWhIhkSASlgIduv49fiot46e6ZfLt5C8/+exrPryiOTGZY/OANTJ7zHp7IrTa04SP+OfkhdlHCE5P+yqyPdwG6BNg4VPW8tVITVdOd4q/79mO+W1+uqybVA417HK2WU3X1rqirdc3vNKLaAYoKUMEjk//K7P/qNhr6jV+MkuzUSs0akvg0p7m6nbpqSglEMaJuVGs3jdq6apm7xsvUx1EVBES1iCX//YTNXn2pF3w0k6tuWEAxgCghGmVqkT4Xa/tEU/ddV6JCMEwWtNo+jN6IBVPCG92/Gmrd/tVUVAGo+o2nH32cj5eu4qNHb+GSv/+LjYC0ZhFT732B9et+4J7b7uNXT8T59kGhunEIgmD6I4w3jMOsurqaV199da+RaA60DiPMpBF1ZW8fRVHQ1DBhDQb+dTYv3TGS6uoA2fYUPGo6J53aCdCN8sP1ylJQFP2nIEkImlKvTkXR0wBo1hy6duvB2ZefRweHQjAYRlPr59lXe4EWi9SSRGJgzpw5bN++HUgMG8BWUwEDnHrqqVx22WWtUWUSzYKGqiqIwLZFc1m0qxuD0pfz8Kc+xo05k/JVb/P8mysiaQt4Y958Hn70ZfJL9W9+/fRV3v5xJ1k4sLnSyXQJ1BRvZ/PuikgYJAEIU7prM2vXrqewMqCHXfJt59UHpjPnjW+oUUMEVC0qLGCzyDA4K92eT1Ao2rKe/IKd+BTNtPGr2rOZtes2Ue4DWdIz2l1unBb9gLRZRCp2FbB2XQGVQX0eC2qYQEABLUDhzh2Ue2slHfvVXE0zmUpBlBA0L9s2rGX91qKI6kgg6A+gAf7yXazfuB2/ZkgV9h3X2rDVDG7+gv/c9m/eXa4z45qcQnZuBsGaEFs3bKRG0ctU0NVV5bs2sXb9VryRuKjmC7bmjcRBg6nOE1QCPi/BcMTpeTiAzxdAEwRCgQAI4C3ZxvpNOwgg1u9fQdQ3SXs3xvx7Lo/NmcnT/32Y3LVvsejLnXz0+QbOvf7vBH79hi6X38yodoCmJqzpQIykM44w+is1NZWrrrqqwbjfBwq73Y4oiqYfyH1+LBZkAeTUDlwwbho3jx6GsOVrivPO5C+9HICA1dJ4GZIoIkkN/5/VpvtrHHjZf1iy5GlOTgeQsFotTW9j5GP4fszJyTGj/CRx+MHtdh9QXO94o1VaYqgBDQeoiaL/TqI+BEFn1u1dh3HDhHQ6thEZNzGTNjg454KzeOGljynmbDJ/+5ai3JPoL+7hq1XFHD/Mzfc/bOL48ydiQ0TTvHz59AyqP/Lz86pCLrj1Uf71p778+srd3P7KL7gcKtvKUpj6+HMcs+5F/rdiI2U75nOLUs4t0/9Oe0FrvhjFkIChu3947a5/8uQPpaTbVdoOm8SCG//AkiemcP/b60h1qRQF23HT7Hlc0FvSb/+q7v3/43k3Mfd/m0h1hilROjN13nzO6VzMU/fO4Mf8QtZuq+Ivdyxk8rldURUNUdqPOR2laqdsFTOmTueHUhuyp4iUgVfz7H1/Z+sn85n5ej7ZnSys+epHrKeM45kHryVrn4bkEdVvsJi3XnqTX7Ztperem7D572CIK52SFe9zz+3FlK38Dn/vK3hy3k10tAVZ8sR07n/3d5yWIGreWcx66GZ6OHUDdvGQXa+7mXvzLaReMofrz8hm67cL+PdrIvMen8SG1+9jwWfbcWZAwfLV2E8Zx8IH/4+cqP41TR6sLrJN/80CgmxFrdiD86S/c+vJA9j0vZdbLr0ACxEbWDEx+6ulbK+NS5Asy+Tk5ADx2ecNRkhVVfLz8/nf//63/2WoCqGwhk0r4/V5b1OZegUffPQFDsWDisiBNFHTNCTZgqCFCYWbH9khOhZwfn5+QrjSSSL+aKkLWHPRarGAJUniiy++oKCggGuvvdbshCQjmEgQEEQJTVXJPfEixp+of/uPyMPto08djPuBhSyths7ffo/9jL8wzvMhH/+wkcmnZ/FjgcppE/oCHsJBL1rOicx+aiIb543m0rlP839/epCjjruIB0fcTs9sC89dPZgHn/gfXz8wkfMWvs1vJ0/g3ltG4oyoRJsNTX/NK8oiuz+ez91vF/HYZ//ldOdWVuxKpfrX55k691smvrKYvw1I5aVxg7j1X48z8q0JWJQQosMF+U8xdf5PTPvwa0b38LHg6iHceudznPP8aHYteZnFrpv45I2JdEjTo02IksB+iX2iHs+8M+tm3i49jc/fuYOsHYs5Z9gEHjr3LEb51vHhV9t59sdPeGD8OwwZdi+Lrr2csX2NcH97K1xA1FSw5jBq9KU8/84eRtwym/HDOrDurSrKPDbOGvcwV7RZwjknTeS1df9gqvtt/vXEUia/+iUX9ypi0vAzmPHccF4cf7z+aEs61B7EGDJQPwVrVpE2TDfk95YV8OsqmSDg3fE973zt5J1l7zJM+C/DB93EE+eN4vZhaaiahiTUMiCaBgIBlr7+APfMfZ2qoy/l8vMH0jWyg3a44M8AqKq2z8dPBwuaVj/8X7xghLWqrKzktdde4/LLLyctLe2A+8FgqLp3786QIUN48803zTB2+wMBDZ/Hg9LtbE6Xi3n3tRexWeLDZMXrLBNFkerqai666CJcLlc8mpZEEo2iVRhAVVWRJIkNGzbw008/ce2117ZGtUccojfFpmyQ9V8sRpgSUURTFRQVRDFiwylakHsNYUDOHH7+6lfKft1K+xG38ofQVl58+yt+/7ENRc6eDOnjAopRxHTOGPUnUoAufY8m863NFAIDurXhqyfv4fGCSjb/Woo01A+4yXLaSclsS5psQQ2F0ZAPiAdUNd21w8rlK8gccAGn5YCmdOL4HvDjwiXQ43z+NEBXU134lz/ywPzsobAAABylSURBVM0r+D0sYpNU/FaZ9V99h3TsSEb1EIEULrh8JI/N+JmSqosQU3pz5birOKZDdoxtYxNix0dBQ48lsI2vfipi2DV/Iwug/VAuPj2HxT/lMyLHztFDz+G0o4BAJ44+ykFRiQdo/HAQBEF3QSGIWLOzSLHZyG7fAYCgJ0Cnk89iWG8ByOPojunUVJeyacdqikor+fSJW1gmhcn3W0gpLTSa2jgdhr2lqurSQklCUxQ0QUQSQFFV8yV56zNGAhabHUtEOiuIFmx2WY/iEJY56cK/MLQNwEBOOzqF9Ss3wrCBmO5fDGNtAcDDoieeIDh8Hl/fexFoCuEwSJKoM8lilPugBGSXLRYLPXv2bFEVVE1NDW+99RbnnXceaWlpB1ye0f+ZmZkxMeSbW1Y0EkkSYyC6jYl4iUjiwCBJUkKNaasqo+12e/Jm00IQBMHc2OtuInWx942l9iGDIEqRV2+66xBNUYCOjDi9F8+8Op9N4XTOOroTvSynkfvEczzzTgbp/YbRMw1ARZIl/N4aAELhMJpgwQ28MGEUc0qG8+hdf2dl2W+8HmleSK1VM8ZT1iQIGqFQKOLny6ANQuGQydcogSCqZMUmCwiCZLpuUEJBjPeS4aAfUbIhSSJIMkLYr+cNq4iW2ugAzWq5oBIKGg7SNQJ+DYvdojMWIR9eIE0Jo2j6y9N9IYYBCQVREExjXzHSdg+AohDWBGRRBDWEnNmD8y++gmylggsv+RuduvcCQGpUtS1EHqfoDJBuSqkhRFRYGrV+QA+WKllVNWRZ19/aLBIGP2f4ijNeC4dCChabPZKroXbKDDz/7ww87XQAQoqARdY9GkSr7BJpg4daJiorK4tHH30UMPzZxd8EXBD0uOLx6gPTBjXqAU+8kGjjZCDWv2qSCTzUET2GlZWVLfIKv7lo1UggqqoedA/xhyMEQcDv91NaWmq+KqsbXLz+i9Kmbi5CxDuMnm7IRWew9pWn+V9NJ4bkAV1O5jjhFx6c8zX9zxyO4f7VV1WJNxRhscI+Kit9aHhZu76Inqf/iVOPyWPn5i1U1eiMVKroZ9P6fCrQCHOAj0AAUdBf1R1/0qnUrHiV19fWUJ7/Bc9/sJLuJ5+NY+MiFn6+DQLbWfDkR+Scei49CVJaWU1FVZCew4egrf6AZ78rBO96nl64mA7DziUjRaWspBxPyNikMR907N82rdspQkfOPDmPz199lHUeKFn6Mq+s0Bh59vHInkLKq4OR5Co1VVX4Qsb62XvfCEKUOtrlQvTuYd1vWwAIBbxUVvsinaTiry6npEqg24DTyA0VsFVrxylDTqNHrgMt6n7YyJMTNFVBEESqlr/CjVMeYpsg8Pn8qfz7xRUI/l+588ab+Wijoj82UVtL6mK44GhLO6eHH779hmBwG889/Dzr/Hof2lJElr6+kHfzPZR8/xaL11sZNEy3d6i7LPQ/ZTIzsrFqHoAYFXEStWipPT7abc/h/Eni8IJxdmqaxj333EPXrl1jvj+YaFUJYCIQfLjBkD506dKF77//HofDgcViQZJ0p7WSJJliZ9P1iqrSq1cvMjMzm8QE6tpN/SVo+tEj+NsVZ1E4dCTtXQDtOW/0X1jRRuGPp3SK5HBz3PBzCXfV2UHrUQP444hi7DiZcNs/uH7mTVy4vCfdThzF5b31xXDu2P/j3emPMeZGDw/MvZ6OhmqxOZ0iCIiSiKpBm7MmcO+121lw48W87Ezl+IunkdH/ch687XfumXkd3zosWDtczLx/XwJUcdxZF+A7SoJu/8cjt61n5l1X8blNwN7tauZMHQEUMmDEecgd3bWd05xWCgKCqG/25936MGun3MaNl16IRYPhtzzEFd2drF93En8c1hkHgJzFqWefQ7s29qh6GykeEU0FHCdzzd+HcM+9fyNFfIRLew1j5DBFVyIL6Zx49kjEDAU6XMADt/3Cv6eP5otMNwE1navveoSOmRbTVc++qAz7qymrqCIM+KrKqZADoEqUl5fhDaqYIthWgfEK3MmY26bw678e5k9/78cJp0/kJkc3rEAw7KR7N4kPZ1/P4xt3MWzqQ1zV1wKauhdJpY8Vi/9HmWUwo07uEPEDd2CPCFoDxhqvqqri5Zdf5sorr2zRcHAtIaU7Us+OI5XuwwnRPv+GDBkCJI56X9Ba4coRCoWwWCw888wzrFixgkceeST5CCROqKsuqKiowO/3EwwGCQaDBAIBgsFgzOsjRVHo2bNnkxlA07hNMzzlG1+rdV486n+DgPGVYRwe+UM3Kgx78ahOUiKvKjVFQ5AECNZQpdhxO+QDWyBmOyNOpgXQvJV4bWmkSLp/O0EUQPVQViOT6bZBxHmrFGlqWIm4hlE8lHssZLitgB5bVDJp05r/2lOrdbqNICIAgaoyFFcmThE0RTHVqGgKqiCZ4vqmqFL1EdMjWAiAv7oaHC7ssmCWqSCZtCiKFlH1+ikpDZCdldbkukD3ZSgY42y8bkEPlrA/7Y4bIrcHfcoJoPmpCdpx2cwEvPevc3mk5joWzx2F3x/GYZd1f4h1mTqt1rOQEg6iChYskkFm4u9fxlry+XwsW7aMU045xXQ1Eq/2G+t8165djBs3jscff5y8vLyEOeiSSOJgIdqM4ffff6dz586kpKQkxNpoNTcwADabDafTGfN/jfGfdb1lN8V7dnSapnrbbo08LU2LEV4vIyNjn203ED0x992u2igJ4XAYRAlJ1H3H6WHcQJKlCHOooYQVM43xoESS9ccByE5SiJQjSEiSgKooCFYX7ph21da7330cYQJFNN1Oz5lGiqYSVnSbNkUJI4gpZLpBCYcRJAlJrG23LOmMsiCmkBGdRoimrene3OuNZaSNhqQqrGjY3JmR30GWJFQ1jKoKSLKEqGmEFQUh2nnzvurQBH0sVA17aiqgoSoKqqbb5UnR4yTp46iJdrKz7GhKWGc669S11/ki6OMcVjR9nMNhNEFEFiGs6L4ODZVpS6zjvbVLfw+jgGjHZdPnnKJK2Kwirqz25KIRABw2CCsKkihhPGypC00DSbYiRT98Mcex5Wk5kDyqquJwODjjjDMitLSc9M/waZdEEknE4r333mP06NEJwwC2igTQILS8vJxgMEibNm2aRHzdNPubp6kd3Bp5WoOWuoeMcStvLN9B6WPVCPfWSD4t4sy4RftYi0jxxObTcgjPlwbzQKPq5QNtV3PytGwdAJHYz+xbohct6WyqFqO1x35veRRFYdWqVfTt2zfu8UiNsvx+P6tXr6Z///7Y7fZG7QENm+S6+1ZjR1J0GNHo/HvLUzdN9FpvSp6mtmt/89RtV3NpiXe7ovMYQoX9aVf0dwebFmNutyYt+0q/v2dNS6NVGECoJTgQCCCKIhaLhVAohNfrbTCt3W7HbrejKAp+vx+Hw4Eoivh8PgKBQIOd53Q6zXJDoRBOpxNN0/B4PGZsymgIgkBqaqq5cQmCgM1mQ1EUampqGmyX1WrF4XAgCAIejwe73Y4kSQSDQbxeb706NE3D4XBgs9kIh8MEg0Ezv9frJRgMNtgup9OJLMsEAgHz9q5pGjU1Nbpkqs5mL0kSLpcLQdBVPZIkYbVaG+1jq9Vq9pHX6zVpCQQC+Hy+BmlJSUnBYrEQDocJBALmTcbr9Tb4ukkQ9FeBkiTh9+sPPoyDoaampt4i0TQNi8WC0+k0+8hisTR5vqiqis/nM+eL3+83x7YuUlJSkGV5v+aLy+UyyzXmi6qqDYa+amy+BAIBsz/q5qk7X4wICE2ZL8FgkHA4jNPpRFVVc1zq5hFFscH5oigK1dXVDY69zWYz56HH48HpdCKKYqO0OJ1OrFZrvbnv8XgIhUIN0mLMl0AgYI6toih4vd56DIWm6c6HXS7dN6Lf7zcjK4RCITweT4O0GPOlLi17my+apuFyuerNF8Bck3UhiiJOp9Oc+9H7i8fj2evcN9aUz+fDarWa49rQ/gK6ZiV67htrJ3qvtNlsbNu2jXHjxvHqq6/Spk2bWPOMOCCxGf3aOiD+THtz8hy0S16Slianb06e5tRxsNAqKmBN02MuyrLM9OnTueyyyxg4cCDff/89t956a8wmJMsyRUVFTJo0iTFjxrB9+3aeeuopbrjhBnJzc1mwYAGvvPIKLpfLPAxUVcVms3HvvfcyaNAgli5dyqeffsqMGTPw+/1MnTqVpUuXxuQJhUJkZ2fz7rvvYrFYePHFF3G73Vx22WUUFBQwduzYGEbT2FBHjhzJv//9bwBuv/12xo8fT48ePfjss8+YPn26yUSArmYrKSnhnnvu4U9/+hObNm3ihRdeYPr06djtdu6//34+/PDDGHuccDiM2+1m1qxZHHvssXz44Yds3bqVSZMm4fF4GDduHPn5+eZBbDBJffv25fnnn0cQBB5//HF69uzJyJEjWbFiBdOmTYs5bA2G9+KLL2batGkEAgHuuOMOJk+eTPv27Xn77be57777yMjIMA82w0npww8/zNChQ1mzZg1vvPEG9957LwB33nknX331VT1asrKymDdvHl27duX1119H0zSuuuoqqqqqGD16NKWlpab7GlEUqaqq4vTTT2fevHkAzJ49m7POOotBgwbx1Vdfcdddd5m3uWharrrqKiZMmEBhYSFz587lpptuIjc3l2eeeYYFCxaQk5MTw6Cqqsr8+fMZOHAgy5YtY/HixcyYMQOv18vUqVP58ccfY/o4FArRrl07nnzySbKzs3n22WfJzc1l1KhRFBcXM2rUqJhFLUkSFRUVXHjhhcyYMQOA6dOnM378eLp3787HH3/MzJkz67kP8Xq9TJ48mSuvvJKNGzfy6quvMnnyZNLT05k9ezZvvvkmWVlZ5rgoioLT6WT+/Pn07duXTz75hN9//51p06ZRWlrK1KlTWb16tckQGnO/S5cuvPjii1gsFp544gl69erFueeey8aNG7niiiti5rEx9ldeeSX//Oc/UVWVqVOnMmPGDLKzs3nrrbeYM2dOTAgrYyxnzpzJOeecwy+//MLHH3/MzTffjN1u57bbbuObb74x16QgCASDQXJzc5kzZw7du3dn0aJFVFZWMn78ePbs2cPkyZPZsmVLjPTK5/PRv39/nn32WQDmz5/PySefzNChQ1m2bBmTJk0yxzG6j8eMGcPYsWPxer1MmTKF2bNn43K5eOGFF3jsscdITU01+0uSJMrLy3n22WcZOHAgP/zwA99//z233HILADfeeCOrV6+OaVcgEKBLly48+OCDtG/fnqeffpr09HRGjx7Ntm3bGD9+POXl5aZTY8OJ8h/+8Aceeugh/H4/Dz74ICNHjuT444/no48+4p577qkXJiwUCnHDDTcwevRo9uzZw8yZM3nggQewWq0sWLCAF198kfT0dDRNo6qqit69e+N2u4k3DLr9fj/5+fn07t0bm81GYWGheek30hhMe25uLpIkUVlZiSiKpKamEggEKCkpMeeEkUdVVZxOJ9nZ2WiaRllZGS6XC5vNhsfjoaSkBEmSYsZZVVUyMzNxuVyEQiEqKirMKCVlZWXU1NTUa5cgCOTk5GCz2aipqSEcDpv9t2fPHvMyFd0um81GTk4OoihSVlaGzWYjJSXF9MzQEC0ul4vMzEwURaGiooLU1FSsVivV1dWUlZXVo0XTdDc+TqeTQCBAVVUVOTk5aJpGaWkpXq+3QVratm2LLMtUV1ejaRputxtVVdm1a1c9KZchaMjKykIURUpKSnC5XNjtdnw+H6WlpQ3mcbvdpKenEwqFqKqqIi0tDVmWqaiooKqqymxXdL6srCwcDgc+nw+v10tWVhaqqlJaWorP56uXRxRF2rVrZ64TY76EQiEKCwvr0a2qKikpKWRmZiIIAsXFxaSlpWG1WvF4PJSVldWT2imKQmZmJqmpqQSDQaqrq8nIyEAURUpLS/F4PPX6WBRFsrOzzXkYCATIzMxEVVWKi4tNHsIof+bMmUyZMoWuXbvG/QLWHLSaChhqmSir1YokSYTD4b1KDmw2G1arFVVVCQaDWK1W84bekOQAdMmSLMumKxRjs/T7/Q3e0A3JibFhC4JgSkF8Pl+DtMiyjM1mq0dLKBQiEAg0SIvdbsdisaAoCqFQyMzv9/v3KjUzJEWhUMjcZAypQENqFVEUTelKtJR1b30MumNYo1y/34/NZkMURfPxyN6kmfvbx9FSUsAc14aiEhiHgxG03pDoGJKXhvo4mhZVVQkEAiYtxiOYhuaLw+Ew52FTaTEki9F9bEja6sKQ6OzPfDH6x5iHdeeLOfe1WhV53fmihMPYHA40VcXv9+/XfNnb3DekmXubL8bY1s1jzH2jj6P7oinzxdgL1H3QYkjjAoGA+QJ+f+a+Md8CgQChUKhe+r3NfaBByaTRLkN6W3d/8fv9e537BsMaCASaNPeN+WLM/Wha6s59Q9IZbwmEcZgVFxfz1FNPMW7cODIyMrj11ltZs2aNeQExGP28vDzuu+8+3G43r7zyCqmpqZx//vls2LCB++67j6qqKpMJMmgZNGgQU6dORVVV5syZwwUXXECPHj346quvmDlzJunp6TEXVo/Hwz/+8Q9GjBjBjh07ePbZZ5k+fToAjz76KIsXLzYlp8aBbrFYuPPOO+nZsyeffvophYWFXHnllWiaxoQJE9i9ezdWq9U8/H0+H3369GH69OmkpKTw6KOP0r9/f4YMGcKqVauYPXu2KWGPzjNixAgmTJhAZWUlTz/9NKNGjaJTp0689957LFiwgOzsbPNsMC7TN910E4MHD2b9+vW8+eab/Otf/yIUCjF37ly+/vrrmD42zowHHnyQtm3a8O677xIOh7n44ovxer2MHTsWv9+PKAq6GYwk4fN6Oemkk8xL2gMPPMDZZ59N//79+fHHH3nwwQdj5qwkSVRVVXH55Zfz17/+lV27dvH6668zevRocnNzefbZZ1m0aBFut9vUWqmqiizL3HzzzQwcOJAVK1bw5Zdf8s9//hOfz8fs2bNZvnx5DC2KopCamspjjz2G3W7njTfewOl0ct5557Fz506mTJkSw5gb2pIzzjiDG264AVmWufvuuxk9ejRdu3blq6++Yu7cuTERZWRZprS0lBtvvJE//vGPFBQU8N5773HdddfhcrmYN28en3/+OQ6HI6ZdKSkpTJ06laOPPpolS5awdu1arr/+eqqrq7n77rtNYQ2Az+dj8+bNfPTRRxx11FFHDgNoIBFFsa2VJ1FpSdR2NSdPItPSWDubkqZJedAQNMH019IaqotEGZfoS2Zrtiu6zqbmOdh9XFdaEi80VN6uXbsijEYt06mqKhaLhby8PCRJMiVeaWlpBAIBCgsLTYahrkTHsB83JDqGpK6wsLBBCWB2djZut5tgMEhZWRlt27YFoKSkJEY6VVdqZrfbqaqqIhwOm94SduzY0aAE0G6307ZtW5MBdjgcuFwufD4fRUVFDUoAU1NTycnJQVEUSktLSU9Px2q1UllZSXFxMbIs15MA5uTk4HK58Pv9VFRU0LZtW7MvGpJmiqJIXl4eFosFr9dLKBQkLS0dTVPZtm175NIiIFstCEqYQEghJcX5/+3dbWhb1x3H8e+5V4olP0nyg7yk9ljjhrQuWZesrE462sH2ZuvejK2jW0hglLawsi3dGBuUdVAwa8rGNpJ1o1AC3ShsobC0o3SkoWOtywbrm9GH1Ilr2tSJK9WWZcuyXEn37oWkWJHlTHUVycr9fcBYwufg87+yj/469zwQjUaxLItYLEZXVxfBYJClpSXi8fiaa5XP54lEIvT09JDNZkkkEkQiEfx+P7Ozs8zPz1+SyJe+R6NR2tvbSafTpFIpotEojuMQi8Wqjmbats3g4CCWZZFIJLAsi1AoRDabZXp6uuoIYGdnJ/39/RhjmJmZIRKJXPx7icfjVUcA+/v76e7uZmVlhWQySW9vL7ZtE4/HWVxcrHqNo9EowWCQVCpFJpOhr6+PfD7PzMzMmtHvUChEJBKpue+40ho+Aljt8bqNM9UnY9Zap5byjaqzWWPZrO3aSJ3NGku1hGHjsRRX3GYSTCdcBrf2FFZWGwMUtuRJfTBDxh+iLxS8uOCmnrF8nGu8kTqbuV1Ay8VSLYZ6KH9jLP9dtdQBahoR2axJe2W5RsXy/z8UgnEzxD9IE+nrIbe8hPEHafOvtm15IYnpCBEo26az0R9aNnKNr1Sdytfuo9bZyPVqloaOAIrIRhVu+bp5B8u2eeUPD/C0fRe/uueWsjJ5wOb9F47y0D+DHH74bsI4uG59j9ASqbRe8rdZVwHXu12lOrWuNq1XLJcr7+bz2H4/qVef5NCfF/nNw/s5/sgY9ld/ysGbe3GyOSy/j5ef+BnPpvYy9oOv4MtncS3fR4qlssyViKWyTul5vV+X9WKp9e+llljKyze7X27uDWgRqY0LuA6OZQNv8JfnzvHpfSMApGbPM3F6gvcXCnOGBvbtIfefU7w4lQWsyxwaJ1IfpTey0ptb6bllWet+VdYpPb5cnfIytdSpLFNS73aVx9vIWNYrb4zBtfxAnpPPvgif2EVnIMeZ184Qn4sxF59mvjhtd3TPMG+On+R0CrBX14VutF31jqWRr8t6sdTarlpiKS/fbEoARVqBARwHn4Hcq+Oc3jLErdd3wfmX+eXYGEeOPsr373+QU5PL0L6XW4bmeGn8bQAadvyuiGwSLsYGPnyXf5+dZeTm3UCWYFuSvz3xOx79+Y+559Bh/psE3+5RtqffYXwiARfP0BYvUAIo0gpcisfswduTU7idffTaQPcw+7/3EEeO/ppRZ5yn/v4WYNi2rZP3zp4p1lWPLuI1NsDcDNOJLIMDXUCebGqRzl1f45HHHuPGmb/y++OngWGGwkkmJ+YBdMfAQ5QAirSYTCaNZbcV/3mTnHz8Qb594H5OvB7HKu4rGAi08WGm+lZGInKVK2Zx+WyKbN5mSwAgQ65rJ3d88TNAmD03DTD7zgXATyDgkFleuyWZXN2UAIq0AgOm2KuHwxFWlmaxgdf+9Asef2s7T/3xSe77/DVklgr73s0nF+joDjexwSLSNMXpZXZ7DwF/loUFgADu/Fn+9XoMgMnJJOGhASDFfNKmO9zWrNZKkygBFGkFbnFVJfDJnTsJJOOcycGOvV9ieOkf3HvoJzwzsUI02gOsMDm1zPYbbwA2x2RjEWmsHEDvNobDWzj77gUgSN+nBph6+jAP3Hsnz2c/x93fHIHcm0wuhLhhpBe47K5RcpVpyFFwIvIxGYOxLJw8sPN2RtuPceLkOXZ/+QDHjo0yNe/juh1jBP0+mDrOK3OD/PDWwVJVEfEQg4GcC76t3P7Za/jtqedJ3/EdfnTkBIfSMd6YiBHdMcJAJ1x47gXO917Pbdd1AE6hrniCRgBFWoKLawyWyQNbOfDdrxNaKNzK6d62g5tGrqXDZ2EB0+dyfOHgQfb1Aa6j7lzEY1wDtuXgArd9Yz/7rvWRSAPGYHcMsGv3LgY6bMDhXKaHu/Z/iyGb4pYB6jG8QhtBi7SI8s12jTHkczksn2/1XGAMxrjkcg4+n32xDkaf6UW8pLKvcJ1CMljapBi3cKKQwSHngM+2ALe4abySQK9QAijSMlY7aLc4JxC3MDJoLvn52mPnNA9QxEsu7QuqHoVW1ncU+ouKvkWuepoDKNIyDMXTPSl08O5qElgqUZb8FZ80p6ki0kTFPoLyBK/yjGiDwWVtd6Hkzys0AigiIiLiMVoEIiIiIuIxSgBFREREPEYJoIiIiIjHKAEUERER8RglgCIiIiIeowRQRERExGOUAIqIiIh4jBJAEREREY9RAigiIiLiMUoARURERDzmf2gk/ZKEtRwDAAAAAElFTkSuQmCC)"
      ]
    },
    {
      "cell_type": "code",
      "metadata": {
        "id": "Meo0V56F1ugm"
      },
      "source": [
        "class CoattentionModel(tf.keras.layers.Layer):\n",
        "    def __init__(self, num_classes, num_embeddings, dropout_rate=0.3, hidden_size=512):#, num_embeddings, num_classes, embed_dim=512, k=30\n",
        "        super().__init__()\n",
        "        self.num_classes = num_classes\n",
        "        self.hidden_size = hidden_size\n",
        "        self.dropout = dropout_rate\n",
        "        self.num_embeddings = num_embeddings\n",
        "        \n",
        "\n",
        "        self.image_dense = tf.keras.layers.Dense(self.hidden_size) \n",
        "        self.image_corr = tf.keras.layers.Dense(self.hidden_size)\n",
        "\n",
        "        self.image_atten_dense = tf.keras.layers.Dense(self.hidden_size) \n",
        "        self.question_atten_dens = tf.keras.layers.Dense(self.hidden_size)\n",
        "        self.question_atten_dropout = tf.keras.layers.Dropout(self.dropout)\n",
        "        self.image_atten_dropout = tf.keras.layers.Dropout(self.dropout)\n",
        "\n",
        "        self.ques_atten = tf.keras.layers.Dense(1)\n",
        "\n",
        "        self.img_atten = tf.keras.layers.Dense(1)\n",
        "\n",
        "        self.embed = tf.keras.layers.Embedding(self.num_embeddings, self.hidden_size)\n",
        "                                               #embeddings_initializer = tf.keras.initializers.RandomNormal(mean=0, stddev=1, seed=23))\n",
        "        \n",
        "        self.unigram_conv = tf.keras.layers.Conv1D(filters = self.hidden_size, kernel_size = 1, strides = 1, padding = 'same')\n",
        "        self.bigram_conv  = tf.keras.layers.Conv1D(filters = self.hidden_size, kernel_size = 2, strides = 1, padding = 'same', dilation_rate = 2)\n",
        "        self.trigram_conv = tf.keras.layers.Conv1D(filters = self.hidden_size, kernel_size = 3, strides = 1, padding = 'same', dilation_rate = 2)\n",
        "        \n",
        "        self.max_pool = tf.keras.layers.MaxPool2D((3,1))\n",
        "        self.phrase_dropout = tf.keras.layers.Dropout(self.dropout)\n",
        "        \n",
        "        self.lstm = tf.keras.layers.LSTM(units = self.hidden_size , return_sequences=True, dropout = self.dropout)\n",
        "        \n",
        "        self.tanh = tf.keras.layers.Activation('tanh')\n",
        "        self.softmax = tf.keras.layers.Activation('softmax')\n",
        "        \n",
        "        self.W_w_dropout = tf.keras.layers.Dropout(self.dropout)\n",
        "        self.W_p_dropout = tf.keras.layers.Dropout(self.dropout)\n",
        "        self.W_s_dropout = tf.keras.layers.Dropout(self.dropout)\n",
        "\n",
        "        self.W_w = tf.keras.layers.Dense(units = self.hidden_size, input_shape = (self.hidden_size,))\n",
        "        self.W_p = tf.keras.layers.Dense(units = self.hidden_size, input_shape = (2 * self.hidden_size, ))\n",
        "        self.W_s = tf.keras.layers.Dense(units = self.hidden_size, input_shape = (2 * self.hidden_size, ))\n",
        "        \n",
        "        self.fc1_Dense = tf.keras.layers.Dense(units = 2 * self.hidden_size, activation='relu',\n",
        "                                               kernel_initializer = tf.keras.initializers.he_normal())\n",
        "        self.fc1_dropout = tf.keras.layers.Dropout(self.dropout)\n",
        "\n",
        "        self.fc = tf.keras.layers.Dense(units = self.num_classes, activation='softmax', input_shape = (self.hidden_size,))\n",
        "        return\n",
        "\n",
        "    def call(self, image, question):#Image: B x 196 x 512\n",
        "        \n",
        "        image = self.image_dense(image)\n",
        "        image = self.tanh(image)\n",
        "\n",
        "        words = self.embed(question)    # Words: B x L x 51\n",
        "\n",
        "        unigrams =  tf.expand_dims(self.tanh(self.unigram_conv(words)), 1) # B x L x 512\n",
        "        bigrams  =  tf.expand_dims(self.tanh(self.bigram_conv(words)), 1)  # B x L x 512\n",
        "        trigrams =  tf.expand_dims(self.tanh(self.trigram_conv(words)), 1) # B x L x 512\n",
        "\n",
        "        phrase = tf.squeeze(self.max_pool(tf.concat((unigrams, bigrams, trigrams), 1)), axis=1)  # B x L x 512\n",
        "        phrase = self.tanh(phrase)\n",
        "        phrase = self.phrase_dropout(phrase)\n",
        "  \n",
        "        hidden = None\n",
        "        sentence = self.lstm(phrase)        # B x L x 512   \n",
        "\n",
        "        v_word, q_word = self.co_attention(image, words)\n",
        "        v_phrase, q_phrase = self.co_attention(image, phrase)\n",
        "        v_sent, q_sent = self.co_attention(image, sentence)\n",
        "\n",
        "        h_w = self.tanh(self.W_w(self.W_w_dropout(q_word + v_word)))\n",
        "        h_p = self.tanh(self.W_p(self.W_p_dropout(tf.concat(((q_phrase + v_phrase), h_w), axis=1))))\n",
        "        h_s = self.tanh(self.W_s(self.W_s_dropout(tf.concat(((q_sent + v_sent), h_p), axis=1))))\n",
        "\n",
        "        fc1 = self.fc1_Dense(self.fc1_dropout(h_s))\n",
        "        logits = self.fc(fc1)\n",
        "\n",
        "        return logits\n",
        "\n",
        "    def co_attention(self, img_feat, ques_feat):  # V : B x 512 x 196, Q : B x L x 512\n",
        "        img_corr = self.image_corr(img_feat)\n",
        "\n",
        "        weight_matrix = tf.keras.backend.batch_dot(ques_feat, img_corr, axes = (2, 2))\n",
        "        weight_matrix = self.tanh(weight_matrix)\n",
        "\n",
        "        ques_embed = self.image_atten_dense(ques_feat)\n",
        "        img_embed = self.question_atten_dens(img_feat)\n",
        "\n",
        "        transform_img = tf.keras.backend.batch_dot(weight_matrix, img_embed)\n",
        "\n",
        "        ques_atten_sum = self.tanh(transform_img + ques_embed)\n",
        "        ques_atten_sum = self.question_atten_dropout(ques_atten_sum)\n",
        "        ques_atten = self.ques_atten(ques_atten_sum)\n",
        "        ques_atten =  tf.keras.layers.Reshape((ques_atten.shape[1],))(ques_atten)\n",
        "        ques_atten =  self.softmax(ques_atten)\n",
        "\n",
        "        # atten for image feature\n",
        "        transform_ques = tf.keras.backend.batch_dot(weight_matrix, ques_embed, axes = (1, 1))\n",
        "        img_atten_sum = self.tanh(transform_ques+img_embed)\n",
        "        img_atten_sum = self.image_atten_dropout(img_atten_sum)\n",
        "        img_atten = self.img_atten(img_atten_sum)\n",
        "        img_atten = tf.keras.layers.Reshape((img_atten.shape[1],))(img_atten)\n",
        "        img_atten = self.softmax(img_atten)\n",
        "\n",
        "        ques_atten = tf.keras.layers.Reshape(( 1, ques_atten.shape[1]))(ques_atten)\n",
        "        img_atten = tf.keras.layers.Reshape(( 1, img_atten.shape[1]))(img_atten)\n",
        "\n",
        "        ques_atten_feat = tf.keras.backend.batch_dot(ques_atten,ques_feat)\n",
        "        ques_atten_feat = tf.keras.layers.Reshape(( ques_atten_feat.shape[-1],))(ques_atten_feat)\n",
        "\n",
        "        img_atten_feat =  tf.keras.backend.batch_dot(img_atten, img_feat)\n",
        "        img_atten_feat = tf.keras.layers.Reshape((img_atten_feat.shape[-1],))(img_atten_feat)\n",
        "\n",
        "        return img_atten_feat, ques_atten_feat"
      ],
      "execution_count": null,
      "outputs": []
    },
    {
      "cell_type": "code",
      "metadata": {
        "colab": {
          "base_uri": "https://localhost:8080/"
        },
        "id": "GsnA9CrB1ugo",
        "outputId": "62b63e09-d4c5-47de-df72-e93c272c1e6c"
      },
      "source": [
        "len(tokenizer.word_index)"
      ],
      "execution_count": null,
      "outputs": [
        {
          "output_type": "execute_result",
          "data": {
            "text/plain": [
              "4540"
            ]
          },
          "metadata": {
            "tags": []
          },
          "execution_count": 175
        }
      ]
    },
    {
      "cell_type": "code",
      "metadata": {
        "id": "4Z1B5Znt1ugo"
      },
      "source": [
        "def get_coattention_model(num_classes):\n",
        "    image_input = tf.keras.layers.Input(shape = (81, 512))\n",
        "\n",
        "    question_input = tf.keras.layers.Input(shape=(train_questions.shape[1],))\n",
        "\n",
        "    output = CoattentionModel(num_classes=num_classes, \n",
        "                              num_embeddings=len(tokenizer.word_index)+1,\n",
        "                              dropout_rate=0.2)(image_input, question_input) #num_embeddings = len(ques_vocab), num_classes = len(ans_vocab), embed_dim = 512\n",
        "\n",
        "    model = tf.keras.models.Model(inputs = [image_input, question_input], outputs = output)\n",
        "\n",
        "    return model"
      ],
      "execution_count": null,
      "outputs": []
    },
    {
      "cell_type": "code",
      "metadata": {
        "colab": {
          "base_uri": "https://localhost:8080/"
        },
        "id": "l7zS_fLr1ugo",
        "outputId": "cb40b6d2-72ae-4940-8be7-d9100f6eead8"
      },
      "source": [
        "model = get_coattention_model(len(class_map[selected_category][0]))\n",
        "model.summary()"
      ],
      "execution_count": null,
      "outputs": [
        {
          "output_type": "stream",
          "text": [
            "Model: \"model_1\"\n",
            "__________________________________________________________________________________________________\n",
            "Layer (type)                    Output Shape         Param #     Connected to                     \n",
            "==================================================================================================\n",
            "input_2 (InputLayer)            [(None, 81, 512)]    0                                            \n",
            "__________________________________________________________________________________________________\n",
            "input_3 (InputLayer)            [(None, 23)]         0                                            \n",
            "__________________________________________________________________________________________________\n",
            "coattention_model (CoattentionM (None, 37)           8925735     input_2[0][0]                    \n",
            "                                                                 input_3[0][0]                    \n",
            "==================================================================================================\n",
            "Total params: 8,925,735\n",
            "Trainable params: 8,925,735\n",
            "Non-trainable params: 0\n",
            "__________________________________________________________________________________________________\n"
          ],
          "name": "stdout"
        }
      ]
    },
    {
      "cell_type": "code",
      "metadata": {
        "id": "qXhlgnBu1ugo"
      },
      "source": [
        "lr = 1e-5\n",
        "optimizer = tf.keras.optimizers.Adam(learning_rate=lr)\n",
        "metrics = ['accuracy']\n",
        "loss = tf.keras.losses.CategoricalCrossentropy()\n",
        "# Compile Model\n",
        "model.compile(optimizer=optimizer, loss=loss, metrics=metrics)    "
      ],
      "execution_count": null,
      "outputs": []
    },
    {
      "cell_type": "code",
      "metadata": {
        "id": "5osK1YSG1ugp"
      },
      "source": [
        "TRAIN_NOW = False"
      ],
      "execution_count": null,
      "outputs": []
    },
    {
      "cell_type": "code",
      "metadata": {
        "colab": {
          "base_uri": "https://localhost:8080/"
        },
        "id": "O-nOldnV1ugp",
        "outputId": "7053dc2c-1d23-4a03-9493-dc100293f15c"
      },
      "source": [
        "name = 'model_v2-1_AdaptLR'\n",
        "if TRAIN_NOW:\n",
        "  model.fit(x = dataset_train,\n",
        "            epochs = 30,\n",
        "            steps_per_epoch = len(train_idx),\n",
        "            validation_data = dataset_valid,\n",
        "            validation_steps = len(valid_idx), \n",
        "            callbacks = get_callbacks(selected_category + '_' + name, es=True, LR=True, patience=3))\n",
        "else:\n",
        "  print('Train skipped.')"
      ],
      "execution_count": null,
      "outputs": [
        {
          "output_type": "stream",
          "text": [
            "WARNING:tensorflow:Model failed to serialize as JSON. Ignoring... Layer CoattentionModel has arguments in `__init__` and therefore must override `get_config`.\n",
            "Epoch 1/30\n",
            "7541/7541 [==============================] - 384s 51ms/step - loss: 2.7356 - accuracy: 0.1947 - val_loss: 2.0726 - val_accuracy: 0.3490\n",
            "Epoch 2/30\n",
            "7541/7541 [==============================] - 382s 51ms/step - loss: 1.6607 - accuracy: 0.4460 - val_loss: 1.7005 - val_accuracy: 0.4571\n",
            "Epoch 3/30\n",
            "7541/7541 [==============================] - 384s 51ms/step - loss: 1.1430 - accuracy: 0.5987 - val_loss: 1.6596 - val_accuracy: 0.5023\n",
            "Epoch 4/30\n",
            "7541/7541 [==============================] - 407s 54ms/step - loss: 0.8314 - accuracy: 0.7045 - val_loss: 1.7551 - val_accuracy: 0.5039\n",
            "Epoch 5/30\n",
            "7541/7541 [==============================] - 404s 54ms/step - loss: 0.6041 - accuracy: 0.7893 - val_loss: 1.9058 - val_accuracy: 0.5166\n",
            "Epoch 6/30\n",
            "7541/7541 [==============================] - 406s 54ms/step - loss: 0.4303 - accuracy: 0.8543 - val_loss: 2.1528 - val_accuracy: 0.5098\n"
          ],
          "name": "stdout"
        }
      ]
    },
    {
      "cell_type": "code",
      "metadata": {
        "id": "FqX0Iq0pTUyk"
      },
      "source": [
        "LOAD_NOW = False"
      ],
      "execution_count": null,
      "outputs": []
    },
    {
      "cell_type": "code",
      "metadata": {
        "id": "sOUr4GQ-1ugp"
      },
      "source": [
        "if LOAD_NOW:\n",
        "  model_to_load = selected_category+'_'+'model_v2-1_AdaptLR' #check the model name in the drive folder (the time stamp changes)\n",
        "  ckpt_path = os.path.join(drive_root_folder,'experiments_results',model_to_load, 'ckpts','cp.ckpt')\n",
        "  model.load_weights(ckpt_path)\n"
      ],
      "execution_count": null,
      "outputs": []
    },
    {
      "cell_type": "markdown",
      "metadata": {
        "id": "ys7HF507jxLb"
      },
      "source": [
        "---"
      ]
    },
    {
      "cell_type": "markdown",
      "metadata": {
        "id": "2lQnBkFd-0GP"
      },
      "source": [
        "Load all the models."
      ]
    },
    {
      "cell_type": "code",
      "metadata": {
        "id": "JM-TmwUjE-wh"
      },
      "source": [
        "model_embedding = get_VGG19()"
      ],
      "execution_count": null,
      "outputs": []
    },
    {
      "cell_type": "code",
      "metadata": {
        "id": "TmetXkh8-1o-"
      },
      "source": [
        "models={}\n",
        "for cat in types_names:\n",
        "  m = get_coattention_model(len(class_map[cat][0]))\n",
        "  model_to_load = cat+'_'+'model_v2-1_AdaptLR'\n",
        "  ckpt_path = os.path.join(drive_root_folder,'experiments_results',model_to_load, 'ckpts','cp.ckpt')\n",
        "  m.load_weights(ckpt_path)\n",
        "  models[cat] = m"
      ],
      "execution_count": null,
      "outputs": []
    },
    {
      "cell_type": "code",
      "metadata": {
        "colab": {
          "base_uri": "https://localhost:8080/"
        },
        "id": "x1r2YCTnGmJ4",
        "outputId": "eb4adf3e-9d07-4e6d-b098-a6c12ce4c40f"
      },
      "source": [
        "models"
      ],
      "execution_count": null,
      "outputs": [
        {
          "output_type": "execute_result",
          "data": {
            "text/plain": [
              "{'color': <tensorflow.python.keras.engine.functional.Functional at 0x7fc93f4177b8>,\n",
              " 'doing': <tensorflow.python.keras.engine.functional.Functional at 0x7fc93f673cf8>,\n",
              " 'numeric': <tensorflow.python.keras.engine.functional.Functional at 0x7fc93fab4710>,\n",
              " 'other': <tensorflow.python.keras.engine.functional.Functional at 0x7fc93fc3a588>,\n",
              " 'yesno': <tensorflow.python.keras.engine.functional.Functional at 0x7fc93f7be828>}"
            ]
          },
          "metadata": {
            "tags": []
          },
          "execution_count": 184
        }
      ]
    },
    {
      "cell_type": "code",
      "metadata": {
        "id": "OWabEnpkaBNB"
      },
      "source": [
        "labels_dict = {\n",
        "        '0': 0,\n",
        "        '1': 1,\n",
        "        '2': 2,\n",
        "        '3': 3,\n",
        "        '4': 4,\n",
        "        '5': 5,\n",
        "        'apple': 6,\n",
        "        'baseball': 7,\n",
        "        'bench': 8,\n",
        "        'bike': 9,\n",
        "        'bird': 10,\n",
        "        'black': 11,\n",
        "        'blanket': 12,\n",
        "        'blue': 13,\n",
        "        'bone': 14,\n",
        "        'book': 15,\n",
        "        'boy': 16,\n",
        "        'brown': 17,\n",
        "        'cat': 18,\n",
        "        'chair': 19,\n",
        "        'couch': 20,\n",
        "        'dog': 21,\n",
        "        'floor': 22,\n",
        "        'food': 23,\n",
        "        'football': 24,\n",
        "        'girl': 25,\n",
        "        'grass': 26,\n",
        "        'gray': 27,\n",
        "        'green': 28,\n",
        "        'left': 29,\n",
        "        'log': 30,\n",
        "        'man': 31,\n",
        "        'monkey bars': 32,\n",
        "        'no': 33,\n",
        "        'nothing': 34,\n",
        "        'orange': 35,\n",
        "        'pie': 36,\n",
        "        'plant': 37,\n",
        "        'playing': 38,\n",
        "        'red': 39,\n",
        "        'right': 40,\n",
        "        'rug': 41,\n",
        "        'sandbox': 42,\n",
        "        'sitting': 43,\n",
        "        'sleeping': 44,\n",
        "        'soccer': 45,\n",
        "        'squirrel': 46,\n",
        "        'standing': 47,\n",
        "        'stool': 48,\n",
        "        'sunny': 49,\n",
        "        'table': 50,\n",
        "        'tree': 51,\n",
        "        'watermelon': 52,\n",
        "        'white': 53,\n",
        "        'wine': 54,\n",
        "        'woman': 55,\n",
        "        'yellow': 56,\n",
        "        'yes': 57\n",
        "}"
      ],
      "execution_count": null,
      "outputs": []
    },
    {
      "cell_type": "markdown",
      "metadata": {
        "id": "74-tUrlfSEN7"
      },
      "source": [
        "## Submission"
      ]
    },
    {
      "cell_type": "code",
      "metadata": {
        "id": "hfHaTpzEKDgO"
      },
      "source": [
        "'''model_to_load = 'coattention_model_v4-l3' #check the model name in the drive folder (the time stamp changes)\r\n",
        "ckpt_path = os.path.join(drive_root_folder,'experiments_results',model_to_load, 'ckpts','cp.ckpt')\r\n",
        "model = get_coattention_model()\r\n",
        "model.load_weights(ckpt_path)\r\n",
        "model_vgg = get_VGG19()'''"
      ],
      "execution_count": null,
      "outputs": []
    },
    {
      "cell_type": "code",
      "metadata": {
        "id": "GwJl1qemMYeI"
      },
      "source": [
        "custom_classifier = QuestionCategorizer()"
      ],
      "execution_count": null,
      "outputs": []
    },
    {
      "cell_type": "code",
      "metadata": {
        "id": "7nlmkvnAJ1QX"
      },
      "source": [
        "import os\r\n",
        "from datetime import datetime\r\n",
        "\r\n",
        "def predict(ques, verbose=True):\r\n",
        "  test_image_path = 'VQA_Dataset/Images/' + ques[1]['image_id'] + '.png'  \r\n",
        "  input_value = preprocess_english(ques[1]['question'])\r\n",
        "\r\n",
        "  #tokenization\r\n",
        "  tokenizer_top = tf.keras.preprocessing.text.Tokenizer(oov_token = \"<unk>\", filters = '!\"#$%&()*+.,-/:;=?@[\\]^_`{|}~ ')\r\n",
        "  tokenizer_top.fit_on_texts(input_value)\r\n",
        "  in_seqs = tokenizer_top.texts_to_sequences(input_value)\r\n",
        "\r\n",
        "  #Padding\r\n",
        "  input_vector = tf.keras.preprocessing.sequence.pad_sequences(in_seqs, padding='post')\r\n",
        "\r\n",
        "  #prediction = question_model(tf.expand_dims(input_vector, 0))\r\n",
        "  #predicted_label = np.argmax(prediction)\r\n",
        "  #pred_class = question_label_encoder.categories_[0][predicted_label]\r\n",
        "  pred_class = custom_classifier.predict(ques[1]['question'])\r\n",
        "\r\n",
        "  map_pred = class_map[pred_class][1]\r\n",
        "  #model_to_load = pred_class + '_blabla'\r\n",
        "  #ckpt_path = os.path.join(drive_root_folder,'experiments_results',model_to_load, 'ckpts','cp.ckpt')\r\n",
        "  #model = get_coattention_model()\r\n",
        "  #model.load_weights(ckpt_path)\r\n",
        "  model = models[pred_class]\r\n",
        "\r\n",
        "  test_image_features = model_embedding(tf.expand_dims(load_image(test_image_path)[0], 0))\r\n",
        "  test_image_features = np.reshape(test_image_features,(1, -1,test_image_features.shape[-1]))\r\n",
        "  test_question_features = tf.keras.preprocessing.sequence.pad_sequences(tokenizer.texts_to_sequences([preprocess_english(ques[1]['question'])]),padding='post',\r\n",
        "                                                                            maxlen=train_questions.shape[1])\r\n",
        "  \r\n",
        "  #test_question_features = tf.keras.preprocessing.sequence.pad_sequences(tokenizer.texts_to_sequences([ques[1]['question']]),padding='post',\r\n",
        "  #                                                                          maxlen=train_questions.shape[1])\r\n",
        "  \r\n",
        "  y_pred = model.predict([test_image_features,test_question_features])\r\n",
        "  final_pred = map_pred[np.argmax(y_pred)]\r\n",
        "  if verbose:\r\n",
        "    print(30*'-')\r\n",
        "    print(f\"Question: {ques[1]['question']}\")\r\n",
        "    print(f\"Pred category: {pred_class}\")\r\n",
        "    print(f\"Prediction: {np.argmax(y_pred)} ['{class_map[pred_class][0][np.argmax(y_pred)]}' -> {final_pred}]\")\r\n",
        "  return final_pred\r\n",
        "\r\n",
        "def create_csv(results, results_dir='./'):\r\n",
        "\r\n",
        "    csv_fname = 'results_'\r\n",
        "    csv_fname += datetime.now().strftime('%b%d_%H-%M-%S') + '.csv'\r\n",
        "\r\n",
        "    with open(os.path.join(results_dir, csv_fname), 'w') as f:\r\n",
        "\r\n",
        "        f.write('Id,Category\\n')\r\n",
        "\r\n",
        "        for key, value in results.items():\r\n",
        "            f.write(key + ',' + str(value) + '\\n')"
      ],
      "execution_count": null,
      "outputs": []
    },
    {
      "cell_type": "code",
      "metadata": {
        "id": "XQWV0eq1R9QR"
      },
      "source": [
        "sub_dict = {}\r\n",
        "test_path = 'VQA_Dataset/test_questions.json'\r\n",
        "with open(test_path) as json_file:\r\n",
        "    test_dict = json.load(json_file)\r\n",
        "\r\n",
        "for quest in test_dict.items():\r\n",
        "  sub_dict[quest[0]] = predict(quest)"
      ],
      "execution_count": null,
      "outputs": []
    },
    {
      "cell_type": "code",
      "metadata": {
        "id": "OGaOQM7aS9SI"
      },
      "source": [
        "create_csv(sub_dict, drive_root_folder)"
      ],
      "execution_count": null,
      "outputs": []
    }
  ]
}