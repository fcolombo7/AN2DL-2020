{
  "nbformat": 4,
  "nbformat_minor": 0,
  "metadata": {
    "colab": {
      "name": "4-KerasTuner.ipynb",
      "provenance": [],
      "collapsed_sections": [],
      "include_colab_link": true
    },
    "kernelspec": {
      "name": "python3",
      "display_name": "Python 3"
    }
  },
  "cells": [
    {
      "cell_type": "markdown",
      "metadata": {
        "id": "view-in-github",
        "colab_type": "text"
      },
      "source": [
        "<a href=\"https://colab.research.google.com/github/fcolombo7/AN2DL-2020/blob/main/Final%20Notebooks/4_KerasTuner.ipynb\" target=\"_parent\"><img src=\"https://colab.research.google.com/assets/colab-badge.svg\" alt=\"Open In Colab\"/></a>"
      ]
    },
    {
      "cell_type": "markdown",
      "metadata": {
        "id": "GyGfDyE8MEyZ"
      },
      "source": [
        "# **AN2DL** - Image classification challenge\n",
        "\n",
        "* **Colombo** Filippo - 10559531\n",
        "* **Del Vecchio** Giovanni - 10570682\n"
      ]
    },
    {
      "cell_type": "markdown",
      "metadata": {
        "id": "URPWyV4iMQYv"
      },
      "source": [
        "## Keras Tuner\n",
        "\n"
      ]
    },
    {
      "cell_type": "markdown",
      "metadata": {
        "id": "VCwx6rVCMdGI"
      },
      "source": [
        "Configuration and constants:"
      ]
    },
    {
      "cell_type": "code",
      "metadata": {
        "id": "H2Mzov4HfF2U"
      },
      "source": [
        "import os\n",
        "import tensorflow as tf\n",
        "import numpy as np\n",
        "import pandas as pd\n",
        "from datetime import datetime"
      ],
      "execution_count": null,
      "outputs": []
    },
    {
      "cell_type": "code",
      "metadata": {
        "id": "K-4aT9zgG0oe"
      },
      "source": [
        "#Random seed to make experiments reproducible\n",
        "SEED = 1234\n",
        "tf.random.set_seed(SEED)  \n",
        "\n",
        "#Parameters\n",
        "IMG_H, IMG_W = (400, 400)\n",
        "BS = 32 #BATCH SIZE\n",
        "VALIDATION_SPLIT = 0.2\n",
        "DATA_AUGMENTATION = True"
      ],
      "execution_count": null,
      "outputs": []
    },
    {
      "cell_type": "markdown",
      "metadata": {
        "id": "qUOZsQODNCK4"
      },
      "source": [
        "Load Google Drive to get the data and save the results:"
      ]
    },
    {
      "cell_type": "code",
      "metadata": {
        "id": "PZp3vyhvG8KO",
        "colab": {
          "base_uri": "https://localhost:8080/"
        },
        "outputId": "3bd4eb04-769d-442c-f1f8-337756d8300b"
      },
      "source": [
        "from google.colab import drive\n",
        "\n",
        "drive.mount('/content/drive')\n",
        "\n",
        "cwd = os.getcwd()\n",
        "drive_root_folder = '/content/drive/My Drive/ANN_project/'"
      ],
      "execution_count": null,
      "outputs": [
        {
          "output_type": "stream",
          "text": [
            "Mounted at /content/drive\n"
          ],
          "name": "stdout"
        }
      ]
    },
    {
      "cell_type": "markdown",
      "metadata": {
        "id": "R_50jGtxNa-0"
      },
      "source": [
        "### Import the Mask Dataset"
      ]
    },
    {
      "cell_type": "markdown",
      "metadata": {
        "id": "ipFiRLDRKh1e"
      },
      "source": [
        "Check if the dataset has been already processed, otherwise unzip it.\n",
        "\n",
        "**N.B.**: we are unzipping in the `/content` folder and not in `drive`.  \n",
        "If you want to unzip in your drive folder, write `os.chdir(drive_root_folder)`\n",
        "\n"
      ]
    },
    {
      "cell_type": "code",
      "metadata": {
        "id": "aHDb6talfR-t"
      },
      "source": [
        "#check if the dataset is already available\n",
        "if not os.path.exists(cwd+'/MaskDataset'):\n",
        "  !unzip '/content/drive/My Drive/ANN_project/artificial-neural-networks-and-deep-learning-2020.zip'\n",
        "else:\n",
        "  print('MaskDataset already loaded')"
      ],
      "execution_count": null,
      "outputs": []
    },
    {
      "cell_type": "markdown",
      "metadata": {
        "id": "XUNMDIj2O3kw"
      },
      "source": [
        "### Split the dataset"
      ]
    },
    {
      "cell_type": "markdown",
      "metadata": {
        "id": "tlzyOqrMRfH0"
      },
      "source": [
        "Definition of the `ImageDataGenerator` for _data augmentation_:"
      ]
    },
    {
      "cell_type": "code",
      "metadata": {
        "id": "ODKLCXMJhFnu"
      },
      "source": [
        "from tensorflow.keras.preprocessing.image import ImageDataGenerator\n",
        "\n",
        "if DATA_AUGMENTATION:\n",
        "    train_data_gen = ImageDataGenerator(rotation_range=20, \n",
        "                                        width_shift_range=0.3, \n",
        "                                        height_shift_range=0.3, \n",
        "                                        zoom_range=0.4, \n",
        "                                        horizontal_flip=True, #\n",
        "                                        #brightness_range = [0.6, 1.5], \n",
        "                                        shear_range=10, \n",
        "                                        channel_shift_range=100, \n",
        "                                        fill_mode='reflect', \n",
        "                                        rescale=1./255)\n",
        "else:\n",
        "    train_data_gen = ImageDataGenerator(rescale=1./255)\n",
        "    \n",
        "valid_data_gen = ImageDataGenerator(rescale=1./255)"
      ],
      "execution_count": null,
      "outputs": []
    },
    {
      "cell_type": "code",
      "metadata": {
        "id": "1YQh2TsygS-r",
        "colab": {
          "base_uri": "https://localhost:8080/"
        },
        "outputId": "6f8ef604-037c-442b-c862-17128bcc5dfe"
      },
      "source": [
        "import json\n",
        "\n",
        "dataset_dir = os.path.join(cwd, \"MaskDataset\")\n",
        "training_dir = os.path.join(dataset_dir, \"training\")\n",
        "with open(os.path.join(dataset_dir,\"train_gt.json\")) as f:\n",
        "  dic = json.load(f)\n",
        "  dataframe = pd.DataFrame(dic.items())\n",
        "  dataframe.rename(columns = {0:'filename', 1:'class'}, inplace = True)\n",
        "  dataframe = dataframe.sample(frac=1, random_state=SEED)\n",
        "  \n",
        "  tot_length = dataframe.shape[0]\n",
        "  valid = dataframe.iloc[:int(np.ceil(tot_length * VALIDATION_SPLIT)),:] \n",
        "  train = dataframe.iloc[int(np.ceil(tot_length * VALIDATION_SPLIT)):,:]\n",
        "  train[\"class\"] = train[\"class\"].astype('string')\n",
        "  valid[\"class\"] = valid[\"class\"].astype('string')\n",
        "  \n",
        "  train_gen = train_data_gen.flow_from_dataframe(train,\n",
        "                                               training_dir,\n",
        "                                               batch_size=BS,\n",
        "                                               target_size=(IMG_H, IMG_W),\n",
        "                                               class_mode='categorical',\n",
        "                                               shuffle=True,\n",
        "                                               seed=SEED)\n",
        "  \n",
        "  validation_gen = valid_data_gen.flow_from_dataframe(valid,\n",
        "                                               training_dir,\n",
        "                                               batch_size=BS,\n",
        "                                               target_size=(IMG_H, IMG_W),\n",
        "                                               class_mode='categorical',\n",
        "                                               shuffle=True,\n",
        "                                               seed=SEED)"
      ],
      "execution_count": null,
      "outputs": [
        {
          "output_type": "stream",
          "text": [
            "Found 4491 validated image filenames belonging to 3 classes.\n",
            "Found 1123 validated image filenames belonging to 3 classes.\n"
          ],
          "name": "stdout"
        },
        {
          "output_type": "stream",
          "text": [
            "/usr/local/lib/python3.6/dist-packages/ipykernel_launcher.py:14: SettingWithCopyWarning: \n",
            "A value is trying to be set on a copy of a slice from a DataFrame.\n",
            "Try using .loc[row_indexer,col_indexer] = value instead\n",
            "\n",
            "See the caveats in the documentation: https://pandas.pydata.org/pandas-docs/stable/user_guide/indexing.html#returning-a-view-versus-a-copy\n",
            "  \n",
            "/usr/local/lib/python3.6/dist-packages/ipykernel_launcher.py:15: SettingWithCopyWarning: \n",
            "A value is trying to be set on a copy of a slice from a DataFrame.\n",
            "Try using .loc[row_indexer,col_indexer] = value instead\n",
            "\n",
            "See the caveats in the documentation: https://pandas.pydata.org/pandas-docs/stable/user_guide/indexing.html#returning-a-view-versus-a-copy\n",
            "  from ipykernel import kernelapp as app\n"
          ],
          "name": "stderr"
        }
      ]
    },
    {
      "cell_type": "markdown",
      "metadata": {
        "id": "8bgWDFVZeeNx"
      },
      "source": [
        "### Define the search space and set up the tuner"
      ]
    },
    {
      "cell_type": "markdown",
      "metadata": {
        "id": "N3JF94cte4zX"
      },
      "source": [
        "#### Create the dataset objects"
      ]
    },
    {
      "cell_type": "code",
      "metadata": {
        "id": "_jwtQWEn1SXz"
      },
      "source": [
        "num_classes = len(train_gen.class_indices)\n",
        "num_classes\n",
        "train_ds = tf.data.Dataset.from_generator(lambda: train_gen, \n",
        "                                          output_types=(tf.float32, tf.float32),\n",
        "                                          output_shapes= ([None, IMG_H, IMG_W, 3], [None, num_classes]))\n",
        "\n",
        "train_ds = train_ds.repeat()\n",
        "\n",
        "valid_ds = tf.data.Dataset.from_generator(lambda: validation_gen,\n",
        "                                          output_types = (tf.float32, tf.float32),\n",
        "                                          output_shapes = ([None, IMG_H, IMG_W, 3], [None, num_classes]))\n",
        "valid_ds = valid_ds.repeat()"
      ],
      "execution_count": null,
      "outputs": []
    },
    {
      "cell_type": "markdown",
      "metadata": {
        "id": "-GxO1cGCQ3xE"
      },
      "source": [
        "#### Hypermodel definition"
      ]
    },
    {
      "cell_type": "markdown",
      "metadata": {
        "id": "AfkiIzHsP0G9"
      },
      "source": [
        "Use a builder function to define the model you set up for hypertuning.  \n",
        "It contains the definition of the hyperparameter search space in addition to the model architecture."
      ]
    },
    {
      "cell_type": "code",
      "metadata": {
        "id": "r8lKKXmUhS8M"
      },
      "source": [
        "def tf_model_builder(hp):\n",
        "  base_model = tf.keras.applications.VGG16(include_top=False, weights='imagenet', input_shape=(IMG_H,IMG_W,3))\n",
        "  base_model.trainable = False\n",
        "  model = tf.keras.Sequential()\n",
        "  model.add(base_model)\n",
        "  model.add(tf.keras.layers.Flatten())\n",
        "\n",
        "  hp_units = hp.Int('units_first_layer', min_value = 256, max_value = 832, step = 64, default = 384)\n",
        "  model.add(tf.keras.layers.Dense(units = hp_units, \n",
        "                                  activation = 'relu',\n",
        "                                  kernel_regularizer = tf.keras.regularizers.l2(hp.Float('l2_first_layer', 0.005, 0.1, sampling='log'))\n",
        "                                  ))\n",
        "  \n",
        "  model.add(tf.keras.layers.Dropout(hp.Float('dropout_first_layer', 0.0, 0.5, step=0.1, default=0.2)))\n",
        "\n",
        "\n",
        "  for i in range(hp.Int('hidden_layers', 0, 2, default=1)):\n",
        "    model.add(tf.keras.layers.Dense(units = hp.Int('units_hidden_layers', 64, 512, step=64, default=256),\n",
        "                                    activation='relu',\n",
        "                                    kernel_regularizer = tf.keras.regularizers.l2(hp.Float('l2_hidden_layers', 0.005, 0.1, sampling='log'))\n",
        "                                  ))\n",
        "    model.add(tf.keras.layers.Dropout(hp.Float('dropout_hidden_layers', 0.0, 0.5, step=0.1, default=0.2)))\n",
        "\n",
        "  model.add(tf.keras.layers.Dense(units=3, activation='softmax'))\n",
        "\n",
        "  model.compile( optimizer=tf.keras.optimizers.Adam(0.003),\n",
        "      loss=tf.keras.losses.CategoricalCrossentropy(),\n",
        "      metrics=['accuracy'])\n",
        "\n",
        "  return model\n"
      ],
      "execution_count": null,
      "outputs": []
    },
    {
      "cell_type": "markdown",
      "metadata": {
        "id": "Pu7bc0ApSEB1"
      },
      "source": [
        "#### Perform hyperparameter tuning"
      ]
    },
    {
      "cell_type": "markdown",
      "metadata": {
        "id": "gRqdVJfZRqBk"
      },
      "source": [
        "Download the KerasTuner package"
      ]
    },
    {
      "cell_type": "code",
      "metadata": {
        "id": "cpL7YaDKptcv",
        "colab": {
          "base_uri": "https://localhost:8080/"
        },
        "outputId": "36bc2d03-487c-4ae4-8e9f-164a089ea91b"
      },
      "source": [
        "!pip install -q -U keras-tuner\n",
        "import kerastuner as kt\n",
        "import IPython\n"
      ],
      "execution_count": null,
      "outputs": [
        {
          "output_type": "stream",
          "text": [
            "\u001b[?25l\r\u001b[K     |██████                          | 10kB 25.4MB/s eta 0:00:01\r\u001b[K     |████████████                    | 20kB 28.6MB/s eta 0:00:01\r\u001b[K     |██████████████████              | 30kB 13.8MB/s eta 0:00:01\r\u001b[K     |████████████████████████        | 40kB 11.5MB/s eta 0:00:01\r\u001b[K     |██████████████████████████████  | 51kB 12.0MB/s eta 0:00:01\r\u001b[K     |████████████████████████████████| 61kB 5.9MB/s \n",
            "\u001b[?25h  Building wheel for keras-tuner (setup.py) ... \u001b[?25l\u001b[?25hdone\n",
            "  Building wheel for terminaltables (setup.py) ... \u001b[?25l\u001b[?25hdone\n"
          ],
          "name": "stdout"
        }
      ]
    },
    {
      "cell_type": "markdown",
      "metadata": {
        "id": "QbfqrPGKRuCX"
      },
      "source": [
        "Among the available tuner we choose **Hyperband**.  \n",
        "*Hyperband tuning algorithm* trains a large number of models for a few epochs and carries forward only the top-performing half of models to the next round. "
      ]
    },
    {
      "cell_type": "code",
      "metadata": {
        "id": "vtzwgnd6oFFV",
        "colab": {
          "base_uri": "https://localhost:8080/"
        },
        "outputId": "a682eed9-ecf8-468e-ef63-73544d1d9d24"
      },
      "source": [
        "proj_name = 'VGG_TF_HyperTuning1'\n",
        "tuner = kt.Hyperband(tf_model_builder,\n",
        "                       objective = 'val_accuracy', \n",
        "                       max_epochs = 30,\n",
        "                       factor = 3,\n",
        "                       directory = os.getcwd(),\n",
        "                       seed= SEED,\n",
        "                       project_name = proj_name) "
      ],
      "execution_count": null,
      "outputs": [
        {
          "output_type": "stream",
          "text": [
            "Downloading data from https://storage.googleapis.com/tensorflow/keras-applications/vgg16/vgg16_weights_tf_dim_ordering_tf_kernels_notop.h5\n",
            "58892288/58889256 [==============================] - 0s 0us/step\n"
          ],
          "name": "stdout"
        }
      ]
    },
    {
      "cell_type": "markdown",
      "metadata": {
        "id": "-AWP6UY0RFy_"
      },
      "source": [
        "Define a custom callback that keeps clean the cell output at each step."
      ]
    },
    {
      "cell_type": "code",
      "metadata": {
        "id": "JTWWD_3RsFr2"
      },
      "source": [
        "class ClearTrainingOutput(tf.keras.callbacks.Callback):\n",
        "  def on_train_end(*args, **kwargs):\n",
        "    IPython.display.clear_output(wait = True)"
      ],
      "execution_count": null,
      "outputs": []
    },
    {
      "cell_type": "markdown",
      "metadata": {
        "id": "kO8vWiMxRaLE"
      },
      "source": [
        "Start the search."
      ]
    },
    {
      "cell_type": "code",
      "metadata": {
        "id": "B8byFUhAcv0N",
        "colab": {
          "base_uri": "https://localhost:8080/",
          "height": 459
        },
        "outputId": "4bc09e1d-3736-4c90-b400-fc6f40addc48"
      },
      "source": [
        "tuner.search(train_ds,\n",
        "               epochs = 30,\n",
        "               validation_data = valid_ds,\n",
        "               steps_per_epoch = len(train_gen),\n",
        "               validation_steps = len(validation_gen),\n",
        "               callbacks = [ClearTrainingOutput()])\n",
        "\n",
        "  # Get the optimal hyperparameters\n",
        "  best_hps = tuner.get_best_hyperparameters(num_trials = 1)[0]\n",
        "  out = f\"\"\"****Hyperband serach completed****\\n\n",
        "  **********************************\\n\n",
        "  Optimal parameters found:\\n\n",
        "  units_first_layer: {best_hps.get('units_first_layer')}\\n\n",
        "  l2_first_layer: {best_hps.get('l2_first_layer')}\\n\n",
        "  dropout_first_layer: {best_hps.get('dropout_first_layer')}\\n\n",
        "  hidden_layers: {best_hps.get('hidden_layers')}\\n\n",
        "  units_hidden_layers: {best_hps.get('units_hidden_layers')}\\n\n",
        "  l2_hidden_layers: {best_hps.get('l2_hidden_layers')}\\n\n",
        "  dropout_hidden_layers: {best_hps.get('dropout_hidden_layers')}\"\"\"\n",
        "  \n",
        "  print(out)\n",
        "\n",
        "  with open(os.path.join(drive_root_folder, project_name+'.txt'), 'w') as f:\n",
        "            f.write(out)\n"
      ],
      "execution_count": null,
      "outputs": [
        {
          "output_type": "display_data",
          "data": {
            "text/html": [
              "<span style=\"color:#4527A0\"><h1 style=\"font-size:18px\">Trial complete</h1></span>"
            ],
            "text/plain": [
              "<IPython.core.display.HTML object>"
            ]
          },
          "metadata": {
            "tags": []
          }
        },
        {
          "output_type": "display_data",
          "data": {
            "text/html": [
              "<span style=\"color:#4527A0\"><h1 style=\"font-size:18px\">Trial summary</h1></span>"
            ],
            "text/plain": [
              "<IPython.core.display.HTML object>"
            ]
          },
          "metadata": {
            "tags": []
          }
        },
        {
          "output_type": "display_data",
          "data": {
            "text/html": [
              "<span style=\"color:cyan\"> |-Trial ID: fcdb5f282a463db460e6594fa05efc8b</span>"
            ],
            "text/plain": [
              "<IPython.core.display.HTML object>"
            ]
          },
          "metadata": {
            "tags": []
          }
        },
        {
          "output_type": "display_data",
          "data": {
            "text/html": [
              "<span style=\"color:cyan\"> |-Score: 0.6028494834899902</span>"
            ],
            "text/plain": [
              "<IPython.core.display.HTML object>"
            ]
          },
          "metadata": {
            "tags": []
          }
        },
        {
          "output_type": "display_data",
          "data": {
            "text/html": [
              "<span style=\"color:cyan\"> |-Best step: 0</span>"
            ],
            "text/plain": [
              "<IPython.core.display.HTML object>"
            ]
          },
          "metadata": {
            "tags": []
          }
        },
        {
          "output_type": "display_data",
          "data": {
            "text/html": [
              "<span style=\"color:#7E57C2\"><h2 style=\"font-size:16px\">Hyperparameters:</h2></span>"
            ],
            "text/plain": [
              "<IPython.core.display.HTML object>"
            ]
          },
          "metadata": {
            "tags": []
          }
        },
        {
          "output_type": "display_data",
          "data": {
            "text/html": [
              "<span style=\"color:cyan\"> |-dropout_first_layer: 0.2</span>"
            ],
            "text/plain": [
              "<IPython.core.display.HTML object>"
            ]
          },
          "metadata": {
            "tags": []
          }
        },
        {
          "output_type": "display_data",
          "data": {
            "text/html": [
              "<span style=\"color:blue\"> |-dropout_hidden_layers: 0.30000000000000004</span>"
            ],
            "text/plain": [
              "<IPython.core.display.HTML object>"
            ]
          },
          "metadata": {
            "tags": []
          }
        },
        {
          "output_type": "display_data",
          "data": {
            "text/html": [
              "<span style=\"color:cyan\"> |-hidden_layers: 0</span>"
            ],
            "text/plain": [
              "<IPython.core.display.HTML object>"
            ]
          },
          "metadata": {
            "tags": []
          }
        },
        {
          "output_type": "display_data",
          "data": {
            "text/html": [
              "<span style=\"color:blue\"> |-l2_first_layer: 0.010489909608543655</span>"
            ],
            "text/plain": [
              "<IPython.core.display.HTML object>"
            ]
          },
          "metadata": {
            "tags": []
          }
        },
        {
          "output_type": "display_data",
          "data": {
            "text/html": [
              "<span style=\"color:cyan\"> |-l2_hidden_layers: 0.006724705828501593</span>"
            ],
            "text/plain": [
              "<IPython.core.display.HTML object>"
            ]
          },
          "metadata": {
            "tags": []
          }
        },
        {
          "output_type": "display_data",
          "data": {
            "text/html": [
              "<span style=\"color:blue\"> |-tuner/bracket: 3</span>"
            ],
            "text/plain": [
              "<IPython.core.display.HTML object>"
            ]
          },
          "metadata": {
            "tags": []
          }
        },
        {
          "output_type": "display_data",
          "data": {
            "text/html": [
              "<span style=\"color:cyan\"> |-tuner/epochs: 2</span>"
            ],
            "text/plain": [
              "<IPython.core.display.HTML object>"
            ]
          },
          "metadata": {
            "tags": []
          }
        },
        {
          "output_type": "display_data",
          "data": {
            "text/html": [
              "<span style=\"color:blue\"> |-tuner/initial_epoch: 0</span>"
            ],
            "text/plain": [
              "<IPython.core.display.HTML object>"
            ]
          },
          "metadata": {
            "tags": []
          }
        },
        {
          "output_type": "display_data",
          "data": {
            "text/html": [
              "<span style=\"color:cyan\"> |-tuner/round: 0</span>"
            ],
            "text/plain": [
              "<IPython.core.display.HTML object>"
            ]
          },
          "metadata": {
            "tags": []
          }
        },
        {
          "output_type": "display_data",
          "data": {
            "text/html": [
              "<span style=\"color:blue\"> |-units_first_layer: 640</span>"
            ],
            "text/plain": [
              "<IPython.core.display.HTML object>"
            ]
          },
          "metadata": {
            "tags": []
          }
        },
        {
          "output_type": "display_data",
          "data": {
            "text/html": [
              "<span style=\"color:cyan\"> |-units_hidden_layers: 256</span>"
            ],
            "text/plain": [
              "<IPython.core.display.HTML object>"
            ]
          },
          "metadata": {
            "tags": []
          }
        },
        {
          "output_type": "stream",
          "text": [
            "Epoch 1/2\n",
            "71/71 [==============================] - 120s 2s/step - loss: 11.4246 - accuracy: 0.4130 - val_loss: 3.6284 - val_accuracy: 0.5690\n",
            "Epoch 2/2\n",
            " 7/71 [=>............................] - ETA: 1:24 - loss: 3.6194 - accuracy: 0.4420"
          ],
          "name": "stdout"
        }
      ]
    }
  ]
}