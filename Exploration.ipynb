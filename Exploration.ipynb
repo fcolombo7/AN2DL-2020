{
  "nbformat": 4,
  "nbformat_minor": 0,
  "metadata": {
    "colab": {
      "name": "Exploration.ipynb",
      "provenance": [],
      "toc_visible": true,
      "authorship_tag": "ABX9TyOvllYsgDySeqNlIpduNszP",
      "include_colab_link": true
    },
    "kernelspec": {
      "name": "python3",
      "display_name": "Python 3"
    }
  },
  "cells": [
    {
      "cell_type": "markdown",
      "metadata": {
        "id": "view-in-github",
        "colab_type": "text"
      },
      "source": [
        "<a href=\"https://colab.research.google.com/github/fcolombo7/AN2DL-2020/blob/main/Exploration.ipynb\" target=\"_parent\"><img src=\"https://colab.research.google.com/assets/colab-badge.svg\" alt=\"Open In Colab\"/></a>"
      ]
    },
    {
      "cell_type": "markdown",
      "metadata": {
        "id": "Kv5ltS4h5bUx"
      },
      "source": [
        "# Exploration of the dataset"
      ]
    },
    {
      "cell_type": "code",
      "metadata": {
        "colab": {
          "base_uri": "https://localhost:8080/"
        },
        "id": "cOlVyQ0Q4_9X",
        "outputId": "2722747b-8f48-4e43-fb9f-a5902c462eb1"
      },
      "source": [
        "from google.colab import drive\n",
        "drive.mount('/content/drive')"
      ],
      "execution_count": 2,
      "outputs": [
        {
          "output_type": "stream",
          "text": [
            "Mounted at /content/drive\n"
          ],
          "name": "stdout"
        }
      ]
    },
    {
      "cell_type": "code",
      "metadata": {
        "id": "-M-VTLnC5i-3"
      },
      "source": [
        "import os\n",
        "from zipfile import ZipFile\n",
        "import sys\n",
        "sys.path.append('/content/drive/MyDrive/ANN_project2/starting_kit')\n",
        "\n",
        "import prepare_submission\n",
        "import read_mask_example\n",
        "import decode_rle_example\n",
        "\n",
        "import tensorflow as tf\n",
        "import numpy as np"
      ],
      "execution_count": 6,
      "outputs": []
    },
    {
      "cell_type": "code",
      "metadata": {
        "id": "CCA2BTj_6PTe"
      },
      "source": [
        "# Set the seed for random operations. \n",
        "SEED = 1234\n",
        "tf.random.set_seed(SEED)"
      ],
      "execution_count": 7,
      "outputs": []
    },
    {
      "cell_type": "code",
      "metadata": {
        "id": "A_9aZFuE6YTK"
      },
      "source": [
        "#Definitions of constants"
      ],
      "execution_count": null,
      "outputs": []
    },
    {
      "cell_type": "markdown",
      "metadata": {
        "id": "bUpdaMNh52CT"
      },
      "source": [
        "## Load the dataset"
      ]
    },
    {
      "cell_type": "code",
      "metadata": {
        "id": "6lVNqdheK_hm",
        "colab": {
          "base_uri": "https://localhost:8080/"
        },
        "outputId": "0ff298d1-1681-4a04-9f23-0f16d945964a"
      },
      "source": [
        "if not os.path.exists('Development_Dataset'):\n",
        "  with ZipFile('./drive/MyDrive/ANN_project2/dataset.zip', 'r') as zipObj:\n",
        "    # Extract all the contents of zip file in current directory\n",
        "    zipObj.extractall()\n",
        "print('The dataset is loaded.')"
      ],
      "execution_count": 8,
      "outputs": [
        {
          "output_type": "stream",
          "text": [
            "The dataset is loaded.\n"
          ],
          "name": "stdout"
        }
      ]
    },
    {
      "cell_type": "code",
      "metadata": {
        "id": "L9U-MX1y6FGQ"
      },
      "source": [
        ""
      ],
      "execution_count": null,
      "outputs": []
    }
  ]
}